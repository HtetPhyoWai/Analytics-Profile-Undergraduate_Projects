{
  "nbformat": 4,
  "nbformat_minor": 0,
  "metadata": {
    "colab": {
      "name": "11012018_CellularSubscription.ipynb",
      "version": "0.3.2",
      "provenance": []
    },
    "kernelspec": {
      "display_name": "Python 3",
      "language": "python",
      "name": "python3"
    }
  },
  "cells": [
    {
      "metadata": {
        "id": "j-ZTtbcvdwBm",
        "colab_type": "text"
      },
      "cell_type": "markdown",
      "source": [
        "\n",
        "    Project Name     : Trends in Cellular Subscriptions\n",
        "    Programmer Name  : Htet Phyo Wai\n",
        "    Superviser       : Dr.Edward Mirielli \n",
        "    Class            : Intro to Data Science and Analytics(Fall,2018) \n",
        "\n",
        "    Description      : \n",
        "The goal of this projet is to make comparative analysis of cellular subscriptions in different regions of the world by applying data analytic practices - data cleaning, manipulation, and visualtaion techniques - using Python.\n"
      ]
    },
    {
      "metadata": {
        "id": "xYo70uordwBp",
        "colab_type": "text"
      },
      "cell_type": "markdown",
      "source": [
        "### Data Analytics Process Summary\n",
        "\n",
        "1) Data Cleaning : Checking any missing value, filling them with 0 \n",
        "\n",
        "2) Data Preparation: Grouping the countries by Geographic Region\n",
        "                   : Group by Year (setting the starting year as 1980)\n",
        "                   \n",
        "3) Summary Statistics : values in the possible range; what can we infered from the \n",
        "                        (example)\n",
        "                        Summary Statistics of East Asia and Pacific \n",
        "                        (2011-2017) \n",
        "                        ---\n",
        "                        count 3.700000e+01\n",
        "                        std 2.108336e+08\n",
        "                        min 0.000000e+00\n",
        "                        25% 5.571329e+04\n",
        "                        50% 1.487345e+06\n",
        "                        75% 2.542871e+07\n",
        "                        MAX 1.249233e+09\n",
        "                        name: YG2011_17Avg, dtype: float64\n",
        "    \n",
        "4) Construct new dataframes of all yeargroups for each region.  \n",
        "   (visulaization) \n",
        " \n",
        " \n",
        "       Figure - Year Group Comparison of East Asia Pacific Region  \n",
        "![untitled.png](attachment:untitled.png)\n",
        "\n",
        "    Take Away : For every region, there is a sharp increase in cellur subscription from Year Group (1996-2k) to YearGroup(2001_05) and YearGroup(2006-10) to YearGroup(2011-17) \n"
      ]
    },
    {
      "metadata": {
        "id": "mo3A94dBdwBr",
        "colab_type": "code",
        "outputId": "d72c0599-49a8-4ebb-a82a-62a3e89b6a85",
        "colab": {}
      },
      "cell_type": "code",
      "source": [
        "EAPaggregate_by_yr"
      ],
      "execution_count": 0,
      "outputs": [
        {
          "output_type": "execute_result",
          "data": {
            "text/html": [
              "<div>\n",
              "<style scoped>\n",
              "    .dataframe tbody tr th:only-of-type {\n",
              "        vertical-align: middle;\n",
              "    }\n",
              "\n",
              "    .dataframe tbody tr th {\n",
              "        vertical-align: top;\n",
              "    }\n",
              "\n",
              "    .dataframe thead th {\n",
              "        text-align: right;\n",
              "    }\n",
              "</style>\n",
              "<table border=\"1\" class=\"dataframe\">\n",
              "  <thead>\n",
              "    <tr style=\"text-align: right;\">\n",
              "      <th></th>\n",
              "      <th>YG1980_85Avg</th>\n",
              "      <th>YG1986_90Avg</th>\n",
              "      <th>YG1991_95Avg</th>\n",
              "      <th>YG1996_2kAvg</th>\n",
              "      <th>YG2001_05Avg</th>\n",
              "      <th>YG2006_10Avg</th>\n",
              "      <th>YG2011_17Avg</th>\n",
              "    </tr>\n",
              "  </thead>\n",
              "  <tbody>\n",
              "    <tr>\n",
              "      <th>0</th>\n",
              "      <td>28608.0</td>\n",
              "      <td>642670.0</td>\n",
              "      <td>9241725.4</td>\n",
              "      <td>117939693.6</td>\n",
              "      <td>504019604.8</td>\n",
              "      <td>1.220106e+09</td>\n",
              "      <td>2.291736e+09</td>\n",
              "    </tr>\n",
              "  </tbody>\n",
              "</table>\n",
              "</div>"
            ],
            "text/plain": [
              "   YG1980_85Avg  YG1986_90Avg  YG1991_95Avg  YG1996_2kAvg  YG2001_05Avg  \\\n",
              "0       28608.0      642670.0     9241725.4   117939693.6   504019604.8   \n",
              "\n",
              "   YG2006_10Avg  YG2011_17Avg  \n",
              "0  1.220106e+09  2.291736e+09  "
            ]
          },
          "metadata": {
            "tags": []
          },
          "execution_count": 43
        }
      ]
    },
    {
      "metadata": {
        "id": "uBe66nlgdwB1",
        "colab_type": "text"
      },
      "cell_type": "markdown",
      "source": [
        "\n",
        "5) Next Step: Construct new dataframes to compare regional subscriptions for each yeargroup.\n",
        "\n",
        "                                    1980-1985 \n",
        "![untitled1.png](attachment:untitled1.png)\n",
        "\n",
        "                                    2001-2005\n",
        "![untitled2.png](attachment:untitled2.png)\n",
        "\n",
        "                                    2011-2017\n",
        "![untitled3.png](attachment:untitled3.png)\n",
        "\n",
        "Take Away: Cellular Subscription of certain region(East Asia/ Sout Asia) increase more significantly than others. \n",
        "\n",
        "---\n",
        "Side Note: DECIDING WHICH COUNTRIES IN EACH REGION HAS HIGHEST MOBILE SUBSCRIPTION \n",
        "- *Europe* \n",
        "- 1980: Finlad has the highest cellular subscription.\n",
        "- 1989: UK has the highest cell subscription :2nd Sweden 3rd Finland\n",
        "- 2017: Russia(227341873) Germany(106000000), Italy(83871543), UK (79173658)\n",
        "- *East ASia and Pacific*\n",
        "- 1989: Japan (489558) Australia (94529) Hong Kong (89193)\n",
        "- 2000: China (85260000 ) Japan (66784374) Korea (26816398)\n",
        "- 2017: China(1474097000) Indonesia(458923202)Japan(170128499)Thailand(121530000) \n",
        "- *NorthAmerica*\n",
        "- 2017: US (395881000) Canada (31458600)\n",
        "---\n"
      ]
    },
    {
      "metadata": {
        "id": "cc5KIFeedwB5",
        "colab_type": "text"
      },
      "cell_type": "markdown",
      "source": [
        "### Concluding Remark\n",
        "\n",
        "\n",
        "From our findings, the first cellular subscription in all countries was started in 1980. Europe/Central Asia was leading as the region with the highest cellular subcriber followed by North America and East Asia/Pacific. Among Europe and Central Asia region, Finland has the largest celluar-connected population in 1980 since Scandinavian countries including Finland were among the first pioneer countries of 1-G network following after the launch of Nippon Telegraph and Telephone in Japan at 1979. Europe and North America regions dominate the market of mobile networks for early two decades of Cell subscription history until the pattern changes at the turn of the century. \n",
        "\n",
        "In early 2000s, Asia Pacific region emerged as the major cellular subscribers equalizing with Europe Region when both region share 504 million users respectively. China contributed the most in increasing the subscriber user base in year 2000 when two state-run companies-China Telecom and China Netcom- began their operations. From early 2000 to mid 2000s, every region across the world also experienced  rapid increase in subscription when the connectivity of internet broadband networks from mobile devices became widespread. \n",
        "\n",
        "The functionality of mobile devices, particulary in the moblile application development, have improved over the period. As Network-based Mobile games and the Social Network became popular, the subscription of cellular networks continue to expand. As of 2017, East Asia and Pacific region followed by South Asia region become the major subscribers surpassing EU and North America regions that dominated the market historically. Among all countries, China has the largest subscribed user followed by India, Indonesia and U.S in 2017. In Europe, Russia has the highest cellular subscription overtaking Western European Countries and Scandinavian neighbours. It is important to note that having high density of cellular usage in those countries may not represent higher investment or advancement in mobile technology. Moreover, the underlying reasons of rapid cellular subscription in some countries are beyond the scope of this study. Possible explanations include government incentives, income level, the pricing strategies of mobile providers and technology services culture in selected countries which require further analysis. \n",
        "\n",
        "                 Figure: Cellular Subscription by Country (2017) \n",
        "![untitled4.png](attachment:untitled4.png)"
      ]
    },
    {
      "metadata": {
        "id": "Z0wFhXuBdwB_",
        "colab_type": "code",
        "colab": {}
      },
      "cell_type": "code",
      "source": [
        ""
      ],
      "execution_count": 0,
      "outputs": []
    },
    {
      "metadata": {
        "id": "l2V3_pL2dwCG",
        "colab_type": "code",
        "colab": {}
      },
      "cell_type": "code",
      "source": [
        "# CODES START HERE\n",
        "\n",
        "%matplotlib inline\n",
        "import pandas as pd\n",
        "import matplotlib.pyplot as plt\n",
        "import seaborn as sns\n",
        "import numpy as np\n",
        "sns.set(style=\"darkgrid\")"
      ],
      "execution_count": 0,
      "outputs": []
    },
    {
      "metadata": {
        "id": "K6dVoknPdwCN",
        "colab_type": "code",
        "colab": {}
      },
      "cell_type": "code",
      "source": [
        "#DATA CLEANGING _ EXTRACTING DATA\n",
        "\n",
        "CellSubscribeData = pd.read_csv('Y:/fa2018-csc300dsa/completed/Assignment7/CellSubscriptionxData.csv',index_col = 0,encoding='ISO-8859-1')\n",
        "CSMetaData = pd.read_csv('Y:/fa2018-csc300dsa/completed/Assignment7/CellSubscriptionxMETAD.csv'  ,index_col = 0, encoding='ISO-8859-1')\n",
        "\n",
        "#Note: \n",
        "#The above data is obtained from World Bank Organization\n",
        "#https://data.worldbank.org/indicator/IT.CEL.SETS\n",
        "# 'CellSubscrideData' contians subscription data from 1960 to 2017 \n",
        "#  for every countries. \n",
        "# 'CSMetaData' contains the information about each country such as \n",
        "#  the regions they are in and high income/low income indicators."
      ],
      "execution_count": 0,
      "outputs": []
    },
    {
      "metadata": {
        "id": "5PwZe8budwCa",
        "colab_type": "code",
        "outputId": "97c80496-c74a-4a1e-b725-e734e55517e3",
        "colab": {}
      },
      "cell_type": "code",
      "source": [
        "#### CHECKING DATA TYPES, MISSING VALUES, ETC..\n",
        "\n",
        "CellSubscribeData.head()\n",
        "#CSMetaData.head()\n",
        "#CellSubscribeData.dtypes\n",
        "#CSMetaData.dtypes\n",
        "#CellSubscribeData.columns\n",
        "#CSMetaData.columns"
      ],
      "execution_count": 0,
      "outputs": [
        {
          "output_type": "execute_result",
          "data": {
            "text/html": [
              "<div>\n",
              "<style scoped>\n",
              "    .dataframe tbody tr th:only-of-type {\n",
              "        vertical-align: middle;\n",
              "    }\n",
              "\n",
              "    .dataframe tbody tr th {\n",
              "        vertical-align: top;\n",
              "    }\n",
              "\n",
              "    .dataframe thead th {\n",
              "        text-align: right;\n",
              "    }\n",
              "</style>\n",
              "<table border=\"1\" class=\"dataframe\">\n",
              "  <thead>\n",
              "    <tr style=\"text-align: right;\">\n",
              "      <th></th>\n",
              "      <th>Country Code</th>\n",
              "      <th>Indicator Name</th>\n",
              "      <th>Indicator Code</th>\n",
              "      <th>1960</th>\n",
              "      <th>1961</th>\n",
              "      <th>1962</th>\n",
              "      <th>1963</th>\n",
              "      <th>1964</th>\n",
              "      <th>1965</th>\n",
              "      <th>1966</th>\n",
              "      <th>...</th>\n",
              "      <th>2008</th>\n",
              "      <th>2009</th>\n",
              "      <th>2010</th>\n",
              "      <th>2011</th>\n",
              "      <th>2012</th>\n",
              "      <th>2013</th>\n",
              "      <th>2014</th>\n",
              "      <th>2015</th>\n",
              "      <th>2016</th>\n",
              "      <th>2017</th>\n",
              "    </tr>\n",
              "    <tr>\n",
              "      <th>Country Name</th>\n",
              "      <th></th>\n",
              "      <th></th>\n",
              "      <th></th>\n",
              "      <th></th>\n",
              "      <th></th>\n",
              "      <th></th>\n",
              "      <th></th>\n",
              "      <th></th>\n",
              "      <th></th>\n",
              "      <th></th>\n",
              "      <th></th>\n",
              "      <th></th>\n",
              "      <th></th>\n",
              "      <th></th>\n",
              "      <th></th>\n",
              "      <th></th>\n",
              "      <th></th>\n",
              "      <th></th>\n",
              "      <th></th>\n",
              "      <th></th>\n",
              "      <th></th>\n",
              "    </tr>\n",
              "  </thead>\n",
              "  <tbody>\n",
              "    <tr>\n",
              "      <th>Aruba</th>\n",
              "      <td>ABW</td>\n",
              "      <td>Mobile cellular subscriptions</td>\n",
              "      <td>IT.CEL.SETS</td>\n",
              "      <td>0.0</td>\n",
              "      <td>NaN</td>\n",
              "      <td>NaN</td>\n",
              "      <td>NaN</td>\n",
              "      <td>NaN</td>\n",
              "      <td>0.0</td>\n",
              "      <td>NaN</td>\n",
              "      <td>...</td>\n",
              "      <td>120806.0</td>\n",
              "      <td>128000.0</td>\n",
              "      <td>131800.0</td>\n",
              "      <td>NaN</td>\n",
              "      <td>135000.0</td>\n",
              "      <td>138800.0</td>\n",
              "      <td>139700.0</td>\n",
              "      <td>141000.0</td>\n",
              "      <td>NaN</td>\n",
              "      <td>NaN</td>\n",
              "    </tr>\n",
              "    <tr>\n",
              "      <th>Afghanistan</th>\n",
              "      <td>AFG</td>\n",
              "      <td>Mobile cellular subscriptions</td>\n",
              "      <td>IT.CEL.SETS</td>\n",
              "      <td>0.0</td>\n",
              "      <td>NaN</td>\n",
              "      <td>NaN</td>\n",
              "      <td>NaN</td>\n",
              "      <td>NaN</td>\n",
              "      <td>0.0</td>\n",
              "      <td>NaN</td>\n",
              "      <td>...</td>\n",
              "      <td>7898909.0</td>\n",
              "      <td>10500000.0</td>\n",
              "      <td>10215840.0</td>\n",
              "      <td>13797879.0</td>\n",
              "      <td>15340115.0</td>\n",
              "      <td>16807156.0</td>\n",
              "      <td>18407168.0</td>\n",
              "      <td>19709038.0</td>\n",
              "      <td>21602982.0</td>\n",
              "      <td>23929713.0</td>\n",
              "    </tr>\n",
              "    <tr>\n",
              "      <th>Angola</th>\n",
              "      <td>AGO</td>\n",
              "      <td>Mobile cellular subscriptions</td>\n",
              "      <td>IT.CEL.SETS</td>\n",
              "      <td>0.0</td>\n",
              "      <td>NaN</td>\n",
              "      <td>NaN</td>\n",
              "      <td>NaN</td>\n",
              "      <td>NaN</td>\n",
              "      <td>0.0</td>\n",
              "      <td>NaN</td>\n",
              "      <td>...</td>\n",
              "      <td>6773356.0</td>\n",
              "      <td>8109421.0</td>\n",
              "      <td>9403365.0</td>\n",
              "      <td>12073218.0</td>\n",
              "      <td>12785109.0</td>\n",
              "      <td>13285198.0</td>\n",
              "      <td>14052558.0</td>\n",
              "      <td>13884532.0</td>\n",
              "      <td>13001124.0</td>\n",
              "      <td>13323952.0</td>\n",
              "    </tr>\n",
              "    <tr>\n",
              "      <th>Albania</th>\n",
              "      <td>ALB</td>\n",
              "      <td>Mobile cellular subscriptions</td>\n",
              "      <td>IT.CEL.SETS</td>\n",
              "      <td>0.0</td>\n",
              "      <td>NaN</td>\n",
              "      <td>NaN</td>\n",
              "      <td>NaN</td>\n",
              "      <td>NaN</td>\n",
              "      <td>0.0</td>\n",
              "      <td>NaN</td>\n",
              "      <td>...</td>\n",
              "      <td>1859632.0</td>\n",
              "      <td>2463741.0</td>\n",
              "      <td>2692372.0</td>\n",
              "      <td>3100000.0</td>\n",
              "      <td>3500000.0</td>\n",
              "      <td>3685983.0</td>\n",
              "      <td>3359654.0</td>\n",
              "      <td>3400955.0</td>\n",
              "      <td>3369756.0</td>\n",
              "      <td>3497950.0</td>\n",
              "    </tr>\n",
              "    <tr>\n",
              "      <th>Andorra</th>\n",
              "      <td>AND</td>\n",
              "      <td>Mobile cellular subscriptions</td>\n",
              "      <td>IT.CEL.SETS</td>\n",
              "      <td>0.0</td>\n",
              "      <td>NaN</td>\n",
              "      <td>NaN</td>\n",
              "      <td>NaN</td>\n",
              "      <td>NaN</td>\n",
              "      <td>0.0</td>\n",
              "      <td>NaN</td>\n",
              "      <td>...</td>\n",
              "      <td>64202.0</td>\n",
              "      <td>64549.0</td>\n",
              "      <td>65495.0</td>\n",
              "      <td>65044.0</td>\n",
              "      <td>63865.0</td>\n",
              "      <td>63931.0</td>\n",
              "      <td>66241.0</td>\n",
              "      <td>71336.0</td>\n",
              "      <td>76132.0</td>\n",
              "      <td>80337.0</td>\n",
              "    </tr>\n",
              "  </tbody>\n",
              "</table>\n",
              "<p>5 rows × 61 columns</p>\n",
              "</div>"
            ],
            "text/plain": [
              "             Country Code                 Indicator Name Indicator Code  1960  \\\n",
              "Country Name                                                                    \n",
              "Aruba                 ABW  Mobile cellular subscriptions    IT.CEL.SETS   0.0   \n",
              "Afghanistan           AFG  Mobile cellular subscriptions    IT.CEL.SETS   0.0   \n",
              "Angola                AGO  Mobile cellular subscriptions    IT.CEL.SETS   0.0   \n",
              "Albania               ALB  Mobile cellular subscriptions    IT.CEL.SETS   0.0   \n",
              "Andorra               AND  Mobile cellular subscriptions    IT.CEL.SETS   0.0   \n",
              "\n",
              "              1961  1962  1963  1964  1965  1966     ...           2008  \\\n",
              "Country Name                                         ...                  \n",
              "Aruba          NaN   NaN   NaN   NaN   0.0   NaN     ...       120806.0   \n",
              "Afghanistan    NaN   NaN   NaN   NaN   0.0   NaN     ...      7898909.0   \n",
              "Angola         NaN   NaN   NaN   NaN   0.0   NaN     ...      6773356.0   \n",
              "Albania        NaN   NaN   NaN   NaN   0.0   NaN     ...      1859632.0   \n",
              "Andorra        NaN   NaN   NaN   NaN   0.0   NaN     ...        64202.0   \n",
              "\n",
              "                    2009        2010        2011        2012        2013  \\\n",
              "Country Name                                                               \n",
              "Aruba           128000.0    131800.0         NaN    135000.0    138800.0   \n",
              "Afghanistan   10500000.0  10215840.0  13797879.0  15340115.0  16807156.0   \n",
              "Angola         8109421.0   9403365.0  12073218.0  12785109.0  13285198.0   \n",
              "Albania        2463741.0   2692372.0   3100000.0   3500000.0   3685983.0   \n",
              "Andorra          64549.0     65495.0     65044.0     63865.0     63931.0   \n",
              "\n",
              "                    2014        2015        2016        2017  \n",
              "Country Name                                                  \n",
              "Aruba           139700.0    141000.0         NaN         NaN  \n",
              "Afghanistan   18407168.0  19709038.0  21602982.0  23929713.0  \n",
              "Angola        14052558.0  13884532.0  13001124.0  13323952.0  \n",
              "Albania        3359654.0   3400955.0   3369756.0   3497950.0  \n",
              "Andorra          66241.0     71336.0     76132.0     80337.0  \n",
              "\n",
              "[5 rows x 61 columns]"
            ]
          },
          "metadata": {
            "tags": []
          },
          "execution_count": 7
        }
      ]
    },
    {
      "metadata": {
        "scrolled": false,
        "id": "UaT64Bn6dwCo",
        "colab_type": "code",
        "colab": {}
      },
      "cell_type": "code",
      "source": [
        "#DATA CLEANING _ COMBINING DATA\n",
        "\n",
        "df = CellSubscribeData.merge(CSMetaData, left_on = 'Country Code', right_on ='Country Code', how = 'outer')\n",
        "df = df.fillna(0)\n",
        "#df\n",
        "#df.describe()"
      ],
      "execution_count": 0,
      "outputs": []
    },
    {
      "metadata": {
        "id": "zaxx_l25dwCw",
        "colab_type": "code",
        "colab": {}
      },
      "cell_type": "code",
      "source": [
        ""
      ],
      "execution_count": 0,
      "outputs": []
    },
    {
      "metadata": {
        "id": "ourB5Ix6dwDE",
        "colab_type": "code",
        "colab": {}
      },
      "cell_type": "code",
      "source": [
        "# DATA PREPARATION TASK : Group by Geographic Regions\n",
        "\n",
        "EAsiaPacific =  df.loc [df['Region'] == 'East Asia & Pacific']\n",
        "EuropeCAsia = df.loc [df['Region'] == 'Europe & Central Asia']\n",
        "LatinAmerica = df.loc [df['Region'] == 'Latin America & Caribbean']\n",
        "MEastNAfrica = df.loc [df['Region'] == 'Middle East & North Africa']\n",
        "NorthAmerica = df.loc [df['Region'] == 'North America']\n",
        "SouthAsia = df.loc [df['Region'] == 'South Asia']\n",
        "SubSahAfrica = df.loc [df['Region'] == 'Sub-Saharan Africa']"
      ],
      "execution_count": 0,
      "outputs": []
    },
    {
      "metadata": {
        "id": "h0xAHagydwDN",
        "colab_type": "code",
        "outputId": "f25de4a7-20ef-4888-a8e3-065e34355019",
        "colab": {}
      },
      "cell_type": "code",
      "source": [
        "EAsiaPacific.head()"
      ],
      "execution_count": 0,
      "outputs": [
        {
          "output_type": "execute_result",
          "data": {
            "text/html": [
              "<div>\n",
              "<style scoped>\n",
              "    .dataframe tbody tr th:only-of-type {\n",
              "        vertical-align: middle;\n",
              "    }\n",
              "\n",
              "    .dataframe tbody tr th {\n",
              "        vertical-align: top;\n",
              "    }\n",
              "\n",
              "    .dataframe thead th {\n",
              "        text-align: right;\n",
              "    }\n",
              "</style>\n",
              "<table border=\"1\" class=\"dataframe\">\n",
              "  <thead>\n",
              "    <tr style=\"text-align: right;\">\n",
              "      <th></th>\n",
              "      <th>Country Code</th>\n",
              "      <th>Indicator Name</th>\n",
              "      <th>Indicator Code</th>\n",
              "      <th>1960</th>\n",
              "      <th>1961</th>\n",
              "      <th>1962</th>\n",
              "      <th>1963</th>\n",
              "      <th>1964</th>\n",
              "      <th>1965</th>\n",
              "      <th>1966</th>\n",
              "      <th>...</th>\n",
              "      <th>2012</th>\n",
              "      <th>2013</th>\n",
              "      <th>2014</th>\n",
              "      <th>2015</th>\n",
              "      <th>2016</th>\n",
              "      <th>2017</th>\n",
              "      <th>Region</th>\n",
              "      <th>IncomeGroup</th>\n",
              "      <th>SpecialNotes</th>\n",
              "      <th>TableName</th>\n",
              "    </tr>\n",
              "  </thead>\n",
              "  <tbody>\n",
              "    <tr>\n",
              "      <th>9</th>\n",
              "      <td>ASM</td>\n",
              "      <td>Mobile cellular subscriptions</td>\n",
              "      <td>IT.CEL.SETS</td>\n",
              "      <td>0.0</td>\n",
              "      <td>0.0</td>\n",
              "      <td>0.0</td>\n",
              "      <td>0.0</td>\n",
              "      <td>0.0</td>\n",
              "      <td>0.0</td>\n",
              "      <td>0.0</td>\n",
              "      <td>...</td>\n",
              "      <td>0.000000e+00</td>\n",
              "      <td>0.000000e+00</td>\n",
              "      <td>0.000000e+00</td>\n",
              "      <td>0.000000e+00</td>\n",
              "      <td>0.000000e+00</td>\n",
              "      <td>0.000000e+00</td>\n",
              "      <td>East Asia &amp; Pacific</td>\n",
              "      <td>Upper middle income</td>\n",
              "      <td>New base Year 2009</td>\n",
              "      <td>American Samoa</td>\n",
              "    </tr>\n",
              "    <tr>\n",
              "      <th>11</th>\n",
              "      <td>AUS</td>\n",
              "      <td>Mobile cellular subscriptions</td>\n",
              "      <td>IT.CEL.SETS</td>\n",
              "      <td>0.0</td>\n",
              "      <td>0.0</td>\n",
              "      <td>0.0</td>\n",
              "      <td>0.0</td>\n",
              "      <td>0.0</td>\n",
              "      <td>0.0</td>\n",
              "      <td>0.0</td>\n",
              "      <td>...</td>\n",
              "      <td>2.433800e+07</td>\n",
              "      <td>2.494000e+07</td>\n",
              "      <td>2.506000e+07</td>\n",
              "      <td>2.577000e+07</td>\n",
              "      <td>2.655100e+07</td>\n",
              "      <td>2.755300e+07</td>\n",
              "      <td>East Asia &amp; Pacific</td>\n",
              "      <td>High income</td>\n",
              "      <td>Fiscal year end: June 30; reporting period for...</td>\n",
              "      <td>Australia</td>\n",
              "    </tr>\n",
              "    <tr>\n",
              "      <th>29</th>\n",
              "      <td>BRN</td>\n",
              "      <td>Mobile cellular subscriptions</td>\n",
              "      <td>IT.CEL.SETS</td>\n",
              "      <td>0.0</td>\n",
              "      <td>0.0</td>\n",
              "      <td>0.0</td>\n",
              "      <td>0.0</td>\n",
              "      <td>0.0</td>\n",
              "      <td>0.0</td>\n",
              "      <td>0.0</td>\n",
              "      <td>...</td>\n",
              "      <td>4.697400e+05</td>\n",
              "      <td>4.688140e+05</td>\n",
              "      <td>4.520540e+05</td>\n",
              "      <td>4.633840e+05</td>\n",
              "      <td>5.234530e+05</td>\n",
              "      <td>5.447320e+05</td>\n",
              "      <td>East Asia &amp; Pacific</td>\n",
              "      <td>High income</td>\n",
              "      <td>National accounts revision is based on data fr...</td>\n",
              "      <td>Brunei Darussalam</td>\n",
              "    </tr>\n",
              "    <tr>\n",
              "      <th>38</th>\n",
              "      <td>CHN</td>\n",
              "      <td>Mobile cellular subscriptions</td>\n",
              "      <td>IT.CEL.SETS</td>\n",
              "      <td>0.0</td>\n",
              "      <td>0.0</td>\n",
              "      <td>0.0</td>\n",
              "      <td>0.0</td>\n",
              "      <td>0.0</td>\n",
              "      <td>0.0</td>\n",
              "      <td>0.0</td>\n",
              "      <td>...</td>\n",
              "      <td>1.112155e+09</td>\n",
              "      <td>1.229113e+09</td>\n",
              "      <td>1.286093e+09</td>\n",
              "      <td>1.291984e+09</td>\n",
              "      <td>1.364934e+09</td>\n",
              "      <td>1.474097e+09</td>\n",
              "      <td>East Asia &amp; Pacific</td>\n",
              "      <td>Upper middle income</td>\n",
              "      <td>On 1 July 1997 China resumed its exercise of s...</td>\n",
              "      <td>China</td>\n",
              "    </tr>\n",
              "    <tr>\n",
              "      <th>74</th>\n",
              "      <td>FJI</td>\n",
              "      <td>Mobile cellular subscriptions</td>\n",
              "      <td>IT.CEL.SETS</td>\n",
              "      <td>0.0</td>\n",
              "      <td>0.0</td>\n",
              "      <td>0.0</td>\n",
              "      <td>0.0</td>\n",
              "      <td>0.0</td>\n",
              "      <td>0.0</td>\n",
              "      <td>0.0</td>\n",
              "      <td>...</td>\n",
              "      <td>8.588090e+05</td>\n",
              "      <td>9.304060e+05</td>\n",
              "      <td>8.761760e+05</td>\n",
              "      <td>9.659500e+05</td>\n",
              "      <td>1.044685e+06</td>\n",
              "      <td>1.033915e+06</td>\n",
              "      <td>East Asia &amp; Pacific</td>\n",
              "      <td>Upper middle income</td>\n",
              "      <td>National accounts have been revised  based on ...</td>\n",
              "      <td>Fiji</td>\n",
              "    </tr>\n",
              "  </tbody>\n",
              "</table>\n",
              "<p>5 rows × 65 columns</p>\n",
              "</div>"
            ],
            "text/plain": [
              "   Country Code                 Indicator Name Indicator Code  1960  1961  \\\n",
              "9           ASM  Mobile cellular subscriptions    IT.CEL.SETS   0.0   0.0   \n",
              "11          AUS  Mobile cellular subscriptions    IT.CEL.SETS   0.0   0.0   \n",
              "29          BRN  Mobile cellular subscriptions    IT.CEL.SETS   0.0   0.0   \n",
              "38          CHN  Mobile cellular subscriptions    IT.CEL.SETS   0.0   0.0   \n",
              "74          FJI  Mobile cellular subscriptions    IT.CEL.SETS   0.0   0.0   \n",
              "\n",
              "    1962  1963  1964  1965  1966        ...                  2012  \\\n",
              "9    0.0   0.0   0.0   0.0   0.0        ...          0.000000e+00   \n",
              "11   0.0   0.0   0.0   0.0   0.0        ...          2.433800e+07   \n",
              "29   0.0   0.0   0.0   0.0   0.0        ...          4.697400e+05   \n",
              "38   0.0   0.0   0.0   0.0   0.0        ...          1.112155e+09   \n",
              "74   0.0   0.0   0.0   0.0   0.0        ...          8.588090e+05   \n",
              "\n",
              "            2013          2014          2015          2016          2017  \\\n",
              "9   0.000000e+00  0.000000e+00  0.000000e+00  0.000000e+00  0.000000e+00   \n",
              "11  2.494000e+07  2.506000e+07  2.577000e+07  2.655100e+07  2.755300e+07   \n",
              "29  4.688140e+05  4.520540e+05  4.633840e+05  5.234530e+05  5.447320e+05   \n",
              "38  1.229113e+09  1.286093e+09  1.291984e+09  1.364934e+09  1.474097e+09   \n",
              "74  9.304060e+05  8.761760e+05  9.659500e+05  1.044685e+06  1.033915e+06   \n",
              "\n",
              "                 Region          IncomeGroup  \\\n",
              "9   East Asia & Pacific  Upper middle income   \n",
              "11  East Asia & Pacific          High income   \n",
              "29  East Asia & Pacific          High income   \n",
              "38  East Asia & Pacific  Upper middle income   \n",
              "74  East Asia & Pacific  Upper middle income   \n",
              "\n",
              "                                         SpecialNotes          TableName  \n",
              "9                                  New base Year 2009     American Samoa  \n",
              "11  Fiscal year end: June 30; reporting period for...          Australia  \n",
              "29  National accounts revision is based on data fr...  Brunei Darussalam  \n",
              "38  On 1 July 1997 China resumed its exercise of s...              China  \n",
              "74  National accounts have been revised  based on ...               Fiji  \n",
              "\n",
              "[5 rows x 65 columns]"
            ]
          },
          "metadata": {
            "tags": []
          },
          "execution_count": 10
        }
      ]
    },
    {
      "metadata": {
        "id": "hotjGEZudwDX",
        "colab_type": "code",
        "colab": {}
      },
      "cell_type": "code",
      "source": [
        ""
      ],
      "execution_count": 0,
      "outputs": []
    },
    {
      "metadata": {
        "scrolled": false,
        "id": "wISZahr9dwDc",
        "colab_type": "code",
        "colab": {}
      },
      "cell_type": "code",
      "source": [
        "## DATA PREPARATION :: GROUP BY YEAR - STARTING YEAR\n",
        "\n",
        "# We will use 1980 as starting year since there is no cellur subscription in all countries \n",
        "#from the beginning of 1960 to 1979\n",
        "\n",
        "df= df.loc[:,'1980': 'TableName']\n",
        "#df"
      ],
      "execution_count": 0,
      "outputs": []
    },
    {
      "metadata": {
        "id": "1bPpBM4wdwDw",
        "colab_type": "code",
        "colab": {}
      },
      "cell_type": "code",
      "source": [
        "#GROUP BY YEARGROUP\n",
        "\n",
        "YG1980to85 = df.loc[:,['TableName','1980','1981','1982','1983','1984','1985']].groupby('TableName').mean()\n",
        "YG1980to85['YG1980_85Avg']= YG1980to85.mean(axis=1)\n",
        "\n",
        "YG1986to90 = df.loc[:,['TableName','1986', '1987', '1988','1989', '1990']].groupby('TableName').mean()\n",
        "YG1986to90['YG1986_90Avg']= YG1986to90.mean(axis=1)\n",
        "\n",
        "YG1991to95 = df.loc[:,['TableName','1991', '1992', '1993', '1994', '1995']].groupby('TableName').mean()\n",
        "YG1991to95['YG1991_95Avg']= YG1991to95.mean(axis=1)\n",
        "\n",
        "YG1996to2k = df.loc[:,['TableName','1996', '1997','1998', '1999', '2000']].groupby('TableName').mean()\n",
        "YG1996to2k['YG1996_2kAvg']= YG1996to2k.mean(axis=1)\n",
        "\n",
        "YG2001to05 = df.loc[:,['TableName','2001', '2002', '2003', '2004', '2005']].groupby('TableName').mean()\n",
        "YG2001to05['YG2001_05Avg']= YG2001to05.mean(axis=1)\n",
        "\n",
        "YG2006to10 = df.loc[:,['TableName','2006','2007', '2008', '2009', '2010']].groupby('TableName').mean()\n",
        "YG2006to10['YG2006_10Avg']= YG2006to10.mean(axis=1)\n",
        "\n",
        "YG2011to17 = df.loc[:,['TableName','2011', '2012', '2013', '2014', '2015','2016', '2017']].groupby('TableName').mean()\n",
        "YG2011to17['YG2011_17Avg']= YG2011to17.mean(axis=1)\n"
      ],
      "execution_count": 0,
      "outputs": []
    },
    {
      "metadata": {
        "id": "AkegqwEndwD_",
        "colab_type": "code",
        "colab": {}
      },
      "cell_type": "code",
      "source": [
        ""
      ],
      "execution_count": 0,
      "outputs": []
    },
    {
      "metadata": {
        "id": "iXixsvpxdwEG",
        "colab_type": "code",
        "outputId": "fac031d2-6b2c-4ce0-af07-e766ee25777d",
        "colab": {}
      },
      "cell_type": "code",
      "source": [
        "#DESCRIPTIC STATISTICS FOR AGGREGATE YEARGROUP+GEOGRAPHICREGION \n",
        "\n",
        "#EAsiaPacific\n",
        "\n",
        "EAP8085 = pd.merge( EAsiaPacific[['TableName']],YG1980to85,on='TableName',how = 'left')\n",
        "#print(\"---\\nSummary Statistics, East Asia and Pacific(1980-85)\\n---\\n\",EAP8085['YG1980_85Avg'].describe())\n",
        "\n",
        "EAP8690 = pd.merge( EAsiaPacific[['TableName']],YG1986to90,on='TableName', how = 'left')\n",
        "#print(\"---\\nSummary Statistics, East Asia and Pacific(1986-90)\\n---\\n\",EAP8690['YG1986_90Avg'].describe())\n",
        "\n",
        "EAP9195 = pd.merge( EAsiaPacific[['TableName']],YG1991to95,on='TableName', how = 'left')\n",
        "#print(\"---\\nSummary Statistics, East Asia and Pacific(1991-95)\\n---\\n\",EAP9195['YG1991_95Avg'].describe())\n",
        "\n",
        "EAP962k = pd.merge( EAsiaPacific[['TableName']],YG1996to2k,on='TableName', how = 'left')\n",
        "#print(\"---\\nSummary Statistics, East Asia and Pacific(1996-2k)\\n---\\n\",EAP962k['YG1996_2kAvg'].describe())\n",
        "\n",
        "EAP0105 = pd.merge( EAsiaPacific[['TableName']],YG2001to05,on='TableName', how = 'left')\n",
        "#print(\"---\\nSummary Statistics, East Asia and Pacific(2001-05)\\n---\\n\",EAP0105['YG2001_05Avg'].describe())\n",
        "\n",
        "EAP0610 = pd.merge( EAsiaPacific[['TableName']],YG2006to10,on='TableName', how = 'left')\n",
        "#print(\"---\\nSummary Statistics, East Asia and Pacific(2006-10)\\n---\\n\",EAP0610['YG2006_10Avg'].describe())\n",
        "\n",
        "EAP1117 = pd.merge( EAsiaPacific[['TableName']],YG2011to17,  on='TableName',  how = 'left')\n",
        "print(\"---\\nSummary Statistics, East Asia and Pacific(2011-17)\\n---\\n\",EAP1117['YG2011_17Avg'].describe())"
      ],
      "execution_count": 0,
      "outputs": [
        {
          "output_type": "stream",
          "text": [
            "---\n",
            "Summary Statistics, East Asia and Pacific(2011-17)\n",
            "---\n",
            " count    3.700000e+01\n",
            "mean     6.193881e+07\n",
            "std      2.108336e+08\n",
            "min      0.000000e+00\n",
            "25%      5.571329e+04\n",
            "50%      1.487345e+06\n",
            "75%      2.542871e+07\n",
            "max      1.249233e+09\n",
            "Name: YG2011_17Avg, dtype: float64\n"
          ],
          "name": "stdout"
        }
      ]
    },
    {
      "metadata": {
        "id": "t6wi4u_SdwEQ",
        "colab_type": "code",
        "colab": {}
      },
      "cell_type": "code",
      "source": [
        "#EuropeCAsia \n",
        "EUCA8085 = pd.merge( EuropeCAsia[['TableName']],YG1980to85,on='TableName',how = 'left')\n",
        "#print(\"---\\nSummary Statistics, EuropeCAsia(1980-85)\\n---\\n\",EAP8085['YG1980_85Avg'].describe())\n",
        "EUCA8690 = pd.merge( EuropeCAsia[['TableName']],YG1986to90,on='TableName', how = 'left')\n",
        "#print(\"---\\nSummary Statistics, EuropeCAsia(1986-90)\\n---\\n\",EAP8690['YG1986_90Avg'].describe())\n",
        "EUCA9195 = pd.merge( EuropeCAsia[['TableName']],YG1991to95,on='TableName', how = 'left')\n",
        "#print(\"---\\nSummary Statistics, EuropeCAsia(1991-95)\\n---\\n\",EAP9195['YG1991_95Avg'].describe())\n",
        "EUCA962k = pd.merge( EuropeCAsia[['TableName']],YG1996to2k,on='TableName', how = 'left')\n",
        "#print(\"---\\nSummary Statistics, EuropeCAsia(1996-2k)\\n---\\n\",EAP962k['YG1996_2kAvg'].describe())\n",
        "EUCA0105 = pd.merge( EuropeCAsia[['TableName']],YG2001to05,on='TableName', how = 'left')\n",
        "#print(\"---\\nSummary Statistics, EuropeCAsia(2001-05)\\n---\\n\",EAP0105['YG2001_05Avg'].describe())\n",
        "EUCA0610 = pd.merge( EuropeCAsia[['TableName']],YG2006to10,on='TableName', how = 'left')\n",
        "#print(\"---\\nSummary Statistics, EuropeCAsia(2006-10)\\n---\\n\",EAP0610['YG2006_10Avg'].describe())\n",
        "EUCA1117 = pd.merge( EuropeCAsia[['TableName']],YG2011to17,  on='TableName',  how = 'left')\n",
        "#print(\"---\\nSummary Statistics, EuropeCAsia(2011-17)\\n---\\n\",EAP1117['YG2011_17Avg'].describe())\n",
        "\n",
        "#LatinAmerica\n",
        "LAT8085 = pd.merge( LatinAmerica[['TableName']],YG1980to85,on='TableName',how = 'left')\n",
        "#print(\"---\\nSummary Statistics, LatinAmerica(1980-85)\\n---\\n\",EAP8085['YG1980_85Avg'].describe())\n",
        "LAT8690 = pd.merge( LatinAmerica[['TableName']],YG1986to90,on='TableName', how = 'left')\n",
        "#print(\"---\\nSummary Statistics, LatinAmerica(1986-90)\\n---\\n\",EAP8690['YG1986_90Avg'].describe())\n",
        "LAT9195 = pd.merge( LatinAmerica[['TableName']],YG1991to95,on='TableName', how = 'left')\n",
        "#print(\"---\\nSummary Statistics, LatinAmerica(1991-95)\\n---\\n\",EAP9195['YG1991_95Avg'].describe())\n",
        "LAT962k = pd.merge( LatinAmerica[['TableName']],YG1996to2k,on='TableName', how = 'left')\n",
        "#print(\"---\\nSummary Statistics, LatinAmerica(1996-2k)\\n---\\n\",EAP962k['YG1996_2kAvg'].describe())\n",
        "LAT0105 = pd.merge( LatinAmerica[['TableName']],YG2001to05,on='TableName', how = 'left')\n",
        "#print(\"---\\nSummary Statistics, LatinAmerica(2001-05)\\n---\\n\",EAP0105['YG2001_05Avg'].describe())\n",
        "LAT0610 = pd.merge( LatinAmerica[['TableName']],YG2006to10,on='TableName', how = 'left')\n",
        "#print(\"---\\nSummary Statistics, LatinAmerica(2006-10)\\n---\\n\",EAP0610['YG2006_10Avg'].describe())\n",
        "LAT1117 = pd.merge( LatinAmerica[['TableName']],YG2011to17,  on='TableName',  how = 'left')\n",
        "#print(\"---\\nSummary Statistics, LatinAmerica(2011-17)\\n---\\n\",EAP1117['YG2011_17Avg'].describe())\n",
        "\n",
        "#MEastNAfrica\n",
        "MEAF8085 = pd.merge( MEastNAfrica[['TableName']],YG1980to85,on='TableName',how = 'left')\n",
        "#print(\"---\\nSummary Statistics, MEastNAfrica(1980-85)\\n---\\n\",EAP8085['YG1980_85Avg'].describe())\n",
        "MEAF8690 = pd.merge( MEastNAfrica[['TableName']],YG1986to90,on='TableName', how = 'left')\n",
        "#print(\"---\\nSummary Statistics, MEastNAfrica(1986-90)\\n---\\n\",EAP8690['YG1986_90Avg'].describe())\n",
        "MEAF9195 = pd.merge( MEastNAfrica[['TableName']],YG1991to95,on='TableName', how = 'left')\n",
        "#print(\"---\\nSummary Statistics, MEastNAfrica(1991-95)\\n---\\n\",EAP9195['YG1991_95Avg'].describe())\n",
        "MEAF962k = pd.merge( MEastNAfrica[['TableName']],YG1996to2k,on='TableName', how = 'left')\n",
        "#print(\"---\\nSummary Statistics, MEastNAfrica(1996-2k)\\n---\\n\",EAP962k['YG1996_2kAvg'].describe())\n",
        "MEAF0105 = pd.merge( MEastNAfrica[['TableName']],YG2001to05,on='TableName', how = 'left')\n",
        "#print(\"---\\nSummary Statistics, MEastNAfrica(2001-05)\\n---\\n\",EAP0105['YG2001_05Avg'].describe())\n",
        "MEAF0610 = pd.merge( MEastNAfrica[['TableName']],YG2006to10,on='TableName', how = 'left')\n",
        "#print(\"---\\nSummary Statistics, MEastNAfrica(2006-10)\\n---\\n\",EAP0610['YG2006_10Avg'].describe())\n",
        "MEAF1117 = pd.merge( MEastNAfrica[['TableName']],YG2011to17,  on='TableName',  how = 'left')\n",
        "#print(\"---\\nSummary Statistics, MEastNAfrica(2011-17)\\n---\\n\",EAP1117['YG2011_17Avg'].describe())\n",
        "\n",
        "#NorthAmerica \n",
        "NA8085 = pd.merge( NorthAmerica[['TableName']],YG1980to85,on='TableName',how = 'left')\n",
        "#print(\"---\\nSummary Statistics, NorthAmerica (1980-85)\\n---\\n\",EAP8085['YG1980_85Avg'].describe())\n",
        "NA8690 = pd.merge( NorthAmerica[['TableName']],YG1986to90,on='TableName', how = 'left')\n",
        "#print(\"---\\nSummary Statistics, NorthAmerica (1986-90)\\n---\\n\",EAP8690['YG1986_90Avg'].describe())\n",
        "NA9195 = pd.merge( NorthAmerica[['TableName']],YG1991to95,on='TableName', how = 'left')\n",
        "#print(\"---\\nSummary Statistics,NorthAmerica (1991-95)\\n---\\n\",EAP9195['YG1991_95Avg'].describe())\n",
        "NA962k = pd.merge( NorthAmerica[['TableName']],YG1996to2k,on='TableName', how = 'left')\n",
        "#print(\"---\\nSummary Statistics, NorthAmerica (1996-2k)\\n---\\n\",EAP962k['YG1996_2kAvg'].describe())\n",
        "NA0105 = pd.merge( NorthAmerica[['TableName']],YG2001to05,on='TableName', how = 'left')\n",
        "#print(\"---\\nSummary Statistics, NorthAmerica (2001-05)\\n---\\n\",EAP0105['YG2001_05Avg'].describe())\n",
        "NA0610 = pd.merge( NorthAmerica[['TableName']],YG2006to10,on='TableName', how = 'left')\n",
        "#print(\"---\\nSummary Statistics,NorthAmerica (2006-10)\\n---\\n\",EAP0610['YG2006_10Avg'].describe())\n",
        "NA1117 = pd.merge( NorthAmerica[['TableName']],YG2011to17,  on='TableName',  how = 'left')\n",
        "#print(\"---\\nSummary Statistics, NorthAmerica (2011-17)\\n---\\n\",EAP1117['YG2011_17Avg'].describe())\n",
        "\n",
        "#SouthAsia \n",
        "SA8085 = pd.merge( SouthAsia[['TableName']],YG1980to85,on='TableName',how = 'left')\n",
        "#print(\"---\\nSummary Statistics, SouthAsia(1980-85)\\n---\\n\",EAP8085['YG1980_85Avg'].describe())\n",
        "SA8690 = pd.merge( SouthAsia[['TableName']],YG1986to90,on='TableName', how = 'left')\n",
        "#print(\"---\\nSummary Statistics, SouthAsia(1986-90)\\n---\\n\",EAP8690['YG1986_90Avg'].describe())\n",
        "SA9195 = pd.merge( SouthAsia[['TableName']],YG1991to95,on='TableName', how = 'left')\n",
        "#print(\"---\\nSummary Statistics, SouthAsia(1991-95)\\n---\\n\",EAP9195['YG1991_95Avg'].describe())\n",
        "SA962k = pd.merge( SouthAsia[['TableName']],YG1996to2k,on='TableName', how = 'left')\n",
        "#print(\"---\\nSummary Statistics,SouthAsia(1996-2k)\\n---\\n\",EAP962k['YG1996_2kAvg'].describe())\n",
        "SA0105 = pd.merge( SouthAsia[['TableName']],YG2001to05,on='TableName', how = 'left')\n",
        "#print(\"---\\nSummary Statistics, SouthAsia(2001-05)\\n---\\n\",EAP0105['YG2001_05Avg'].describe())\n",
        "SA0610 = pd.merge( SouthAsia[['TableName']],YG2006to10,on='TableName', how = 'left')\n",
        "#print(\"---\\nSummary Statistics, SouthAsia(2006-10)\\n---\\n\",EAP0610['YG2006_10Avg'].describe())\n",
        "SA1117 = pd.merge( SouthAsia[['TableName']],YG2011to17,  on='TableName',  how = 'left')\n",
        "#print(\"---\\nSummary Statistics, SouthAsia(2011-17)\\n---\\n\",EAP1117['YG2011_17Avg'].describe())\n",
        "\n",
        "#SubSahAfrica\n",
        "SSAF8085 = pd.merge( SubSahAfrica[['TableName']],YG1980to85,on='TableName',how = 'left')\n",
        "#print(\"---\\nSummary Statistics, SubSahAfrica(1980-85)\\n---\\n\",EAP8085['YG1980_85Avg'].describe())\n",
        "SSAF8690 = pd.merge( SubSahAfrica[['TableName']],YG1986to90,on='TableName', how = 'left')\n",
        "#print(\"---\\nSummary Statistics,SubSahAfrica(1986-90)\\n---\\n\",EAP8690['YG1986_90Avg'].describe())\n",
        "SSAF9195 = pd.merge( SubSahAfrica[['TableName']],YG1991to95,on='TableName', how = 'left')\n",
        "#print(\"---\\nSummary Statistics, SubSahAfrica(1991-95)\\n---\\n\",EAP9195['YG1991_95Avg'].describe())\n",
        "SSAF962k = pd.merge( SubSahAfrica[['TableName']],YG1996to2k,on='TableName', how = 'left')\n",
        "#print(\"---\\nSummary Statistics, SubSahAfrica(1996-2k)\\n---\\n\",EAP962k['YG1996_2kAvg'].describe())\n",
        "SSAF0105 = pd.merge( SubSahAfrica[['TableName']],YG2001to05,on='TableName', how = 'left')\n",
        "#print(\"---\\nSummary Statistics, SubSahAfrica(2001-05)\\n---\\n\",EAP0105['YG2001_05Avg'].describe())\n",
        "SSAF0610 = pd.merge( SubSahAfrica[['TableName']],YG2006to10,on='TableName', how = 'left')\n",
        "#print(\"---\\nSummary Statistics, SubSahAfrica(2006-10)\\n---\\n\",EAP0610['YG2006_10Avg'].describe())\n",
        "SSAF1117 = pd.merge( SubSahAfrica[['TableName']],YG2011to17,  on='TableName',  how = 'left')\n",
        "#print(\"---\\nSummary Statistics, SubSahAfrica(2011-17)\\n---\\n\",EAP1117['YG2011_17Avg'].describe())"
      ],
      "execution_count": 0,
      "outputs": []
    },
    {
      "metadata": {
        "id": "Z2SIHP2ZdwHz",
        "colab_type": "code",
        "colab": {}
      },
      "cell_type": "code",
      "source": [
        ""
      ],
      "execution_count": 0,
      "outputs": []
    },
    {
      "metadata": {
        "id": "xImOTIMPdwIu",
        "colab_type": "code",
        "outputId": "1b175852-743a-4cc0-de14-5c2ce52743ad",
        "colab": {}
      },
      "cell_type": "code",
      "source": [
        "# We make a new data frame to compare aggregate data of each region \n",
        "#   for their respective year groups.\n",
        "EAPaggdata = {'YG1980_85Avg':[ EAP8085['YG1980_85Avg'].sum()],\n",
        "                     'YG1986_90Avg':[EAP8690['YG1986_90Avg'].sum()],\n",
        "                     'YG1991_95Avg':[EAP9195['YG1991_95Avg'].sum()],\n",
        "                     'YG1996_2kAvg':[EAP962k['YG1996_2kAvg'].sum()],\n",
        "                    'YG2001_05Avg': [EAP0105['YG2001_05Avg'].sum()],\n",
        "                    'YG2006_10Avg': [EAP0610['YG2006_10Avg'].sum()],\n",
        "                     'YG2011_17Avg':[EAP1117['YG2011_17Avg'].sum()]}\n",
        "\n",
        "EAPaggregate_by_yr = pd.DataFrame(data = EAPaggdata)\n",
        "ax = EAPaggregate_by_yr.plot( kind = 'barh',figsize = (12,4), legend = True, title=\"East Asia and Pacific, Cell Subsription by Year Group\")\n",
        "ax.set_xlabel('Total Subscription(in Billions)')\n",
        "ax.set_ylabel('YearGroups')"
      ],
      "execution_count": 0,
      "outputs": [
        {
          "output_type": "execute_result",
          "data": {
            "text/plain": [
              "Text(0,0.5,'YearGroups')"
            ]
          },
          "metadata": {
            "tags": []
          },
          "execution_count": 42
        },
        {
          "output_type": "display_data",
          "data": {
            "image/png": "[encoded data removed]",
            "text/plain": [
              "<Figure size 864x288 with 1 Axes>"
            ]
          },
          "metadata": {
            "tags": []
          }
        }
      ]
    },
    {
      "metadata": {
        "id": "_znuMIa4dwI8",
        "colab_type": "code",
        "outputId": "afbe09ff-1bbe-40d5-94c2-8f2a2c08b715",
        "colab": {}
      },
      "cell_type": "code",
      "source": [
        "EAPaggregate_by_yr"
      ],
      "execution_count": 0,
      "outputs": [
        {
          "output_type": "execute_result",
          "data": {
            "text/html": [
              "<div>\n",
              "<style scoped>\n",
              "    .dataframe tbody tr th:only-of-type {\n",
              "        vertical-align: middle;\n",
              "    }\n",
              "\n",
              "    .dataframe tbody tr th {\n",
              "        vertical-align: top;\n",
              "    }\n",
              "\n",
              "    .dataframe thead th {\n",
              "        text-align: right;\n",
              "    }\n",
              "</style>\n",
              "<table border=\"1\" class=\"dataframe\">\n",
              "  <thead>\n",
              "    <tr style=\"text-align: right;\">\n",
              "      <th></th>\n",
              "      <th>YG1980_85Avg</th>\n",
              "      <th>YG1986_90Avg</th>\n",
              "      <th>YG1991_95Avg</th>\n",
              "      <th>YG1996_2kAvg</th>\n",
              "      <th>YG2001_05Avg</th>\n",
              "      <th>YG2006_10Avg</th>\n",
              "      <th>YG2011_17Avg</th>\n",
              "    </tr>\n",
              "  </thead>\n",
              "  <tbody>\n",
              "    <tr>\n",
              "      <th>0</th>\n",
              "      <td>28608.0</td>\n",
              "      <td>642670.0</td>\n",
              "      <td>9241725.4</td>\n",
              "      <td>117939693.6</td>\n",
              "      <td>504019604.8</td>\n",
              "      <td>1.220106e+09</td>\n",
              "      <td>2.291736e+09</td>\n",
              "    </tr>\n",
              "  </tbody>\n",
              "</table>\n",
              "</div>"
            ],
            "text/plain": [
              "   YG1980_85Avg  YG1986_90Avg  YG1991_95Avg  YG1996_2kAvg  YG2001_05Avg  \\\n",
              "0       28608.0      642670.0     9241725.4   117939693.6   504019604.8   \n",
              "\n",
              "   YG2006_10Avg  YG2011_17Avg  \n",
              "0  1.220106e+09  2.291736e+09  "
            ]
          },
          "metadata": {
            "tags": []
          },
          "execution_count": 16
        }
      ]
    },
    {
      "metadata": {
        "id": "0i-7sU-CdwJK",
        "colab_type": "code",
        "colab": {}
      },
      "cell_type": "code",
      "source": [
        ""
      ],
      "execution_count": 0,
      "outputs": []
    },
    {
      "metadata": {
        "id": "9XH4XokbdwJY",
        "colab_type": "code",
        "colab": {}
      },
      "cell_type": "code",
      "source": [
        "EUCAaggregatedata = {'YG1980_85Avg':[ EUCA8085['YG1980_85Avg'].sum()],\n",
        "                     'YG1986_90Avg':[EUCA8690['YG1986_90Avg'].sum()],\n",
        "                     'YG1991_95Avg':[EUCA9195['YG1991_95Avg'].sum()],\n",
        "                     'YG1996_2kAvg':[EUCA962k['YG1996_2kAvg'].sum()],\n",
        "                    'YG2001_05Avg': [EUCA0105['YG2001_05Avg'].sum()],\n",
        "                    'YG2006_10Avg': [EUCA0610['YG2006_10Avg'].sum()],\n",
        "                     'YG2011_17Avg':[EUCA1117['YG2011_17Avg'].sum()]}\n",
        "EUCAaggregate_by_yr = pd.DataFrame(data = EUCAaggregatedata)\n",
        "\n",
        "LATaggregatedata = {'YG1980_85Avg':[LAT8085['YG1980_85Avg'].sum()],\n",
        "                     'YG1986_90Avg':[LAT8690['YG1986_90Avg'].sum()],\n",
        "                     'YG1991_95Avg':[LAT9195['YG1991_95Avg'].sum()],\n",
        "                     'YG1996_2kAvg':[LAT962k['YG1996_2kAvg'].sum()],\n",
        "                    'YG2001_05Avg': [LAT0105['YG2001_05Avg'].sum()],\n",
        "                    'YG2006_10Avg': [LAT0610['YG2006_10Avg'].sum()],\n",
        "                     'YG2011_17Avg':[LAT1117['YG2011_17Avg'].sum()]}\n",
        "LATaggregate_by_yr = pd.DataFrame(data = LATaggregatedata)\n",
        "\n",
        "MEAFaggregatedata = {'YG1980_85Avg':[ MEAF8085['YG1980_85Avg'].sum()],\n",
        "                     'YG1986_90Avg':[MEAF8690['YG1986_90Avg'].sum()],\n",
        "                     'YG1991_95Avg':[MEAF9195['YG1991_95Avg'].sum()],\n",
        "                     'YG1996_2kAvg':[MEAF962k['YG1996_2kAvg'].sum()],\n",
        "                    'YG2001_05Avg': [MEAF0105['YG2001_05Avg'].sum()],\n",
        "                    'YG2006_10Avg': [MEAF0610['YG2006_10Avg'].sum()],\n",
        "                     'YG2011_17Avg':[MEAF1117['YG2011_17Avg'].sum()]}\n",
        "MEAFaggregate_by_yr = pd.DataFrame(data = MEAFaggregatedata)\n",
        "\n",
        "NAaggregatedata = {'YG1980_85Avg':[ NA8085['YG1980_85Avg'].sum()],\n",
        "                     'YG1986_90Avg':[NA8690['YG1986_90Avg'].sum()],\n",
        "                     'YG1991_95Avg':[NA9195['YG1991_95Avg'].sum()],\n",
        "                     'YG1996_2kAvg':[NA962k['YG1996_2kAvg'].sum()],\n",
        "                    'YG2001_05Avg': [NA0105['YG2001_05Avg'].sum()],\n",
        "                    'YG2006_10Avg': [NA0610['YG2006_10Avg'].sum()],\n",
        "                     'YG2011_17Avg':[NA1117['YG2011_17Avg'].sum()]}\n",
        "NAaggregate_by_yr = pd.DataFrame(data = NAaggregatedata)\n",
        "\n",
        "SAaggregatedata = {'YG1980_85Avg':[ SA8085['YG1980_85Avg'].sum()],\n",
        "                     'YG1986_90Avg':[SA8690['YG1986_90Avg'].sum()],\n",
        "                     'YG1991_95Avg':[SA9195['YG1991_95Avg'].sum()],\n",
        "                     'YG1996_2kAvg':[SA962k['YG1996_2kAvg'].sum()],\n",
        "                    'YG2001_05Avg': [SA0105['YG2001_05Avg'].sum()],\n",
        "                    'YG2006_10Avg': [SA0610['YG2006_10Avg'].sum()],\n",
        "                     'YG2011_17Avg':[SA1117['YG2011_17Avg'].sum()]}\n",
        "SAaggregate_by_yr = pd.DataFrame(data = SAaggregatedata)\n",
        "\n",
        "SSAFaggregatedata = {'YG1980_85Avg':[ SSAF8085['YG1980_85Avg'].sum()],\n",
        "                     'YG1986_90Avg':[SSAF8690['YG1986_90Avg'].sum()],\n",
        "                     'YG1991_95Avg':[SSAF9195['YG1991_95Avg'].sum()],\n",
        "                     'YG1996_2kAvg':[SSAF962k['YG1996_2kAvg'].sum()],\n",
        "                    'YG2001_05Avg': [SSAF0105['YG2001_05Avg'].sum()],\n",
        "                    'YG2006_10Avg': [SSAF0610['YG2006_10Avg'].sum()],\n",
        "                     'YG2011_17Avg':[SSAF1117['YG2011_17Avg'].sum()]}\n",
        "SSAFaggregate_by_yr = pd.DataFrame(data = SSAFaggregatedata)"
      ],
      "execution_count": 0,
      "outputs": []
    },
    {
      "metadata": {
        "scrolled": true,
        "id": "3NUwmiZadwJg",
        "colab_type": "code",
        "colab": {}
      },
      "cell_type": "code",
      "source": [
        "#EUCAaggregate_by_yr.plot(kind='barh',title=\"Europe-Central Asia, Cell Subsription by Year Group\")"
      ],
      "execution_count": 0,
      "outputs": []
    },
    {
      "metadata": {
        "id": "Bmz8aQZ5dwJ3",
        "colab_type": "code",
        "outputId": "c73c3428-5937-4a64-ae08-e895037f18d7",
        "colab": {}
      },
      "cell_type": "code",
      "source": [
        "EUCAaggregate_by_yr"
      ],
      "execution_count": 0,
      "outputs": [
        {
          "output_type": "execute_result",
          "data": {
            "text/html": [
              "<div>\n",
              "<style scoped>\n",
              "    .dataframe tbody tr th:only-of-type {\n",
              "        vertical-align: middle;\n",
              "    }\n",
              "\n",
              "    .dataframe tbody tr th {\n",
              "        vertical-align: top;\n",
              "    }\n",
              "\n",
              "    .dataframe thead th {\n",
              "        text-align: right;\n",
              "    }\n",
              "</style>\n",
              "<table border=\"1\" class=\"dataframe\">\n",
              "  <thead>\n",
              "    <tr style=\"text-align: right;\">\n",
              "      <th></th>\n",
              "      <th>YG1980_85Avg</th>\n",
              "      <th>YG1986_90Avg</th>\n",
              "      <th>YG1991_95Avg</th>\n",
              "      <th>YG1996_2kAvg</th>\n",
              "      <th>YG2001_05Avg</th>\n",
              "      <th>YG2006_10Avg</th>\n",
              "      <th>YG2011_17Avg</th>\n",
              "    </tr>\n",
              "  </thead>\n",
              "  <tbody>\n",
              "    <tr>\n",
              "      <th>0</th>\n",
              "      <td>128840.833333</td>\n",
              "      <td>1808510.0</td>\n",
              "      <td>11902856.2</td>\n",
              "      <td>135124486.6</td>\n",
              "      <td>504855184.0</td>\n",
              "      <td>981933875.6</td>\n",
              "      <td>1.112111e+09</td>\n",
              "    </tr>\n",
              "  </tbody>\n",
              "</table>\n",
              "</div>"
            ],
            "text/plain": [
              "    YG1980_85Avg  YG1986_90Avg  YG1991_95Avg  YG1996_2kAvg  YG2001_05Avg  \\\n",
              "0  128840.833333     1808510.0    11902856.2   135124486.6   504855184.0   \n",
              "\n",
              "   YG2006_10Avg  YG2011_17Avg  \n",
              "0   981933875.6  1.112111e+09  "
            ]
          },
          "metadata": {
            "tags": []
          },
          "execution_count": 19
        }
      ]
    },
    {
      "metadata": {
        "id": "K6UT3xf6dwKI",
        "colab_type": "code",
        "colab": {}
      },
      "cell_type": "code",
      "source": [
        "#LATaggregate_by_yr.plot(kind='barh',title=\"Latin America, Cell Subsription by Year Group\")"
      ],
      "execution_count": 0,
      "outputs": []
    },
    {
      "metadata": {
        "id": "daymBf38dwKQ",
        "colab_type": "code",
        "outputId": "2a1c1cad-cd13-4f93-dddf-a736bbddae92",
        "colab": {}
      },
      "cell_type": "code",
      "source": [
        "LATaggregate_by_yr"
      ],
      "execution_count": 0,
      "outputs": [
        {
          "output_type": "execute_result",
          "data": {
            "text/html": [
              "<div>\n",
              "<style scoped>\n",
              "    .dataframe tbody tr th:only-of-type {\n",
              "        vertical-align: middle;\n",
              "    }\n",
              "\n",
              "    .dataframe tbody tr th {\n",
              "        vertical-align: top;\n",
              "    }\n",
              "\n",
              "    .dataframe thead th {\n",
              "        text-align: right;\n",
              "    }\n",
              "</style>\n",
              "<table border=\"1\" class=\"dataframe\">\n",
              "  <thead>\n",
              "    <tr style=\"text-align: right;\">\n",
              "      <th></th>\n",
              "      <th>YG1980_85Avg</th>\n",
              "      <th>YG1986_90Avg</th>\n",
              "      <th>YG1991_95Avg</th>\n",
              "      <th>YG1996_2kAvg</th>\n",
              "      <th>YG2001_05Avg</th>\n",
              "      <th>YG2006_10Avg</th>\n",
              "      <th>YG2011_17Avg</th>\n",
              "    </tr>\n",
              "  </thead>\n",
              "  <tbody>\n",
              "    <tr>\n",
              "      <th>0</th>\n",
              "      <td>0.0</td>\n",
              "      <td>34474.8</td>\n",
              "      <td>1652807.4</td>\n",
              "      <td>28907009.4</td>\n",
              "      <td>145641119.0</td>\n",
              "      <td>447465437.6</td>\n",
              "      <td>6.847087e+08</td>\n",
              "    </tr>\n",
              "  </tbody>\n",
              "</table>\n",
              "</div>"
            ],
            "text/plain": [
              "   YG1980_85Avg  YG1986_90Avg  YG1991_95Avg  YG1996_2kAvg  YG2001_05Avg  \\\n",
              "0           0.0       34474.8     1652807.4    28907009.4   145641119.0   \n",
              "\n",
              "   YG2006_10Avg  YG2011_17Avg  \n",
              "0   447465437.6  6.847087e+08  "
            ]
          },
          "metadata": {
            "tags": []
          },
          "execution_count": 21
        }
      ]
    },
    {
      "metadata": {
        "id": "3ScHC-SmdwKc",
        "colab_type": "code",
        "colab": {}
      },
      "cell_type": "code",
      "source": [
        "#MEAFaggregate_by_yr.plot(kind='barh',title=\"Middle East and Africa, Cell Subsription by Year Group\")"
      ],
      "execution_count": 0,
      "outputs": []
    },
    {
      "metadata": {
        "id": "oDT7bpqvdwKg",
        "colab_type": "code",
        "outputId": "b9be24a5-a519-4d5d-c5ba-a0cf384c23f6",
        "colab": {}
      },
      "cell_type": "code",
      "source": [
        "MEAFaggregate_by_yr"
      ],
      "execution_count": 0,
      "outputs": [
        {
          "output_type": "execute_result",
          "data": {
            "text/html": [
              "<div>\n",
              "<style scoped>\n",
              "    .dataframe tbody tr th:only-of-type {\n",
              "        vertical-align: middle;\n",
              "    }\n",
              "\n",
              "    .dataframe tbody tr th {\n",
              "        vertical-align: top;\n",
              "    }\n",
              "\n",
              "    .dataframe thead th {\n",
              "        text-align: right;\n",
              "    }\n",
              "</style>\n",
              "<table border=\"1\" class=\"dataframe\">\n",
              "  <thead>\n",
              "    <tr style=\"text-align: right;\">\n",
              "      <th></th>\n",
              "      <th>YG1980_85Avg</th>\n",
              "      <th>YG1986_90Avg</th>\n",
              "      <th>YG1991_95Avg</th>\n",
              "      <th>YG1996_2kAvg</th>\n",
              "      <th>YG2001_05Avg</th>\n",
              "      <th>YG2006_10Avg</th>\n",
              "      <th>YG2011_17Avg</th>\n",
              "    </tr>\n",
              "  </thead>\n",
              "  <tbody>\n",
              "    <tr>\n",
              "      <th>0</th>\n",
              "      <td>3134.333333</td>\n",
              "      <td>51320.8</td>\n",
              "      <td>400685.8</td>\n",
              "      <td>6509971.6</td>\n",
              "      <td>52642964.4</td>\n",
              "      <td>252358932.2</td>\n",
              "      <td>4.399310e+08</td>\n",
              "    </tr>\n",
              "  </tbody>\n",
              "</table>\n",
              "</div>"
            ],
            "text/plain": [
              "   YG1980_85Avg  YG1986_90Avg  YG1991_95Avg  YG1996_2kAvg  YG2001_05Avg  \\\n",
              "0   3134.333333       51320.8      400685.8     6509971.6    52642964.4   \n",
              "\n",
              "   YG2006_10Avg  YG2011_17Avg  \n",
              "0   252358932.2  4.399310e+08  "
            ]
          },
          "metadata": {
            "tags": []
          },
          "execution_count": 23
        }
      ]
    },
    {
      "metadata": {
        "id": "jw7PlsJMdwKr",
        "colab_type": "code",
        "colab": {}
      },
      "cell_type": "code",
      "source": [
        "#NAaggregate_by_yr.plot(kind='barh',title=\"North America, Cell Subsription by Year Group\")"
      ],
      "execution_count": 0,
      "outputs": []
    },
    {
      "metadata": {
        "id": "GnmyKqYzdwK1",
        "colab_type": "code",
        "outputId": "e9f3c435-13f9-4649-88f7-686a808dd9ce",
        "colab": {}
      },
      "cell_type": "code",
      "source": [
        "NAaggregate_by_yr"
      ],
      "execution_count": 0,
      "outputs": [
        {
          "output_type": "execute_result",
          "data": {
            "text/html": [
              "<div>\n",
              "<style scoped>\n",
              "    .dataframe tbody tr th:only-of-type {\n",
              "        vertical-align: middle;\n",
              "    }\n",
              "\n",
              "    .dataframe tbody tr th {\n",
              "        vertical-align: top;\n",
              "    }\n",
              "\n",
              "    .dataframe thead th {\n",
              "        text-align: right;\n",
              "    }\n",
              "</style>\n",
              "<table border=\"1\" class=\"dataframe\">\n",
              "  <thead>\n",
              "    <tr style=\"text-align: right;\">\n",
              "      <th></th>\n",
              "      <th>YG1980_85Avg</th>\n",
              "      <th>YG1986_90Avg</th>\n",
              "      <th>YG1991_95Avg</th>\n",
              "      <th>YG1996_2kAvg</th>\n",
              "      <th>YG2001_05Avg</th>\n",
              "      <th>YG2006_10Avg</th>\n",
              "      <th>YG2011_17Avg</th>\n",
              "    </tr>\n",
              "  </thead>\n",
              "  <tbody>\n",
              "    <tr>\n",
              "      <th>0</th>\n",
              "      <td>73968.833333</td>\n",
              "      <td>2813183.6</td>\n",
              "      <td>20025730.8</td>\n",
              "      <td>78564617.0</td>\n",
              "      <td>177497930.6</td>\n",
              "      <td>282147720.0</td>\n",
              "      <td>3.780865e+08</td>\n",
              "    </tr>\n",
              "  </tbody>\n",
              "</table>\n",
              "</div>"
            ],
            "text/plain": [
              "   YG1980_85Avg  YG1986_90Avg  YG1991_95Avg  YG1996_2kAvg  YG2001_05Avg  \\\n",
              "0  73968.833333     2813183.6    20025730.8    78564617.0   177497930.6   \n",
              "\n",
              "   YG2006_10Avg  YG2011_17Avg  \n",
              "0   282147720.0  3.780865e+08  "
            ]
          },
          "metadata": {
            "tags": []
          },
          "execution_count": 25
        }
      ]
    },
    {
      "metadata": {
        "id": "a8WiWCJ4dwMN",
        "colab_type": "code",
        "colab": {}
      },
      "cell_type": "code",
      "source": [
        "#SAaggregate_by_yr.plot(kind='barh',title=\"SouthAsia, Cell Subsription by Year Group\")"
      ],
      "execution_count": 0,
      "outputs": []
    },
    {
      "metadata": {
        "id": "Y6O8z9oYdwMT",
        "colab_type": "code",
        "outputId": "e5730731-bd53-4e59-f3f6-f4684994fa3b",
        "colab": {}
      },
      "cell_type": "code",
      "source": [
        "SAaggregate_by_yr"
      ],
      "execution_count": 0,
      "outputs": [
        {
          "output_type": "execute_result",
          "data": {
            "text/html": [
              "<div>\n",
              "<style scoped>\n",
              "    .dataframe tbody tr th:only-of-type {\n",
              "        vertical-align: middle;\n",
              "    }\n",
              "\n",
              "    .dataframe tbody tr th {\n",
              "        vertical-align: top;\n",
              "    }\n",
              "\n",
              "    .dataframe thead th {\n",
              "        text-align: right;\n",
              "    }\n",
              "</style>\n",
              "<table border=\"1\" class=\"dataframe\">\n",
              "  <thead>\n",
              "    <tr style=\"text-align: right;\">\n",
              "      <th></th>\n",
              "      <th>YG1980_85Avg</th>\n",
              "      <th>YG1986_90Avg</th>\n",
              "      <th>YG1991_95Avg</th>\n",
              "      <th>YG1996_2kAvg</th>\n",
              "      <th>YG2001_05Avg</th>\n",
              "      <th>YG2006_10Avg</th>\n",
              "      <th>YG2011_17Avg</th>\n",
              "    </tr>\n",
              "  </thead>\n",
              "  <tbody>\n",
              "    <tr>\n",
              "      <th>0</th>\n",
              "      <td>0.0</td>\n",
              "      <td>602.0</td>\n",
              "      <td>56857.8</td>\n",
              "      <td>2089412.4</td>\n",
              "      <td>48905652.0</td>\n",
              "      <td>548146285.6</td>\n",
              "      <td>1.298625e+09</td>\n",
              "    </tr>\n",
              "  </tbody>\n",
              "</table>\n",
              "</div>"
            ],
            "text/plain": [
              "   YG1980_85Avg  YG1986_90Avg  YG1991_95Avg  YG1996_2kAvg  YG2001_05Avg  \\\n",
              "0           0.0         602.0       56857.8     2089412.4    48905652.0   \n",
              "\n",
              "   YG2006_10Avg  YG2011_17Avg  \n",
              "0   548146285.6  1.298625e+09  "
            ]
          },
          "metadata": {
            "tags": []
          },
          "execution_count": 27
        }
      ]
    },
    {
      "metadata": {
        "id": "Myrs6J0FdwMj",
        "colab_type": "code",
        "colab": {}
      },
      "cell_type": "code",
      "source": [
        "#SSAFaggregate_by_yr.plot(kind='barh',title=\"SubSahara Africa, Cell Subsription by Year Group\")"
      ],
      "execution_count": 0,
      "outputs": []
    },
    {
      "metadata": {
        "id": "7EcoORhodwRv",
        "colab_type": "code",
        "outputId": "abd4a3b4-709e-4ade-ee94-4bc01df380e6",
        "colab": {}
      },
      "cell_type": "code",
      "source": [
        "SSAFaggregate_by_yr"
      ],
      "execution_count": 0,
      "outputs": [
        {
          "output_type": "execute_result",
          "data": {
            "text/html": [
              "<div>\n",
              "<style scoped>\n",
              "    .dataframe tbody tr th:only-of-type {\n",
              "        vertical-align: middle;\n",
              "    }\n",
              "\n",
              "    .dataframe tbody tr th {\n",
              "        vertical-align: top;\n",
              "    }\n",
              "\n",
              "    .dataframe thead th {\n",
              "        text-align: right;\n",
              "    }\n",
              "</style>\n",
              "<table border=\"1\" class=\"dataframe\">\n",
              "  <thead>\n",
              "    <tr style=\"text-align: right;\">\n",
              "      <th></th>\n",
              "      <th>YG1980_85Avg</th>\n",
              "      <th>YG1986_90Avg</th>\n",
              "      <th>YG1991_95Avg</th>\n",
              "      <th>YG1996_2kAvg</th>\n",
              "      <th>YG2001_05Avg</th>\n",
              "      <th>YG2006_10Avg</th>\n",
              "      <th>YG2011_17Avg</th>\n",
              "    </tr>\n",
              "  </thead>\n",
              "  <tbody>\n",
              "    <tr>\n",
              "      <th>0</th>\n",
              "      <td>0.0</td>\n",
              "      <td>2372.0</td>\n",
              "      <td>212092.4</td>\n",
              "      <td>4991042.0</td>\n",
              "      <td>44482755.6</td>\n",
              "      <td>257180970.2</td>\n",
              "      <td>6.494671e+08</td>\n",
              "    </tr>\n",
              "  </tbody>\n",
              "</table>\n",
              "</div>"
            ],
            "text/plain": [
              "   YG1980_85Avg  YG1986_90Avg  YG1991_95Avg  YG1996_2kAvg  YG2001_05Avg  \\\n",
              "0           0.0        2372.0      212092.4     4991042.0    44482755.6   \n",
              "\n",
              "   YG2006_10Avg  YG2011_17Avg  \n",
              "0   257180970.2  6.494671e+08  "
            ]
          },
          "metadata": {
            "tags": []
          },
          "execution_count": 29
        }
      ]
    },
    {
      "metadata": {
        "id": "ufQD-Ng1dwR7",
        "colab_type": "code",
        "colab": {}
      },
      "cell_type": "code",
      "source": [
        ""
      ],
      "execution_count": 0,
      "outputs": []
    },
    {
      "metadata": {
        "scrolled": true,
        "id": "jhvvHRaydwSA",
        "colab_type": "code",
        "outputId": "b5c87bf8-c5a3-424d-d932-bc20461b37f6",
        "colab": {}
      },
      "cell_type": "code",
      "source": [
        "# Creating Dataframes by  YearGroups to compare the Regions\n",
        "\n",
        "d1 ={'EAP':[EAP8085['YG1980_85Avg'].sum()],\n",
        "    'EUAC':[EUCA8085['YG1980_85Avg'].sum()],\n",
        "    'LAT':[LAT8085['YG1980_85Avg'].sum()],\n",
        "    'MEAF':[MEAF8085['YG1980_85Avg'].sum()],\n",
        "    'NA':[NA8085['YG1980_85Avg'].sum()],\n",
        "    'SA':[SA8085['YG1980_85Avg'].sum()],\n",
        "    'SSAF':[SSAF8085['YG1980_85Avg'].sum()]}\n",
        "dff1 = pd.DataFrame(data = d1)\n",
        "fig = dff1.plot(kind='bar',title =\"Cell Subscription by Region, Year 1980-1985\")\n",
        "fig.set_xlabel('Regions')\n",
        "fig.set_ylabel('Total Subscription')"
      ],
      "execution_count": 0,
      "outputs": [
        {
          "output_type": "execute_result",
          "data": {
            "text/plain": [
              "Text(0,0.5,'Total Subscription')"
            ]
          },
          "metadata": {
            "tags": []
          },
          "execution_count": 30
        },
        {
          "output_type": "display_data",
          "data": {
            "image/png": "[encoded data removed]",
            "text/plain": [
              "<Figure size 432x288 with 1 Axes>"
            ]
          },
          "metadata": {
            "tags": []
          }
        }
      ]
    },
    {
      "metadata": {
        "id": "_iShALcwdwSL",
        "colab_type": "code",
        "outputId": "96841796-a1a8-43f0-be4f-76c2707062fb",
        "colab": {}
      },
      "cell_type": "code",
      "source": [
        "dff1\n",
        "#dff1.drop(['NA','EUAC',],axis =1).plot(kind='bar')"
      ],
      "execution_count": 0,
      "outputs": [
        {
          "output_type": "execute_result",
          "data": {
            "text/html": [
              "<div>\n",
              "<style scoped>\n",
              "    .dataframe tbody tr th:only-of-type {\n",
              "        vertical-align: middle;\n",
              "    }\n",
              "\n",
              "    .dataframe tbody tr th {\n",
              "        vertical-align: top;\n",
              "    }\n",
              "\n",
              "    .dataframe thead th {\n",
              "        text-align: right;\n",
              "    }\n",
              "</style>\n",
              "<table border=\"1\" class=\"dataframe\">\n",
              "  <thead>\n",
              "    <tr style=\"text-align: right;\">\n",
              "      <th></th>\n",
              "      <th>EAP</th>\n",
              "      <th>EUAC</th>\n",
              "      <th>LAT</th>\n",
              "      <th>MEAF</th>\n",
              "      <th>NA</th>\n",
              "      <th>SA</th>\n",
              "      <th>SSAF</th>\n",
              "    </tr>\n",
              "  </thead>\n",
              "  <tbody>\n",
              "    <tr>\n",
              "      <th>0</th>\n",
              "      <td>28608.0</td>\n",
              "      <td>128840.833333</td>\n",
              "      <td>0.0</td>\n",
              "      <td>3134.333333</td>\n",
              "      <td>73968.833333</td>\n",
              "      <td>0.0</td>\n",
              "      <td>0.0</td>\n",
              "    </tr>\n",
              "  </tbody>\n",
              "</table>\n",
              "</div>"
            ],
            "text/plain": [
              "       EAP           EUAC  LAT         MEAF            NA   SA  SSAF\n",
              "0  28608.0  128840.833333  0.0  3134.333333  73968.833333  0.0   0.0"
            ]
          },
          "metadata": {
            "tags": []
          },
          "execution_count": 31
        }
      ]
    },
    {
      "metadata": {
        "id": "CBDPOU0zdwSU",
        "colab_type": "code",
        "colab": {}
      },
      "cell_type": "code",
      "source": [
        "d2 ={'EAP':[EAP8690['YG1986_90Avg'].sum()],\n",
        "    'EUAC':[EUCA8690['YG1986_90Avg'].sum()],\n",
        "    'LAT':[LAT8690['YG1986_90Avg'].sum()],\n",
        "    'MEAF':[MEAF8690['YG1986_90Avg'].sum()],\n",
        "    'NA':[NA8690['YG1986_90Avg'].sum()],\n",
        "    'SA':[SA8690['YG1986_90Avg'].sum()],\n",
        "    'SSAF':[SSAF8690['YG1986_90Avg'].sum()]}\n",
        "dff2 = pd.DataFrame(data = d2)\n",
        "#dff2.plot(kind='bar',title =\"Cell Subscription by Region, Year 1986-1990\")"
      ],
      "execution_count": 0,
      "outputs": []
    },
    {
      "metadata": {
        "id": "5TfG1y9LdwSY",
        "colab_type": "code",
        "outputId": "97d67719-331e-4ee8-ba3a-2ef0f00abc9e",
        "colab": {}
      },
      "cell_type": "code",
      "source": [
        "dff2"
      ],
      "execution_count": 0,
      "outputs": [
        {
          "output_type": "execute_result",
          "data": {
            "text/html": [
              "<div>\n",
              "<style scoped>\n",
              "    .dataframe tbody tr th:only-of-type {\n",
              "        vertical-align: middle;\n",
              "    }\n",
              "\n",
              "    .dataframe tbody tr th {\n",
              "        vertical-align: top;\n",
              "    }\n",
              "\n",
              "    .dataframe thead th {\n",
              "        text-align: right;\n",
              "    }\n",
              "</style>\n",
              "<table border=\"1\" class=\"dataframe\">\n",
              "  <thead>\n",
              "    <tr style=\"text-align: right;\">\n",
              "      <th></th>\n",
              "      <th>EAP</th>\n",
              "      <th>EUAC</th>\n",
              "      <th>LAT</th>\n",
              "      <th>MEAF</th>\n",
              "      <th>NA</th>\n",
              "      <th>SA</th>\n",
              "      <th>SSAF</th>\n",
              "    </tr>\n",
              "  </thead>\n",
              "  <tbody>\n",
              "    <tr>\n",
              "      <th>0</th>\n",
              "      <td>642670.0</td>\n",
              "      <td>1808510.0</td>\n",
              "      <td>34474.8</td>\n",
              "      <td>51320.8</td>\n",
              "      <td>2813183.6</td>\n",
              "      <td>602.0</td>\n",
              "      <td>2372.0</td>\n",
              "    </tr>\n",
              "  </tbody>\n",
              "</table>\n",
              "</div>"
            ],
            "text/plain": [
              "        EAP       EUAC      LAT     MEAF         NA     SA    SSAF\n",
              "0  642670.0  1808510.0  34474.8  51320.8  2813183.6  602.0  2372.0"
            ]
          },
          "metadata": {
            "tags": []
          },
          "execution_count": 33
        }
      ]
    },
    {
      "metadata": {
        "id": "whfCQaLYdwSf",
        "colab_type": "code",
        "colab": {}
      },
      "cell_type": "code",
      "source": [
        "#dff.drop(['NA'],axis =1).plot(kind='bar')"
      ],
      "execution_count": 0,
      "outputs": []
    },
    {
      "metadata": {
        "id": "s-ovebYsdwSk",
        "colab_type": "code",
        "outputId": "d2cb6e26-0198-4665-8b83-e071720fca9d",
        "colab": {}
      },
      "cell_type": "code",
      "source": [
        "d3={'EAP':[EAP0105['YG2001_05Avg'].sum()],\n",
        "    'EUAC':[EUCA0105['YG2001_05Avg'].sum()],\n",
        "    'LAT':[LAT0105['YG2001_05Avg'].sum()],\n",
        "    'MEAF':[MEAF0105['YG2001_05Avg'].sum()],\n",
        "    'NA':[NA0105['YG2001_05Avg'].sum()],\n",
        "    'SA':[SA0105['YG2001_05Avg'].sum()],\n",
        "    'SSAF':[SSAF0105['YG2001_05Avg'].sum()]}\n",
        "dff3 = pd.DataFrame(data = d3)\n",
        "fig = dff3.plot(kind='bar',title =\"Cell Subscription by Region, Year 2001 - 2005\")\n",
        "fig.set_xlabel('Regions')\n",
        "fig.set_ylabel('Total Subscription(x100millions)')"
      ],
      "execution_count": 0,
      "outputs": [
        {
          "output_type": "execute_result",
          "data": {
            "text/plain": [
              "Text(0,0.5,'Total Subscription(x100millions)')"
            ]
          },
          "metadata": {
            "tags": []
          },
          "execution_count": 35
        },
        {
          "output_type": "display_data",
          "data": {
            "image/png": "[encoded data removed]",
            "text/plain": [
              "<Figure size 432x288 with 1 Axes>"
            ]
          },
          "metadata": {
            "tags": []
          }
        }
      ]
    },
    {
      "metadata": {
        "id": "JPz6GwgBdwSq",
        "colab_type": "code",
        "outputId": "71d81ba1-bebd-48f0-935f-b51b41b1284a",
        "colab": {}
      },
      "cell_type": "code",
      "source": [
        "dff3"
      ],
      "execution_count": 0,
      "outputs": [
        {
          "output_type": "execute_result",
          "data": {
            "text/html": [
              "<div>\n",
              "<style scoped>\n",
              "    .dataframe tbody tr th:only-of-type {\n",
              "        vertical-align: middle;\n",
              "    }\n",
              "\n",
              "    .dataframe tbody tr th {\n",
              "        vertical-align: top;\n",
              "    }\n",
              "\n",
              "    .dataframe thead th {\n",
              "        text-align: right;\n",
              "    }\n",
              "</style>\n",
              "<table border=\"1\" class=\"dataframe\">\n",
              "  <thead>\n",
              "    <tr style=\"text-align: right;\">\n",
              "      <th></th>\n",
              "      <th>EAP</th>\n",
              "      <th>EUAC</th>\n",
              "      <th>LAT</th>\n",
              "      <th>MEAF</th>\n",
              "      <th>NA</th>\n",
              "      <th>SA</th>\n",
              "      <th>SSAF</th>\n",
              "    </tr>\n",
              "  </thead>\n",
              "  <tbody>\n",
              "    <tr>\n",
              "      <th>0</th>\n",
              "      <td>504019604.8</td>\n",
              "      <td>504855184.0</td>\n",
              "      <td>145641119.0</td>\n",
              "      <td>52642964.4</td>\n",
              "      <td>177497930.6</td>\n",
              "      <td>48905652.0</td>\n",
              "      <td>44482755.6</td>\n",
              "    </tr>\n",
              "  </tbody>\n",
              "</table>\n",
              "</div>"
            ],
            "text/plain": [
              "           EAP         EUAC          LAT        MEAF           NA          SA  \\\n",
              "0  504019604.8  504855184.0  145641119.0  52642964.4  177497930.6  48905652.0   \n",
              "\n",
              "         SSAF  \n",
              "0  44482755.6  "
            ]
          },
          "metadata": {
            "tags": []
          },
          "execution_count": 36
        }
      ]
    },
    {
      "metadata": {
        "id": "zTcOT1ZkdwSy",
        "colab_type": "code",
        "colab": {}
      },
      "cell_type": "code",
      "source": [
        "d4={'EAP':[EAP0610['YG2006_10Avg'].sum()],\n",
        "    'EUAC':[EUCA0610['YG2006_10Avg'].sum()],\n",
        "    'LAT':[LAT0610['YG2006_10Avg'].sum()],\n",
        "    'MEAF':[MEAF0610['YG2006_10Avg'].sum()],\n",
        "    'NA':[NA0610['YG2006_10Avg'].sum()],\n",
        "    'SA':[SA0610['YG2006_10Avg'].sum()],\n",
        "    'SSAF':[SSAF0610['YG2006_10Avg'].sum()]}\n",
        "dff4 = pd.DataFrame(data = d4)\n",
        "#dff4.plot(kind='bar',title =\"Cell Subscription by Region, Year 1986-1990\")"
      ],
      "execution_count": 0,
      "outputs": []
    },
    {
      "metadata": {
        "scrolled": true,
        "id": "c2ON98pfdwS9",
        "colab_type": "code",
        "outputId": "e84318f3-885b-4c33-d633-9048a2ccbb8c",
        "colab": {}
      },
      "cell_type": "code",
      "source": [
        "d5={'EAP':[EAP1117['YG2011_17Avg'].sum()],\n",
        "    'EUAC':[EUCA1117['YG2011_17Avg'].sum()],\n",
        "    'LAT':[LAT1117['YG2011_17Avg'].sum()],\n",
        "    'MEAF':[MEAF1117['YG2011_17Avg'].sum()],\n",
        "    'NA':[NA1117['YG2011_17Avg'].sum()],\n",
        "    'SA':[SA1117['YG2011_17Avg'].sum()],\n",
        "    'SSAF':[SSAF1117['YG2011_17Avg'].sum()]}\n",
        "dff5 = pd.DataFrame(data = d5)\n",
        "fig = dff5.plot.bar(title =\"Cell Subscription by Region, Year 2011 - 2017\")\n",
        "fig.set_xlabel('Regions')\n",
        "fig.set_ylabel('Total Subscription(in billions)')"
      ],
      "execution_count": 0,
      "outputs": [
        {
          "output_type": "execute_result",
          "data": {
            "text/plain": [
              "Text(0,0.5,'Total Subscription(in billions)')"
            ]
          },
          "metadata": {
            "tags": []
          },
          "execution_count": 38
        },
        {
          "output_type": "display_data",
          "data": {
            "image/png": "[encoded data removed]",
            "text/plain": [
              "<Figure size 432x288 with 1 Axes>"
            ]
          },
          "metadata": {
            "tags": []
          }
        }
      ]
    },
    {
      "metadata": {
        "id": "jtvKLIwudwTQ",
        "colab_type": "code",
        "colab": {}
      },
      "cell_type": "code",
      "source": [
        "#DECIDING WHICH COUNTRIES IN EACH REGION HAS HIGHEST MOBILE SUBSCRIPTION \n",
        "\n",
        "#EuropeCAsia\n",
        "#EuropeCAsia = EuropeCAsia[(EuropeCAsia.TableName != 'United Kingdom')]\n",
        "#EuropeCAsia = EuropeCAsia[(EuropeCAsia.TableName != 'Sweden')]\n",
        "#EuropeCAsia['1989'].argmax()\n",
        "\n",
        "# Summary: In 1989, UK has the highest cell cellscription :2nd Sweden /3rd Finland\n",
        "# In 2017, Russia(227341873) Germany(106000000), Italy(83871543), UK (79173658)\n",
        "#EAsiaPacific (Region with highest Subscription)\n",
        "#Code : \n",
        "#EAsiaPacific = EAsiaPacific[(EAsiaPacific.TableName != 'China')]\n",
        "#EAsiaPacific = EAsiaPacific[(EAsiaPacific.TableName != 'Japan')]\n",
        "#EAsiaPacific['2017'].argmax()\n",
        "\n",
        "#Summary:\n",
        "#1989 : Japan (489558) Australia (94529) Hong Kong (89193)\n",
        "#2000 : China (85260000 ) Japan (66784374) Korea (26816398)\n",
        "#2017: China(1474097000) Indonesia(458923202)Japan(170128499)Thailand(121530000)\n",
        "\n",
        "#LatinAmerica\n",
        "#Code :\n",
        "#LatinAmerica['2017'].argmax()\n",
        "#Summary:\n",
        "#      2017: Brazil 236488548\n",
        "\n",
        "#NorthAmerica\n",
        "#Summary:\n",
        "#      2017 : US (395881000) Canada (31458600)\n",
        "#      2017 : India(1168902277)"
      ],
      "execution_count": 0,
      "outputs": []
    },
    {
      "metadata": {
        "id": "1Xg9rColdwTX",
        "colab_type": "code",
        "colab": {}
      },
      "cell_type": "code",
      "source": [
        ""
      ],
      "execution_count": 0,
      "outputs": []
    },
    {
      "metadata": {
        "id": "xlaMBIK4dwTf",
        "colab_type": "code",
        "outputId": "51576d0c-7211-4d29-c954-439a4b03ee15",
        "colab": {}
      },
      "cell_type": "code",
      "source": [
        "# Dataframe for Countries with high Subscription Rate in East Asia/ Pacific Region \n",
        "#  (comparing with countries from second and third highest subscribed Regions)\n",
        "\n",
        "d={ 'India' :1168902277,\n",
        "   'China':1474097000,\n",
        "   'Indonesia':458923202,\n",
        "   'Japan':170128499,\n",
        "   'Thailand':121530000,\n",
        "   'Russia' : 227341873,\n",
        "  #'Germany' : 106000000,\n",
        "  # 'Italy' : 83871543,\n",
        "  # 'UK' : 79173658,\n",
        "    'US' :395881000,\n",
        "  #  'Canada' :31458600,\n",
        "  # 'Brazil': 236488548,\n",
        "  }\n",
        "dff = pd.DataFrame(data = d, index=[0])\n",
        "ax = dff.plot.bar(title =\"Cell Subscription in 2017, Countries comparison\")\n",
        "ax.set_xlabel('Countries')\n",
        "ax.set_ylabel('Total Subcription(in billions)')"
      ],
      "execution_count": 0,
      "outputs": [
        {
          "output_type": "execute_result",
          "data": {
            "text/plain": [
              "Text(0,0.5,'Total Subcription(in billions)')"
            ]
          },
          "metadata": {
            "tags": []
          },
          "execution_count": 40
        },
        {
          "output_type": "display_data",
          "data": {
            "image/png": "[encoded data removed]",
            "text/plain": [
              "<Figure size 432x288 with 1 Axes>"
            ]
          },
          "metadata": {
            "tags": []
          }
        }
      ]
    },
    {
      "metadata": {
        "id": "BfEh_Nw1dwTv",
        "colab_type": "code",
        "colab": {}
      },
      "cell_type": "code",
      "source": [
        ""
      ],
      "execution_count": 0,
      "outputs": []
    },
    {
      "metadata": {
        "id": "GfWf_koTdwT3",
        "colab_type": "text"
      },
      "cell_type": "markdown",
      "source": [
        "References:\n",
        "\n",
        "General\n",
        "\n",
        "https://data.worldbank.org/indicator/IT.CEL.SETS?end=2017&locations=1W&start=1960&type=points&view=chart\n",
        "\n",
        "http://www.atechnologysociety.co.uk/advances-mobile-phones.html\n",
        "\n",
        "https://www.economist.com/business/2009/03/05/boom-in-the-bust\n",
        "\n",
        "https://www.economist.com/business/2009/03/05/priming-the-pipe\n",
        "\n",
        "2000/mid2000(NA)\n",
        "\n",
        "http://citeseerx.ist.psu.edu/viewdoc/download?doi=10.1.1.642.7969&rep=rep1&type=pdf\n",
        "\n",
        "https://www.telegraph.co.uk/finance/personalfinance/comment/4457372/Wap-bop-alubop-a-mobile-boom.html\n",
        "\n",
        "Asia\n",
        "\n",
        "https://www2.deloitte.com/content/dam/Deloitte/sg/Documents/technology-media-telecommunications/sea-tmt-2017-global-mobile-consumer-survey-sea-edition.pdf\n",
        "\n",
        "(SEA)\n",
        "\n",
        "https://www.economist.com/business/2010/08/19/talk-is-cheap\n",
        "\n",
        "(SA)\n",
        "https://asia.nikkei.com/Economy/India-s-mobile-internet-boom-goes-supersonic2\n"
      ]
    },
    {
      "metadata": {
        "id": "gLniYdyqdwT3",
        "colab_type": "code",
        "colab": {}
      },
      "cell_type": "code",
      "source": [
        ""
      ],
      "execution_count": 0,
      "outputs": []
    }
  ]
}
