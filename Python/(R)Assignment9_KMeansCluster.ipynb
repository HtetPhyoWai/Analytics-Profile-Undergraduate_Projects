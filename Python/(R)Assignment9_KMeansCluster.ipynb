{
  "nbformat": 4,
  "nbformat_minor": 0,
  "metadata": {
    "colab": {
      "name": "(R)Assignment9_KMeansCluster.ipynb",
      "version": "0.3.2",
      "provenance": []
    },
    "kernelspec": {
      "display_name": "R",
      "language": "R",
      "name": "ir"
    }
  },
  "cells": [
    {
      "metadata": {
        "id": "IsshO0LA8AmS",
        "colab_type": "code",
        "colab": {}
      },
      "cell_type": "code",
      "source": [
        "#--Load Libraries and data\n",
        "library(ggplot2)\n",
        "idsDATA = read.csv(\"Y:/fa2018-csc300dsa/completed/Assignment9/miri-IDS01.csv\",header=TRUE)"
      ],
      "execution_count": 0,
      "outputs": []
    },
    {
      "metadata": {
        "id": "NrViXaO-8Amd",
        "colab_type": "code",
        "colab": {},
        "outputId": "250738ad-ff6a-42d7-8fe8-8959edf0faf3"
      },
      "cell_type": "code",
      "source": [
        "#--Inspect data\n",
        "head(idsDATA)"
      ],
      "execution_count": 0,
      "outputs": [
        {
          "output_type": "display_data",
          "data": {
            "text/html": [
              "<table>\n",
              "<thead><tr><th scope=col>InPKT.sec</th><th scope=col>portProbes.sec</th><th scope=col>NumSrcIP.sec</th><th scope=col>Logins.sec</th><th scope=col>IntrusionType</th></tr></thead>\n",
              "<tbody>\n",
              "\t<tr><td>5.1      </td><td>3.5      </td><td>1.4      </td><td>0.2      </td><td>Port Scan</td></tr>\n",
              "\t<tr><td>4.9      </td><td>3.0      </td><td>1.4      </td><td>0.2      </td><td>Port Scan</td></tr>\n",
              "\t<tr><td>4.7      </td><td>3.2      </td><td>1.3      </td><td>0.2      </td><td>Port Scan</td></tr>\n",
              "\t<tr><td>4.6      </td><td>3.1      </td><td>1.5      </td><td>0.2      </td><td>Port Scan</td></tr>\n",
              "\t<tr><td>5.0      </td><td>3.6      </td><td>1.4      </td><td>0.2      </td><td>Port Scan</td></tr>\n",
              "\t<tr><td>5.4      </td><td>3.9      </td><td>1.7      </td><td>0.4      </td><td>Port Scan</td></tr>\n",
              "</tbody>\n",
              "</table>\n"
            ],
            "text/latex": "\\begin{tabular}{r|lllll}\n InPKT.sec & portProbes.sec & NumSrcIP.sec & Logins.sec & IntrusionType\\\\\n\\hline\n\t 5.1       & 3.5       & 1.4       & 0.2       & Port Scan\\\\\n\t 4.9       & 3.0       & 1.4       & 0.2       & Port Scan\\\\\n\t 4.7       & 3.2       & 1.3       & 0.2       & Port Scan\\\\\n\t 4.6       & 3.1       & 1.5       & 0.2       & Port Scan\\\\\n\t 5.0       & 3.6       & 1.4       & 0.2       & Port Scan\\\\\n\t 5.4       & 3.9       & 1.7       & 0.4       & Port Scan\\\\\n\\end{tabular}\n",
            "text/markdown": "\nInPKT.sec | portProbes.sec | NumSrcIP.sec | Logins.sec | IntrusionType | \n|---|---|---|---|---|---|\n| 5.1       | 3.5       | 1.4       | 0.2       | Port Scan | \n| 4.9       | 3.0       | 1.4       | 0.2       | Port Scan | \n| 4.7       | 3.2       | 1.3       | 0.2       | Port Scan | \n| 4.6       | 3.1       | 1.5       | 0.2       | Port Scan | \n| 5.0       | 3.6       | 1.4       | 0.2       | Port Scan | \n| 5.4       | 3.9       | 1.7       | 0.4       | Port Scan | \n\n\n",
            "text/plain": [
              "  InPKT.sec portProbes.sec NumSrcIP.sec Logins.sec IntrusionType\n",
              "1 5.1       3.5            1.4          0.2        Port Scan    \n",
              "2 4.9       3.0            1.4          0.2        Port Scan    \n",
              "3 4.7       3.2            1.3          0.2        Port Scan    \n",
              "4 4.6       3.1            1.5          0.2        Port Scan    \n",
              "5 5.0       3.6            1.4          0.2        Port Scan    \n",
              "6 5.4       3.9            1.7          0.4        Port Scan    "
            ]
          },
          "metadata": {
            "tags": []
          }
        }
      ]
    },
    {
      "metadata": {
        "id": "BZ8jy6u88Amn",
        "colab_type": "code",
        "colab": {},
        "outputId": "4e6cc658-d529-4dbb-d5d3-1d7e873591b1"
      },
      "cell_type": "code",
      "source": [
        "#--Scatter plot of number of Incoming Packets and Unauthorized Login Attemps - color by known Intrusion Type\n",
        "ggplot(idsDATA, aes(InPKT.sec, Logins.sec, color = IntrusionType)) + geom_point()"
      ],
      "execution_count": 0,
      "outputs": [
        {
          "output_type": "display_data",
          "data": {},
          "metadata": {
            "tags": []
          }
        },
        {
          "output_type": "display_data",
          "data": {
            "image/png": "[encoded data removed]",
            "text/plain": [
              "plot without title"
            ]
          },
          "metadata": {
            "tags": []
          }
        }
      ]
    },
    {
      "metadata": {
        "id": "KbuRjK-I8Am1",
        "colab_type": "code",
        "colab": {},
        "outputId": "12b7c8a2-f7e4-4355-f1f3-ec16cf7797e1"
      },
      "cell_type": "code",
      "source": [
        "#--Create variable for storing the Mean Square Error for each cluster solitions 1 - 10\n",
        "IDSperformance=c()\n",
        "#--Loop 10 times\n",
        "for (i in rep(1:10))\n",
        "{\n",
        " #compute Kmeans solition   \n",
        " IDSclust=kmeans(idsDATA[,1:4],i)\n",
        " #store MSE for cluster   \n",
        " IDSperformance=c(IDSperformance,1-IDSclust$tot.withinss/IDSclust$totss)\n",
        "}\n",
        "#--Interogate the performance variable\n",
        "str(IDSperformance)\n",
        "IDSperformance"
      ],
      "execution_count": 0,
      "outputs": [
        {
          "output_type": "stream",
          "text": [
            " num [1:10] 9.99e-16 7.76e-01 8.84e-01 9.16e-01 9.27e-01 ...\n"
          ],
          "name": "stdout"
        },
        {
          "output_type": "display_data",
          "data": {
            "text/html": [
              "<ol class=list-inline>\n",
              "\t<li>9.99200722162641e-16</li>\n",
              "\t<li>0.776409560728981</li>\n",
              "\t<li>0.884275251344649</li>\n",
              "\t<li>0.915955253943127</li>\n",
              "\t<li>0.926871308274392</li>\n",
              "\t<li>0.929450927715915</li>\n",
              "\t<li>0.941407253054328</li>\n",
              "\t<li>0.947960022310163</li>\n",
              "\t<li>0.958166074084361</li>\n",
              "\t<li>0.961893827308309</li>\n",
              "</ol>\n"
            ],
            "text/latex": "\\begin{enumerate*}\n\\item 9.99200722162641e-16\n\\item 0.776409560728981\n\\item 0.884275251344649\n\\item 0.915955253943127\n\\item 0.926871308274392\n\\item 0.929450927715915\n\\item 0.941407253054328\n\\item 0.947960022310163\n\\item 0.958166074084361\n\\item 0.961893827308309\n\\end{enumerate*}\n",
            "text/markdown": "1. 9.99200722162641e-16\n2. 0.776409560728981\n3. 0.884275251344649\n4. 0.915955253943127\n5. 0.926871308274392\n6. 0.929450927715915\n7. 0.941407253054328\n8. 0.947960022310163\n9. 0.958166074084361\n10. 0.961893827308309\n\n\n",
            "text/plain": [
              " [1] 9.992007e-16 7.764096e-01 8.842753e-01 9.159553e-01 9.268713e-01\n",
              " [6] 9.294509e-01 9.414073e-01 9.479600e-01 9.581661e-01 9.618938e-01"
            ]
          },
          "metadata": {
            "tags": []
          }
        }
      ]
    },
    {
      "metadata": {
        "id": "y7AlBE1W8Am_",
        "colab_type": "code",
        "colab": {},
        "outputId": "38c10a4c-9b32-4d59-8e3b-f05dc21ea71d"
      },
      "cell_type": "code",
      "source": [
        "#--Plot Performance data using Elbow Method for finding the optimal number of clusters\n",
        "set.seed(123)\n",
        "#--Compute and plot wss for k = 2 to k = 15.\n",
        "k.max <- 15\n",
        "data <- idsDATA[,1:4]\n",
        "wss <- sapply(1:k.max, \n",
        "              function(k){kmeans(data, k, nstart=50,iter.max = 15 )$tot.withinss})\n",
        "#--Display MSE\n",
        "wss\n",
        "#--Plot MSE\n",
        "plot(1:k.max, wss,\n",
        "     type=\"b\", pch = 19, frame = FALSE, \n",
        "     xlab=\"Number of clusters K\",\n",
        "     ylab=\"Total within-clusters sum of squares\")"
      ],
      "execution_count": 0,
      "outputs": [
        {
          "output_type": "display_data",
          "data": {
            "text/html": [
              "<ol class=list-inline>\n",
              "\t<li>681.370599999999</li>\n",
              "\t<li>152.347951760358</li>\n",
              "\t<li>78.851441426146</li>\n",
              "\t<li>57.2284732142857</li>\n",
              "\t<li>46.446182051282</li>\n",
              "\t<li>39.0399872460872</li>\n",
              "\t<li>34.2982296650718</li>\n",
              "\t<li>30.0631106174527</li>\n",
              "\t<li>27.7860924173081</li>\n",
              "\t<li>25.8340548199725</li>\n",
              "\t<li>24.4409787449393</li>\n",
              "\t<li>22.6659960494946</li>\n",
              "\t<li>21.6619233582969</li>\n",
              "\t<li>19.9447011360747</li>\n",
              "\t<li>18.8031175268735</li>\n",
              "</ol>\n"
            ],
            "text/latex": "\\begin{enumerate*}\n\\item 681.370599999999\n\\item 152.347951760358\n\\item 78.851441426146\n\\item 57.2284732142857\n\\item 46.446182051282\n\\item 39.0399872460872\n\\item 34.2982296650718\n\\item 30.0631106174527\n\\item 27.7860924173081\n\\item 25.8340548199725\n\\item 24.4409787449393\n\\item 22.6659960494946\n\\item 21.6619233582969\n\\item 19.9447011360747\n\\item 18.8031175268735\n\\end{enumerate*}\n",
            "text/markdown": "1. 681.370599999999\n2. 152.347951760358\n3. 78.851441426146\n4. 57.2284732142857\n5. 46.446182051282\n6. 39.0399872460872\n7. 34.2982296650718\n8. 30.0631106174527\n9. 27.7860924173081\n10. 25.8340548199725\n11. 24.4409787449393\n12. 22.6659960494946\n13. 21.6619233582969\n14. 19.9447011360747\n15. 18.8031175268735\n\n\n",
            "text/plain": [
              " [1] 681.37060 152.34795  78.85144  57.22847  46.44618  39.03999  34.29823\n",
              " [8]  30.06311  27.78609  25.83405  24.44098  22.66600  21.66192  19.94470\n",
              "[15]  18.80312"
            ]
          },
          "metadata": {
            "tags": []
          }
        },
        {
          "output_type": "display_data",
          "data": {
            "image/png": "[encoded data removed]",
            "text/plain": [
              "plot without title"
            ]
          },
          "metadata": {
            "tags": []
          }
        }
      ]
    },
    {
      "metadata": {
        "id": "JZgzrnVU8AnP",
        "colab_type": "code",
        "colab": {},
        "outputId": "708df825-fb6f-449c-e51f-2f7d4b158dc2"
      },
      "cell_type": "code",
      "source": [
        "#--Elbow curve indicates a 3 cluster solution is best\n",
        "#--Aplly k-means algorithm with no. of centroids(k)=3\n",
        "IDSresult<- kmeans(idsDATA[,1:4],3)\n",
        "#-- Show number of records in each cluster\n",
        "IDSresult$size"
      ],
      "execution_count": 0,
      "outputs": [
        {
          "output_type": "display_data",
          "data": {
            "text/html": [
              "<ol class=list-inline>\n",
              "\t<li>62</li>\n",
              "\t<li>50</li>\n",
              "\t<li>38</li>\n",
              "</ol>\n"
            ],
            "text/latex": "\\begin{enumerate*}\n\\item 62\n\\item 50\n\\item 38\n\\end{enumerate*}\n",
            "text/markdown": "1. 62\n2. 50\n3. 38\n\n\n",
            "text/plain": [
              "[1] 62 50 38"
            ]
          },
          "metadata": {
            "tags": []
          }
        }
      ]
    },
    {
      "metadata": {
        "id": "eOdSTZXK8AnZ",
        "colab_type": "code",
        "colab": {},
        "outputId": "72c48d02-0f9f-4a25-cef3-4190fef0810f"
      },
      "cell_type": "code",
      "source": [
        "\n",
        "#-- Show value of cluster center datapoint value(3 centers for k=3)\n",
        "IDSresult$centers"
      ],
      "execution_count": 0,
      "outputs": [
        {
          "output_type": "display_data",
          "data": {
            "text/html": [
              "<table>\n",
              "<thead><tr><th></th><th scope=col>InPKT.sec</th><th scope=col>portProbes.sec</th><th scope=col>NumSrcIP.sec</th><th scope=col>Logins.sec</th></tr></thead>\n",
              "<tbody>\n",
              "\t<tr><th scope=row>1</th><td>5.901613</td><td>2.748387</td><td>4.393548</td><td>1.433871</td></tr>\n",
              "\t<tr><th scope=row>2</th><td>5.006000</td><td>3.428000</td><td>1.462000</td><td>0.246000</td></tr>\n",
              "\t<tr><th scope=row>3</th><td>6.850000</td><td>3.073684</td><td>5.742105</td><td>2.071053</td></tr>\n",
              "</tbody>\n",
              "</table>\n"
            ],
            "text/latex": "\\begin{tabular}{r|llll}\n  & InPKT.sec & portProbes.sec & NumSrcIP.sec & Logins.sec\\\\\n\\hline\n\t1 & 5.901613 & 2.748387 & 4.393548 & 1.433871\\\\\n\t2 & 5.006000 & 3.428000 & 1.462000 & 0.246000\\\\\n\t3 & 6.850000 & 3.073684 & 5.742105 & 2.071053\\\\\n\\end{tabular}\n",
            "text/markdown": "\n| <!--/--> | InPKT.sec | portProbes.sec | NumSrcIP.sec | Logins.sec | \n|---|---|---|\n| 1 | 5.901613 | 2.748387 | 4.393548 | 1.433871 | \n| 2 | 5.006000 | 3.428000 | 1.462000 | 0.246000 | \n| 3 | 6.850000 | 3.073684 | 5.742105 | 2.071053 | \n\n\n",
            "text/plain": [
              "  InPKT.sec portProbes.sec NumSrcIP.sec Logins.sec\n",
              "1 5.901613  2.748387       4.393548     1.433871  \n",
              "2 5.006000  3.428000       1.462000     0.246000  \n",
              "3 6.850000  3.073684       5.742105     2.071053  "
            ]
          },
          "metadata": {
            "tags": []
          }
        }
      ]
    },
    {
      "metadata": {
        "id": "LGm-F_tD8An1",
        "colab_type": "code",
        "colab": {},
        "outputId": "e97bf5ac-6d1d-486b-b721-97d32a059893"
      },
      "cell_type": "code",
      "source": [
        "#--List cluster vector showing the custer where each record falls\n",
        "IDSresult$cluster"
      ],
      "execution_count": 0,
      "outputs": [
        {
          "output_type": "display_data",
          "data": {
            "text/html": [
              "<ol class=list-inline>\n",
              "\t<li>2</li>\n",
              "\t<li>2</li>\n",
              "\t<li>2</li>\n",
              "\t<li>2</li>\n",
              "\t<li>2</li>\n",
              "\t<li>2</li>\n",
              "\t<li>2</li>\n",
              "\t<li>2</li>\n",
              "\t<li>2</li>\n",
              "\t<li>2</li>\n",
              "\t<li>2</li>\n",
              "\t<li>2</li>\n",
              "\t<li>2</li>\n",
              "\t<li>2</li>\n",
              "\t<li>2</li>\n",
              "\t<li>2</li>\n",
              "\t<li>2</li>\n",
              "\t<li>2</li>\n",
              "\t<li>2</li>\n",
              "\t<li>2</li>\n",
              "\t<li>2</li>\n",
              "\t<li>2</li>\n",
              "\t<li>2</li>\n",
              "\t<li>2</li>\n",
              "\t<li>2</li>\n",
              "\t<li>2</li>\n",
              "\t<li>2</li>\n",
              "\t<li>2</li>\n",
              "\t<li>2</li>\n",
              "\t<li>2</li>\n",
              "\t<li>2</li>\n",
              "\t<li>2</li>\n",
              "\t<li>2</li>\n",
              "\t<li>2</li>\n",
              "\t<li>2</li>\n",
              "\t<li>2</li>\n",
              "\t<li>2</li>\n",
              "\t<li>2</li>\n",
              "\t<li>2</li>\n",
              "\t<li>2</li>\n",
              "\t<li>2</li>\n",
              "\t<li>2</li>\n",
              "\t<li>2</li>\n",
              "\t<li>2</li>\n",
              "\t<li>2</li>\n",
              "\t<li>2</li>\n",
              "\t<li>2</li>\n",
              "\t<li>2</li>\n",
              "\t<li>2</li>\n",
              "\t<li>2</li>\n",
              "\t<li>1</li>\n",
              "\t<li>1</li>\n",
              "\t<li>3</li>\n",
              "\t<li>1</li>\n",
              "\t<li>1</li>\n",
              "\t<li>1</li>\n",
              "\t<li>1</li>\n",
              "\t<li>1</li>\n",
              "\t<li>1</li>\n",
              "\t<li>1</li>\n",
              "\t<li>1</li>\n",
              "\t<li>1</li>\n",
              "\t<li>1</li>\n",
              "\t<li>1</li>\n",
              "\t<li>1</li>\n",
              "\t<li>1</li>\n",
              "\t<li>1</li>\n",
              "\t<li>1</li>\n",
              "\t<li>1</li>\n",
              "\t<li>1</li>\n",
              "\t<li>1</li>\n",
              "\t<li>1</li>\n",
              "\t<li>1</li>\n",
              "\t<li>1</li>\n",
              "\t<li>1</li>\n",
              "\t<li>1</li>\n",
              "\t<li>1</li>\n",
              "\t<li>3</li>\n",
              "\t<li>1</li>\n",
              "\t<li>1</li>\n",
              "\t<li>1</li>\n",
              "\t<li>1</li>\n",
              "\t<li>1</li>\n",
              "\t<li>1</li>\n",
              "\t<li>1</li>\n",
              "\t<li>1</li>\n",
              "\t<li>1</li>\n",
              "\t<li>1</li>\n",
              "\t<li>1</li>\n",
              "\t<li>1</li>\n",
              "\t<li>1</li>\n",
              "\t<li>1</li>\n",
              "\t<li>1</li>\n",
              "\t<li>1</li>\n",
              "\t<li>1</li>\n",
              "\t<li>1</li>\n",
              "\t<li>1</li>\n",
              "\t<li>1</li>\n",
              "\t<li>1</li>\n",
              "\t<li>1</li>\n",
              "\t<li>3</li>\n",
              "\t<li>1</li>\n",
              "\t<li>3</li>\n",
              "\t<li>3</li>\n",
              "\t<li>3</li>\n",
              "\t<li>3</li>\n",
              "\t<li>1</li>\n",
              "\t<li>3</li>\n",
              "\t<li>3</li>\n",
              "\t<li>3</li>\n",
              "\t<li>3</li>\n",
              "\t<li>3</li>\n",
              "\t<li>3</li>\n",
              "\t<li>1</li>\n",
              "\t<li>1</li>\n",
              "\t<li>3</li>\n",
              "\t<li>3</li>\n",
              "\t<li>3</li>\n",
              "\t<li>3</li>\n",
              "\t<li>1</li>\n",
              "\t<li>3</li>\n",
              "\t<li>1</li>\n",
              "\t<li>3</li>\n",
              "\t<li>1</li>\n",
              "\t<li>3</li>\n",
              "\t<li>3</li>\n",
              "\t<li>1</li>\n",
              "\t<li>1</li>\n",
              "\t<li>3</li>\n",
              "\t<li>3</li>\n",
              "\t<li>3</li>\n",
              "\t<li>3</li>\n",
              "\t<li>3</li>\n",
              "\t<li>1</li>\n",
              "\t<li>3</li>\n",
              "\t<li>3</li>\n",
              "\t<li>3</li>\n",
              "\t<li>3</li>\n",
              "\t<li>1</li>\n",
              "\t<li>3</li>\n",
              "\t<li>3</li>\n",
              "\t<li>3</li>\n",
              "\t<li>1</li>\n",
              "\t<li>3</li>\n",
              "\t<li>3</li>\n",
              "\t<li>3</li>\n",
              "\t<li>1</li>\n",
              "\t<li>3</li>\n",
              "\t<li>3</li>\n",
              "\t<li>1</li>\n",
              "</ol>\n"
            ],
            "text/latex": "\\begin{enumerate*}\n\\item 2\n\\item 2\n\\item 2\n\\item 2\n\\item 2\n\\item 2\n\\item 2\n\\item 2\n\\item 2\n\\item 2\n\\item 2\n\\item 2\n\\item 2\n\\item 2\n\\item 2\n\\item 2\n\\item 2\n\\item 2\n\\item 2\n\\item 2\n\\item 2\n\\item 2\n\\item 2\n\\item 2\n\\item 2\n\\item 2\n\\item 2\n\\item 2\n\\item 2\n\\item 2\n\\item 2\n\\item 2\n\\item 2\n\\item 2\n\\item 2\n\\item 2\n\\item 2\n\\item 2\n\\item 2\n\\item 2\n\\item 2\n\\item 2\n\\item 2\n\\item 2\n\\item 2\n\\item 2\n\\item 2\n\\item 2\n\\item 2\n\\item 2\n\\item 1\n\\item 1\n\\item 3\n\\item 1\n\\item 1\n\\item 1\n\\item 1\n\\item 1\n\\item 1\n\\item 1\n\\item 1\n\\item 1\n\\item 1\n\\item 1\n\\item 1\n\\item 1\n\\item 1\n\\item 1\n\\item 1\n\\item 1\n\\item 1\n\\item 1\n\\item 1\n\\item 1\n\\item 1\n\\item 1\n\\item 1\n\\item 3\n\\item 1\n\\item 1\n\\item 1\n\\item 1\n\\item 1\n\\item 1\n\\item 1\n\\item 1\n\\item 1\n\\item 1\n\\item 1\n\\item 1\n\\item 1\n\\item 1\n\\item 1\n\\item 1\n\\item 1\n\\item 1\n\\item 1\n\\item 1\n\\item 1\n\\item 1\n\\item 3\n\\item 1\n\\item 3\n\\item 3\n\\item 3\n\\item 3\n\\item 1\n\\item 3\n\\item 3\n\\item 3\n\\item 3\n\\item 3\n\\item 3\n\\item 1\n\\item 1\n\\item 3\n\\item 3\n\\item 3\n\\item 3\n\\item 1\n\\item 3\n\\item 1\n\\item 3\n\\item 1\n\\item 3\n\\item 3\n\\item 1\n\\item 1\n\\item 3\n\\item 3\n\\item 3\n\\item 3\n\\item 3\n\\item 1\n\\item 3\n\\item 3\n\\item 3\n\\item 3\n\\item 1\n\\item 3\n\\item 3\n\\item 3\n\\item 1\n\\item 3\n\\item 3\n\\item 3\n\\item 1\n\\item 3\n\\item 3\n\\item 1\n\\end{enumerate*}\n",
            "text/markdown": "1. 2\n2. 2\n3. 2\n4. 2\n5. 2\n6. 2\n7. 2\n8. 2\n9. 2\n10. 2\n11. 2\n12. 2\n13. 2\n14. 2\n15. 2\n16. 2\n17. 2\n18. 2\n19. 2\n20. 2\n21. 2\n22. 2\n23. 2\n24. 2\n25. 2\n26. 2\n27. 2\n28. 2\n29. 2\n30. 2\n31. 2\n32. 2\n33. 2\n34. 2\n35. 2\n36. 2\n37. 2\n38. 2\n39. 2\n40. 2\n41. 2\n42. 2\n43. 2\n44. 2\n45. 2\n46. 2\n47. 2\n48. 2\n49. 2\n50. 2\n51. 1\n52. 1\n53. 3\n54. 1\n55. 1\n56. 1\n57. 1\n58. 1\n59. 1\n60. 1\n61. 1\n62. 1\n63. 1\n64. 1\n65. 1\n66. 1\n67. 1\n68. 1\n69. 1\n70. 1\n71. 1\n72. 1\n73. 1\n74. 1\n75. 1\n76. 1\n77. 1\n78. 3\n79. 1\n80. 1\n81. 1\n82. 1\n83. 1\n84. 1\n85. 1\n86. 1\n87. 1\n88. 1\n89. 1\n90. 1\n91. 1\n92. 1\n93. 1\n94. 1\n95. 1\n96. 1\n97. 1\n98. 1\n99. 1\n100. 1\n101. 3\n102. 1\n103. 3\n104. 3\n105. 3\n106. 3\n107. 1\n108. 3\n109. 3\n110. 3\n111. 3\n112. 3\n113. 3\n114. 1\n115. 1\n116. 3\n117. 3\n118. 3\n119. 3\n120. 1\n121. 3\n122. 1\n123. 3\n124. 1\n125. 3\n126. 3\n127. 1\n128. 1\n129. 3\n130. 3\n131. 3\n132. 3\n133. 3\n134. 1\n135. 3\n136. 3\n137. 3\n138. 3\n139. 1\n140. 3\n141. 3\n142. 3\n143. 1\n144. 3\n145. 3\n146. 3\n147. 1\n148. 3\n149. 3\n150. 1\n\n\n",
            "text/plain": [
              "  [1] 2 2 2 2 2 2 2 2 2 2 2 2 2 2 2 2 2 2 2 2 2 2 2 2 2 2 2 2 2 2 2 2 2 2 2 2 2\n",
              " [38] 2 2 2 2 2 2 2 2 2 2 2 2 2 1 1 3 1 1 1 1 1 1 1 1 1 1 1 1 1 1 1 1 1 1 1 1 1\n",
              " [75] 1 1 1 3 1 1 1 1 1 1 1 1 1 1 1 1 1 1 1 1 1 1 1 1 1 1 3 1 3 3 3 3 1 3 3 3 3\n",
              "[112] 3 3 1 1 3 3 3 3 1 3 1 3 1 3 3 1 1 3 3 3 3 3 1 3 3 3 3 1 3 3 3 1 3 3 3 1 3\n",
              "[149] 3 1"
            ]
          },
          "metadata": {
            "tags": []
          }
        }
      ]
    },
    {
      "metadata": {
        "id": "qyxGinAU8AoE",
        "colab_type": "code",
        "colab": {},
        "outputId": "06b89999-1ed6-45ae-8ad4-cc6c9c1e64d1"
      },
      "cell_type": "code",
      "source": [
        "#--Plot to see how InPKT.sec and portProbes.sec data points have been distributed in clusters\n",
        "plot(idsDATA[c(1,2)], col=IDSresult$cluster)\n",
        "\n",
        "# Plot to see how NumSrcIP.sec Logins.sec data points have been distributed in clusters\n",
        "plot(idsDATA[c(3,4)], col=IDSresult$cluster)"
      ],
      "execution_count": 0,
      "outputs": [
        {
          "output_type": "display_data",
          "data": {
            "image/png": "[encoded data removed]",
            "text/plain": [
              "plot without title"
            ]
          },
          "metadata": {
            "tags": []
          }
        },
        {
          "output_type": "display_data",
          "data": {
            "image/png": "[encoded data removed]",
            "text/plain": [
              "plot without title"
            ]
          },
          "metadata": {
            "tags": []
          }
        }
      ]
    },
    {
      "metadata": {
        "id": "jJwSyGjS8AoM",
        "colab_type": "code",
        "colab": {},
        "outputId": "ec4c7620-1d39-4a1d-8734-bab0a6e6b330"
      },
      "cell_type": "code",
      "source": [
        "#--List results of Cluster Analysis using Confution Matrix and Classificaiton Accuracy\n",
        "print('Confusion Matrix')\n",
        "table(IDSresult$cluster,idsDATA[,\"IntrusionType\"])\n",
        "\n",
        "#--Calculate Classification Accuracy of 3 Cluster Solution\n",
        "b <- IDSresult$betweenss\n",
        "t <- IDSresult$totss\n",
        "ClassificationAccuracy <- b/t\n",
        "\n",
        "print (paste('Classification Accuracy = ', ClassificationAccuracy))"
      ],
      "execution_count": 0,
      "outputs": [
        {
          "output_type": "stream",
          "text": [
            "[1] \"Confusion Matrix\"\n"
          ],
          "name": "stdout"
        },
        {
          "output_type": "display_data",
          "data": {
            "text/plain": [
              "   \n",
              "    Denial of Service Attempt Port Scan Unauthorized Access Attempt\n",
              "  1                        48         0                          14\n",
              "  2                         0        50                           0\n",
              "  3                         2         0                          36"
            ]
          },
          "metadata": {
            "tags": []
          }
        },
        {
          "output_type": "stream",
          "text": [
            "[1] \"Classification Accuracy =  0.884275251344648\"\n"
          ],
          "name": "stdout"
        }
      ]
    },
    {
      "metadata": {
        "id": "x1hoGXpl8AoU",
        "colab_type": "code",
        "colab": {},
        "outputId": "42a19afe-6ae0-418a-963b-ca67189a3e50"
      },
      "cell_type": "code",
      "source": [
        "#--Plot to see how NumSrcIP.sec Logins.sec data points have been distributed in clusters with cluster centriod value\n",
        "plot(idsDATA[c(\"NumSrcIP.sec\", \"Logins.sec\")], col=IDSresult$cluster) + geom_point()\n",
        "\n",
        "#--Plot the cluster centroids\n",
        "points(IDSresult$centers[,c(\"NumSrcIP.sec\", \"Logins.sec\")], col=1:3, pch=16, cex=4)\n",
        "#--Add Legend\n",
        "legend(\"topleft\",legend=levels(idsDATA[,\"IntrusionType\"]),col=1:3, pch=16)"
      ],
      "execution_count": 0,
      "outputs": [
        {
          "output_type": "display_data",
          "data": {
            "text/plain": [
              "NULL"
            ]
          },
          "metadata": {
            "tags": []
          }
        },
        {
          "output_type": "display_data",
          "data": {
            "image/png": "[encoded data removed]",
            "text/plain": [
              "plot without title"
            ]
          },
          "metadata": {
            "tags": []
          }
        }
      ]
    },
    {
      "metadata": {
        "id": "XWTc9kcv8Aod",
        "colab_type": "code",
        "colab": {}
      },
      "cell_type": "code",
      "source": [
        ""
      ],
      "execution_count": 0,
      "outputs": []
    },
    {
      "metadata": {
        "id": "xzZyBSnb8Aol",
        "colab_type": "code",
        "colab": {}
      },
      "cell_type": "code",
      "source": [
        ""
      ],
      "execution_count": 0,
      "outputs": []
    }
  ]
}
