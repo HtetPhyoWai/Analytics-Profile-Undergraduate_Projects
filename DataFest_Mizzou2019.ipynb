{
  "nbformat": 4,
  "nbformat_minor": 0,
  "metadata": {
    "colab": {
      "name": "DataFest@Mizzou2019.ipynb",
      "version": "0.3.2",
      "provenance": [],
      "collapsed_sections": []
    },
    "kernelspec": {
      "name": "python3",
      "display_name": "Python 3"
    }
  },
  "cells": [
    {
      "metadata": {
        "id": "gmtM-KGkpSnv",
        "colab_type": "text"
      },
      "cell_type": "markdown",
      "source": [
        "## “Building a Winning Rugby Team based on Wellness and Performance Indicators”\n",
        "---\n",
        "\n",
        "**Introduction**: \n",
        "Building a winning team is the long-term effort requiring countless hours of practise and preparation. But are\n",
        "athletes getting the right training? Are they performing their best? In this analysis, we will look at both the\n",
        "subjective and objective measures provided by Rugby Canada to propose a strong team for their future\n",
        "tournaments."
      ]
    },
    {
      "metadata": {
        "id": "OFKMpZkOVjXs",
        "colab_type": "text"
      },
      "cell_type": "markdown",
      "source": [
        "### Data \n",
        "This analysis is done during the Annual Datafest Competition(2019) at University of Missouri, Columbia. The data provided includes the wellness data of individual atheletes, the GPS live data, and self-repot data of individual performances. \n",
        "\n",
        "\n",
        "### Approach\n",
        "Firstly we created a new feature column ‘outcome’ in the GPS data by matching with the GameID from the\n",
        "game data file. Then we compare the frequency distributions of winning and losing outcomes for each\n",
        "features in the GPS data to determine their variations.\n",
        "\n",
        "We decided to have a closer look at the individual performances at their game days and determines which\n",
        "players has the potentials to contribute most to the winning team based on their speed and tackling prowess.\n",
        "We use the violin plot (similar to the box plot) that shows the summary record of the individual performance in\n",
        "their recent games.\n",
        "\n",
        "After assessing the individual profiles, we determine which features are essential in improving their health\n",
        "and recovery during the training. We use Naives Bayes Classifier to predict the the ‘Mornitering Score’ from\n",
        "the variables of 'Pain', 'Illness', 'Menstruation', 'Nutrition', and 'Nutrition Adjustment'.\n",
        "\n",
        "### Result\n",
        "-The Win-Loss comparison of features indicates that the speed and positioning of the team players played a\n",
        "crucial role in the Winning Team. ( There is a large difference in AccelY and AccelZ between winning and\n",
        "losing matches)\n",
        "\n",
        "\n",
        "-The second analysis indicates which players are top performers and who are not. Based on their records,\n",
        "Player 1, 3, 4 , and 7 are the key players at both sprints and agilities. It also suggests which team players\n",
        "need more training time.\n",
        "\n",
        "-The third result shows that most team players have positive outlooks on their fitness. From the Naive Bayes\n",
        "model, we can predict how much the player is ready. It was indicated by the probability of the monitoring\n",
        "score given the other variables in the wellness data."
      ]
    },
    {
      "metadata": {
        "id": "6IhWNubSr2AB",
        "colab_type": "code",
        "colab": {}
      },
      "cell_type": "code",
      "source": [
        "# Importing libraries \n",
        "\n",
        "import pandas as pd\n",
        "import matplotlib.pyplot as plt\n",
        "import seaborn as sns\n",
        "import numpy as np\n",
        "import numpy.random as nr\n",
        "import math\n",
        "\n",
        "\n",
        "from sklearn import preprocessing\n",
        "import sklearn.model_selection as ms\n",
        "from sklearn import linear_model\n",
        "import sklearn.metrics as sklm\n",
        "from sklearn import feature_selection as fs\n",
        "from sklearn import metrics\n",
        "from sklearn.model_selection import cross_validate\n",
        "\n",
        "import scipy.stats as ss"
      ],
      "execution_count": 0,
      "outputs": []
    },
    {
      "metadata": {
        "id": "diMqszFBp75R",
        "colab_type": "text"
      },
      "cell_type": "markdown",
      "source": [
        "###Getting Data"
      ]
    },
    {
      "metadata": {
        "id": "3ogqH1nUXCWM",
        "colab_type": "code",
        "colab": {}
      },
      "cell_type": "code",
      "source": [
        "gps = pd.read_csv('gps.csv')"
      ],
      "execution_count": 0,
      "outputs": []
    },
    {
      "metadata": {
        "id": "uWA4Zu50FSjn",
        "colab_type": "text"
      },
      "cell_type": "markdown",
      "source": [
        "### GPS "
      ]
    },
    {
      "metadata": {
        "id": "Mrcoqn04EmkS",
        "colab_type": "code",
        "outputId": "dfb60d98-4002-4b59-8bf6-d1b5c852e803",
        "colab": {
          "base_uri": "https://localhost:8080/",
          "height": 85
        }
      },
      "cell_type": "code",
      "source": [
        "gps.columns"
      ],
      "execution_count": 0,
      "outputs": [
        {
          "output_type": "execute_result",
          "data": {
            "text/plain": [
              "Index(['GameID', 'Half', 'PlayerID', 'FrameID', 'Time', 'GameClock', 'Speed',\n",
              "       'AccelImpulse', 'AccelLoad', 'AccelX', 'AccelY', 'AccelZ', 'Longitude',\n",
              "       'Latitude'],\n",
              "      dtype='object')"
            ]
          },
          "metadata": {
            "tags": []
          },
          "execution_count": 79
        }
      ]
    },
    {
      "metadata": {
        "id": "Uw8r1_y-EmX9",
        "colab_type": "code",
        "outputId": "83167e3d-b863-4a3f-a626-76763597324a",
        "colab": {
          "base_uri": "https://localhost:8080/",
          "height": 34
        }
      },
      "cell_type": "code",
      "source": [
        "gps.shape"
      ],
      "execution_count": 0,
      "outputs": [
        {
          "output_type": "execute_result",
          "data": {
            "text/plain": [
              "(4570160, 14)"
            ]
          },
          "metadata": {
            "tags": []
          },
          "execution_count": 24
        }
      ]
    },
    {
      "metadata": {
        "id": "6-5dNZqvDY_D",
        "colab_type": "code",
        "outputId": "9982c0a5-46b2-4d0f-f87d-a21265825c1e",
        "colab": {
          "base_uri": "https://localhost:8080/",
          "height": 204
        }
      },
      "cell_type": "code",
      "source": [
        "gps.head()"
      ],
      "execution_count": 0,
      "outputs": [
        {
          "output_type": "execute_result",
          "data": {
            "text/html": [
              "<div>\n",
              "<style scoped>\n",
              "    .dataframe tbody tr th:only-of-type {\n",
              "        vertical-align: middle;\n",
              "    }\n",
              "\n",
              "    .dataframe tbody tr th {\n",
              "        vertical-align: top;\n",
              "    }\n",
              "\n",
              "    .dataframe thead th {\n",
              "        text-align: right;\n",
              "    }\n",
              "</style>\n",
              "<table border=\"1\" class=\"dataframe\">\n",
              "  <thead>\n",
              "    <tr style=\"text-align: right;\">\n",
              "      <th></th>\n",
              "      <th>GameID</th>\n",
              "      <th>Half</th>\n",
              "      <th>PlayerID</th>\n",
              "      <th>FrameID</th>\n",
              "      <th>Time</th>\n",
              "      <th>GameClock</th>\n",
              "      <th>Speed</th>\n",
              "      <th>AccelImpulse</th>\n",
              "      <th>AccelLoad</th>\n",
              "      <th>AccelX</th>\n",
              "      <th>AccelY</th>\n",
              "      <th>AccelZ</th>\n",
              "      <th>Longitude</th>\n",
              "      <th>Latitude</th>\n",
              "    </tr>\n",
              "  </thead>\n",
              "  <tbody>\n",
              "    <tr>\n",
              "      <th>0</th>\n",
              "      <td>1</td>\n",
              "      <td>1</td>\n",
              "      <td>2</td>\n",
              "      <td>1</td>\n",
              "      <td>00:22:01</td>\n",
              "      <td>00:00:00</td>\n",
              "      <td>0.658334</td>\n",
              "      <td>0.611112</td>\n",
              "      <td>0.005330</td>\n",
              "      <td>0.13250</td>\n",
              "      <td>0.69875</td>\n",
              "      <td>0.56500</td>\n",
              "      <td>55.466666</td>\n",
              "      <td>24.994873</td>\n",
              "    </tr>\n",
              "    <tr>\n",
              "      <th>1</th>\n",
              "      <td>1</td>\n",
              "      <td>1</td>\n",
              "      <td>2</td>\n",
              "      <td>2</td>\n",
              "      <td>00:22:01</td>\n",
              "      <td>00:00:00</td>\n",
              "      <td>0.594445</td>\n",
              "      <td>0.638889</td>\n",
              "      <td>0.006568</td>\n",
              "      <td>0.11125</td>\n",
              "      <td>0.92000</td>\n",
              "      <td>0.70625</td>\n",
              "      <td>55.466666</td>\n",
              "      <td>24.994874</td>\n",
              "    </tr>\n",
              "    <tr>\n",
              "      <th>2</th>\n",
              "      <td>1</td>\n",
              "      <td>1</td>\n",
              "      <td>2</td>\n",
              "      <td>3</td>\n",
              "      <td>00:22:01</td>\n",
              "      <td>00:00:00</td>\n",
              "      <td>0.363889</td>\n",
              "      <td>2.305557</td>\n",
              "      <td>0.003114</td>\n",
              "      <td>0.01375</td>\n",
              "      <td>0.77000</td>\n",
              "      <td>0.67750</td>\n",
              "      <td>55.466667</td>\n",
              "      <td>24.994874</td>\n",
              "    </tr>\n",
              "    <tr>\n",
              "      <th>3</th>\n",
              "      <td>1</td>\n",
              "      <td>1</td>\n",
              "      <td>2</td>\n",
              "      <td>4</td>\n",
              "      <td>00:22:01</td>\n",
              "      <td>00:00:00</td>\n",
              "      <td>0.444445</td>\n",
              "      <td>0.805556</td>\n",
              "      <td>0.002602</td>\n",
              "      <td>0.00625</td>\n",
              "      <td>0.88625</td>\n",
              "      <td>0.59500</td>\n",
              "      <td>55.466667</td>\n",
              "      <td>24.994874</td>\n",
              "    </tr>\n",
              "    <tr>\n",
              "      <th>4</th>\n",
              "      <td>1</td>\n",
              "      <td>1</td>\n",
              "      <td>2</td>\n",
              "      <td>5</td>\n",
              "      <td>00:22:01</td>\n",
              "      <td>00:00:00</td>\n",
              "      <td>0.400000</td>\n",
              "      <td>0.444445</td>\n",
              "      <td>0.003813</td>\n",
              "      <td>-0.01750</td>\n",
              "      <td>0.85750</td>\n",
              "      <td>0.57375</td>\n",
              "      <td>55.466668</td>\n",
              "      <td>24.994874</td>\n",
              "    </tr>\n",
              "  </tbody>\n",
              "</table>\n",
              "</div>"
            ],
            "text/plain": [
              "   GameID  Half  PlayerID  FrameID      Time GameClock     Speed  \\\n",
              "0       1     1         2        1  00:22:01  00:00:00  0.658334   \n",
              "1       1     1         2        2  00:22:01  00:00:00  0.594445   \n",
              "2       1     1         2        3  00:22:01  00:00:00  0.363889   \n",
              "3       1     1         2        4  00:22:01  00:00:00  0.444445   \n",
              "4       1     1         2        5  00:22:01  00:00:00  0.400000   \n",
              "\n",
              "   AccelImpulse  AccelLoad   AccelX   AccelY   AccelZ  Longitude   Latitude  \n",
              "0      0.611112   0.005330  0.13250  0.69875  0.56500  55.466666  24.994873  \n",
              "1      0.638889   0.006568  0.11125  0.92000  0.70625  55.466666  24.994874  \n",
              "2      2.305557   0.003114  0.01375  0.77000  0.67750  55.466667  24.994874  \n",
              "3      0.805556   0.002602  0.00625  0.88625  0.59500  55.466667  24.994874  \n",
              "4      0.444445   0.003813 -0.01750  0.85750  0.57375  55.466668  24.994874  "
            ]
          },
          "metadata": {
            "tags": []
          },
          "execution_count": 17
        }
      ]
    },
    {
      "metadata": {
        "id": "UO2w69ABFWIc",
        "colab_type": "code",
        "outputId": "5e9cb717-2521-4709-dc41-a5629e0f6638",
        "colab": {
          "base_uri": "https://localhost:8080/",
          "height": 317
        }
      },
      "cell_type": "code",
      "source": [
        "gps.describe()"
      ],
      "execution_count": 0,
      "outputs": [
        {
          "output_type": "execute_result",
          "data": {
            "text/html": [
              "<div>\n",
              "<style scoped>\n",
              "    .dataframe tbody tr th:only-of-type {\n",
              "        vertical-align: middle;\n",
              "    }\n",
              "\n",
              "    .dataframe tbody tr th {\n",
              "        vertical-align: top;\n",
              "    }\n",
              "\n",
              "    .dataframe thead th {\n",
              "        text-align: right;\n",
              "    }\n",
              "</style>\n",
              "<table border=\"1\" class=\"dataframe\">\n",
              "  <thead>\n",
              "    <tr style=\"text-align: right;\">\n",
              "      <th></th>\n",
              "      <th>GameID</th>\n",
              "      <th>Half</th>\n",
              "      <th>PlayerID</th>\n",
              "      <th>FrameID</th>\n",
              "      <th>Speed</th>\n",
              "      <th>AccelImpulse</th>\n",
              "      <th>AccelLoad</th>\n",
              "      <th>AccelX</th>\n",
              "      <th>AccelY</th>\n",
              "      <th>AccelZ</th>\n",
              "      <th>Longitude</th>\n",
              "      <th>Latitude</th>\n",
              "    </tr>\n",
              "  </thead>\n",
              "  <tbody>\n",
              "    <tr>\n",
              "      <th>count</th>\n",
              "      <td>4.570160e+06</td>\n",
              "      <td>4.570160e+06</td>\n",
              "      <td>4.570160e+06</td>\n",
              "      <td>4.570160e+06</td>\n",
              "      <td>4.570160e+06</td>\n",
              "      <td>4.570160e+06</td>\n",
              "      <td>4.570160e+06</td>\n",
              "      <td>4.570160e+06</td>\n",
              "      <td>4.570160e+06</td>\n",
              "      <td>4.570160e+06</td>\n",
              "      <td>3.054917e+06</td>\n",
              "      <td>4.570160e+06</td>\n",
              "    </tr>\n",
              "    <tr>\n",
              "      <th>mean</th>\n",
              "      <td>1.923012e+01</td>\n",
              "      <td>1.498626e+00</td>\n",
              "      <td>8.528556e+00</td>\n",
              "      <td>2.606400e+03</td>\n",
              "      <td>1.077363e+00</td>\n",
              "      <td>9.098921e-01</td>\n",
              "      <td>1.758338e-02</td>\n",
              "      <td>-3.578122e-03</td>\n",
              "      <td>6.970135e-01</td>\n",
              "      <td>5.002148e-01</td>\n",
              "      <td>4.555896e+00</td>\n",
              "      <td>2.410195e+01</td>\n",
              "    </tr>\n",
              "    <tr>\n",
              "      <th>std</th>\n",
              "      <td>1.111727e+01</td>\n",
              "      <td>4.999982e-01</td>\n",
              "      <td>4.879095e+00</td>\n",
              "      <td>1.540146e+03</td>\n",
              "      <td>1.428866e+00</td>\n",
              "      <td>1.296938e+00</td>\n",
              "      <td>3.484887e-02</td>\n",
              "      <td>3.066628e-01</td>\n",
              "      <td>6.388154e-01</td>\n",
              "      <td>4.468712e-01</td>\n",
              "      <td>6.795329e+01</td>\n",
              "      <td>3.145520e+01</td>\n",
              "    </tr>\n",
              "    <tr>\n",
              "      <th>min</th>\n",
              "      <td>1.000000e+00</td>\n",
              "      <td>1.000000e+00</td>\n",
              "      <td>1.000000e+00</td>\n",
              "      <td>1.000000e+00</td>\n",
              "      <td>0.000000e+00</td>\n",
              "      <td>0.000000e+00</td>\n",
              "      <td>0.000000e+00</td>\n",
              "      <td>-7.678750e+00</td>\n",
              "      <td>-5.922500e+00</td>\n",
              "      <td>-9.733750e+00</td>\n",
              "      <td>-8.914572e+01</td>\n",
              "      <td>-8.757981e+01</td>\n",
              "    </tr>\n",
              "    <tr>\n",
              "      <th>25%</th>\n",
              "      <td>1.000000e+01</td>\n",
              "      <td>1.000000e+00</td>\n",
              "      <td>4.000000e+00</td>\n",
              "      <td>1.289000e+03</td>\n",
              "      <td>0.000000e+00</td>\n",
              "      <td>0.000000e+00</td>\n",
              "      <td>1.538392e-03</td>\n",
              "      <td>-1.537500e-01</td>\n",
              "      <td>4.837500e-01</td>\n",
              "      <td>2.900000e-01</td>\n",
              "      <td>-8.159299e+01</td>\n",
              "      <td>2.499372e+01</td>\n",
              "    </tr>\n",
              "    <tr>\n",
              "      <th>50%</th>\n",
              "      <td>1.900000e+01</td>\n",
              "      <td>1.000000e+00</td>\n",
              "      <td>8.000000e+00</td>\n",
              "      <td>2.577000e+03</td>\n",
              "      <td>4.916671e-01</td>\n",
              "      <td>2.222224e-01</td>\n",
              "      <td>4.327333e-03</td>\n",
              "      <td>-1.250000e-03</td>\n",
              "      <td>8.450000e-01</td>\n",
              "      <td>5.100000e-01</td>\n",
              "      <td>2.253125e+00</td>\n",
              "      <td>3.777820e+01</td>\n",
              "    </tr>\n",
              "    <tr>\n",
              "      <th>75%</th>\n",
              "      <td>2.900000e+01</td>\n",
              "      <td>2.000000e+00</td>\n",
              "      <td>1.300000e+01</td>\n",
              "      <td>3.865000e+03</td>\n",
              "      <td>1.586112e+00</td>\n",
              "      <td>1.416668e+00</td>\n",
              "      <td>1.764683e-02</td>\n",
              "      <td>1.450000e-01</td>\n",
              "      <td>1.021250e+00</td>\n",
              "      <td>7.850000e-01</td>\n",
              "      <td>5.546727e+01</td>\n",
              "      <td>4.844337e+01</td>\n",
              "    </tr>\n",
              "    <tr>\n",
              "      <th>max</th>\n",
              "      <td>3.800000e+01</td>\n",
              "      <td>2.000000e+00</td>\n",
              "      <td>2.100000e+01</td>\n",
              "      <td>6.760000e+03</td>\n",
              "      <td>9.016674e+00</td>\n",
              "      <td>5.972227e+00</td>\n",
              "      <td>2.072141e+00</td>\n",
              "      <td>8.588750e+00</td>\n",
              "      <td>7.302500e+00</td>\n",
              "      <td>7.256250e+00</td>\n",
              "      <td>8.855080e+01</td>\n",
              "      <td>4.884404e+01</td>\n",
              "    </tr>\n",
              "  </tbody>\n",
              "</table>\n",
              "</div>"
            ],
            "text/plain": [
              "             GameID          Half      PlayerID       FrameID         Speed  \\\n",
              "count  4.570160e+06  4.570160e+06  4.570160e+06  4.570160e+06  4.570160e+06   \n",
              "mean   1.923012e+01  1.498626e+00  8.528556e+00  2.606400e+03  1.077363e+00   \n",
              "std    1.111727e+01  4.999982e-01  4.879095e+00  1.540146e+03  1.428866e+00   \n",
              "min    1.000000e+00  1.000000e+00  1.000000e+00  1.000000e+00  0.000000e+00   \n",
              "25%    1.000000e+01  1.000000e+00  4.000000e+00  1.289000e+03  0.000000e+00   \n",
              "50%    1.900000e+01  1.000000e+00  8.000000e+00  2.577000e+03  4.916671e-01   \n",
              "75%    2.900000e+01  2.000000e+00  1.300000e+01  3.865000e+03  1.586112e+00   \n",
              "max    3.800000e+01  2.000000e+00  2.100000e+01  6.760000e+03  9.016674e+00   \n",
              "\n",
              "       AccelImpulse     AccelLoad        AccelX        AccelY        AccelZ  \\\n",
              "count  4.570160e+06  4.570160e+06  4.570160e+06  4.570160e+06  4.570160e+06   \n",
              "mean   9.098921e-01  1.758338e-02 -3.578122e-03  6.970135e-01  5.002148e-01   \n",
              "std    1.296938e+00  3.484887e-02  3.066628e-01  6.388154e-01  4.468712e-01   \n",
              "min    0.000000e+00  0.000000e+00 -7.678750e+00 -5.922500e+00 -9.733750e+00   \n",
              "25%    0.000000e+00  1.538392e-03 -1.537500e-01  4.837500e-01  2.900000e-01   \n",
              "50%    2.222224e-01  4.327333e-03 -1.250000e-03  8.450000e-01  5.100000e-01   \n",
              "75%    1.416668e+00  1.764683e-02  1.450000e-01  1.021250e+00  7.850000e-01   \n",
              "max    5.972227e+00  2.072141e+00  8.588750e+00  7.302500e+00  7.256250e+00   \n",
              "\n",
              "          Longitude      Latitude  \n",
              "count  3.054917e+06  4.570160e+06  \n",
              "mean   4.555896e+00  2.410195e+01  \n",
              "std    6.795329e+01  3.145520e+01  \n",
              "min   -8.914572e+01 -8.757981e+01  \n",
              "25%   -8.159299e+01  2.499372e+01  \n",
              "50%    2.253125e+00  3.777820e+01  \n",
              "75%    5.546727e+01  4.844337e+01  \n",
              "max    8.855080e+01  4.884404e+01  "
            ]
          },
          "metadata": {
            "tags": []
          },
          "execution_count": 132
        }
      ]
    },
    {
      "metadata": {
        "id": "q78QBWa7FV_T",
        "colab_type": "code",
        "outputId": "0cb7f120-0ad8-47a3-eef5-2c425f7682b3",
        "colab": {
          "base_uri": "https://localhost:8080/",
          "height": 272
        }
      },
      "cell_type": "code",
      "source": [
        "gps.dtypes"
      ],
      "execution_count": 0,
      "outputs": [
        {
          "output_type": "execute_result",
          "data": {
            "text/plain": [
              "GameID            int64\n",
              "Half              int64\n",
              "PlayerID          int64\n",
              "FrameID           int64\n",
              "Time             object\n",
              "GameClock        object\n",
              "Speed           float64\n",
              "AccelImpulse    float64\n",
              "AccelLoad       float64\n",
              "AccelX          float64\n",
              "AccelY          float64\n",
              "AccelZ          float64\n",
              "Longitude       float64\n",
              "Latitude        float64\n",
              "dtype: object"
            ]
          },
          "metadata": {
            "tags": []
          },
          "execution_count": 44
        }
      ]
    },
    {
      "metadata": {
        "id": "pX3d0bLs_Mc8",
        "colab_type": "code",
        "colab": {}
      },
      "cell_type": "code",
      "source": [
        "categ = {\n",
        "    0: 'Win',\n",
        "    1: 'Loss'\n",
        "}    \n",
        "gps['GameID']  = [categ[x] for x in gps3['GameID'] ]"
      ],
      "execution_count": 0,
      "outputs": []
    },
    {
      "metadata": {
        "id": "TgrlCg_66qYl",
        "colab_type": "code",
        "outputId": "aa492da8-24b1-428a-c2c0-8733b9f0946f",
        "colab": {
          "base_uri": "https://localhost:8080/",
          "height": 1261
        }
      },
      "cell_type": "code",
      "source": [
        "num_cols = [ 'Speed',\n",
        "       'AccelImpulse', 'AccelLoad', 'AccelX', 'AccelY', 'AccelZ'] \n",
        "\n",
        "## Function to plot conditioned histograms\n",
        "def cond_hists(df, plot_cols, grid_col):\n",
        "    import matplotlib.pyplot as plt\n",
        "    import seaborn as sns\n",
        "    ## Loop over the list of columns\n",
        "    for col in plot_cols:\n",
        "        grid1 = sns.FacetGrid(df, col=grid_col)\n",
        "        grid1.map(plt.hist, col, alpha=.7)\n",
        "        plt.xlim(xmin=3.73, xmax = 3.74)\n",
        "    return grid_col\n",
        "\n",
        "\n",
        "\n",
        "cond_hists(gps3, num_cols, 'GameID')\n",
        "\n"
      ],
      "execution_count": 0,
      "outputs": [
        {
          "output_type": "execute_result",
          "data": {
            "text/plain": [
              "'GameID'"
            ]
          },
          "metadata": {
            "tags": []
          },
          "execution_count": 378
        },
        {
          "output_type": "display_data",
          "data": {
            "image/png": "[encoded data removed]",
            "text/plain": [
              "<Figure size 432x216 with 2 Axes>"
            ]
          },
          "metadata": {
            "tags": []
          }
        },
        {
          "output_type": "display_data",
          "data": {
            "image/png": "[encoded data removed]",
            "text/plain": [
              "<Figure size 432x216 with 2 Axes>"
            ]
          },
          "metadata": {
            "tags": []
          }
        },
        {
          "output_type": "display_data",
          "data": {
            "image/png": "[encoded data removed]",
            "text/plain": [
              "<Figure size 432x216 with 2 Axes>"
            ]
          },
          "metadata": {
            "tags": []
          }
        },
        {
          "output_type": "display_data",
          "data": {
            "image/png": "[encoded data removed]",
            "text/plain": [
              "<Figure size 432x216 with 2 Axes>"
            ]
          },
          "metadata": {
            "tags": []
          }
        },
        {
          "output_type": "display_data",
          "data": {
            "image/png": "[encoded data removed]",
            "text/plain": [
              "<Figure size 432x216 with 2 Axes>"
            ]
          },
          "metadata": {
            "tags": []
          }
        },
        {
          "output_type": "display_data",
          "data": {
            "image/png": "[encoded data removed]",
            "text/plain": [
              "<Figure size 432x216 with 2 Axes>"
            ]
          },
          "metadata": {
            "tags": []
          }
        }
      ]
    },
    {
      "metadata": {
        "id": "vPNt1LxeY6Pp",
        "colab_type": "text"
      },
      "cell_type": "markdown",
      "source": [
        "### Comparing Indiviudal Performances (using PlayerID from GPS data)"
      ]
    },
    {
      "metadata": {
        "id": "-yfAkEllBtQr",
        "colab_type": "code",
        "outputId": "ab36e78c-36d7-4a00-da02-795946d87eb6",
        "colab": {
          "base_uri": "https://localhost:8080/",
          "height": 551
        }
      },
      "cell_type": "code",
      "source": [
        "def plot_violin(credit, cols, col_x = 'PlayerID'):\n",
        "    for col in cols:\n",
        "        sns.set_style(\"whitegrid\")\n",
        "        sns.violinplot(col_x, col, data=credit)\n",
        "        plt.xlabel(col_x) # Set text for the x axis\n",
        "        plt.ylabel(col)# Set text for y axis\n",
        "        plt.ylim(ymin=-0.01, ymax = 0.028)\n",
        "\n",
        "        plt.show()\n",
        "\n",
        "plot_violin(gps, num_col3)"
      ],
      "execution_count": 0,
      "outputs": [
        {
          "output_type": "stream",
          "text": [
            "/usr/local/lib/python3.6/dist-packages/seaborn/categorical.py:588: FutureWarning: remove_na is deprecated and is a private function. Do not use.\n",
            "  kde_data = remove_na(group_data)\n",
            "/usr/local/lib/python3.6/dist-packages/seaborn/categorical.py:816: FutureWarning: remove_na is deprecated and is a private function. Do not use.\n",
            "  violin_data = remove_na(group_data)\n",
            "/usr/local/lib/python3.6/dist-packages/matplotlib/axes/_base.py:3604: MatplotlibDeprecationWarning: \n",
            "The `ymin` argument was deprecated in Matplotlib 3.0 and will be removed in 3.2. Use `bottom` instead.\n",
            "  alternative='`bottom`', obj_type='argument')\n",
            "/usr/local/lib/python3.6/dist-packages/matplotlib/axes/_base.py:3610: MatplotlibDeprecationWarning: \n",
            "The `ymax` argument was deprecated in Matplotlib 3.0 and will be removed in 3.2. Use `top` instead.\n",
            "  alternative='`top`', obj_type='argument')\n"
          ],
          "name": "stderr"
        },
        {
          "output_type": "display_data",
          "data": {
            "image/png": "[encoded data removed]",
            "text/plain": [
              "<Figure size 576x396 with 1 Axes>"
            ]
          },
          "metadata": {
            "tags": []
          }
        }
      ]
    },
    {
      "metadata": {
        "id": "wlhJgaQUxJxG",
        "colab_type": "code",
        "colab": {}
      },
      "cell_type": "code",
      "source": [
        ""
      ],
      "execution_count": 0,
      "outputs": []
    },
    {
      "metadata": {
        "id": "-gKg3K2UFXYp",
        "colab_type": "text"
      },
      "cell_type": "markdown",
      "source": [
        "### Games"
      ]
    },
    {
      "metadata": {
        "id": "IEh_xvsiDDC5",
        "colab_type": "code",
        "colab": {}
      },
      "cell_type": "code",
      "source": [
        "games = pd.read_csv('games.csv')"
      ],
      "execution_count": 0,
      "outputs": []
    },
    {
      "metadata": {
        "id": "j_T5Tdw_E4c4",
        "colab_type": "code",
        "outputId": "8bf1455d-be3c-4ad4-d85b-7ad5c54d2c4a",
        "colab": {
          "base_uri": "https://localhost:8080/",
          "height": 34
        }
      },
      "cell_type": "code",
      "source": [
        "games.shape"
      ],
      "execution_count": 0,
      "outputs": [
        {
          "output_type": "execute_result",
          "data": {
            "text/plain": [
              "(38, 9)"
            ]
          },
          "metadata": {
            "tags": []
          },
          "execution_count": 25
        }
      ]
    },
    {
      "metadata": {
        "id": "OFrT5fbiDbTN",
        "colab_type": "code",
        "outputId": "0679a640-76b8-45fa-b06c-095bcf4aeab5",
        "colab": {
          "base_uri": "https://localhost:8080/",
          "height": 204
        }
      },
      "cell_type": "code",
      "source": [
        "games.head()"
      ],
      "execution_count": 0,
      "outputs": [
        {
          "output_type": "execute_result",
          "data": {
            "text/html": [
              "<div>\n",
              "<style scoped>\n",
              "    .dataframe tbody tr th:only-of-type {\n",
              "        vertical-align: middle;\n",
              "    }\n",
              "\n",
              "    .dataframe tbody tr th {\n",
              "        vertical-align: top;\n",
              "    }\n",
              "\n",
              "    .dataframe thead th {\n",
              "        text-align: right;\n",
              "    }\n",
              "</style>\n",
              "<table border=\"1\" class=\"dataframe\">\n",
              "  <thead>\n",
              "    <tr style=\"text-align: right;\">\n",
              "      <th></th>\n",
              "      <th>GameID</th>\n",
              "      <th>Date</th>\n",
              "      <th>Tournament</th>\n",
              "      <th>TournamentGame</th>\n",
              "      <th>Team</th>\n",
              "      <th>Opponent</th>\n",
              "      <th>Outcome</th>\n",
              "      <th>TeamPoints</th>\n",
              "      <th>TeamPointsAllowed</th>\n",
              "    </tr>\n",
              "  </thead>\n",
              "  <tbody>\n",
              "    <tr>\n",
              "      <th>0</th>\n",
              "      <td>1</td>\n",
              "      <td>2017-11-30</td>\n",
              "      <td>Dubai</td>\n",
              "      <td>1</td>\n",
              "      <td>Canada</td>\n",
              "      <td>Spain</td>\n",
              "      <td>W</td>\n",
              "      <td>19</td>\n",
              "      <td>0</td>\n",
              "    </tr>\n",
              "    <tr>\n",
              "      <th>1</th>\n",
              "      <td>2</td>\n",
              "      <td>2017-11-30</td>\n",
              "      <td>Dubai</td>\n",
              "      <td>2</td>\n",
              "      <td>Canada</td>\n",
              "      <td>Ireland</td>\n",
              "      <td>W</td>\n",
              "      <td>31</td>\n",
              "      <td>0</td>\n",
              "    </tr>\n",
              "    <tr>\n",
              "      <th>2</th>\n",
              "      <td>3</td>\n",
              "      <td>2017-11-30</td>\n",
              "      <td>Dubai</td>\n",
              "      <td>3</td>\n",
              "      <td>Canada</td>\n",
              "      <td>Fiji</td>\n",
              "      <td>W</td>\n",
              "      <td>31</td>\n",
              "      <td>14</td>\n",
              "    </tr>\n",
              "    <tr>\n",
              "      <th>3</th>\n",
              "      <td>4</td>\n",
              "      <td>2017-12-01</td>\n",
              "      <td>Dubai</td>\n",
              "      <td>4</td>\n",
              "      <td>Canada</td>\n",
              "      <td>France</td>\n",
              "      <td>W</td>\n",
              "      <td>24</td>\n",
              "      <td>19</td>\n",
              "    </tr>\n",
              "    <tr>\n",
              "      <th>4</th>\n",
              "      <td>5</td>\n",
              "      <td>2017-12-01</td>\n",
              "      <td>Dubai</td>\n",
              "      <td>5</td>\n",
              "      <td>Canada</td>\n",
              "      <td>Australia</td>\n",
              "      <td>L</td>\n",
              "      <td>7</td>\n",
              "      <td>25</td>\n",
              "    </tr>\n",
              "  </tbody>\n",
              "</table>\n",
              "</div>"
            ],
            "text/plain": [
              "   GameID        Date Tournament  TournamentGame    Team   Opponent Outcome  \\\n",
              "0       1  2017-11-30      Dubai               1  Canada      Spain       W   \n",
              "1       2  2017-11-30      Dubai               2  Canada    Ireland       W   \n",
              "2       3  2017-11-30      Dubai               3  Canada       Fiji       W   \n",
              "3       4  2017-12-01      Dubai               4  Canada     France       W   \n",
              "4       5  2017-12-01      Dubai               5  Canada  Australia       L   \n",
              "\n",
              "   TeamPoints  TeamPointsAllowed  \n",
              "0          19                  0  \n",
              "1          31                  0  \n",
              "2          31                 14  \n",
              "3          24                 19  \n",
              "4           7                 25  "
            ]
          },
          "metadata": {
            "tags": []
          },
          "execution_count": 18
        }
      ]
    },
    {
      "metadata": {
        "id": "_MkGhtGwFbzT",
        "colab_type": "code",
        "outputId": "a955fce3-11d3-41b6-bacd-ff66c7fbc974",
        "colab": {
          "base_uri": "https://localhost:8080/",
          "height": 187
        }
      },
      "cell_type": "code",
      "source": [
        "games.dtypes"
      ],
      "execution_count": 0,
      "outputs": [
        {
          "output_type": "execute_result",
          "data": {
            "text/plain": [
              "GameID                int64\n",
              "Date                 object\n",
              "Tournament           object\n",
              "TournamentGame        int64\n",
              "Team                 object\n",
              "Opponent             object\n",
              "Outcome              object\n",
              "TeamPoints            int64\n",
              "TeamPointsAllowed     int64\n",
              "dtype: object"
            ]
          },
          "metadata": {
            "tags": []
          },
          "execution_count": 51
        }
      ]
    },
    {
      "metadata": {
        "id": "E3ske_BbIIYm",
        "colab_type": "code",
        "outputId": "79ecdba6-047c-44a7-88fb-41ee76860619",
        "colab": {
          "base_uri": "https://localhost:8080/",
          "height": 187
        }
      },
      "cell_type": "code",
      "source": [
        "games.isnull().values.any()\n",
        "games.isnull().sum()"
      ],
      "execution_count": 0,
      "outputs": [
        {
          "output_type": "execute_result",
          "data": {
            "text/plain": [
              "GameID               0\n",
              "Date                 0\n",
              "Tournament           0\n",
              "TournamentGame       0\n",
              "Team                 0\n",
              "Opponent             0\n",
              "Outcome              0\n",
              "TeamPoints           0\n",
              "TeamPointsAllowed    0\n",
              "dtype: int64"
            ]
          },
          "metadata": {
            "tags": []
          },
          "execution_count": 42
        }
      ]
    },
    {
      "metadata": {
        "id": "EcPdOR-ROO9C",
        "colab_type": "code",
        "outputId": "c0900898-404e-4b6c-d351-680756f34ad8",
        "colab": {
          "base_uri": "https://localhost:8080/",
          "height": 68
        }
      },
      "cell_type": "code",
      "source": [
        "games.columns"
      ],
      "execution_count": 0,
      "outputs": [
        {
          "output_type": "execute_result",
          "data": {
            "text/plain": [
              "Index(['GameID', 'Date', 'Tournament', 'TournamentGame', 'Team', 'Opponent',\n",
              "       'Outcome', 'TeamPoints', 'TeamPointsAllowed'],\n",
              "      dtype='object')"
            ]
          },
          "metadata": {
            "tags": []
          },
          "execution_count": 53
        }
      ]
    },
    {
      "metadata": {
        "id": "t7rRNbOvFcBw",
        "colab_type": "code",
        "outputId": "90531a76-ed54-4c8f-faea-79270babf888",
        "colab": {
          "base_uri": "https://localhost:8080/",
          "height": 1445
        }
      },
      "cell_type": "code",
      "source": [
        "cat_games = [ 'Tournament', 'TournamentGame', 'Team', 'Opponent',\n",
        "       'Outcome', 'TeamPoints', 'TeamPointsAllowed']\n",
        "count_unique(games, cat_games)"
      ],
      "execution_count": 0,
      "outputs": [
        {
          "output_type": "stream",
          "text": [
            "\n",
            "For column Tournament\n",
            "Langford        6\n",
            "Sydney          6\n",
            "Dubai           6\n",
            "Paris           6\n",
            "Kitakyushu      5\n",
            "Commonwealth    5\n",
            "World Cup       4\n",
            "Name: Tournament, dtype: int64\n",
            "\n",
            "For column TournamentGame\n",
            "4    7\n",
            "3    7\n",
            "2    7\n",
            "1    7\n",
            "5    6\n",
            "6    4\n",
            "Name: TournamentGame, dtype: int64\n",
            "\n",
            "For column Team\n",
            "Canada    38\n",
            "Name: Team, dtype: int64\n",
            "\n",
            "For column Opponent\n",
            "Russia          6\n",
            "Ireland         5\n",
            "Fiji            4\n",
            "France          4\n",
            "Australia       4\n",
            "New Zealand     3\n",
            "Spain           3\n",
            "England         3\n",
            "USA             2\n",
            "Brazil          1\n",
            "South Africa    1\n",
            "Kenya           1\n",
            "Japan           1\n",
            "Name: Opponent, dtype: int64\n",
            "\n",
            "For column Outcome\n",
            "W    23\n",
            "L    15\n",
            "Name: Outcome, dtype: int64\n",
            "\n",
            "For column TeamPoints\n",
            "19    7\n",
            "24    5\n",
            "7     5\n",
            "31    3\n",
            "5     2\n",
            "14    2\n",
            "29    2\n",
            "26    2\n",
            "21    1\n",
            "17    1\n",
            "43    1\n",
            "22    1\n",
            "40    1\n",
            "28    1\n",
            "33    1\n",
            "35    1\n",
            "38    1\n",
            "0     1\n",
            "Name: TeamPoints, dtype: int64\n",
            "\n",
            "For column TeamPointsAllowed\n",
            "12    8\n",
            "24    5\n",
            "10    4\n",
            "19    3\n",
            "14    3\n",
            "0     3\n",
            "26    2\n",
            "5     2\n",
            "34    1\n",
            "33    1\n",
            "31    1\n",
            "28    1\n",
            "25    1\n",
            "22    1\n",
            "21    1\n",
            "17    1\n",
            "Name: TeamPointsAllowed, dtype: int64\n"
          ],
          "name": "stdout"
        }
      ]
    },
    {
      "metadata": {
        "id": "NfDZRfxzyum6",
        "colab_type": "code",
        "outputId": "b2a5bc99-3869-4d6b-b0bd-24a392121a94",
        "colab": {
          "base_uri": "https://localhost:8080/",
          "height": 68
        }
      },
      "cell_type": "code",
      "source": [
        "games.columns"
      ],
      "execution_count": 0,
      "outputs": [
        {
          "output_type": "execute_result",
          "data": {
            "text/plain": [
              "Index(['GameID', 'Date', 'Tournament', 'TournamentGame', 'Team', 'Opponent',\n",
              "       'Outcome', 'TeamPoints', 'TeamPointsAllowed'],\n",
              "      dtype='object')"
            ]
          },
          "metadata": {
            "tags": []
          },
          "execution_count": 176
        }
      ]
    },
    {
      "metadata": {
        "id": "fw1CcMXIytab",
        "colab_type": "code",
        "outputId": "2bd894ec-b7b3-4c10-fc5d-a662083216f6",
        "colab": {
          "base_uri": "https://localhost:8080/",
          "height": 2439
        }
      },
      "cell_type": "code",
      "source": [
        "def plot_bars(ccc, cols):\n",
        "    for col in cols:\n",
        "        fig = plt.figure(figsize=(10,6)) # define plot area\n",
        "        ax = fig.gca() # define axis    \n",
        "#        my_colors = list(islice(cycle(['b', 'r', 'g', 'y']), None, len(ccc)))\n",
        "#        my_colors = [(x/10.0, x/20.0, 0.75) for x in range(len(ccc))]\n",
        "        counts = ccc[col].value_counts() # find the counts for each unique category\n",
        "        counts.plot.bar(ax = ax, color = 'mediumorchid') # Use the plot.bar method on the counts data frame\n",
        "        \n",
        "        ax.set_title('Number of counts by ' + col) # Give the plot a main title\n",
        "        ax.set_xlabel(col) # Set text for the x axis\n",
        "        ax.set_ylabel('Number of count')# Set text for y axis\n",
        "        plt.show()\n",
        "\n",
        "#plot_cols = ['Primary_Type' ]\n",
        "        \n",
        "plot_cols = [ 'Tournament', 'TournamentGame',  'Opponent',\n",
        "       'Outcome', 'TeamPoints', 'TeamPointsAllowed']\n",
        "plot_bars(games, plot_cols)"
      ],
      "execution_count": 0,
      "outputs": [
        {
          "output_type": "display_data",
          "data": {
            "image/png": "[encoded data removed]",
            "text/plain": [
              "<Figure size 720x432 with 1 Axes>"
            ]
          },
          "metadata": {
            "tags": []
          }
        },
        {
          "output_type": "display_data",
          "data": {
            "image/png": "[encoded data removed]",
            "text/plain": [
              "<Figure size 720x432 with 1 Axes>"
            ]
          },
          "metadata": {
            "tags": []
          }
        },
        {
          "output_type": "display_data",
          "data": {
            "image/png": "[encoded data removed]",
            "text/plain": [
              "<Figure size 720x432 with 1 Axes>"
            ]
          },
          "metadata": {
            "tags": []
          }
        },
        {
          "output_type": "display_data",
          "data": {
            "image/png": "[encoded data removed]",
            "text/plain": [
              "<Figure size 720x432 with 1 Axes>"
            ]
          },
          "metadata": {
            "tags": []
          }
        },
        {
          "output_type": "display_data",
          "data": {
            "image/png": "[encoded data removed]",
            "text/plain": [
              "<Figure size 720x432 with 1 Axes>"
            ]
          },
          "metadata": {
            "tags": []
          }
        },
        {
          "output_type": "display_data",
          "data": {
            "image/png": "[encoded data removed]",
            "text/plain": [
              "<Figure size 720x432 with 1 Axes>"
            ]
          },
          "metadata": {
            "tags": []
          }
        }
      ]
    },
    {
      "metadata": {
        "id": "_dAg0sNaFbqP",
        "colab_type": "code",
        "colab": {}
      },
      "cell_type": "code",
      "source": [
        ""
      ],
      "execution_count": 0,
      "outputs": []
    },
    {
      "metadata": {
        "id": "Lf7VPCTWFdBZ",
        "colab_type": "text"
      },
      "cell_type": "markdown",
      "source": [
        "#### RPE (Self- Report)"
      ]
    },
    {
      "metadata": {
        "id": "jmkpEGYiDC8j",
        "colab_type": "code",
        "colab": {}
      },
      "cell_type": "code",
      "source": [
        "rpe = pd.read_csv('rpe.csv')"
      ],
      "execution_count": 0,
      "outputs": []
    },
    {
      "metadata": {
        "id": "UvPzJsZHE6vR",
        "colab_type": "code",
        "outputId": "5d758ba6-92e3-4698-99ec-ea557438f9a8",
        "colab": {
          "base_uri": "https://localhost:8080/",
          "height": 34
        }
      },
      "cell_type": "code",
      "source": [
        "rpe.shape"
      ],
      "execution_count": 0,
      "outputs": [
        {
          "output_type": "execute_result",
          "data": {
            "text/plain": [
              "(8860, 14)"
            ]
          },
          "metadata": {
            "tags": []
          },
          "execution_count": 26
        }
      ]
    },
    {
      "metadata": {
        "id": "QIGGqKTDDfQt",
        "colab_type": "code",
        "outputId": "ba5c42cf-fd9d-44fc-cbbe-8f8af716e175",
        "colab": {
          "base_uri": "https://localhost:8080/",
          "height": 309
        }
      },
      "cell_type": "code",
      "source": [
        "rpe.head()"
      ],
      "execution_count": 0,
      "outputs": [
        {
          "output_type": "execute_result",
          "data": {
            "text/html": [
              "<div>\n",
              "<style scoped>\n",
              "    .dataframe tbody tr th:only-of-type {\n",
              "        vertical-align: middle;\n",
              "    }\n",
              "\n",
              "    .dataframe tbody tr th {\n",
              "        vertical-align: top;\n",
              "    }\n",
              "\n",
              "    .dataframe thead th {\n",
              "        text-align: right;\n",
              "    }\n",
              "</style>\n",
              "<table border=\"1\" class=\"dataframe\">\n",
              "  <thead>\n",
              "    <tr style=\"text-align: right;\">\n",
              "      <th></th>\n",
              "      <th>Date</th>\n",
              "      <th>PlayerID</th>\n",
              "      <th>Training</th>\n",
              "      <th>SessionType</th>\n",
              "      <th>Duration</th>\n",
              "      <th>RPE</th>\n",
              "      <th>SessionLoad</th>\n",
              "      <th>DailyLoad</th>\n",
              "      <th>AcuteLoad</th>\n",
              "      <th>ChronicLoad</th>\n",
              "      <th>AcuteChronicRatio</th>\n",
              "      <th>ObjectiveRating</th>\n",
              "      <th>FocusRating</th>\n",
              "      <th>BestOutOfMyself</th>\n",
              "    </tr>\n",
              "  </thead>\n",
              "  <tbody>\n",
              "    <tr>\n",
              "      <th>0</th>\n",
              "      <td>2018-07-21</td>\n",
              "      <td>13</td>\n",
              "      <td>Yes</td>\n",
              "      <td>Mobility/Recovery</td>\n",
              "      <td>5.0</td>\n",
              "      <td>0.0</td>\n",
              "      <td>0.0</td>\n",
              "      <td>446.0</td>\n",
              "      <td>323.1</td>\n",
              "      <td>303.25</td>\n",
              "      <td>1.07</td>\n",
              "      <td>NaN</td>\n",
              "      <td>NaN</td>\n",
              "      <td>Not at all</td>\n",
              "    </tr>\n",
              "    <tr>\n",
              "      <th>1</th>\n",
              "      <td>2018-07-21</td>\n",
              "      <td>13</td>\n",
              "      <td>Yes</td>\n",
              "      <td>Game</td>\n",
              "      <td>29.0</td>\n",
              "      <td>7.0</td>\n",
              "      <td>203.0</td>\n",
              "      <td>NaN</td>\n",
              "      <td>NaN</td>\n",
              "      <td>NaN</td>\n",
              "      <td>NaN</td>\n",
              "      <td>NaN</td>\n",
              "      <td>NaN</td>\n",
              "      <td>Not at all</td>\n",
              "    </tr>\n",
              "    <tr>\n",
              "      <th>2</th>\n",
              "      <td>2018-07-21</td>\n",
              "      <td>13</td>\n",
              "      <td>Yes</td>\n",
              "      <td>Game</td>\n",
              "      <td>27.0</td>\n",
              "      <td>9.0</td>\n",
              "      <td>243.0</td>\n",
              "      <td>NaN</td>\n",
              "      <td>NaN</td>\n",
              "      <td>NaN</td>\n",
              "      <td>NaN</td>\n",
              "      <td>NaN</td>\n",
              "      <td>NaN</td>\n",
              "      <td>Not at all</td>\n",
              "    </tr>\n",
              "    <tr>\n",
              "      <th>3</th>\n",
              "      <td>2018-07-20</td>\n",
              "      <td>11</td>\n",
              "      <td>Yes</td>\n",
              "      <td>Game</td>\n",
              "      <td>36.0</td>\n",
              "      <td>6.0</td>\n",
              "      <td>216.0</td>\n",
              "      <td>534.0</td>\n",
              "      <td>256.3</td>\n",
              "      <td>344.18</td>\n",
              "      <td>0.74</td>\n",
              "      <td>9.0</td>\n",
              "      <td>10.0</td>\n",
              "      <td>Absolutely</td>\n",
              "    </tr>\n",
              "    <tr>\n",
              "      <th>4</th>\n",
              "      <td>2018-07-20</td>\n",
              "      <td>11</td>\n",
              "      <td>Yes</td>\n",
              "      <td>Game</td>\n",
              "      <td>36.0</td>\n",
              "      <td>8.0</td>\n",
              "      <td>288.0</td>\n",
              "      <td>NaN</td>\n",
              "      <td>NaN</td>\n",
              "      <td>NaN</td>\n",
              "      <td>NaN</td>\n",
              "      <td>9.0</td>\n",
              "      <td>10.0</td>\n",
              "      <td>Absolutely</td>\n",
              "    </tr>\n",
              "  </tbody>\n",
              "</table>\n",
              "</div>"
            ],
            "text/plain": [
              "         Date  PlayerID Training        SessionType  Duration  RPE  \\\n",
              "0  2018-07-21        13      Yes  Mobility/Recovery       5.0  0.0   \n",
              "1  2018-07-21        13      Yes               Game      29.0  7.0   \n",
              "2  2018-07-21        13      Yes               Game      27.0  9.0   \n",
              "3  2018-07-20        11      Yes               Game      36.0  6.0   \n",
              "4  2018-07-20        11      Yes               Game      36.0  8.0   \n",
              "\n",
              "   SessionLoad  DailyLoad  AcuteLoad  ChronicLoad  AcuteChronicRatio  \\\n",
              "0          0.0      446.0      323.1       303.25               1.07   \n",
              "1        203.0        NaN        NaN          NaN                NaN   \n",
              "2        243.0        NaN        NaN          NaN                NaN   \n",
              "3        216.0      534.0      256.3       344.18               0.74   \n",
              "4        288.0        NaN        NaN          NaN                NaN   \n",
              "\n",
              "   ObjectiveRating  FocusRating BestOutOfMyself  \n",
              "0              NaN          NaN      Not at all  \n",
              "1              NaN          NaN      Not at all  \n",
              "2              NaN          NaN      Not at all  \n",
              "3              9.0         10.0      Absolutely  \n",
              "4              9.0         10.0      Absolutely  "
            ]
          },
          "metadata": {
            "tags": []
          },
          "execution_count": 20
        }
      ]
    },
    {
      "metadata": {
        "id": "WYKZxJqzFipj",
        "colab_type": "code",
        "outputId": "32aeefa1-0641-4b53-8ca4-9ea551e65cd7",
        "colab": {
          "base_uri": "https://localhost:8080/",
          "height": 102
        }
      },
      "cell_type": "code",
      "source": [
        "rpe.columns"
      ],
      "execution_count": 0,
      "outputs": [
        {
          "output_type": "execute_result",
          "data": {
            "text/plain": [
              "Index(['Date', 'PlayerID', 'Training', 'SessionType', 'Duration', 'RPE',\n",
              "       'SessionLoad', 'DailyLoad', 'AcuteLoad', 'ChronicLoad',\n",
              "       'AcuteChronicRatio', 'ObjectiveRating', 'FocusRating',\n",
              "       'BestOutOfMyself'],\n",
              "      dtype='object')"
            ]
          },
          "metadata": {
            "tags": []
          },
          "execution_count": 36
        }
      ]
    },
    {
      "metadata": {
        "id": "jlzaBHc-IA1C",
        "colab_type": "code",
        "outputId": "5e47b50f-7efe-44f4-d416-f730ae14bb38",
        "colab": {
          "base_uri": "https://localhost:8080/",
          "height": 272
        }
      },
      "cell_type": "code",
      "source": [
        "rpe.dtypes"
      ],
      "execution_count": 0,
      "outputs": [
        {
          "output_type": "execute_result",
          "data": {
            "text/plain": [
              "Date                  object\n",
              "PlayerID               int64\n",
              "Training              object\n",
              "SessionType           object\n",
              "Duration             float64\n",
              "RPE                  float64\n",
              "SessionLoad          float64\n",
              "DailyLoad            float64\n",
              "AcuteLoad            float64\n",
              "ChronicLoad          float64\n",
              "AcuteChronicRatio    float64\n",
              "ObjectiveRating      float64\n",
              "FocusRating          float64\n",
              "BestOutOfMyself       object\n",
              "dtype: object"
            ]
          },
          "metadata": {
            "tags": []
          },
          "execution_count": 39
        }
      ]
    },
    {
      "metadata": {
        "id": "y6acOy-hHnXe",
        "colab_type": "code",
        "outputId": "af8bd689-2872-4694-e62e-cab0f1cf70c1",
        "colab": {
          "base_uri": "https://localhost:8080/",
          "height": 272
        }
      },
      "cell_type": "code",
      "source": [
        "rpe.isnull().values.any()\n",
        "rpe.isnull().sum()"
      ],
      "execution_count": 0,
      "outputs": [
        {
          "output_type": "execute_result",
          "data": {
            "text/plain": [
              "Date                    0\n",
              "PlayerID                0\n",
              "Training                0\n",
              "SessionType          1239\n",
              "Duration             1239\n",
              "RPE                  1239\n",
              "SessionLoad          1239\n",
              "DailyLoad            5711\n",
              "AcuteLoad            4511\n",
              "ChronicLoad          4477\n",
              "AcuteChronicRatio    4511\n",
              "ObjectiveRating      4136\n",
              "FocusRating          4109\n",
              "BestOutOfMyself      5841\n",
              "dtype: int64"
            ]
          },
          "metadata": {
            "tags": []
          },
          "execution_count": 38
        }
      ]
    },
    {
      "metadata": {
        "id": "FNGi5Lu90Vtx",
        "colab_type": "code",
        "colab": {}
      },
      "cell_type": "code",
      "source": [
        "rpe2.drop(['USG', 'BestOutOf'], axis=1, inplace=True)  ## Dropping the columns with too many Null Values"
      ],
      "execution_count": 0,
      "outputs": []
    },
    {
      "metadata": {
        "id": "jr88vd420K-A",
        "colab_type": "code",
        "outputId": "de7c7446-607e-4663-b835-399daeba6582",
        "colab": {
          "base_uri": "https://localhost:8080/",
          "height": 34
        }
      },
      "cell_type": "code",
      "source": [
        "rpe.shape"
      ],
      "execution_count": 0,
      "outputs": [
        {
          "output_type": "execute_result",
          "data": {
            "text/plain": [
              "(8860, 14)"
            ]
          },
          "metadata": {
            "tags": []
          },
          "execution_count": 180
        }
      ]
    },
    {
      "metadata": {
        "id": "6ZWFsZce0H1T",
        "colab_type": "code",
        "outputId": "ec537cc1-c1a9-48b1-f0e6-52a6e9dddd38",
        "colab": {
          "base_uri": "https://localhost:8080/",
          "height": 102
        }
      },
      "cell_type": "code",
      "source": [
        "rpe.columns"
      ],
      "execution_count": 0,
      "outputs": [
        {
          "output_type": "execute_result",
          "data": {
            "text/plain": [
              "Index(['Date', 'PlayerID', 'Training', 'SessionType', 'Duration', 'RPE',\n",
              "       'SessionLoad', 'DailyLoad', 'AcuteLoad', 'ChronicLoad',\n",
              "       'AcuteChronicRatio', 'ObjectiveRating', 'FocusRating',\n",
              "       'BestOutOfMyself'],\n",
              "      dtype='object')"
            ]
          },
          "metadata": {
            "tags": []
          },
          "execution_count": 179
        }
      ]
    },
    {
      "metadata": {
        "id": "wgtaMpOG0CKM",
        "colab_type": "code",
        "colab": {}
      },
      "cell_type": "code",
      "source": [
        "def plot_bars(ccc, cols):\n",
        "    for col in cols:\n",
        "        fig = plt.figure(figsize=(10,6)) # define plot area\n",
        "        ax = fig.gca() # define axis    \n",
        "#        my_colors = list(islice(cycle(['b', 'r', 'g', 'y']), None, len(ccc)))\n",
        "#        my_colors = [(x/10.0, x/20.0, 0.75) for x in range(len(ccc))]\n",
        "        counts = ccc[col].value_counts() # find the counts for each unique category\n",
        "        counts.plot.bar(ax = ax, color = 'mediumorchid') # Use the plot.bar method on the counts data frame\n",
        "        \n",
        "        ax.set_title('Number of counts by ' + col) # Give the plot a main title\n",
        "        ax.set_xlabel(col) # Set text for the x axis\n",
        "        ax.set_ylabel('Number of count')# Set text for y axis\n",
        "        plt.show()\n",
        "\n",
        "#plot_cols = ['Primary_Type' ]\n",
        "        \n",
        "plot_cols = [ 'Fatigue', 'Soreness', 'Desire', 'Irritability',\n",
        "       'BedTime', 'WakeTime', 'SleepHours', 'SleepQuality', 'MonitoringScore',\n",
        "       'Pain', 'Illness', 'Menstruation', 'Nutrition', 'NutritionAdjustment',\n",
        "       'TrainingReadiness']\n",
        "plot_bars(rpe, plot_cols)"
      ],
      "execution_count": 0,
      "outputs": []
    },
    {
      "metadata": {
        "id": "ZFWN7xdq0CRi",
        "colab_type": "code",
        "colab": {}
      },
      "cell_type": "code",
      "source": [
        ""
      ],
      "execution_count": 0,
      "outputs": []
    },
    {
      "metadata": {
        "id": "pbzi6yBX0Cbq",
        "colab_type": "code",
        "colab": {}
      },
      "cell_type": "code",
      "source": [
        ""
      ],
      "execution_count": 0,
      "outputs": []
    },
    {
      "metadata": {
        "id": "VwNB-P0oFieT",
        "colab_type": "code",
        "colab": {}
      },
      "cell_type": "code",
      "source": [
        ""
      ],
      "execution_count": 0,
      "outputs": []
    },
    {
      "metadata": {
        "id": "36UkpWg3FkeH",
        "colab_type": "text"
      },
      "cell_type": "markdown",
      "source": [
        "### Wellness"
      ]
    },
    {
      "metadata": {
        "id": "7MTyBrAjCGcj",
        "colab_type": "code",
        "colab": {}
      },
      "cell_type": "code",
      "source": [
        "wellness = pd.read_csv('wellness.csv')"
      ],
      "execution_count": 0,
      "outputs": []
    },
    {
      "metadata": {
        "id": "q_RIKiz850wn",
        "colab_type": "code",
        "colab": {}
      },
      "cell_type": "code",
      "source": [
        "#https://stackoverflow.com/questions/35590474/how-to-create-appropriate-dummy-variables-for-all-categorical-variables-with-mor"
      ],
      "execution_count": 0,
      "outputs": []
    },
    {
      "metadata": {
        "id": "9H6H896l50rp",
        "colab_type": "code",
        "colab": {}
      },
      "cell_type": "code",
      "source": [
        ""
      ],
      "execution_count": 0,
      "outputs": []
    },
    {
      "metadata": {
        "id": "AWKY5y2YE9L_",
        "colab_type": "code",
        "outputId": "30a04bee-29a4-451a-f818-321e6f02e3ce",
        "colab": {
          "base_uri": "https://localhost:8080/",
          "height": 34
        }
      },
      "cell_type": "code",
      "source": [
        "wellness.shape"
      ],
      "execution_count": 0,
      "outputs": [
        {
          "output_type": "execute_result",
          "data": {
            "text/plain": [
              "(5011, 19)"
            ]
          },
          "metadata": {
            "tags": []
          },
          "execution_count": 27
        }
      ]
    },
    {
      "metadata": {
        "id": "K1SlnR1ADipS",
        "colab_type": "code",
        "outputId": "529cd724-ed78-489c-c4ad-1b524df0d79a",
        "colab": {
          "base_uri": "https://localhost:8080/",
          "height": 309
        }
      },
      "cell_type": "code",
      "source": [
        "wellness.head()"
      ],
      "execution_count": 0,
      "outputs": [
        {
          "output_type": "execute_result",
          "data": {
            "text/html": [
              "<div>\n",
              "<style scoped>\n",
              "    .dataframe tbody tr th:only-of-type {\n",
              "        vertical-align: middle;\n",
              "    }\n",
              "\n",
              "    .dataframe tbody tr th {\n",
              "        vertical-align: top;\n",
              "    }\n",
              "\n",
              "    .dataframe thead th {\n",
              "        text-align: right;\n",
              "    }\n",
              "</style>\n",
              "<table border=\"1\" class=\"dataframe\">\n",
              "  <thead>\n",
              "    <tr style=\"text-align: right;\">\n",
              "      <th></th>\n",
              "      <th>Date</th>\n",
              "      <th>PlayerID</th>\n",
              "      <th>Fatigue</th>\n",
              "      <th>Soreness</th>\n",
              "      <th>Desire</th>\n",
              "      <th>Irritability</th>\n",
              "      <th>BedTime</th>\n",
              "      <th>WakeTime</th>\n",
              "      <th>SleepHours</th>\n",
              "      <th>SleepQuality</th>\n",
              "      <th>MonitoringScore</th>\n",
              "      <th>Pain</th>\n",
              "      <th>Illness</th>\n",
              "      <th>Menstruation</th>\n",
              "      <th>Nutrition</th>\n",
              "      <th>NutritionAdjustment</th>\n",
              "      <th>USGMeasurement</th>\n",
              "      <th>USG</th>\n",
              "      <th>TrainingReadiness</th>\n",
              "    </tr>\n",
              "  </thead>\n",
              "  <tbody>\n",
              "    <tr>\n",
              "      <th>0</th>\n",
              "      <td>2018-07-21</td>\n",
              "      <td>1</td>\n",
              "      <td>3</td>\n",
              "      <td>3</td>\n",
              "      <td>2</td>\n",
              "      <td>3</td>\n",
              "      <td>23:00:00</td>\n",
              "      <td>07:00:00</td>\n",
              "      <td>8.00</td>\n",
              "      <td>2</td>\n",
              "      <td>13</td>\n",
              "      <td>No</td>\n",
              "      <td>No</td>\n",
              "      <td>Yes</td>\n",
              "      <td>Excellent</td>\n",
              "      <td>Yes</td>\n",
              "      <td>No</td>\n",
              "      <td>NaN</td>\n",
              "      <td>0%</td>\n",
              "    </tr>\n",
              "    <tr>\n",
              "      <th>1</th>\n",
              "      <td>2018-07-21</td>\n",
              "      <td>2</td>\n",
              "      <td>4</td>\n",
              "      <td>3</td>\n",
              "      <td>4</td>\n",
              "      <td>4</td>\n",
              "      <td>23:00:00</td>\n",
              "      <td>07:00:00</td>\n",
              "      <td>8.00</td>\n",
              "      <td>4</td>\n",
              "      <td>19</td>\n",
              "      <td>Yes</td>\n",
              "      <td>No</td>\n",
              "      <td>Yes</td>\n",
              "      <td>NaN</td>\n",
              "      <td>NaN</td>\n",
              "      <td>Yes</td>\n",
              "      <td>1.010</td>\n",
              "      <td>0%</td>\n",
              "    </tr>\n",
              "    <tr>\n",
              "      <th>2</th>\n",
              "      <td>2018-07-21</td>\n",
              "      <td>3</td>\n",
              "      <td>3</td>\n",
              "      <td>3</td>\n",
              "      <td>5</td>\n",
              "      <td>4</td>\n",
              "      <td>22:30:00</td>\n",
              "      <td>06:30:00</td>\n",
              "      <td>8.00</td>\n",
              "      <td>4</td>\n",
              "      <td>19</td>\n",
              "      <td>No</td>\n",
              "      <td>No</td>\n",
              "      <td>No</td>\n",
              "      <td>NaN</td>\n",
              "      <td>NaN</td>\n",
              "      <td>Yes</td>\n",
              "      <td>1.016</td>\n",
              "      <td>100%</td>\n",
              "    </tr>\n",
              "    <tr>\n",
              "      <th>3</th>\n",
              "      <td>2018-07-21</td>\n",
              "      <td>4</td>\n",
              "      <td>2</td>\n",
              "      <td>3</td>\n",
              "      <td>5</td>\n",
              "      <td>4</td>\n",
              "      <td>00:30:00</td>\n",
              "      <td>07:00:00</td>\n",
              "      <td>6.50</td>\n",
              "      <td>1</td>\n",
              "      <td>15</td>\n",
              "      <td>No</td>\n",
              "      <td>No</td>\n",
              "      <td>Yes</td>\n",
              "      <td>Excellent</td>\n",
              "      <td>Yes</td>\n",
              "      <td>Yes</td>\n",
              "      <td>1.025</td>\n",
              "      <td>95%</td>\n",
              "    </tr>\n",
              "    <tr>\n",
              "      <th>4</th>\n",
              "      <td>2018-07-21</td>\n",
              "      <td>5</td>\n",
              "      <td>5</td>\n",
              "      <td>3</td>\n",
              "      <td>4</td>\n",
              "      <td>4</td>\n",
              "      <td>23:45:00</td>\n",
              "      <td>07:00:00</td>\n",
              "      <td>7.25</td>\n",
              "      <td>4</td>\n",
              "      <td>20</td>\n",
              "      <td>No</td>\n",
              "      <td>No</td>\n",
              "      <td>No</td>\n",
              "      <td>Okay</td>\n",
              "      <td>Yes</td>\n",
              "      <td>Yes</td>\n",
              "      <td>1.022</td>\n",
              "      <td>100%</td>\n",
              "    </tr>\n",
              "  </tbody>\n",
              "</table>\n",
              "</div>"
            ],
            "text/plain": [
              "         Date  PlayerID  Fatigue  Soreness  Desire  Irritability   BedTime  \\\n",
              "0  2018-07-21         1        3         3       2             3  23:00:00   \n",
              "1  2018-07-21         2        4         3       4             4  23:00:00   \n",
              "2  2018-07-21         3        3         3       5             4  22:30:00   \n",
              "3  2018-07-21         4        2         3       5             4  00:30:00   \n",
              "4  2018-07-21         5        5         3       4             4  23:45:00   \n",
              "\n",
              "   WakeTime  SleepHours  SleepQuality  MonitoringScore Pain Illness  \\\n",
              "0  07:00:00        8.00             2               13   No      No   \n",
              "1  07:00:00        8.00             4               19  Yes      No   \n",
              "2  06:30:00        8.00             4               19   No      No   \n",
              "3  07:00:00        6.50             1               15   No      No   \n",
              "4  07:00:00        7.25             4               20   No      No   \n",
              "\n",
              "  Menstruation  Nutrition NutritionAdjustment USGMeasurement    USG  \\\n",
              "0          Yes  Excellent                 Yes             No    NaN   \n",
              "1          Yes        NaN                 NaN            Yes  1.010   \n",
              "2           No        NaN                 NaN            Yes  1.016   \n",
              "3          Yes  Excellent                 Yes            Yes  1.025   \n",
              "4           No       Okay                 Yes            Yes  1.022   \n",
              "\n",
              "  TrainingReadiness  \n",
              "0                0%  \n",
              "1                0%  \n",
              "2              100%  \n",
              "3               95%  \n",
              "4              100%  "
            ]
          },
          "metadata": {
            "tags": []
          },
          "execution_count": 21
        }
      ]
    },
    {
      "metadata": {
        "id": "nOVcOVX5GdV5",
        "colab_type": "code",
        "outputId": "5ff10588-20b9-4396-8164-87ec882afb89",
        "colab": {
          "base_uri": "https://localhost:8080/",
          "height": 102
        }
      },
      "cell_type": "code",
      "source": [
        "wellness.columns"
      ],
      "execution_count": 0,
      "outputs": [
        {
          "output_type": "execute_result",
          "data": {
            "text/plain": [
              "Index(['Date', 'PlayerID', 'Fatigue', 'Soreness', 'Desire', 'Irritability',\n",
              "       'BedTime', 'WakeTime', 'SleepHours', 'SleepQuality', 'MonitoringScore',\n",
              "       'Pain', 'Illness', 'Menstruation', 'Nutrition', 'NutritionAdjustment',\n",
              "       'USGMeasurement', 'USG', 'TrainingReadiness'],\n",
              "      dtype='object')"
            ]
          },
          "metadata": {
            "tags": []
          },
          "execution_count": 33
        }
      ]
    },
    {
      "metadata": {
        "id": "_GaRvLwnGg3P",
        "colab_type": "code",
        "outputId": "60bbcd2b-3d41-4f16-ba33-6720a56bcf85",
        "colab": {
          "base_uri": "https://localhost:8080/",
          "height": 357
        }
      },
      "cell_type": "code",
      "source": [
        "wellness.dtypes"
      ],
      "execution_count": 0,
      "outputs": [
        {
          "output_type": "execute_result",
          "data": {
            "text/plain": [
              "Date                    object\n",
              "PlayerID                 int64\n",
              "Fatigue                  int64\n",
              "Soreness                 int64\n",
              "Desire                   int64\n",
              "Irritability             int64\n",
              "BedTime                 object\n",
              "WakeTime                object\n",
              "SleepHours             float64\n",
              "SleepQuality             int64\n",
              "MonitoringScore          int64\n",
              "Pain                    object\n",
              "Illness                 object\n",
              "Menstruation            object\n",
              "Nutrition               object\n",
              "NutritionAdjustment     object\n",
              "USGMeasurement          object\n",
              "USG                    float64\n",
              "TrainingReadiness       object\n",
              "dtype: object"
            ]
          },
          "metadata": {
            "tags": []
          },
          "execution_count": 34
        }
      ]
    },
    {
      "metadata": {
        "id": "9ezs5LcxGwls",
        "colab_type": "code",
        "outputId": "b33999a1-b577-4059-bc4e-3a8ddadeee45",
        "colab": {
          "base_uri": "https://localhost:8080/",
          "height": 372
        }
      },
      "cell_type": "code",
      "source": [
        "wellness.isnull().values.any()\n",
        "wellness.isnull().sum()"
      ],
      "execution_count": 0,
      "outputs": [
        {
          "output_type": "execute_result",
          "data": {
            "text/plain": [
              "Date                      0\n",
              "PlayerID                  0\n",
              "Fatigue                   0\n",
              "Soreness                  0\n",
              "Desire                    0\n",
              "Irritability              0\n",
              "BedTime                   0\n",
              "WakeTime                  0\n",
              "SleepHours                0\n",
              "SleepQuality              0\n",
              "MonitoringScore           0\n",
              "Pain                      0\n",
              "Illness                   0\n",
              "Menstruation             16\n",
              "Nutrition               837\n",
              "NutritionAdjustment     745\n",
              "USGMeasurement          168\n",
              "USG                    4382\n",
              "TrainingReadiness         0\n",
              "dtype: int64"
            ]
          },
          "metadata": {
            "tags": []
          },
          "execution_count": 20
        }
      ]
    },
    {
      "metadata": {
        "id": "FjCvX2NwFp9D",
        "colab_type": "code",
        "outputId": "89f3e899-6d1e-41ad-df93-43ea76d78c73",
        "colab": {
          "base_uri": "https://localhost:8080/",
          "height": 51
        }
      },
      "cell_type": "code",
      "source": [
        "print(wellness.shape)\n",
        "print(wellness.Date.unique().shape)"
      ],
      "execution_count": 0,
      "outputs": [
        {
          "output_type": "stream",
          "text": [
            "(5011, 19)\n",
            "(354,)\n"
          ],
          "name": "stdout"
        }
      ]
    },
    {
      "metadata": {
        "id": "U2yrAbtoPj43",
        "colab_type": "code",
        "outputId": "dd834cd7-ea65-4dac-cf73-fbe4d965546d",
        "colab": {
          "base_uri": "https://localhost:8080/",
          "height": 213
        }
      },
      "cell_type": "code",
      "source": [
        "wellness.tail(3)"
      ],
      "execution_count": 0,
      "outputs": [
        {
          "output_type": "execute_result",
          "data": {
            "text/html": [
              "<div>\n",
              "<style scoped>\n",
              "    .dataframe tbody tr th:only-of-type {\n",
              "        vertical-align: middle;\n",
              "    }\n",
              "\n",
              "    .dataframe tbody tr th {\n",
              "        vertical-align: top;\n",
              "    }\n",
              "\n",
              "    .dataframe thead th {\n",
              "        text-align: right;\n",
              "    }\n",
              "</style>\n",
              "<table border=\"1\" class=\"dataframe\">\n",
              "  <thead>\n",
              "    <tr style=\"text-align: right;\">\n",
              "      <th></th>\n",
              "      <th>Date</th>\n",
              "      <th>PlayerID</th>\n",
              "      <th>Fatigue</th>\n",
              "      <th>Soreness</th>\n",
              "      <th>Desire</th>\n",
              "      <th>Irritability</th>\n",
              "      <th>BedTime</th>\n",
              "      <th>WakeTime</th>\n",
              "      <th>SleepHours</th>\n",
              "      <th>SleepQuality</th>\n",
              "      <th>MonitoringScore</th>\n",
              "      <th>Pain</th>\n",
              "      <th>Illness</th>\n",
              "      <th>Menstruation</th>\n",
              "      <th>Nutrition</th>\n",
              "      <th>NutritionAdjustment</th>\n",
              "      <th>USGMeasurement</th>\n",
              "      <th>USG</th>\n",
              "      <th>TrainingReadiness</th>\n",
              "    </tr>\n",
              "  </thead>\n",
              "  <tbody>\n",
              "    <tr>\n",
              "      <th>5008</th>\n",
              "      <td>2017-08-01</td>\n",
              "      <td>12</td>\n",
              "      <td>5</td>\n",
              "      <td>4</td>\n",
              "      <td>5</td>\n",
              "      <td>4</td>\n",
              "      <td>22:30:00</td>\n",
              "      <td>06:00:00</td>\n",
              "      <td>7.5</td>\n",
              "      <td>3</td>\n",
              "      <td>21</td>\n",
              "      <td>No</td>\n",
              "      <td>No</td>\n",
              "      <td>Yes</td>\n",
              "      <td>Okay</td>\n",
              "      <td>I Don't Know</td>\n",
              "      <td>No</td>\n",
              "      <td>NaN</td>\n",
              "      <td>90%</td>\n",
              "    </tr>\n",
              "    <tr>\n",
              "      <th>5009</th>\n",
              "      <td>2017-08-01</td>\n",
              "      <td>13</td>\n",
              "      <td>4</td>\n",
              "      <td>4</td>\n",
              "      <td>4</td>\n",
              "      <td>4</td>\n",
              "      <td>23:00:00</td>\n",
              "      <td>06:30:00</td>\n",
              "      <td>7.5</td>\n",
              "      <td>4</td>\n",
              "      <td>20</td>\n",
              "      <td>No</td>\n",
              "      <td>No</td>\n",
              "      <td>No</td>\n",
              "      <td>Okay</td>\n",
              "      <td>Yes</td>\n",
              "      <td>No</td>\n",
              "      <td>NaN</td>\n",
              "      <td>100%</td>\n",
              "    </tr>\n",
              "    <tr>\n",
              "      <th>5010</th>\n",
              "      <td>2017-08-01</td>\n",
              "      <td>14</td>\n",
              "      <td>4</td>\n",
              "      <td>4</td>\n",
              "      <td>5</td>\n",
              "      <td>5</td>\n",
              "      <td>22:00:00</td>\n",
              "      <td>06:00:00</td>\n",
              "      <td>8.0</td>\n",
              "      <td>6</td>\n",
              "      <td>24</td>\n",
              "      <td>No</td>\n",
              "      <td>No</td>\n",
              "      <td>No</td>\n",
              "      <td>Okay</td>\n",
              "      <td>Yes</td>\n",
              "      <td>No</td>\n",
              "      <td>NaN</td>\n",
              "      <td>100%</td>\n",
              "    </tr>\n",
              "  </tbody>\n",
              "</table>\n",
              "</div>"
            ],
            "text/plain": [
              "            Date  PlayerID  Fatigue  Soreness  Desire  Irritability   BedTime  \\\n",
              "5008  2017-08-01        12        5         4       5             4  22:30:00   \n",
              "5009  2017-08-01        13        4         4       4             4  23:00:00   \n",
              "5010  2017-08-01        14        4         4       5             5  22:00:00   \n",
              "\n",
              "      WakeTime  SleepHours  SleepQuality  MonitoringScore Pain Illness  \\\n",
              "5008  06:00:00         7.5             3               21   No      No   \n",
              "5009  06:30:00         7.5             4               20   No      No   \n",
              "5010  06:00:00         8.0             6               24   No      No   \n",
              "\n",
              "     Menstruation Nutrition NutritionAdjustment USGMeasurement  USG  \\\n",
              "5008          Yes      Okay        I Don't Know             No  NaN   \n",
              "5009           No      Okay                 Yes             No  NaN   \n",
              "5010           No      Okay                 Yes             No  NaN   \n",
              "\n",
              "     TrainingReadiness  \n",
              "5008               90%  \n",
              "5009              100%  \n",
              "5010              100%  "
            ]
          },
          "metadata": {
            "tags": []
          },
          "execution_count": 56
        }
      ]
    },
    {
      "metadata": {
        "id": "4Wqd8s8CFpyJ",
        "colab_type": "code",
        "colab": {}
      },
      "cell_type": "code",
      "source": [
        "#cat_wellness = [ 'Primary_Type', 'Arrest', 'Domestic', 'District', 'Ward']\n",
        "#count_unique(cc, cat_wellness)"
      ],
      "execution_count": 0,
      "outputs": []
    },
    {
      "metadata": {
        "id": "tCsutGtbFpjh",
        "colab_type": "code",
        "colab": {}
      },
      "cell_type": "code",
      "source": [
        "#cc = cc.dropna(axis=0)\n",
        "\n",
        "#cc.shape"
      ],
      "execution_count": 0,
      "outputs": []
    },
    {
      "metadata": {
        "id": "yrdD6EFHFpW0",
        "colab_type": "code",
        "colab": {}
      },
      "cell_type": "code",
      "source": [
        "wellness.drop(['USG', 'USGMeasurement'], axis=1, inplace=True)"
      ],
      "execution_count": 0,
      "outputs": []
    },
    {
      "metadata": {
        "id": "qofQuYq8RgaP",
        "colab_type": "code",
        "outputId": "7e77af7d-169c-4777-8a38-3082844afec3",
        "colab": {
          "base_uri": "https://localhost:8080/",
          "height": 34
        }
      },
      "cell_type": "code",
      "source": [
        "wellness.shape"
      ],
      "execution_count": 0,
      "outputs": [
        {
          "output_type": "execute_result",
          "data": {
            "text/plain": [
              "(5011, 17)"
            ]
          },
          "metadata": {
            "tags": []
          },
          "execution_count": 114
        }
      ]
    },
    {
      "metadata": {
        "id": "mkCvXvQ0Zbcc",
        "colab_type": "code",
        "colab": {}
      },
      "cell_type": "code",
      "source": [
        "wellness2 = wellness.dropna(axis = 0)"
      ],
      "execution_count": 0,
      "outputs": []
    },
    {
      "metadata": {
        "id": "d2oblVfJZc7x",
        "colab_type": "code",
        "outputId": "b435c3e4-fdb5-4b2b-dad6-46489054a631",
        "colab": {
          "base_uri": "https://localhost:8080/",
          "height": 34
        }
      },
      "cell_type": "code",
      "source": [
        "wellness2.shape"
      ],
      "execution_count": 0,
      "outputs": [
        {
          "output_type": "execute_result",
          "data": {
            "text/plain": [
              "(4142, 17)"
            ]
          },
          "metadata": {
            "tags": []
          },
          "execution_count": 117
        }
      ]
    },
    {
      "metadata": {
        "id": "rU_zFzUfZsjW",
        "colab_type": "code",
        "outputId": "5d0d8e68-812d-49f2-cb6c-05aa3b9dc52a",
        "colab": {
          "base_uri": "https://localhost:8080/",
          "height": 323
        }
      },
      "cell_type": "code",
      "source": [
        "wellness2.dtypes"
      ],
      "execution_count": 0,
      "outputs": [
        {
          "output_type": "execute_result",
          "data": {
            "text/plain": [
              "Date                    object\n",
              "PlayerID                 int64\n",
              "Fatigue                  int64\n",
              "Soreness                 int64\n",
              "Desire                   int64\n",
              "Irritability             int64\n",
              "BedTime                 object\n",
              "WakeTime                object\n",
              "SleepHours             float64\n",
              "SleepQuality             int64\n",
              "MonitoringScore          int64\n",
              "Pain                    object\n",
              "Illness                 object\n",
              "Menstruation            object\n",
              "Nutrition               object\n",
              "NutritionAdjustment     object\n",
              "TrainingReadiness       object\n",
              "dtype: object"
            ]
          },
          "metadata": {
            "tags": []
          },
          "execution_count": 119
        }
      ]
    },
    {
      "metadata": {
        "id": "bpsga-v9Z-tu",
        "colab_type": "code",
        "outputId": "13422754-103e-4615-f673-8ebae3c5edc2",
        "colab": {
          "base_uri": "https://localhost:8080/",
          "height": 102
        }
      },
      "cell_type": "code",
      "source": [
        "wellness2.columns"
      ],
      "execution_count": 0,
      "outputs": [
        {
          "output_type": "execute_result",
          "data": {
            "text/plain": [
              "Index(['Date', 'PlayerID', 'Fatigue', 'Soreness', 'Desire', 'Irritability',\n",
              "       'BedTime', 'WakeTime', 'SleepHours', 'SleepQuality', 'MonitoringScore',\n",
              "       'Pain', 'Illness', 'Menstruation', 'Nutrition', 'NutritionAdjustment',\n",
              "       'TrainingReadiness'],\n",
              "      dtype='object')"
            ]
          },
          "metadata": {
            "tags": []
          },
          "execution_count": 120
        }
      ]
    },
    {
      "metadata": {
        "id": "nOYxtTbtZrdV",
        "colab_type": "code",
        "outputId": "f5d48208-2055-4e9b-fb6f-bfd8ad4f796e",
        "colab": {
          "base_uri": "https://localhost:8080/",
          "height": 5457
        }
      },
      "cell_type": "code",
      "source": [
        "cat_wellness = [ 'PlayerID', 'Fatigue', 'Soreness', 'Desire', 'Irritability',\n",
        "       'BedTime', 'WakeTime', 'SleepHours', 'SleepQuality', 'MonitoringScore',\n",
        "       'Pain', 'Illness', 'Menstruation', 'Nutrition', 'NutritionAdjustment',\n",
        "       'TrainingReadiness']\n",
        "count_unique(wellness2, cat_wellness)"
      ],
      "execution_count": 0,
      "outputs": [
        {
          "output_type": "stream",
          "text": [
            "\n",
            "For column PlayerID\n",
            "13    351\n",
            "11    347\n",
            "16    344\n",
            "7     340\n",
            "10    330\n",
            "3     325\n",
            "1     260\n",
            "4     254\n",
            "5     234\n",
            "12    229\n",
            "9     218\n",
            "15    193\n",
            "14    190\n",
            "6     188\n",
            "17    156\n",
            "8     124\n",
            "2      59\n",
            "Name: PlayerID, dtype: int64\n",
            "\n",
            "For column Fatigue\n",
            "4    1600\n",
            "3    1466\n",
            "2     549\n",
            "5     213\n",
            "1     178\n",
            "6     132\n",
            "7       4\n",
            "Name: Fatigue, dtype: int64\n",
            "\n",
            "For column Soreness\n",
            "3    1590\n",
            "4    1434\n",
            "2     650\n",
            "5     191\n",
            "1     147\n",
            "6     119\n",
            "7      11\n",
            "Name: Soreness, dtype: int64\n",
            "\n",
            "For column Desire\n",
            "4    2533\n",
            "3     682\n",
            "5     308\n",
            "2     241\n",
            "6     205\n",
            "1     130\n",
            "7      43\n",
            "Name: Desire, dtype: int64\n",
            "\n",
            "For column Irritability\n",
            "4    3018\n",
            "3     554\n",
            "5     235\n",
            "6     160\n",
            "2     104\n",
            "1      36\n",
            "7      35\n",
            "Name: Irritability, dtype: int64\n",
            "\n",
            "For column BedTime\n",
            "22:00:00    705\n",
            "23:00:00    658\n",
            "22:30:00    594\n",
            "23:30:00    287\n",
            "21:30:00    260\n",
            "22:45:00    236\n",
            "23:45:00    230\n",
            "21:00:00    205\n",
            "22:15:00    194\n",
            "00:00:00    134\n",
            "23:15:00    133\n",
            "21:45:00    120\n",
            "01:00:00     49\n",
            "00:30:00     44\n",
            "21:15:00     43\n",
            "20:30:00     39\n",
            "02:00:00     27\n",
            "20:00:00     26\n",
            "00:15:00     21\n",
            "00:45:00     20\n",
            "01:30:00     18\n",
            "19:30:00     11\n",
            "03:00:00     11\n",
            "20:15:00     10\n",
            "19:00:00      9\n",
            "20:45:00      8\n",
            "01:15:00      6\n",
            "19:45:00      5\n",
            "11:45:00      5\n",
            "01:45:00      4\n",
            "03:30:00      4\n",
            "18:00:00      3\n",
            "04:00:00      3\n",
            "11:00:00      3\n",
            "02:30:00      3\n",
            "18:30:00      2\n",
            "10:00:00      2\n",
            "04:30:00      1\n",
            "02:45:00      1\n",
            "03:15:00      1\n",
            "06:00:00      1\n",
            "05:00:00      1\n",
            "02:15:00      1\n",
            "17:00:00      1\n",
            "08:30:00      1\n",
            "14:00:00      1\n",
            "10:45:00      1\n",
            "Name: BedTime, dtype: int64\n",
            "\n",
            "For column WakeTime\n",
            "07:00:00    708\n",
            "08:00:00    440\n",
            "06:00:00    385\n",
            "07:30:00    375\n",
            "06:30:00    360\n",
            "06:45:00    244\n",
            "08:30:00    208\n",
            "07:15:00    205\n",
            "07:45:00    176\n",
            "09:00:00    165\n",
            "06:15:00    126\n",
            "08:15:00    117\n",
            "05:30:00     88\n",
            "05:00:00     79\n",
            "09:30:00     74\n",
            "10:00:00     56\n",
            "08:45:00     51\n",
            "05:45:00     43\n",
            "10:30:00     25\n",
            "04:00:00     25\n",
            "09:15:00     24\n",
            "04:30:00     20\n",
            "11:00:00     19\n",
            "05:15:00     19\n",
            "03:00:00     17\n",
            "09:45:00     15\n",
            "10:15:00     11\n",
            "04:45:00     10\n",
            "12:00:00     10\n",
            "03:30:00      8\n",
            "11:45:00      5\n",
            "11:30:00      5\n",
            "03:45:00      4\n",
            "04:15:00      3\n",
            "03:15:00      3\n",
            "10:45:00      2\n",
            "23:30:00      2\n",
            "02:30:00      2\n",
            "22:30:00      1\n",
            "20:30:00      1\n",
            "11:15:00      1\n",
            "13:00:00      1\n",
            "13:15:00      1\n",
            "00:00:00      1\n",
            "01:00:00      1\n",
            "01:30:00      1\n",
            "13:30:00      1\n",
            "12:45:00      1\n",
            "02:45:00      1\n",
            "22:00:00      1\n",
            "18:00:00      1\n",
            "Name: WakeTime, dtype: int64\n",
            "\n",
            "For column SleepHours\n",
            "9.00     619\n",
            "8.00     510\n",
            "8.50     431\n",
            "9.50     309\n",
            "8.75     291\n",
            "8.25     245\n",
            "10.00    237\n",
            "9.25     237\n",
            "7.50     186\n",
            "7.00     146\n",
            "9.75     146\n",
            "7.75     108\n",
            "10.50     95\n",
            "7.25      79\n",
            "10.25     68\n",
            "11.00     57\n",
            "6.50      52\n",
            "6.75      43\n",
            "6.00      41\n",
            "11.50     27\n",
            "6.25      21\n",
            "12.00     19\n",
            "10.75     18\n",
            "5.50      17\n",
            "5.75      15\n",
            "5.25      13\n",
            "11.25     13\n",
            "5.00      12\n",
            "4.75       9\n",
            "4.00       9\n",
            "4.50       8\n",
            "13.00      8\n",
            "12.50      7\n",
            "4.25       5\n",
            "12.25      4\n",
            "11.75      4\n",
            "3.00       4\n",
            "2.00       3\n",
            "2.50       3\n",
            "3.75       3\n",
            "0.75       2\n",
            "20.50      2\n",
            "21.75      1\n",
            "3.50       1\n",
            "1.50       1\n",
            "16.00      1\n",
            "3.25       1\n",
            "22.00      1\n",
            "19.50      1\n",
            "20.25      1\n",
            "19.25      1\n",
            "13.25      1\n",
            "12.75      1\n",
            "21.00      1\n",
            "13.50      1\n",
            "14.50      1\n",
            "21.25      1\n",
            "1.00       1\n",
            "Name: SleepHours, dtype: int64\n",
            "\n",
            "For column SleepQuality\n",
            "4    2124\n",
            "3     874\n",
            "5     342\n",
            "2     316\n",
            "6     196\n",
            "1     175\n",
            "7     115\n",
            "Name: SleepQuality, dtype: int64\n",
            "\n",
            "For column MonitoringScore\n",
            "20    640\n",
            "19    608\n",
            "18    586\n",
            "17    523\n",
            "16    313\n",
            "15    225\n",
            "21    210\n",
            "14    196\n",
            "13    139\n",
            "12    107\n",
            "22    107\n",
            "23     78\n",
            "30     78\n",
            "11     46\n",
            "24     43\n",
            "10     40\n",
            "25     38\n",
            "26     32\n",
            "28     30\n",
            "27     29\n",
            "9      23\n",
            "29     17\n",
            "8      13\n",
            "31      8\n",
            "7       4\n",
            "6       3\n",
            "35      2\n",
            "5       2\n",
            "32      1\n",
            "33      1\n",
            "Name: MonitoringScore, dtype: int64\n",
            "\n",
            "For column Pain\n",
            "No     3676\n",
            "Yes     466\n",
            "Name: Pain, dtype: int64\n",
            "\n",
            "For column Illness\n",
            "No              3707\n",
            "Slightly Off     338\n",
            "Yes               97\n",
            "Name: Illness, dtype: int64\n",
            "\n",
            "For column Menstruation\n",
            "No     3542\n",
            "Yes     600\n",
            "Name: Menstruation, dtype: int64\n",
            "\n",
            "For column Nutrition\n",
            "Excellent    2698\n",
            "Okay         1383\n",
            "Poor           61\n",
            "Name: Nutrition, dtype: int64\n",
            "\n",
            "For column NutritionAdjustment\n",
            "Yes             3614\n",
            "No               433\n",
            "I Don't Know      95\n",
            "Name: NutritionAdjustment, dtype: int64\n",
            "\n",
            "For column TrainingReadiness\n",
            "100%    1360\n",
            "95%      561\n",
            "0%       558\n",
            "90%      546\n",
            "85%      246\n",
            "80%      207\n",
            "75%      185\n",
            "70%      138\n",
            "65%       95\n",
            "60%       57\n",
            "50%       56\n",
            "55%       44\n",
            "35%       20\n",
            "45%       16\n",
            "40%       12\n",
            "5%         9\n",
            "10%        8\n",
            "30%        7\n",
            "25%        7\n",
            "20%        6\n",
            "15%        4\n",
            "Name: TrainingReadiness, dtype: int64\n"
          ],
          "name": "stdout"
        }
      ]
    },
    {
      "metadata": {
        "id": "GzNeEcz8Zq6H",
        "colab_type": "code",
        "outputId": "58a2aee7-7e0a-42da-f612-5df56b280b82",
        "colab": {
          "base_uri": "https://localhost:8080/",
          "height": 6007
        }
      },
      "cell_type": "code",
      "source": [
        "def plot_bars(ccc, cols):\n",
        "    for col in cols:\n",
        "        fig = plt.figure(figsize=(10,6)) # define plot area\n",
        "        ax = fig.gca() # define axis    \n",
        "#        my_colors = list(islice(cycle(['b', 'r', 'g', 'y']), None, len(ccc)))\n",
        "#        my_colors = [(x/10.0, x/20.0, 0.75) for x in range(len(ccc))]\n",
        "        counts = ccc[col].value_counts() # find the counts for each unique category\n",
        "        counts.plot.bar(ax = ax, color = 'mediumorchid') # Use the plot.bar method on the counts data frame\n",
        "        \n",
        "        ax.set_title('Number of counts by ' + col) # Give the plot a main title\n",
        "        ax.set_xlabel(col) # Set text for the x axis\n",
        "        ax.set_ylabel('Number of count')# Set text for y axis\n",
        "        plt.show()\n",
        "\n",
        "#plot_cols = ['Primary_Type' ]\n",
        "        \n",
        "plot_cols = [ 'Fatigue', 'Soreness', 'Desire', 'Irritability',\n",
        "       'BedTime', 'WakeTime', 'SleepHours', 'SleepQuality', 'MonitoringScore',\n",
        "       'Pain', 'Illness', 'Menstruation', 'Nutrition', 'NutritionAdjustment',\n",
        "       'TrainingReadiness']\n",
        "plot_bars(wellness, plot_cols)"
      ],
      "execution_count": 0,
      "outputs": [
        {
          "output_type": "display_data",
          "data": {
            "image/png": "[encoded data removed]",
            "text/plain": [
              "<Figure size 720x432 with 1 Axes>"
            ]
          },
          "metadata": {
            "tags": []
          }
        },
        {
          "output_type": "display_data",
          "data": {
            "image/png": "[encoded data removed]",
            "text/plain": [
              "<Figure size 720x432 with 1 Axes>"
            ]
          },
          "metadata": {
            "tags": []
          }
        },
        {
          "output_type": "display_data",
          "data": {
            "image/png": "[encoded data removed]",
            "text/plain": [
              "<Figure size 720x432 with 1 Axes>"
            ]
          },
          "metadata": {
            "tags": []
          }
        },
        {
          "output_type": "display_data",
          "data": {
            "image/png": "[encoded data removed]",
            "text/plain": [
              "<Figure size 720x432 with 1 Axes>"
            ]
          },
          "metadata": {
            "tags": []
          }
        },
        {
          "output_type": "display_data",
          "data": {
            "image/png": "[encoded data removed]",
            "text/plain": [
              "<Figure size 720x432 with 1 Axes>"
            ]
          },
          "metadata": {
            "tags": []
          }
        },
        {
          "output_type": "display_data",
          "data": {
            "image/png": "[encoded data removed]",
            "text/plain": [
              "<Figure size 720x432 with 1 Axes>"
            ]
          },
          "metadata": {
            "tags": []
          }
        },
        {
          "output_type": "display_data",
          "data": {
            "image/png": "[encoded data removed]",
            "text/plain": [
              "<Figure size 720x432 with 1 Axes>"
            ]
          },
          "metadata": {
            "tags": []
          }
        },
        {
          "output_type": "display_data",
          "data": {
            "image/png": "[encoded data removed]",
            "text/plain": [
              "<Figure size 720x432 with 1 Axes>"
            ]
          },
          "metadata": {
            "tags": []
          }
        },
        {
          "output_type": "display_data",
          "data": {
            "image/png": "[encoded data removed]",
            "text/plain": [
              "<Figure size 720x432 with 1 Axes>"
            ]
          },
          "metadata": {
            "tags": []
          }
        },
        {
          "output_type": "display_data",
          "data": {
            "image/png": "[encoded data removed]",
            "text/plain": [
              "<Figure size 720x432 with 1 Axes>"
            ]
          },
          "metadata": {
            "tags": []
          }
        },
        {
          "output_type": "display_data",
          "data": {
            "image/png": "[encoded data removed]",
            "text/plain": [
              "<Figure size 720x432 with 1 Axes>"
            ]
          },
          "metadata": {
            "tags": []
          }
        },
        {
          "output_type": "display_data",
          "data": {
            "image/png": "[encoded data removed]",
            "text/plain": [
              "<Figure size 720x432 with 1 Axes>"
            ]
          },
          "metadata": {
            "tags": []
          }
        },
        {
          "output_type": "display_data",
          "data": {
            "image/png": "[encoded data removed]",
            "text/plain": [
              "<Figure size 720x432 with 1 Axes>"
            ]
          },
          "metadata": {
            "tags": []
          }
        },
        {
          "output_type": "display_data",
          "data": {
            "image/png": "[encoded data removed]",
            "text/plain": [
              "<Figure size 720x432 with 1 Axes>"
            ]
          },
          "metadata": {
            "tags": []
          }
        },
        {
          "output_type": "display_data",
          "data": {
            "image/png": "[encoded data removed]",
            "text/plain": [
              "<Figure size 720x432 with 1 Axes>"
            ]
          },
          "metadata": {
            "tags": []
          }
        }
      ]
    },
    {
      "metadata": {
        "id": "pJvSZhGORizF",
        "colab_type": "text"
      },
      "cell_type": "markdown",
      "source": [
        "### Joining Wellness and RPE"
      ]
    },
    {
      "metadata": {
        "id": "50fbsPSLRhAe",
        "colab_type": "code",
        "colab": {}
      },
      "cell_type": "code",
      "source": [
        "wellness_rpe = pd.concat([ wellness,rpe], axis=1, join='outer', ignore_index=False)\n"
      ],
      "execution_count": 0,
      "outputs": []
    },
    {
      "metadata": {
        "id": "j8D3MxIJSX-l",
        "colab_type": "code",
        "outputId": "b7939fe1-2ac2-448e-d7e3-d90c30974adb",
        "colab": {
          "base_uri": "https://localhost:8080/",
          "height": 52
        }
      },
      "cell_type": "code",
      "source": [
        "print (wellness.shape)\n",
        "print (rpe.shape)"
      ],
      "execution_count": 0,
      "outputs": [
        {
          "output_type": "stream",
          "text": [
            "(5011, 17)\n",
            "(8860, 14)\n"
          ],
          "name": "stdout"
        }
      ]
    },
    {
      "metadata": {
        "id": "zgU4Kj4T5b5o",
        "colab_type": "code",
        "outputId": "885c5449-bcca-4293-e098-d0cfdcc42806",
        "colab": {
          "base_uri": "https://localhost:8080/",
          "height": 283
        }
      },
      "cell_type": "code",
      "source": [
        "rpe.dtypes"
      ],
      "execution_count": 0,
      "outputs": [
        {
          "output_type": "execute_result",
          "data": {
            "text/plain": [
              "Date                  object\n",
              "PlayerID               int64\n",
              "Training              object\n",
              "SessionType           object\n",
              "Duration             float64\n",
              "RPE                  float64\n",
              "SessionLoad          float64\n",
              "DailyLoad            float64\n",
              "AcuteLoad            float64\n",
              "ChronicLoad          float64\n",
              "AcuteChronicRatio    float64\n",
              "ObjectiveRating      float64\n",
              "FocusRating          float64\n",
              "BestOutOfMyself       object\n",
              "dtype: object"
            ]
          },
          "metadata": {
            "tags": []
          },
          "execution_count": 29
        }
      ]
    },
    {
      "metadata": {
        "id": "eGp4HFDbSrse",
        "colab_type": "code",
        "colab": {}
      },
      "cell_type": "code",
      "source": [
        "#wellness_rpe.isnull().values.any()\n",
        "wellness_rpe.isnull().sum()"
      ],
      "execution_count": 0,
      "outputs": []
    },
    {
      "metadata": {
        "id": "6tF-2_NbTbSB",
        "colab_type": "code",
        "colab": {}
      },
      "cell_type": "code",
      "source": [
        "wellness_rpe.drop(['USG', 'USGMeasurement'], axis=1, inplace=True)"
      ],
      "execution_count": 0,
      "outputs": []
    },
    {
      "metadata": {
        "id": "17Zd8parTby-",
        "colab_type": "code",
        "outputId": "f1b89780-3e82-4641-9832-a585288c5b5b",
        "colab": {
          "base_uri": "https://localhost:8080/",
          "height": 34
        }
      },
      "cell_type": "code",
      "source": [
        "wellness_rpe.shape"
      ],
      "execution_count": 0,
      "outputs": [
        {
          "output_type": "execute_result",
          "data": {
            "text/plain": [
              "(8860, 31)"
            ]
          },
          "metadata": {
            "tags": []
          },
          "execution_count": 32
        }
      ]
    },
    {
      "metadata": {
        "id": "0OhyjZEvV4lW",
        "colab_type": "code",
        "outputId": "edb874f3-ee48-4178-a85f-fdbe1a3cd257",
        "colab": {
          "base_uri": "https://localhost:8080/",
          "height": 158
        }
      },
      "cell_type": "code",
      "source": [
        "wellness_rpe.columns"
      ],
      "execution_count": 0,
      "outputs": [
        {
          "output_type": "execute_result",
          "data": {
            "text/plain": [
              "Index(['Date', 'PlayerID', 'Fatigue', 'Soreness', 'Desire', 'Irritability',\n",
              "       'BedTime', 'WakeTime', 'SleepHours', 'SleepQuality', 'MonitoringScore',\n",
              "       'Pain', 'Illness', 'Menstruation', 'Nutrition', 'NutritionAdjustment',\n",
              "       'TrainingReadiness', 'Date', 'PlayerID', 'Training', 'SessionType',\n",
              "       'Duration', 'RPE', 'SessionLoad', 'DailyLoad', 'AcuteLoad',\n",
              "       'ChronicLoad', 'AcuteChronicRatio', 'ObjectiveRating', 'FocusRating',\n",
              "       'BestOutOfMyself'],\n",
              "      dtype='object')"
            ]
          },
          "metadata": {
            "tags": []
          },
          "execution_count": 33
        }
      ]
    },
    {
      "metadata": {
        "id": "GMJGWMeR8gLH",
        "colab_type": "code",
        "colab": {}
      },
      "cell_type": "code",
      "source": [
        "wellness_rpe.drop(['DailyLoad', 'AcuteLoad', 'ChronicLoad',\n",
        "       'AcuteChronicRatio', 'ObjectiveRating', 'FocusRating',\n",
        "       'BestOutOfMyself'], axis=1, inplace=True)"
      ],
      "execution_count": 0,
      "outputs": []
    },
    {
      "metadata": {
        "id": "B4bokjls8gSf",
        "colab_type": "code",
        "colab": {}
      },
      "cell_type": "code",
      "source": [
        "wellness_rpe3 = wellness_rpe.dropna(axis=0)"
      ],
      "execution_count": 0,
      "outputs": []
    },
    {
      "metadata": {
        "id": "aO7ZDAqD-5SG",
        "colab_type": "code",
        "outputId": "2eed1515-f491-4d1d-aa1e-566fcf63403e",
        "colab": {
          "base_uri": "https://localhost:8080/",
          "height": 34
        }
      },
      "cell_type": "code",
      "source": [
        "wellness_rpe3.shape"
      ],
      "execution_count": 0,
      "outputs": [
        {
          "output_type": "execute_result",
          "data": {
            "text/plain": [
              "(3584, 24)"
            ]
          },
          "metadata": {
            "tags": []
          },
          "execution_count": 264
        }
      ]
    },
    {
      "metadata": {
        "id": "1dqy24dZon-r",
        "colab_type": "code",
        "outputId": "5cd076a2-76ef-4b40-9569-91bb926321ff",
        "colab": {
          "base_uri": "https://localhost:8080/",
          "height": 330
        }
      },
      "cell_type": "code",
      "source": [
        "wellness_rpe3.head()"
      ],
      "execution_count": 0,
      "outputs": [
        {
          "output_type": "execute_result",
          "data": {
            "text/html": [
              "<div>\n",
              "<style scoped>\n",
              "    .dataframe tbody tr th:only-of-type {\n",
              "        vertical-align: middle;\n",
              "    }\n",
              "\n",
              "    .dataframe tbody tr th {\n",
              "        vertical-align: top;\n",
              "    }\n",
              "\n",
              "    .dataframe thead th {\n",
              "        text-align: right;\n",
              "    }\n",
              "</style>\n",
              "<table border=\"1\" class=\"dataframe\">\n",
              "  <thead>\n",
              "    <tr style=\"text-align: right;\">\n",
              "      <th></th>\n",
              "      <th>Date</th>\n",
              "      <th>PlayerID</th>\n",
              "      <th>Fatigue</th>\n",
              "      <th>Soreness</th>\n",
              "      <th>Desire</th>\n",
              "      <th>Irritability</th>\n",
              "      <th>BedTime</th>\n",
              "      <th>WakeTime</th>\n",
              "      <th>SleepHours</th>\n",
              "      <th>SleepQuality</th>\n",
              "      <th>...</th>\n",
              "      <th>Nutrition</th>\n",
              "      <th>NutritionAdjustment</th>\n",
              "      <th>TrainingReadiness</th>\n",
              "      <th>Date</th>\n",
              "      <th>PlayerID</th>\n",
              "      <th>Training</th>\n",
              "      <th>SessionType</th>\n",
              "      <th>Duration</th>\n",
              "      <th>RPE</th>\n",
              "      <th>SessionLoad</th>\n",
              "    </tr>\n",
              "  </thead>\n",
              "  <tbody>\n",
              "    <tr>\n",
              "      <th>0</th>\n",
              "      <td>2018-07-21</td>\n",
              "      <td>1.0</td>\n",
              "      <td>1</td>\n",
              "      <td>3.0</td>\n",
              "      <td>2.0</td>\n",
              "      <td>3.0</td>\n",
              "      <td>23:00:00</td>\n",
              "      <td>07:00:00</td>\n",
              "      <td>8.00</td>\n",
              "      <td>2.0</td>\n",
              "      <td>...</td>\n",
              "      <td>Excellent</td>\n",
              "      <td>Yes</td>\n",
              "      <td>0%</td>\n",
              "      <td>2018-07-21</td>\n",
              "      <td>13</td>\n",
              "      <td>Yes</td>\n",
              "      <td>Mobility/Recovery</td>\n",
              "      <td>5.0</td>\n",
              "      <td>0.0</td>\n",
              "      <td>0.0</td>\n",
              "    </tr>\n",
              "    <tr>\n",
              "      <th>3</th>\n",
              "      <td>2018-07-21</td>\n",
              "      <td>4.0</td>\n",
              "      <td>1</td>\n",
              "      <td>3.0</td>\n",
              "      <td>5.0</td>\n",
              "      <td>4.0</td>\n",
              "      <td>00:30:00</td>\n",
              "      <td>07:00:00</td>\n",
              "      <td>6.50</td>\n",
              "      <td>1.0</td>\n",
              "      <td>...</td>\n",
              "      <td>Excellent</td>\n",
              "      <td>Yes</td>\n",
              "      <td>95%</td>\n",
              "      <td>2018-07-20</td>\n",
              "      <td>11</td>\n",
              "      <td>Yes</td>\n",
              "      <td>Game</td>\n",
              "      <td>36.0</td>\n",
              "      <td>6.0</td>\n",
              "      <td>216.0</td>\n",
              "    </tr>\n",
              "    <tr>\n",
              "      <th>4</th>\n",
              "      <td>2018-07-21</td>\n",
              "      <td>5.0</td>\n",
              "      <td>0</td>\n",
              "      <td>3.0</td>\n",
              "      <td>4.0</td>\n",
              "      <td>4.0</td>\n",
              "      <td>23:45:00</td>\n",
              "      <td>07:00:00</td>\n",
              "      <td>7.25</td>\n",
              "      <td>4.0</td>\n",
              "      <td>...</td>\n",
              "      <td>Okay</td>\n",
              "      <td>Yes</td>\n",
              "      <td>100%</td>\n",
              "      <td>2018-07-20</td>\n",
              "      <td>11</td>\n",
              "      <td>Yes</td>\n",
              "      <td>Game</td>\n",
              "      <td>36.0</td>\n",
              "      <td>8.0</td>\n",
              "      <td>288.0</td>\n",
              "    </tr>\n",
              "    <tr>\n",
              "      <th>5</th>\n",
              "      <td>2018-07-21</td>\n",
              "      <td>7.0</td>\n",
              "      <td>1</td>\n",
              "      <td>2.0</td>\n",
              "      <td>5.0</td>\n",
              "      <td>4.0</td>\n",
              "      <td>22:00:00</td>\n",
              "      <td>07:00:00</td>\n",
              "      <td>9.00</td>\n",
              "      <td>3.0</td>\n",
              "      <td>...</td>\n",
              "      <td>Excellent</td>\n",
              "      <td>Yes</td>\n",
              "      <td>95%</td>\n",
              "      <td>2018-07-20</td>\n",
              "      <td>11</td>\n",
              "      <td>Yes</td>\n",
              "      <td>Mobility/Recovery</td>\n",
              "      <td>15.0</td>\n",
              "      <td>2.0</td>\n",
              "      <td>30.0</td>\n",
              "    </tr>\n",
              "    <tr>\n",
              "      <th>6</th>\n",
              "      <td>2018-07-21</td>\n",
              "      <td>10.0</td>\n",
              "      <td>1</td>\n",
              "      <td>2.0</td>\n",
              "      <td>4.0</td>\n",
              "      <td>4.0</td>\n",
              "      <td>22:30:00</td>\n",
              "      <td>05:45:00</td>\n",
              "      <td>7.25</td>\n",
              "      <td>3.0</td>\n",
              "      <td>...</td>\n",
              "      <td>Excellent</td>\n",
              "      <td>Yes</td>\n",
              "      <td>70%</td>\n",
              "      <td>2018-07-20</td>\n",
              "      <td>13</td>\n",
              "      <td>Yes</td>\n",
              "      <td>Game</td>\n",
              "      <td>27.0</td>\n",
              "      <td>6.0</td>\n",
              "      <td>162.0</td>\n",
              "    </tr>\n",
              "  </tbody>\n",
              "</table>\n",
              "<p>5 rows × 24 columns</p>\n",
              "</div>"
            ],
            "text/plain": [
              "         Date PlayerID  Fatigue  Soreness  Desire  Irritability   BedTime  \\\n",
              "0  2018-07-21      1.0        1       3.0     2.0           3.0  23:00:00   \n",
              "3  2018-07-21      4.0        1       3.0     5.0           4.0  00:30:00   \n",
              "4  2018-07-21      5.0        0       3.0     4.0           4.0  23:45:00   \n",
              "5  2018-07-21      7.0        1       2.0     5.0           4.0  22:00:00   \n",
              "6  2018-07-21     10.0        1       2.0     4.0           4.0  22:30:00   \n",
              "\n",
              "   WakeTime  SleepHours  SleepQuality     ...      Nutrition  \\\n",
              "0  07:00:00        8.00           2.0     ...      Excellent   \n",
              "3  07:00:00        6.50           1.0     ...      Excellent   \n",
              "4  07:00:00        7.25           4.0     ...           Okay   \n",
              "5  07:00:00        9.00           3.0     ...      Excellent   \n",
              "6  05:45:00        7.25           3.0     ...      Excellent   \n",
              "\n",
              "  NutritionAdjustment TrainingReadiness        Date PlayerID Training  \\\n",
              "0                 Yes                0%  2018-07-21       13      Yes   \n",
              "3                 Yes               95%  2018-07-20       11      Yes   \n",
              "4                 Yes              100%  2018-07-20       11      Yes   \n",
              "5                 Yes               95%  2018-07-20       11      Yes   \n",
              "6                 Yes               70%  2018-07-20       13      Yes   \n",
              "\n",
              "         SessionType Duration  RPE SessionLoad  \n",
              "0  Mobility/Recovery      5.0  0.0         0.0  \n",
              "3               Game     36.0  6.0       216.0  \n",
              "4               Game     36.0  8.0       288.0  \n",
              "5  Mobility/Recovery     15.0  2.0        30.0  \n",
              "6               Game     27.0  6.0       162.0  \n",
              "\n",
              "[5 rows x 24 columns]"
            ]
          },
          "metadata": {
            "tags": []
          },
          "execution_count": 48
        }
      ]
    },
    {
      "metadata": {
        "id": "oJ7qqeh0b4DW",
        "colab_type": "text"
      },
      "cell_type": "markdown",
      "source": [
        "### Feature Transformation of Wellness Indicators "
      ]
    },
    {
      "metadata": {
        "id": "i9TkN2FfipYf",
        "colab_type": "code",
        "colab": {}
      },
      "cell_type": "code",
      "source": [
        "wellness_rpe3['Pain'] = wellness_rpe3.Pain.astype(\"category\").cat.codes \n"
      ],
      "execution_count": 0,
      "outputs": []
    },
    {
      "metadata": {
        "id": "Tt1et3P1qAx7",
        "colab_type": "code",
        "colab": {}
      },
      "cell_type": "code",
      "source": [
        "wellness_rpe3['Menstruation'] = wellness_rpe3.Menstruation.astype(\"category\").cat.codes \n"
      ],
      "execution_count": 0,
      "outputs": []
    },
    {
      "metadata": {
        "id": "_ky8-5P0p9t8",
        "colab_type": "code",
        "colab": {}
      },
      "cell_type": "code",
      "source": [
        "categories1 = {\n",
        "'No':0,\n",
        "'Slightly Off'        :1, #or Yes\n",
        "'Yes':1\n",
        "}\n",
        "\n",
        "categories2 = {\n",
        "'Excellent':0,\n",
        "'Okay'        :1, # 'Okay or Poor\n",
        "'Poor':1\n",
        "}\n",
        "\n",
        "categories3 = {\n",
        "'Yes' :0,\n",
        "'No':1,      \n",
        "\"I Don't Know\" :1      \n",
        "}\n",
        "\n",
        "#wellness_rpe3['Illness']  = [categories1[x] for x in wellness_rpe3['Illness'] ]\n",
        "#wellness_rpe3['Nutrition']  = [categories2[x] for x in wellness_rpe3['Nutrition'] ]\n",
        "wellness_rpe3['NutritionAdjustment']  = [categories3[x] for x in wellness_rpe3['NutritionAdjustment'] ]"
      ],
      "execution_count": 0,
      "outputs": []
    },
    {
      "metadata": {
        "id": "mw6k78LZUqsG",
        "colab_type": "code",
        "colab": {}
      },
      "cell_type": "code",
      "source": [
        "wellness_rpe3['Date'].value_counts()"
      ],
      "execution_count": 0,
      "outputs": []
    },
    {
      "metadata": {
        "id": "vOp2iysPfh9H",
        "colab_type": "code",
        "outputId": "e32b2157-fd0b-45ce-e438-6405dd14f1de",
        "colab": {
          "base_uri": "https://localhost:8080/",
          "height": 550
        }
      },
      "cell_type": "code",
      "source": [
        "cat_wellness3 = [   'MonitoringScore',\n",
        "       'Pain', 'Illness', 'Menstruation', 'Nutrition', 'NutritionAdjustment'\n",
        "      ]\n",
        "count_unique(wellness_rpe3, cat_wellness3)"
      ],
      "execution_count": 0,
      "outputs": [
        {
          "output_type": "stream",
          "text": [
            "\n",
            "For column MonitoringScore\n",
            "1    2476\n",
            "0    1108\n",
            "Name: MonitoringScore, dtype: int64\n",
            "\n",
            "For column Pain\n",
            "0    3183\n",
            "1     401\n",
            "Name: Pain, dtype: int64\n",
            "\n",
            "For column Illness\n",
            "0    3204\n",
            "1     380\n",
            "Name: Illness, dtype: int64\n",
            "\n",
            "For column Menstruation\n",
            "0    3069\n",
            "1     515\n",
            "Name: Menstruation, dtype: int64\n",
            "\n",
            "For column Nutrition\n",
            "0    2336\n",
            "1    1248\n",
            "Name: Nutrition, dtype: int64\n",
            "\n",
            "For column NutritionAdjustment\n",
            "0    3121\n",
            "1     463\n",
            "Name: NutritionAdjustment, dtype: int64\n"
          ],
          "name": "stdout"
        }
      ]
    },
    {
      "metadata": {
        "id": "0U2k21CDfh5z",
        "colab_type": "code",
        "colab": {}
      },
      "cell_type": "code",
      "source": [
        ""
      ],
      "execution_count": 0,
      "outputs": []
    },
    {
      "metadata": {
        "id": "64Oj1KGibZLI",
        "colab_type": "text"
      },
      "cell_type": "markdown",
      "source": [
        "### Feature Seletction for Wellness Indicator Analysis"
      ]
    },
    {
      "metadata": {
        "id": "7j0DtbZ4xH2Q",
        "colab_type": "code",
        "colab": {}
      },
      "cell_type": "code",
      "source": [
        "labels = np.array(wellness_rpe3.MonitoringScore)\n",
        "Labels = labels.reshape(labels.shape[0],)"
      ],
      "execution_count": 0,
      "outputs": []
    },
    {
      "metadata": {
        "id": "Z9NigRr0u3PS",
        "colab_type": "code",
        "colab": {}
      },
      "cell_type": "code",
      "source": [
        "Features = np.array(wellness_rpe3[  ['Pain', 'Illness', 'Menstruation', 'Nutrition', 'NutritionAdjustment']])"
      ],
      "execution_count": 0,
      "outputs": []
    },
    {
      "metadata": {
        "id": "zXdmXGXqxBJ9",
        "colab_type": "code",
        "colab": {}
      },
      "cell_type": "code",
      "source": [
        "## Randomly sample cases to create independent training and test data\n",
        "nr.seed(1115)\n",
        "indx = range(Features.shape[0])\n",
        "indx = ms.train_test_split(indx, test_size = 300)\n",
        "X_train = Features[indx[0],:]\n",
        "y_train = np.ravel(Labels[indx[0]])\n",
        "X_test = Features[indx[1],:]\n",
        "y_test = np.ravel(Labels[indx[1]])"
      ],
      "execution_count": 0,
      "outputs": []
    },
    {
      "metadata": {
        "id": "TE8KQuNIxV5x",
        "colab_type": "code",
        "colab": {}
      },
      "cell_type": "code",
      "source": [
        "#Preparing for Cross Validation K-Fold\n",
        "\n",
        "nr.seed(123)\n",
        "inside = ms.KFold(n_splits=10, shuffle = True)\n",
        "nr.seed(321)\n",
        "outside = ms.KFold(n_splits=10, shuffle = True)"
      ],
      "execution_count": 0,
      "outputs": []
    },
    {
      "metadata": {
        "id": "s1zllmYZbhiS",
        "colab_type": "text"
      },
      "cell_type": "markdown",
      "source": [
        "###Model Selection - Naive Bayes"
      ]
    },
    {
      "metadata": {
        "id": "uJQ4iZfOxBCz",
        "colab_type": "code",
        "colab": {}
      },
      "cell_type": "code",
      "source": [
        "from sklearn.naive_bayes import GaussianNB, BernoulliNB\n"
      ],
      "execution_count": 0,
      "outputs": []
    },
    {
      "metadata": {
        "id": "5jjeer59u3kB",
        "colab_type": "code",
        "outputId": "3beea17a-00aa-4a8f-8582-0b605529a4a1",
        "colab": {
          "base_uri": "https://localhost:8080/",
          "height": 34
        }
      },
      "cell_type": "code",
      "source": [
        "nr.seed(3456)\n",
        "## Define the dictionary for the grid search and the model object to search on\n",
        "\n",
        "param_grid = {\"alpha\": [0.0001, 0.001, 0.01, 0.1, 1, 10]}\n",
        "## Define the NB regression model\n",
        "\n",
        "NB_clf = BernoulliNB() \n",
        "\n",
        "## Perform the grid search over the parameters\n",
        "clf = ms.GridSearchCV(estimator = NB_clf, param_grid = param_grid, \n",
        "                      cv = inside, # Use the inside folds\n",
        "                      scoring = 'roc_auc',\n",
        "                      return_train_score = True)\n",
        "clf.fit(Features, Labels)\n",
        "print(clf.best_estimator_.alpha)"
      ],
      "execution_count": 0,
      "outputs": [
        {
          "output_type": "stream",
          "text": [
            "0.0001\n"
          ],
          "name": "stdout"
        }
      ]
    },
    {
      "metadata": {
        "id": "vRZzoROau3Ic",
        "colab_type": "code",
        "outputId": "4d37dc6f-1a6b-4177-b9c4-1d03ca635008",
        "colab": {
          "base_uri": "https://localhost:8080/",
          "height": 247
        }
      },
      "cell_type": "code",
      "source": [
        "#NB_credit = BernoulliNB(alpha = clf.best_estimator_.alpha)\n",
        "nr.seed(498)\n",
        "cv_estimate = ms.cross_val_score(clf, Features, Labels, \n",
        "                                 cv = outside) # Use the outside folds\n",
        "\n",
        "print('Mean performance metric = %4.3f' % np.mean(cv_estimate))\n",
        "print('SDT of the metric       = %4.3f' % np.std(cv_estimate))\n",
        "print('Outcomes by cv fold')\n",
        "for i, x in enumerate(cv_estimate):\n",
        "    print('Fold %2d    %4.3f' % (i+1, x))"
      ],
      "execution_count": 0,
      "outputs": [
        {
          "output_type": "stream",
          "text": [
            "Mean performance metric = 0.601\n",
            "SDT of the metric       = 0.034\n",
            "Outcomes by cv fold\n",
            "Fold  1    0.677\n",
            "Fold  2    0.607\n",
            "Fold  3    0.579\n",
            "Fold  4    0.579\n",
            "Fold  5    0.627\n",
            "Fold  6    0.548\n",
            "Fold  7    0.573\n",
            "Fold  8    0.598\n",
            "Fold  9    0.623\n",
            "Fold 10    0.605\n"
          ],
          "name": "stdout"
        }
      ]
    },
    {
      "metadata": {
        "id": "Kso27qBSxsTy",
        "colab_type": "code",
        "colab": {}
      },
      "cell_type": "code",
      "source": [
        "def score_model(probs, threshold):\n",
        "    return np.array([1 if x > threshold else 0 for x in probs[:,1]])\n",
        "\n",
        "def print_metrics(labels, probs, threshold):\n",
        "    scores = score_model(probs, threshold)\n",
        "    metrics = sklm.precision_recall_fscore_support(labels, scores)\n",
        "    conf = sklm.confusion_matrix(labels, scores)\n",
        "    print('                 Confusion matrix')\n",
        "    print('                 Score : Below Average   Score : Actual Average')\n",
        "    print('Actual positive    %6d' % conf[0,0] + '             %5d' % conf[0,1])\n",
        "    print('Actual negative    %6d' % conf[1,0] + '             %5d' % conf[1,1])\n",
        "    print('')\n",
        "    print('Accuracy        %0.2f' % sklm.accuracy_score(labels, scores))\n",
        "    print('AUC             %0.2f' % sklm.roc_auc_score(labels, probs[:,1]))\n",
        "    print('Macro precision %0.2f' % float((float(metrics[0][0]) + float(metrics[0][1]))/2.0))\n",
        "    print('Macro recall    %0.2f' % float((float(metrics[1][0]) + float(metrics[1][1]))/2.0))\n",
        "    print(' ')\n",
        "    print('           Above Average      Below Average')\n",
        "    print('Num case   %6d' % metrics[3][0] + '        %6d' % metrics[3][1])\n",
        "    print('Precision  %6.2f' % metrics[0][0] + '        %6.2f' % metrics[0][1])\n",
        "    print('Recall     %6.2f' % metrics[1][0] + '        %6.2f' % metrics[1][1])\n",
        "    print('F1         %6.2f' % metrics[2][0] + '        %6.2f' % metrics[2][1])"
      ],
      "execution_count": 0,
      "outputs": []
    },
    {
      "metadata": {
        "id": "FcAWM24-y5tM",
        "colab_type": "code",
        "colab": {}
      },
      "cell_type": "code",
      "source": [
        ""
      ],
      "execution_count": 0,
      "outputs": []
    },
    {
      "metadata": {
        "id": "nMV4BrV9yDM1",
        "colab_type": "code",
        "outputId": "76f6550f-3b62-4ce7-c6d4-ec28a5c730ec",
        "colab": {
          "base_uri": "https://localhost:8080/",
          "height": 283
        }
      },
      "cell_type": "code",
      "source": [
        "NB_credit_mod = BernoulliNB(alpha = clf.best_estimator_.alpha,\n",
        "                            class_prior = [0.4,0.6]) \n",
        "NB_credit_mod.fit(X_train, y_train)\n",
        "probabilities = NB_credit_mod.predict_proba(X_test)\n",
        "print_metrics(y_test, probabilities, 0.5)    "
      ],
      "execution_count": 0,
      "outputs": [
        {
          "output_type": "stream",
          "text": [
            "                 Confusion matrix\n",
            "                 Score : Below Average   Score : Actual Average\n",
            "Actual positive        32                53\n",
            "Actual negative        40               175\n",
            "\n",
            "Accuracy        0.69\n",
            "AUC             0.67\n",
            "Macro precision 0.61\n",
            "Macro recall    0.60\n",
            " \n",
            "           Above Average      Below Average\n",
            "Num case       85           215\n",
            "Precision    0.44          0.77\n",
            "Recall       0.38          0.81\n",
            "F1           0.41          0.79\n"
          ],
          "name": "stdout"
        }
      ]
    },
    {
      "metadata": {
        "id": "9UNEGbV_0rVA",
        "colab_type": "code",
        "colab": {}
      },
      "cell_type": "code",
      "source": [
        "def score_model(probs, threshold):\n",
        "    return np.array([1 if x > threshold else 0 for x in probs[:,1]])\n",
        "scores = score_model(probabilities, 0.5)"
      ],
      "execution_count": 0,
      "outputs": []
    },
    {
      "metadata": {
        "id": "gwe-aHcQ0h4y",
        "colab_type": "code",
        "colab": {}
      },
      "cell_type": "code",
      "source": [
        "conf1 = sklm.confusion_matrix(y_test, scores)"
      ],
      "execution_count": 0,
      "outputs": []
    },
    {
      "metadata": {
        "id": "HpdGzxTf0f85",
        "colab_type": "code",
        "colab": {}
      },
      "cell_type": "code",
      "source": [
        "array = [ [conf1[0,0] , conf1[0,1]],\n",
        "[conf1[1,0] , conf1[1,1]] ]"
      ],
      "execution_count": 0,
      "outputs": []
    },
    {
      "metadata": {
        "id": "FpxgkA8pz6Na",
        "colab_type": "code",
        "outputId": "1b0aadf8-e4f5-4289-df26-8a041301a68a",
        "colab": {
          "base_uri": "https://localhost:8080/",
          "height": 515
        }
      },
      "cell_type": "code",
      "source": [
        "## Ploting the Heatmap for Naive Bayes Result \n",
        "\n",
        "df_cm = pd.DataFrame(array, index = [i for i in ['Predicted: Below Average','Predicted: Above Average']],\n",
        "                  columns = [i for i in ['Actual: Below Average','Above Average']])\n",
        "\n",
        "fig = plt.figure(figsize=(10,8)) # define plot area\n",
        "ax = fig.gca()\n",
        "ax.set_title('Heatmap of Wellness Indicator (Mornitoring Score) using Naives Bayes Model')\n",
        "sns.heatmap(df_cm, annot=True, ax = ax )"
      ],
      "execution_count": 0,
      "outputs": [
        {
          "output_type": "execute_result",
          "data": {
            "text/plain": [
              "<matplotlib.axes._subplots.AxesSubplot at 0x7fa48c04f7f0>"
            ]
          },
          "metadata": {
            "tags": []
          },
          "execution_count": 82
        },
        {
          "output_type": "display_data",
          "data": {
            "image/png": "[encoded data removed]",
            "text/plain": [
              "<Figure size 720x576 with 2 Axes>"
            ]
          },
          "metadata": {
            "tags": []
          }
        }
      ]
    },
    {
      "metadata": {
        "id": "WmzCUD1S4jdX",
        "colab_type": "code",
        "colab": {}
      },
      "cell_type": "code",
      "source": [
        ""
      ],
      "execution_count": 0,
      "outputs": []
    },
    {
      "metadata": {
        "id": "djOlqTJPqoNl",
        "colab_type": "text"
      },
      "cell_type": "markdown",
      "source": [
        "### Conclusion\n",
        "\n",
        "\n",
        "- Based on our analysis, we suggest that we can give extra training for their defense team (to improve AccelZ\n",
        "and AccelY scores)\n",
        "- Team Canada should keep their positivity in their wellbeing but they cannot ignore other important variables\n",
        "such as skills in determining the success of their team\n",
        "- Based on the violin plots, we can provide individualized trainings for each team members based on their\n",
        "speed and tackling skills level."
      ]
    },
    {
      "metadata": {
        "id": "n9y1jI9OqnSs",
        "colab_type": "code",
        "colab": {}
      },
      "cell_type": "code",
      "source": [
        ""
      ],
      "execution_count": 0,
      "outputs": []
    }
  ]
}