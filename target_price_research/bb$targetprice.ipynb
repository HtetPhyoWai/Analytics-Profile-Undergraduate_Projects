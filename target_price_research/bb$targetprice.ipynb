{
  "nbformat": 4,
  "nbformat_minor": 0,
  "metadata": {
    "colab": {
      "name": "bb$targetprice.ipynb",
      "version": "0.3.2",
      "provenance": [],
      "collapsed_sections": []
    },
    "kernelspec": {
      "name": "python3",
      "display_name": "Python 3"
    }
  },
  "cells": [
    {
      "metadata": {
        "id": "4yGDsEpvfpug",
        "colab_type": "text"
      },
      "cell_type": "markdown",
      "source": [
        "### Blue Blazer Portfolio : Target Pice Research"
      ]
    },
    {
      "metadata": {
        "id": "h8ZqJV7C2kDg",
        "colab_type": "code",
        "colab": {}
      },
      "cell_type": "code",
      "source": [
        "import numpy as np\n",
        "import pandas as pd\n",
        "import matplotlib.pyplot as plt"
      ],
      "execution_count": 0,
      "outputs": []
    },
    {
      "metadata": {
        "id": "UcBaSpwijF5Z",
        "colab_type": "code",
        "colab": {}
      },
      "cell_type": "code",
      "source": [
        "#TICKERS \n",
        "\n",
        "tickers = [ 'DIS', 'CBS', \n",
        " 'AMZN','BKS', 'WMT' ,\n",
        " 'CAT', 'DE' , 'TEX',  \n",
        " 'MSFT', 'GOOGL', 'AAPL', 'ORCL' , \n",
        "# 'AAPL', 'GOOGL', 'MSFT',\n",
        " 'WFC' , 'BAC' , 'JPM',\n",
        " 'EBAY',  'MELI',\n",
        " 'C', \n",
        " 'BA', 'ERJ','LMT',\n",
        " 'GWRS', 'AWK', 'WTR', 'AWR' ]"
      ],
      "execution_count": 0,
      "outputs": []
    },
    {
      "metadata": {
        "id": "WUCIROR2jFzc",
        "colab_type": "code",
        "colab": {}
      },
      "cell_type": "code",
      "source": [
        "# PE/PEG libraries\n",
        "import time\n",
        "import requests\n",
        "from bs4 import BeautifulSoup\n",
        "import progressbar\n",
        "\n",
        "req = requests.get(\"https://finviz.com/quote.ashx?t=FB\")\n",
        "soup = BeautifulSoup(req.content, 'html.parser')"
      ],
      "execution_count": 0,
      "outputs": []
    },
    {
      "metadata": {
        "id": "yR7mPPeO2rTI",
        "colab_type": "code",
        "colab": {}
      },
      "cell_type": "code",
      "source": [
        "# STEP (1) DEFINITION FOR WEB - SRAPING PE/PEG\n",
        "####################################\n",
        "def scrape_finviz(symbols):\n",
        "    # Get Column Header\n",
        "    req = requests.get(\"https://finviz.com/quote.ashx?t=FB\")\n",
        "    soup = BeautifulSoup(req.content, 'html.parser')\n",
        "    table = soup.find_all(lambda tag: tag.name=='table')\n",
        "    rows = table[8].findAll(lambda tag: tag.name=='tr')\n",
        "    out=[]\n",
        "    for i in range(len(rows)):\n",
        "        td=rows[i].find_all('td')\n",
        "        out=out+[x.text for x in td]\n",
        "\n",
        "    ls=['Ticker']+out[::2]  \n",
        "\n",
        "    dict_ls={k:ls[k] for k in range(len(ls))}\n",
        "    df=pd.DataFrame()\n",
        "    p = progressbar.ProgressBar()\n",
        "    p.start()\n",
        "    for j in range(len(symbols)):\n",
        "        p.update(j/len(symbols) * 100)\n",
        "        req = requests.get(\"https://finviz.com/quote.ashx?t=\"+symbols[j])\n",
        "        if req.status_code !=200:\n",
        "            continue\n",
        "        soup = BeautifulSoup(req.content, 'html.parser')\n",
        "        table = soup.find_all(lambda tag: tag.name=='table')\n",
        "        rows = table[8].findAll(lambda tag: tag.name=='tr')\n",
        "        out=[]\n",
        "        for i in range(len(rows)):\n",
        "            td=rows[i].find_all('td')\n",
        "            out=out+[x.text for x in td]\n",
        "        out=[symbols[j]]+out[1::2]\n",
        "        out_df=pd.DataFrame(out).transpose()\n",
        "        df=df.append(out_df,ignore_index=True)\n",
        "\n",
        "    p.finish()\n",
        "    df=df.rename(columns=dict_ls)  \n",
        "\n",
        "    return(df)"
      ],
      "execution_count": 0,
      "outputs": []
    },
    {
      "metadata": {
        "id": "XdVsARsF2rWA",
        "colab_type": "code",
        "outputId": "39b22ddc-e188-42c9-f628-a98622f55149",
        "colab": {
          "base_uri": "https://localhost:8080/",
          "height": 34
        }
      },
      "cell_type": "code",
      "source": [
        "data = scrape_finviz(tickers)"
      ],
      "execution_count": 0,
      "outputs": [
        {
          "output_type": "stream",
          "text": [
            "| |                                        #         | 96 Elapsed Time: 0:00:45\n"
          ],
          "name": "stderr"
        }
      ]
    },
    {
      "metadata": {
        "id": "addLWYDZ5_gg",
        "colab_type": "code",
        "colab": {}
      },
      "cell_type": "code",
      "source": [
        "#data.columns"
      ],
      "execution_count": 0,
      "outputs": []
    },
    {
      "metadata": {
        "id": "_jxr7Fug6ULX",
        "colab_type": "code",
        "outputId": "6d3c3035-fbe9-4f1d-b381-6d926c73f6a1",
        "colab": {
          "base_uri": "https://localhost:8080/",
          "height": 363
        }
      },
      "cell_type": "code",
      "source": [
        "data.head(5)"
      ],
      "execution_count": 0,
      "outputs": [
        {
          "output_type": "execute_result",
          "data": {
            "text/html": [
              "<div>\n",
              "<style scoped>\n",
              "    .dataframe tbody tr th:only-of-type {\n",
              "        vertical-align: middle;\n",
              "    }\n",
              "\n",
              "    .dataframe tbody tr th {\n",
              "        vertical-align: top;\n",
              "    }\n",
              "\n",
              "    .dataframe thead th {\n",
              "        text-align: right;\n",
              "    }\n",
              "</style>\n",
              "<table border=\"1\" class=\"dataframe\">\n",
              "  <thead>\n",
              "    <tr style=\"text-align: right;\">\n",
              "      <th></th>\n",
              "      <th>Ticker</th>\n",
              "      <th>Index</th>\n",
              "      <th>P/E</th>\n",
              "      <th>EPS (ttm)</th>\n",
              "      <th>Insider Own</th>\n",
              "      <th>Shs Outstand</th>\n",
              "      <th>Perf Week</th>\n",
              "      <th>Market Cap</th>\n",
              "      <th>Forward P/E</th>\n",
              "      <th>EPS next Y</th>\n",
              "      <th>...</th>\n",
              "      <th>Earnings</th>\n",
              "      <th>Payout</th>\n",
              "      <th>Avg Volume</th>\n",
              "      <th>Price</th>\n",
              "      <th>Recom</th>\n",
              "      <th>SMA20</th>\n",
              "      <th>SMA50</th>\n",
              "      <th>SMA200</th>\n",
              "      <th>Volume</th>\n",
              "      <th>Change</th>\n",
              "    </tr>\n",
              "  </thead>\n",
              "  <tbody>\n",
              "    <tr>\n",
              "      <th>0</th>\n",
              "      <td>DIS</td>\n",
              "      <td>DJIA S&amp;P500</td>\n",
              "      <td>15.20</td>\n",
              "      <td>7.24</td>\n",
              "      <td>0.10%</td>\n",
              "      <td>1.49B</td>\n",
              "      <td>-3.59%</td>\n",
              "      <td>163.89B</td>\n",
              "      <td>15.28</td>\n",
              "      <td>7.20</td>\n",
              "      <td>...</td>\n",
              "      <td>Feb 05 AMC</td>\n",
              "      <td>23.40%</td>\n",
              "      <td>9.67M</td>\n",
              "      <td>108.66</td>\n",
              "      <td>2.20</td>\n",
              "      <td>-4.41%</td>\n",
              "      <td>-3.25%</td>\n",
              "      <td>-2.64%</td>\n",
              "      <td>26,866,743</td>\n",
              "      <td>-1.21%</td>\n",
              "    </tr>\n",
              "    <tr>\n",
              "      <th>1</th>\n",
              "      <td>CBS</td>\n",
              "      <td>S&amp;P 500</td>\n",
              "      <td>9.23</td>\n",
              "      <td>5.00</td>\n",
              "      <td>0.30%</td>\n",
              "      <td>377.26M</td>\n",
              "      <td>-5.22%</td>\n",
              "      <td>17.41B</td>\n",
              "      <td>7.02</td>\n",
              "      <td>6.57</td>\n",
              "      <td>...</td>\n",
              "      <td>Feb 14 AMC</td>\n",
              "      <td>13.90%</td>\n",
              "      <td>3.18M</td>\n",
              "      <td>46.10</td>\n",
              "      <td>2.30</td>\n",
              "      <td>-6.58%</td>\n",
              "      <td>-6.26%</td>\n",
              "      <td>-12.67%</td>\n",
              "      <td>4,682,612</td>\n",
              "      <td>-0.13%</td>\n",
              "    </tr>\n",
              "    <tr>\n",
              "      <th>2</th>\n",
              "      <td>AMZN</td>\n",
              "      <td>S&amp;P 500</td>\n",
              "      <td>90.62</td>\n",
              "      <td>19.83</td>\n",
              "      <td>16.10%</td>\n",
              "      <td>483.70M</td>\n",
              "      <td>6.30%</td>\n",
              "      <td>869.34B</td>\n",
              "      <td>44.98</td>\n",
              "      <td>39.96</td>\n",
              "      <td>...</td>\n",
              "      <td>Jan 31 AMC</td>\n",
              "      <td>0.00%</td>\n",
              "      <td>5.66M</td>\n",
              "      <td>1819.26</td>\n",
              "      <td>1.80</td>\n",
              "      <td>8.57%</td>\n",
              "      <td>9.83%</td>\n",
              "      <td>5.06%</td>\n",
              "      <td>5,588,028</td>\n",
              "      <td>1.22%</td>\n",
              "    </tr>\n",
              "    <tr>\n",
              "      <th>3</th>\n",
              "      <td>BKS</td>\n",
              "      <td>-</td>\n",
              "      <td>2785.00</td>\n",
              "      <td>0.00</td>\n",
              "      <td>9.20%</td>\n",
              "      <td>76.69M</td>\n",
              "      <td>0.72%</td>\n",
              "      <td>427.16M</td>\n",
              "      <td>16.38</td>\n",
              "      <td>0.34</td>\n",
              "      <td>...</td>\n",
              "      <td>Mar 07 BMO</td>\n",
              "      <td>834.70%</td>\n",
              "      <td>1.76M</td>\n",
              "      <td>5.57</td>\n",
              "      <td>2.30</td>\n",
              "      <td>-5.07%</td>\n",
              "      <td>-8.33%</td>\n",
              "      <td>-9.69%</td>\n",
              "      <td>2,371,057</td>\n",
              "      <td>0.00%</td>\n",
              "    </tr>\n",
              "    <tr>\n",
              "      <th>4</th>\n",
              "      <td>WMT</td>\n",
              "      <td>DJIA S&amp;P500</td>\n",
              "      <td>43.80</td>\n",
              "      <td>2.25</td>\n",
              "      <td>1.20%</td>\n",
              "      <td>2.90B</td>\n",
              "      <td>-0.39%</td>\n",
              "      <td>285.99B</td>\n",
              "      <td>19.72</td>\n",
              "      <td>5.00</td>\n",
              "      <td>...</td>\n",
              "      <td>Feb 19 BMO</td>\n",
              "      <td>117.50%</td>\n",
              "      <td>7.98M</td>\n",
              "      <td>99.06</td>\n",
              "      <td>2.30</td>\n",
              "      <td>0.47%</td>\n",
              "      <td>1.63%</td>\n",
              "      <td>5.48%</td>\n",
              "      <td>6,506,789</td>\n",
              "      <td>0.43%</td>\n",
              "    </tr>\n",
              "  </tbody>\n",
              "</table>\n",
              "<p>5 rows × 73 columns</p>\n",
              "</div>"
            ],
            "text/plain": [
              "  Ticker        Index      P/E EPS (ttm) Insider Own Shs Outstand Perf Week  \\\n",
              "0    DIS  DJIA S&P500    15.20      7.24       0.10%        1.49B    -3.59%   \n",
              "1    CBS      S&P 500     9.23      5.00       0.30%      377.26M    -5.22%   \n",
              "2   AMZN      S&P 500    90.62     19.83      16.10%      483.70M     6.30%   \n",
              "3    BKS            -  2785.00      0.00       9.20%       76.69M     0.72%   \n",
              "4    WMT  DJIA S&P500    43.80      2.25       1.20%        2.90B    -0.39%   \n",
              "\n",
              "  Market Cap Forward P/E EPS next Y   ...      Earnings   Payout Avg Volume  \\\n",
              "0    163.89B       15.28       7.20   ...    Feb 05 AMC   23.40%      9.67M   \n",
              "1     17.41B        7.02       6.57   ...    Feb 14 AMC   13.90%      3.18M   \n",
              "2    869.34B       44.98      39.96   ...    Jan 31 AMC    0.00%      5.66M   \n",
              "3    427.16M       16.38       0.34   ...    Mar 07 BMO  834.70%      1.76M   \n",
              "4    285.99B       19.72       5.00   ...    Feb 19 BMO  117.50%      7.98M   \n",
              "\n",
              "     Price Recom   SMA20   SMA50   SMA200      Volume  Change  \n",
              "0   108.66  2.20  -4.41%  -3.25%   -2.64%  26,866,743  -1.21%  \n",
              "1    46.10  2.30  -6.58%  -6.26%  -12.67%   4,682,612  -0.13%  \n",
              "2  1819.26  1.80   8.57%   9.83%    5.06%   5,588,028   1.22%  \n",
              "3     5.57  2.30  -5.07%  -8.33%   -9.69%   2,371,057   0.00%  \n",
              "4    99.06  2.30   0.47%   1.63%    5.48%   6,506,789   0.43%  \n",
              "\n",
              "[5 rows x 73 columns]"
            ]
          },
          "metadata": {
            "tags": []
          },
          "execution_count": 9
        }
      ]
    },
    {
      "metadata": {
        "id": "LzTkbUqN68lp",
        "colab_type": "code",
        "colab": {}
      },
      "cell_type": "code",
      "source": [
        "#data[\"Target Price\"]\n",
        "#data.Ticker\n",
        "data.columns"
      ],
      "execution_count": 0,
      "outputs": []
    },
    {
      "metadata": {
        "id": "hIMxk4y42rbH",
        "colab_type": "code",
        "colab": {}
      },
      "cell_type": "code",
      "source": [
        "data1 = data.rename(columns = {'P/E': 'PE', 'EPS (ttm)':'EPS' ,'P/B':'PB','P/C':'PC', 'Dividend %' : 'd_rate', 'Book/sh':'BookpS','Cash/sh' : 'CashpS' }) \n",
        "fields = [\"Ticker\",\"Price\", \"PE\", \"EPS\" ,\"PEG\" , \"Beta\",  \"BookpS\", \"PB\",\"CashpS\", \"PC\", \"Dividend\",\"d_rate\" ]\n"
      ],
      "execution_count": 0,
      "outputs": []
    },
    {
      "metadata": {
        "id": "7eTOcv7V7baP",
        "colab_type": "code",
        "colab": {}
      },
      "cell_type": "code",
      "source": [
        "#data1.EPS"
      ],
      "execution_count": 0,
      "outputs": []
    },
    {
      "metadata": {
        "id": "nd9PUlgijFrS",
        "colab_type": "code",
        "colab": {}
      },
      "cell_type": "code",
      "source": [
        "table = data1.loc[:,fields]\n",
        "table.columns = pd.Index([\"Ticker\",\"Price\", \"PE\" ,\"EPS\",\"PEG\" , \"Beta\", \"BookpS\", \"PB\",\"CashpS\", \"PC\" ,\"Dividend\",\"d_rate\"])\n",
        "table = table.replace('-', np.nan,regex= True)\n",
        "\n",
        "                   \n",
        "### Data Type Conversion                   \n",
        "table[\"Price\"] = table.Price.astype(float)\n",
        "table[\"PE\"] = table.PE.astype(float)\n",
        "table[\"EPS\"] = table.EPS.astype(float)\n",
        "table[\"PEG\"] = table.PEG.astype(float)\n",
        "table[\"Beta\"] = table.Beta.astype(float)\n",
        "table[\"BookpS\"] = table.BookpS.astype(float)\n",
        "table[\"PB\"] = table.PB.astype(float)\n",
        "table[\"CashpS\"] = table.CashpS.astype(float)\n",
        "table[\"PC\"] = table.PC.astype(float)\n",
        "table[\"PEG\"] = table.PEG.astype(float)\n",
        "table[\"Dividend\"] =table.Dividend.fillna(0)\n",
        "table[\"Dividend\"] = table.Dividend.astype(float)\n",
        "table[\"d_rate\"] = table.d_rate.astype(str)\n",
        "table[\"d_rate\"] = table[\"d_rate\"].str.rstrip('%').astype('float') / 100.0\n",
        "table[\"d_rate\"] = table.d_rate.fillna(0)"
      ],
      "execution_count": 0,
      "outputs": []
    },
    {
      "metadata": {
        "id": "t8Flqb2Y9nni",
        "colab_type": "code",
        "colab": {}
      },
      "cell_type": "code",
      "source": [
        "#table.Dividend"
      ],
      "execution_count": 0,
      "outputs": []
    },
    {
      "metadata": {
        "id": "5QozupX73Erh",
        "colab_type": "code",
        "colab": {}
      },
      "cell_type": "code",
      "source": [
        ""
      ],
      "execution_count": 0,
      "outputs": []
    },
    {
      "metadata": {
        "id": "VGn7Yu7ra99F",
        "colab_type": "code",
        "outputId": "0f044ca3-b698-4b99-9039-d4d471d4e243",
        "colab": {
          "base_uri": "https://localhost:8080/",
          "height": 197
        }
      },
      "cell_type": "code",
      "source": [
        "_table = table.copy()\n",
        "_table.head()"
      ],
      "execution_count": 0,
      "outputs": [
        {
          "output_type": "execute_result",
          "data": {
            "text/html": [
              "<div>\n",
              "<style scoped>\n",
              "    .dataframe tbody tr th:only-of-type {\n",
              "        vertical-align: middle;\n",
              "    }\n",
              "\n",
              "    .dataframe tbody tr th {\n",
              "        vertical-align: top;\n",
              "    }\n",
              "\n",
              "    .dataframe thead th {\n",
              "        text-align: right;\n",
              "    }\n",
              "</style>\n",
              "<table border=\"1\" class=\"dataframe\">\n",
              "  <thead>\n",
              "    <tr style=\"text-align: right;\">\n",
              "      <th></th>\n",
              "      <th>Ticker</th>\n",
              "      <th>Price</th>\n",
              "      <th>PE</th>\n",
              "      <th>EPS</th>\n",
              "      <th>PEG</th>\n",
              "      <th>Beta</th>\n",
              "      <th>BookpS</th>\n",
              "      <th>PB</th>\n",
              "      <th>CashpS</th>\n",
              "      <th>PC</th>\n",
              "      <th>Dividend</th>\n",
              "      <th>d_rate</th>\n",
              "    </tr>\n",
              "  </thead>\n",
              "  <tbody>\n",
              "    <tr>\n",
              "      <th>0</th>\n",
              "      <td>DIS</td>\n",
              "      <td>108.66</td>\n",
              "      <td>15.20</td>\n",
              "      <td>7.24</td>\n",
              "      <td>4.17</td>\n",
              "      <td>0.93</td>\n",
              "      <td>33.77</td>\n",
              "      <td>3.26</td>\n",
              "      <td>2.99</td>\n",
              "      <td>36.79</td>\n",
              "      <td>1.76</td>\n",
              "      <td>0.0160</td>\n",
              "    </tr>\n",
              "    <tr>\n",
              "      <th>1</th>\n",
              "      <td>CBS</td>\n",
              "      <td>46.10</td>\n",
              "      <td>9.23</td>\n",
              "      <td>5.00</td>\n",
              "      <td>0.60</td>\n",
              "      <td>1.27</td>\n",
              "      <td>7.50</td>\n",
              "      <td>6.15</td>\n",
              "      <td>0.85</td>\n",
              "      <td>54.08</td>\n",
              "      <td>0.72</td>\n",
              "      <td>0.0156</td>\n",
              "    </tr>\n",
              "    <tr>\n",
              "      <th>2</th>\n",
              "      <td>AMZN</td>\n",
              "      <td>1819.26</td>\n",
              "      <td>90.62</td>\n",
              "      <td>19.83</td>\n",
              "      <td>2.07</td>\n",
              "      <td>1.63</td>\n",
              "      <td>88.88</td>\n",
              "      <td>20.22</td>\n",
              "      <td>85.28</td>\n",
              "      <td>21.07</td>\n",
              "      <td>0.00</td>\n",
              "      <td>0.0000</td>\n",
              "    </tr>\n",
              "    <tr>\n",
              "      <th>3</th>\n",
              "      <td>BKS</td>\n",
              "      <td>5.57</td>\n",
              "      <td>2785.00</td>\n",
              "      <td>0.00</td>\n",
              "      <td>278.50</td>\n",
              "      <td>0.67</td>\n",
              "      <td>6.48</td>\n",
              "      <td>0.86</td>\n",
              "      <td>0.21</td>\n",
              "      <td>26.87</td>\n",
              "      <td>0.60</td>\n",
              "      <td>0.1077</td>\n",
              "    </tr>\n",
              "    <tr>\n",
              "      <th>4</th>\n",
              "      <td>WMT</td>\n",
              "      <td>99.06</td>\n",
              "      <td>43.80</td>\n",
              "      <td>2.25</td>\n",
              "      <td>12.42</td>\n",
              "      <td>0.35</td>\n",
              "      <td>24.62</td>\n",
              "      <td>4.01</td>\n",
              "      <td>3.16</td>\n",
              "      <td>31.17</td>\n",
              "      <td>2.12</td>\n",
              "      <td>0.0215</td>\n",
              "    </tr>\n",
              "  </tbody>\n",
              "</table>\n",
              "</div>"
            ],
            "text/plain": [
              "  Ticker    Price       PE    EPS     PEG  Beta  BookpS     PB  CashpS     PC  \\\n",
              "0    DIS   108.66    15.20   7.24    4.17  0.93   33.77   3.26    2.99  36.79   \n",
              "1    CBS    46.10     9.23   5.00    0.60  1.27    7.50   6.15    0.85  54.08   \n",
              "2   AMZN  1819.26    90.62  19.83    2.07  1.63   88.88  20.22   85.28  21.07   \n",
              "3    BKS     5.57  2785.00   0.00  278.50  0.67    6.48   0.86    0.21  26.87   \n",
              "4    WMT    99.06    43.80   2.25   12.42  0.35   24.62   4.01    3.16  31.17   \n",
              "\n",
              "   Dividend  d_rate  \n",
              "0      1.76  0.0160  \n",
              "1      0.72  0.0156  \n",
              "2      0.00  0.0000  \n",
              "3      0.60  0.1077  \n",
              "4      2.12  0.0215  "
            ]
          },
          "metadata": {
            "tags": []
          },
          "execution_count": 13
        }
      ]
    },
    {
      "metadata": {
        "id": "J1gGBpFrFU9r",
        "colab_type": "code",
        "colab": {}
      },
      "cell_type": "code",
      "source": [
        "#_table"
      ],
      "execution_count": 0,
      "outputs": []
    },
    {
      "metadata": {
        "id": "Txk8RHY5SIim",
        "colab_type": "code",
        "colab": {}
      },
      "cell_type": "code",
      "source": [
        "_table.set_index('Ticker', inplace=True)\n",
        "#_table"
      ],
      "execution_count": 0,
      "outputs": []
    },
    {
      "metadata": {
        "id": "ayWbBVO4A4Jq",
        "colab_type": "code",
        "outputId": "e124d540-a1db-4d35-8dc2-d18f28528e43",
        "colab": {
          "base_uri": "https://localhost:8080/",
          "height": 87
        }
      },
      "cell_type": "code",
      "source": [
        "_table.index"
      ],
      "execution_count": 0,
      "outputs": [
        {
          "output_type": "execute_result",
          "data": {
            "text/plain": [
              "Index(['DIS', 'CBS', 'AMZN', 'BKS', 'WMT', 'CAT', 'DE', 'TEX', 'MSFT', 'GOOGL',\n",
              "       'AAPL', 'ORCL', 'WFC', 'BAC', 'JPM', 'EBAY', 'MELI', 'C', 'BA', 'ERJ',\n",
              "       'LMT', 'GWRS', 'AWK', 'WTR', 'AWR'],\n",
              "      dtype='object', name='Ticker')"
            ]
          },
          "metadata": {
            "tags": []
          },
          "execution_count": 15
        }
      ]
    },
    {
      "metadata": {
        "id": "cpDrET-e6qAw",
        "colab_type": "code",
        "colab": {}
      },
      "cell_type": "code",
      "source": [
        "### CALCULATING PRICE INDEX OF COMPETITORS \n",
        "# formula avg(competitor's PE)  * EPS "
      ],
      "execution_count": 0,
      "outputs": []
    },
    {
      "metadata": {
        "id": "1W0aGp0qNhk0",
        "colab_type": "code",
        "colab": {}
      },
      "cell_type": "code",
      "source": [
        "### TICKER vs Competitor LIST\n",
        "\n",
        "#ticker_1 , competitor = 'DIS', [ 'CBS'] \n",
        "#ticker_1 , competitor = 'AMZN', [ 'WMT' ]\n",
        "#ticker_1 , competitor = 'CAT', ['DE' , 'TEX' ]\n",
        "#ticker_1 , competitor = 'MSFT', [ 'GOOGL', 'AAPL', 'ORCL' ] \n",
        "#ticker_1 , competitor = 'AAPL', ['GOOGL', 'MSFT']\n",
        "\n",
        "#ticker_1 , competitor = 'WFC' , ['BAC' , 'JPM']\n",
        "#ticker_1 , competitor = 'EBAY', ['AMZN', 'GOOGL', 'MELI']\n",
        "#ticker_1 , competitor = 'BAC', ['C', 'WFC']\n",
        "ticker_1 , competitor = 'BA', ['ERJ','LMT']\n",
        "#ticker_1 , competitor = 'GWRS', ['AWK', 'WTR', 'AWR']"
      ],
      "execution_count": 0,
      "outputs": []
    },
    {
      "metadata": {
        "id": "0WXmxnHs_2Nf",
        "colab_type": "code",
        "outputId": "8b4fe3bc-0821-4116-bc0a-00fea79c4e5f",
        "colab": {
          "base_uri": "https://localhost:8080/",
          "height": 34
        }
      },
      "cell_type": "code",
      "source": [
        "ticker_1\n",
        "#competitor"
      ],
      "execution_count": 0,
      "outputs": [
        {
          "output_type": "execute_result",
          "data": {
            "text/plain": [
              "'GWRS'"
            ]
          },
          "metadata": {
            "tags": []
          },
          "execution_count": 188
        }
      ]
    },
    {
      "metadata": {
        "id": "ikdd-jemhn7B",
        "colab_type": "text"
      },
      "cell_type": "markdown",
      "source": [
        "### Creating Tables for Ticker vs. Competitor\n",
        "\n",
        "\n"
      ]
    },
    {
      "metadata": {
        "id": "39t_tdnJPx27",
        "colab_type": "code",
        "outputId": "2f27a0b2-6b59-4255-fc0d-f9361e7b91be",
        "colab": {
          "base_uri": "https://localhost:8080/",
          "height": 514
        }
      },
      "cell_type": "code",
      "source": [
        "ticker1 = _table.loc[ticker_1, :]\n",
        "table1 = _table.loc[competitor, : ]\n",
        "print(\"Table of the Selected Competitors: \\n\" )\n",
        "print(table1)\n",
        "print(\"\\n\")\n",
        "\n",
        "print(\"Table of the Selected Ticker  %s  : \\n \" % (ticker_1),  ticker1)"
      ],
      "execution_count": 0,
      "outputs": [
        {
          "output_type": "stream",
          "text": [
            "Table of the Selected Competitors: \n",
            "\n",
            "         Price     PE   EPS   PEG  Beta  BookpS    PB  CashpS       PC  \\\n",
            "Ticker                                                                   \n",
            "AWK     106.22  32.52  3.22  3.97  0.24   32.58  3.21    0.72   144.96   \n",
            "WTR      36.88  33.68  1.08  6.74  0.45   11.29  3.21    0.02  1790.26   \n",
            "AWR      72.08  41.22  1.72  6.87  0.07   15.19  4.67    0.19   366.03   \n",
            "\n",
            "        Dividend  d_rate  \n",
            "Ticker                    \n",
            "AWK         1.82  0.0174  \n",
            "WTR         0.88  0.0243  \n",
            "AWR         1.10  0.0155  \n",
            "\n",
            "\n",
            "Table of the Selected Ticker  GWRS  : \n",
            "  Price        9.85\n",
            "PE          61.92\n",
            "EPS          0.16\n",
            "PEG          4.13\n",
            "Beta          NaN\n",
            "BookpS       1.30\n",
            "PB           7.43\n",
            "CashpS       0.62\n",
            "PC          15.58\n",
            "Dividend     0.29\n",
            "d_rate       0.03\n",
            "Name: GWRS, dtype: float64\n"
          ],
          "name": "stdout"
        }
      ]
    },
    {
      "metadata": {
        "id": "yhpH-7Ed6qLp",
        "colab_type": "code",
        "outputId": "3a022ed3-e7f7-46e3-c0dc-1686b7c4d9cb",
        "colab": {
          "base_uri": "https://localhost:8080/",
          "height": 70
        }
      },
      "cell_type": "code",
      "source": [
        "# DEFINE Competitors' Average PE, PB , PC  \n",
        "comptr_PE = round (np.nanmean(table1.PE), 4)\n",
        "comptr_PB = round (np.nanmean(table1.PB), 4)\n",
        "comptr_PC = round (np.nanmean(table1.PC), 4)\n",
        "print('Competitors Avg PE : ' , comptr_PE)\n",
        "print('Competitors Avg PB : ',comptr_PB)\n",
        "print('Competitors Avg PC : ',comptr_PC)"
      ],
      "execution_count": 0,
      "outputs": [
        {
          "output_type": "stream",
          "text": [
            "Competitors Avg PE :  35.8067\n",
            "Competitors Avg PB :  3.6967\n",
            "Competitors Avg PC :  767.0833\n"
          ],
          "name": "stdout"
        }
      ]
    },
    {
      "metadata": {
        "id": "qKr3Ad7DGCJN",
        "colab_type": "code",
        "colab": {}
      },
      "cell_type": "code",
      "source": [
        ""
      ],
      "execution_count": 0,
      "outputs": []
    },
    {
      "metadata": {
        "id": "5sScEZZ_goOg",
        "colab_type": "text"
      },
      "cell_type": "markdown",
      "source": [
        "### Calculating CAPM model and Gordan Growth Model"
      ]
    },
    {
      "metadata": {
        "id": "VG3pbwOGguzW",
        "colab_type": "code",
        "colab": {}
      },
      "cell_type": "code",
      "source": [
        "#R_f_data = get_data_from_multpl_website(R_f_url)\n",
        "\n",
        "#r_f = pd.DataFrame(R_f_data, columns=['Date', 'Price'])\n",
        "#r_f.Price = pd.to_numeric(r_f.Price.str.replace(',', '').astype(float))  # handle commas inside strings\n",
        "\n",
        "###Define Risk_Free Rate Formula\n",
        "#R_f = ( r_f.Price[0] - r_f.Price[1])/  r_f.Price[1]\n",
        "#R_f = round (R_f ,4) \n",
        "\n",
        "Risk_free_rate = 0.0276  # Save Risk Free rate value for future reference after calculations\n",
        "R_f = Risk_free_rate \n",
        "\n",
        "###Setting Expected Market Return \n",
        "E_m = 0.07\n",
        "E_m = E_m "
      ],
      "execution_count": 0,
      "outputs": []
    },
    {
      "metadata": {
        "id": "UIASiJQEiQJa",
        "colab_type": "code",
        "outputId": "56040a6c-289d-45f7-8a18-abad4eba6c6c",
        "colab": {
          "base_uri": "https://localhost:8080/",
          "height": 52
        }
      },
      "cell_type": "code",
      "source": [
        "#### CAPM MODEL \n",
        "### Expected Return of stock = R_f + Beta  * (Expected Market Return  - R_f) \n",
        "#E_s = round ( (R_f + ticker1.Beta * (E_m - R_f)), 4) \n",
        "\n",
        "E_s = round ( (R_f + 0 * (E_m - R_f)), 4) \n",
        "\n",
        "#E_s = E_m * ticker1.Beta * R_f\n",
        "print('Ticker Beta : ' , ticker1.Beta)\n",
        "print('Expected Return:' , E_s)"
      ],
      "execution_count": 0,
      "outputs": [
        {
          "output_type": "stream",
          "text": [
            "Ticker Beta :  nan\n",
            "Expected Return: 0.0276\n"
          ],
          "name": "stdout"
        }
      ]
    },
    {
      "metadata": {
        "id": "T2cZEQj1EeyX",
        "colab_type": "code",
        "colab": {}
      },
      "cell_type": "code",
      "source": [
        "#### GORDON GROWTH MODEL or DDM\n",
        "## Price = [Dividend * (1 + g) ] / (r - g) where g = the projected div growth rate(d_rate); r = Investor required rate of Return(E_s)\n",
        "\n",
        "#Price = (ticker1.Dividend* (1+ ticker1.d_rate) )/( ticker1.d_rate - E_s ) \n",
        "#if Price <= 0:\n",
        "#    Price = 0\n",
        "\n",
        "#print (Price)"
      ],
      "execution_count": 0,
      "outputs": []
    },
    {
      "metadata": {
        "id": "iQLbndtREaNI",
        "colab_type": "code",
        "colab": {}
      },
      "cell_type": "code",
      "source": [
        ""
      ],
      "execution_count": 0,
      "outputs": []
    },
    {
      "metadata": {
        "id": "nKkOQCW2hE01",
        "colab_type": "text"
      },
      "cell_type": "markdown",
      "source": [
        "### Calculating Interested Target Prices for Different Models "
      ]
    },
    {
      "metadata": {
        "id": "zllXSkGP6qOZ",
        "colab_type": "code",
        "colab": {}
      },
      "cell_type": "code",
      "source": [
        "#df['Col3'] = (df['Col2'] <= 1).astype(int)\n",
        "\n",
        "ticker1['TP1_PE'] = (comptr_PE * ticker1.EPS).astype(float)  #Target Price from PE ratio\n",
        "ticker1['TP2_PB'] = (comptr_PB * ticker1.BookpS).astype(float)  #Target Price from Book/Sell ratio\n",
        "ticker1['TP3_PC'] = (comptr_PC * ticker1.CashpS).astype(float)  #Target Price from Cash/Sell ratio\n",
        "ticker1['TP4_CAPM'] = (E_s * ticker1.Price *10).astype(float) #Target Price from CAPM model\n",
        "\n",
        "#Target Price from Gordan Growth Model\n",
        "ticker1['TP5_DDM'] = (ticker1.Dividend* (1+ ticker1.d_rate) )/(  E_s - ticker1.d_rate ) if ( E_s > ticker1.d_rate)  else 0\n",
        "\n",
        "#Average Target Price\n",
        "ticker1['Avg_TP'] = ((ticker1.TP1_PE + ticker1.TP2_PB + ticker1.TP3_PC + ticker1.TP4_CAPM ) / 4) if (ticker1.TP5_DDM == 0) else ((ticker1.TP1_PE + ticker1.TP2_PB + ticker1.TP3_PC + ticker1.TP4_CAPM ) / 5)"
      ],
      "execution_count": 0,
      "outputs": []
    },
    {
      "metadata": {
        "id": "YbU6WgFKisZn",
        "colab_type": "code",
        "outputId": "c5745365-228a-4428-ca82-d1b382cd41d9",
        "colab": {
          "base_uri": "https://localhost:8080/",
          "height": 336
        }
      },
      "cell_type": "code",
      "source": [
        "ticker1"
      ],
      "execution_count": 0,
      "outputs": [
        {
          "output_type": "execute_result",
          "data": {
            "text/plain": [
              "Price        9.850000\n",
              "PE          61.920000\n",
              "EPS          0.160000\n",
              "PEG          4.130000\n",
              "Beta              NaN\n",
              "BookpS       1.300000\n",
              "PB           7.430000\n",
              "CashpS       0.620000\n",
              "PC          15.580000\n",
              "Dividend     0.290000\n",
              "d_rate       0.030000\n",
              "TP1_PE       5.729072\n",
              "TP2_PB       4.805710\n",
              "TP3_PC       0.000000\n",
              "TP4_CAPM     2.718600\n",
              "TP5_DDM      0.000000\n",
              "Avg_TP       4.417794\n",
              "Name: GWRS, dtype: float64"
            ]
          },
          "metadata": {
            "tags": []
          },
          "execution_count": 195
        }
      ]
    },
    {
      "metadata": {
        "colab_type": "code",
        "id": "A_3Fq4DqqNjT",
        "colab": {}
      },
      "cell_type": "code",
      "source": [
        ""
      ],
      "execution_count": 0,
      "outputs": []
    },
    {
      "metadata": {
        "id": "_lx2hnzVisXc",
        "colab_type": "code",
        "colab": {}
      },
      "cell_type": "code",
      "source": [
        "#https://python-graph-gallery.com/183-highlight-a-group-in-lollipop/\n",
        "\n",
        "\n",
        "# Create a dataframe for VISUALIZATION\n",
        "\n",
        "df = pd.DataFrame( {'Labels': ['TP1_PE', 'TP2_PB',  'AVG_TP', 'TP3_PC', 'TP4_CAPM' , 'TP5_DDM' , 'Current_Price'  ], 'TargetPrices': [ticker1.TP1_PE, ticker1.TP2_PB, ticker1.Avg_TP, ticker1.TP3_PC, ticker1.TP4_CAPM, ticker1.TP5_DDM , ticker1.Price]  })\n",
        " "
      ],
      "execution_count": 0,
      "outputs": []
    },
    {
      "metadata": {
        "id": "qin96bwSrTwR",
        "colab_type": "code",
        "outputId": "6feb269b-f7de-49d8-9a11-5f8a66b91ee5",
        "colab": {
          "base_uri": "https://localhost:8080/",
          "height": 257
        }
      },
      "cell_type": "code",
      "source": [
        "df"
      ],
      "execution_count": 0,
      "outputs": [
        {
          "output_type": "execute_result",
          "data": {
            "text/html": [
              "<div>\n",
              "<style scoped>\n",
              "    .dataframe tbody tr th:only-of-type {\n",
              "        vertical-align: middle;\n",
              "    }\n",
              "\n",
              "    .dataframe tbody tr th {\n",
              "        vertical-align: top;\n",
              "    }\n",
              "\n",
              "    .dataframe thead th {\n",
              "        text-align: right;\n",
              "    }\n",
              "</style>\n",
              "<table border=\"1\" class=\"dataframe\">\n",
              "  <thead>\n",
              "    <tr style=\"text-align: right;\">\n",
              "      <th></th>\n",
              "      <th>Labels</th>\n",
              "      <th>TargetPrices</th>\n",
              "    </tr>\n",
              "  </thead>\n",
              "  <tbody>\n",
              "    <tr>\n",
              "      <th>0</th>\n",
              "      <td>TP1_PE</td>\n",
              "      <td>5.729072</td>\n",
              "    </tr>\n",
              "    <tr>\n",
              "      <th>1</th>\n",
              "      <td>TP2_PB</td>\n",
              "      <td>4.805710</td>\n",
              "    </tr>\n",
              "    <tr>\n",
              "      <th>2</th>\n",
              "      <td>AVG_TP</td>\n",
              "      <td>4.417794</td>\n",
              "    </tr>\n",
              "    <tr>\n",
              "      <th>3</th>\n",
              "      <td>TP3_PC</td>\n",
              "      <td>0.000000</td>\n",
              "    </tr>\n",
              "    <tr>\n",
              "      <th>4</th>\n",
              "      <td>TP4_CAPM</td>\n",
              "      <td>2.718600</td>\n",
              "    </tr>\n",
              "    <tr>\n",
              "      <th>5</th>\n",
              "      <td>TP5_DDM</td>\n",
              "      <td>0.000000</td>\n",
              "    </tr>\n",
              "    <tr>\n",
              "      <th>6</th>\n",
              "      <td>Current_Price</td>\n",
              "      <td>9.850000</td>\n",
              "    </tr>\n",
              "  </tbody>\n",
              "</table>\n",
              "</div>"
            ],
            "text/plain": [
              "          Labels  TargetPrices\n",
              "0         TP1_PE      5.729072\n",
              "1         TP2_PB      4.805710\n",
              "2         AVG_TP      4.417794\n",
              "3         TP3_PC      0.000000\n",
              "4       TP4_CAPM      2.718600\n",
              "5        TP5_DDM      0.000000\n",
              "6  Current_Price      9.850000"
            ]
          },
          "metadata": {
            "tags": []
          },
          "execution_count": 197
        }
      ]
    },
    {
      "metadata": {
        "id": "80KT-cmdrAhG",
        "colab_type": "code",
        "outputId": "8acd7573-4843-4389-f629-af02a6432d68",
        "colab": {
          "base_uri": "https://localhost:8080/",
          "height": 706
        }
      },
      "cell_type": "code",
      "source": [
        " \n",
        "# Reorder it following the values:\n",
        "#ordered_df = df.sort_values(by='TargetPrices')\n",
        "my_range=range(1,len(df.index)+1)\n",
        "\n",
        "import seaborn as sns\n",
        "\n",
        "# Create a color if the group is \"B\"\n",
        "my_color=np.where(df ['Labels']=='AVG_TP', 'orange', 'gray')\n",
        "my_size=np.where(df ['Labels']=='AVG_TP', 200, 100)\n",
        "\n",
        " \n",
        "plt.hlines(y= my_range, xmin=0, xmax=df['TargetPrices'], color= my_color)\n",
        "plt.plot(df['TargetPrices'], my_range, 'D')\n",
        "plt.yticks(my_range, df['Labels'])\n",
        "plt.xlabel(\"Target Price Values for %s\" %(ticker_1))\n",
        "\n",
        "trend1.plot(  secondary_y= competitor, title = 'Price Comparison against Competitor(s)', grid=True)\n",
        "\n",
        "plt.show()\n"
      ],
      "execution_count": 0,
      "outputs": [
        {
          "output_type": "display_data",
          "data": {
            "image/png": "[encoded data removed]",
            "text/plain": [
              "<Figure size 576x396 with 1 Axes>"
            ]
          },
          "metadata": {
            "tags": []
          }
        },
        {
          "output_type": "display_data",
          "data": {
            "image/png": "[encoded data removed]",
            "text/plain": [
              "<Figure size 576x396 with 2 Axes>"
            ]
          },
          "metadata": {
            "tags": []
          }
        }
      ]
    },
    {
      "metadata": {
        "id": "NTsd8pLQAiYP",
        "colab_type": "code",
        "colab": {}
      },
      "cell_type": "code",
      "source": [
        ""
      ],
      "execution_count": 0,
      "outputs": []
    },
    {
      "metadata": {
        "id": "SS8T0EuVAivw",
        "colab_type": "code",
        "colab": {}
      },
      "cell_type": "code",
      "source": [
        ""
      ],
      "execution_count": 0,
      "outputs": []
    },
    {
      "metadata": {
        "id": "dqjxrKXPg14v",
        "colab_type": "text"
      },
      "cell_type": "markdown",
      "source": [
        "### Comparing the Historical Prices Against the Competitors"
      ]
    },
    {
      "metadata": {
        "id": "Za9KwxdTlOUC",
        "colab_type": "code",
        "colab": {}
      },
      "cell_type": "code",
      "source": [
        "from pandas_datareader import data as pdr\n",
        "import fix_yahoo_finance as yf\n",
        "yf.pdr_override()"
      ],
      "execution_count": 0,
      "outputs": []
    },
    {
      "metadata": {
        "id": "de-L1fCOlObD",
        "colab_type": "code",
        "outputId": "40c7712e-54bd-4df2-f7ca-a51ede5e810a",
        "colab": {
          "base_uri": "https://localhost:8080/",
          "height": 34
        }
      },
      "cell_type": "code",
      "source": [
        "#rawdata = pdr.get_data_yahoo(tickers, start=\"2017-01-01\" )"
      ],
      "execution_count": 0,
      "outputs": [
        {
          "output_type": "stream",
          "text": [
            "[*********************100%***********************]  25 of 25 downloaded\n"
          ],
          "name": "stdout"
        }
      ]
    },
    {
      "metadata": {
        "id": "pPhQxhp3y4iW",
        "colab_type": "code",
        "colab": {}
      },
      "cell_type": "code",
      "source": [
        "#trend = rawdata.Close"
      ],
      "execution_count": 0,
      "outputs": []
    },
    {
      "metadata": {
        "id": "78KYk69P6ol-",
        "colab_type": "code",
        "colab": {}
      },
      "cell_type": "code",
      "source": [
        "#Get an array list of all tickers \n",
        "all_ticker = trend.columns.tolist()\n",
        "\n",
        "#Update the Competitor list to compare with the selected ticker\n",
        "competitor.append(ticker_1)\n",
        "#competitor"
      ],
      "execution_count": 0,
      "outputs": []
    },
    {
      "metadata": {
        "id": "WQvsrvsv4KKP",
        "colab_type": "code",
        "outputId": "caa1f735-116e-48ae-97e2-dac1b6c56242",
        "colab": {
          "base_uri": "https://localhost:8080/",
          "height": 54
        }
      },
      "cell_type": "code",
      "source": [
        "#Remove unwanted tickers \n",
        "for i in competitor:\n",
        "   if i in all_ticker:\n",
        "      all_ticker.remove(i)\n",
        "\n",
        "print(all_ticker)"
      ],
      "execution_count": 0,
      "outputs": [
        {
          "output_type": "stream",
          "text": [
            "['AAPL', 'AMZN', 'BA', 'BAC', 'BKS', 'C', 'CAT', 'CBS', 'DE', 'DIS', 'EBAY', 'ERJ', 'GOOGL', 'JPM', 'LMT', 'MELI', 'MSFT', 'ORCL', 'TEX', 'WFC', 'WMT']\n"
          ],
          "name": "stdout"
        }
      ]
    },
    {
      "metadata": {
        "id": "HzQ9OxOg0DIJ",
        "colab_type": "code",
        "colab": {}
      },
      "cell_type": "code",
      "source": [
        "trend1 = trend.drop(all_ticker, axis=1)\n",
        "competitor.remove(ticker_1)"
      ],
      "execution_count": 0,
      "outputs": []
    },
    {
      "metadata": {
        "id": "5LhXftFzORdA",
        "colab_type": "code",
        "outputId": "b2789bd1-e076-49d0-caea-a959c3af65a1",
        "colab": {
          "base_uri": "https://localhost:8080/",
          "height": 34
        }
      },
      "cell_type": "code",
      "source": [
        "competitor"
      ],
      "execution_count": 0,
      "outputs": [
        {
          "output_type": "execute_result",
          "data": {
            "text/plain": [
              "['AWK', 'WTR', 'AWR']"
            ]
          },
          "metadata": {
            "tags": []
          },
          "execution_count": 202
        }
      ]
    },
    {
      "metadata": {
        "id": "gSq4qMp7lOYh",
        "colab_type": "code",
        "outputId": "716ac109-3886-490e-929d-99b6a55221d6",
        "colab": {
          "base_uri": "https://localhost:8080/",
          "height": 362
        }
      },
      "cell_type": "code",
      "source": [
        "# TREND PLOT 2\n",
        "\n",
        "#trend1.plot( grid=True)\n",
        "trend1.plot(  secondary_y= competitor, title = 'Price Comparison against Competitor(s)', grid=True)\n",
        "\n",
        "plt.show()\n",
        "#plt.savefig('CloseTrend.png')"
      ],
      "execution_count": 0,
      "outputs": [
        {
          "output_type": "display_data",
          "data": {
            "image/png": "[encoded data removed]",
            "text/plain": [
              "<Figure size 576x396 with 2 Axes>"
            ]
          },
          "metadata": {
            "tags": []
          }
        }
      ]
    },
    {
      "metadata": {
        "id": "-Yl8wrr2isVP",
        "colab_type": "code",
        "colab": {}
      },
      "cell_type": "code",
      "source": [
        ""
      ],
      "execution_count": 0,
      "outputs": []
    },
    {
      "metadata": {
        "id": "oM5k4eGtAAae",
        "colab_type": "code",
        "colab": {}
      },
      "cell_type": "code",
      "source": [
        ""
      ],
      "execution_count": 0,
      "outputs": []
    },
    {
      "metadata": {
        "id": "XYl5cmYcAAXr",
        "colab_type": "code",
        "colab": {}
      },
      "cell_type": "code",
      "source": [
        ""
      ],
      "execution_count": 0,
      "outputs": []
    }
  ]
}
