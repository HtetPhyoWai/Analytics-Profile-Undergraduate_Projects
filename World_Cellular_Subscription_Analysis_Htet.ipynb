{
  "nbformat": 4,
  "nbformat_minor": 0,
  "metadata": {
    "colab": {
      "name": "World_Cellular_Subscription_Analysis_Htet.ipynb",
      "version": "0.3.2",
      "provenance": []
    },
    "kernelspec": {
      "display_name": "Python 3",
      "language": "python",
      "name": "python3"
    }
  },
  "cells": [
    {
      "metadata": {
        "id": "bCO67J3nZf1K",
        "colab_type": "code",
        "colab": {}
      },
      "cell_type": "code",
      "source": [
        "%matplotlib inline\n",
        "import pandas as pd\n",
        "import matplotlib.pyplot as plt\n",
        "import seaborn as sns\n",
        "import numpy as np\n",
        "\n",
        "sns.set(style=\"darkgrid\")"
      ],
      "execution_count": 0,
      "outputs": []
    },
    {
      "metadata": {
        "id": "oQ8eMa28Zf1n",
        "colab_type": "code",
        "colab": {}
      },
      "cell_type": "code",
      "source": [
        "#DATA CLEANGING _ EXTRACTING DATA\n",
        "\n",
        "CellSubscribeData = pd.read_csv('Y:/fa2018-csc300dsa/completed/Assignment7/CellSubscriptionxData.csv',index_col = 0,encoding='ISO-8859-1')\n",
        "CSMetaData = pd.read_csv('Y:/fa2018-csc300dsa/completed/Assignment7/CellSubscriptionxMETAD.csv' ,index_col = 0, encoding='ISO-8859-1')"
      ],
      "execution_count": 0,
      "outputs": []
    },
    {
      "metadata": {
        "id": "7xl00OudZf1z",
        "colab_type": "code",
        "colab": {}
      },
      "cell_type": "code",
      "source": [
        "#### CHECKING DATA TYPES, MISSING VALUES, ETC..\n",
        "#CellSubscribeData.head()\n",
        "#CSMetaData.head()\n",
        "#CellSubscribeData.dtypes\n",
        "#CSMetaData.dtypes\n",
        "#CellSubscribeData.columns\n",
        "#CSMetaData.columns"
      ],
      "execution_count": 0,
      "outputs": []
    },
    {
      "metadata": {
        "scrolled": false,
        "id": "Ix57pV88Zf21",
        "colab_type": "code",
        "colab": {}
      },
      "cell_type": "code",
      "source": [
        "#DATA CLEANING _ COMBINING DATA\n",
        "df = CellSubscribeData.merge(CSMetaData, left_on = 'Country Code', right_on ='Country Code', how = 'outer')\n",
        "df = df.fillna(0)\n",
        "#df\n",
        "#df.describe()"
      ],
      "execution_count": 0,
      "outputs": []
    },
    {
      "metadata": {
        "scrolled": false,
        "id": "IZKcVtrLZf28",
        "colab_type": "code",
        "colab": {}
      },
      "cell_type": "code",
      "source": [
        ""
      ],
      "execution_count": 0,
      "outputs": []
    },
    {
      "metadata": {
        "id": "nnD2--joZf3S",
        "colab_type": "code",
        "colab": {}
      },
      "cell_type": "code",
      "source": [
        ""
      ],
      "execution_count": 0,
      "outputs": []
    },
    {
      "metadata": {
        "id": "2z3Qga5fZf3Z",
        "colab_type": "code",
        "colab": {}
      },
      "cell_type": "code",
      "source": [
        "### DATA PREPARATION TASK_1 \n",
        "#Group by Income Groups \n",
        "\n",
        "HighInCountries = df.loc [df['IncomeGroup'] == 'High income']\n",
        "UpMidInCountries = df.loc [ df['IncomeGroup']== 'Upper middle income']\n",
        "LowMidInCountries = df.loc [df['IncomeGroup'] == 'Lower middle income']\n",
        "LowInCountries = df.loc [df['IncomeGroup'] == 'Low income']\n"
      ],
      "execution_count": 0,
      "outputs": []
    },
    {
      "metadata": {
        "id": "g4QgAf8uZf3j",
        "colab_type": "code",
        "colab": {}
      },
      "cell_type": "code",
      "source": [
        ""
      ],
      "execution_count": 0,
      "outputs": []
    },
    {
      "metadata": {
        "id": "DZeTnyDJZf3_",
        "colab_type": "code",
        "colab": {}
      },
      "cell_type": "code",
      "source": [
        "### DATA PREPARATION TASK_2 \n",
        "#Group by Geographic Regions\n",
        "\n",
        "EAsiaPacific =  df.loc [df['Region'] == 'East Asia & Pacific']\n",
        "EuropeCAsia = df.loc [df['Region'] == 'Europe & Central Asia']\n",
        "LatinAmerica = df.loc [df['Region'] == 'Latin America & Caribbean']\n",
        "MEastNAfrica = df.loc [df['Region'] == 'Middle East & North Africa']\n",
        "NorthAmerica = df.loc [df['Region'] == 'North America']\n",
        "SouthAsia = df.loc [df['Region'] == 'South Asia']\n",
        "SubSahAfrica = df.loc [df['Region'] == 'Sub-Saharan Africa']"
      ],
      "execution_count": 0,
      "outputs": []
    },
    {
      "metadata": {
        "id": "v3jcN0d5Zf4c",
        "colab_type": "code",
        "colab": {}
      },
      "cell_type": "code",
      "source": [
        "#EAsiaPacific"
      ],
      "execution_count": 0,
      "outputs": []
    },
    {
      "metadata": {
        "id": "gaxXjO1wZf4m",
        "colab_type": "code",
        "colab": {}
      },
      "cell_type": "code",
      "source": [
        ""
      ],
      "execution_count": 0,
      "outputs": []
    },
    {
      "metadata": {
        "scrolled": false,
        "id": "C33CyrNyZf4r",
        "colab_type": "code",
        "colab": {}
      },
      "cell_type": "code",
      "source": [
        "## DATA PREPARATION_ TASK 3\n",
        "# GROUP BY YEAR : STARTING YEAR\n",
        "\n",
        "# We will use 1980 as starting year since there is no cellur subscription in all countries \n",
        "#from the beginning of 1960 to 1979\n",
        "\n",
        "df= df.loc[:,'1980': 'TableName']\n",
        "#df"
      ],
      "execution_count": 0,
      "outputs": []
    },
    {
      "metadata": {
        "id": "9T_ONE7HZf4y",
        "colab_type": "code",
        "colab": {}
      },
      "cell_type": "code",
      "source": [
        ""
      ],
      "execution_count": 0,
      "outputs": []
    },
    {
      "metadata": {
        "id": "VN52a_GyZf45",
        "colab_type": "code",
        "colab": {}
      },
      "cell_type": "code",
      "source": [
        ""
      ],
      "execution_count": 0,
      "outputs": []
    },
    {
      "metadata": {
        "id": "hvzcpdy8Zf4-",
        "colab_type": "code",
        "colab": {}
      },
      "cell_type": "code",
      "source": [
        "#GROUP BY YEARGROUP\n",
        "\n",
        "YG1980to85 = df.loc[:,['TableName','1980','1981','1982','1983','1984','1985']].groupby('TableName').mean()\n",
        "YG1980to85['YG1980_85Avg']= YG1980to85.mean(axis=1)\n",
        "\n",
        "YG1986to90 = df.loc[:,['TableName','1986', '1987', '1988','1989', '1990']].groupby('TableName').mean()\n",
        "YG1986to90['YG1986_90Avg']= YG1986to90.mean(axis=1)\n",
        "\n",
        "YG1991to95 = df.loc[:,['TableName','1991', '1992', '1993', '1994', '1995']].groupby('TableName').mean()\n",
        "YG1991to95['YG1991_95Avg']= YG1991to95.mean(axis=1)\n",
        "\n",
        "YG1996to2k = df.loc[:,['TableName','1996', '1997','1998', '1999', '2000']].groupby('TableName').mean()\n",
        "YG1996to2k['YG1996_2kAvg']= YG1996to2k.mean(axis=1)\n",
        "\n",
        "YG2001to05 = df.loc[:,['TableName','2001', '2002', '2003', '2004', '2005']].groupby('TableName').mean()\n",
        "YG2001to05['YG2001_05Avg']= YG2001to05.mean(axis=1)\n",
        "\n",
        "YG2006to10 = df.loc[:,['TableName','2006','2007', '2008', '2009', '2010']].groupby('TableName').mean()\n",
        "YG2006to10['YG2006_10Avg']= YG2006to10.mean(axis=1)\n",
        "\n",
        "YG2011to17 = df.loc[:,['TableName','2011', '2012', '2013', '2014', '2015','2016', '2017']].groupby('TableName').mean()\n",
        "YG2011to17['YG2011_17Avg']= YG2011to17.mean(axis=1)\n"
      ],
      "execution_count": 0,
      "outputs": []
    },
    {
      "metadata": {
        "id": "UonV3OX_Zf5E",
        "colab_type": "code",
        "colab": {}
      },
      "cell_type": "code",
      "source": [
        ""
      ],
      "execution_count": 0,
      "outputs": []
    },
    {
      "metadata": {
        "id": "ZEVlm8nlZf5L",
        "colab_type": "code",
        "colab": {}
      },
      "cell_type": "code",
      "source": [
        ""
      ],
      "execution_count": 0,
      "outputs": []
    },
    {
      "metadata": {
        "id": "myEUm5drZf5P",
        "colab_type": "code",
        "colab": {},
        "outputId": "06e00ee3-6a04-4bd1-c619-2bb47b87c4d6"
      },
      "cell_type": "code",
      "source": [
        "#DESCRIPTIC STATISTICS FOR AGGREGATE YEARGROUP+GEOGRAPHICREGION \n",
        "\n",
        "#EAsiaPacific\n",
        "\n",
        "EAP8085 = pd.merge( EAsiaPacific[['TableName']],YG1980to85,on='TableName',how = 'left')\n",
        "print(\"---\\nSummary Statistics, East Asia and Pacific(1980-85)\\n---\\n\",EAP8085['YG1980_85Avg'].describe())\n",
        "\n",
        "EAP8690 = pd.merge( EAsiaPacific[['TableName']],YG1986to90,on='TableName', how = 'left')\n",
        "print(\"---\\nSummary Statistics, East Asia and Pacific(1986-90)\\n---\\n\",EAP8690['YG1986_90Avg'].describe())\n",
        "\n",
        "EAP9195 = pd.merge( EAsiaPacific[['TableName']],YG1991to95,on='TableName', how = 'left')\n",
        "print(\"---\\nSummary Statistics, East Asia and Pacific(1991-95)\\n---\\n\",EAP9195['YG1991_95Avg'].describe())\n",
        "\n",
        "EAP962k = pd.merge( EAsiaPacific[['TableName']],YG1996to2k,on='TableName', how = 'left')\n",
        "print(\"---\\nSummary Statistics, East Asia and Pacific(1996-2k)\\n---\\n\",EAP962k['YG1996_2kAvg'].describe())\n",
        "\n",
        "EAP0105 = pd.merge( EAsiaPacific[['TableName']],YG2001to05,on='TableName', how = 'left')\n",
        "print(\"---\\nSummary Statistics, East Asia and Pacific(2001-05)\\n---\\n\",EAP0105['YG2001_05Avg'].describe())\n",
        "\n",
        "EAP0610 = pd.merge( EAsiaPacific[['TableName']],YG2006to10,on='TableName', how = 'left')\n",
        "print(\"---\\nSummary Statistics, East Asia and Pacific(2006-10)\\n---\\n\",EAP0610['YG2006_10Avg'].describe())\n",
        "\n",
        "EAP1117 = pd.merge( EAsiaPacific[['TableName']],YG2011to17,  on='TableName',  how = 'left')\n",
        "print(\"---\\nSummary Statistics, East Asia and Pacific(2011-17)\\n---\\n\",EAP1117['YG2011_17Avg'].describe())"
      ],
      "execution_count": 0,
      "outputs": [
        {
          "output_type": "stream",
          "text": [
            "---\n",
            "Summary Statistics, East Asia and Pacific(1980-85)\n",
            "---\n",
            " count       37.000000\n",
            "mean       773.189189\n",
            "std       4448.203145\n",
            "min          0.000000\n",
            "25%          0.000000\n",
            "50%          0.000000\n",
            "75%          0.000000\n",
            "max      27078.166667\n",
            "Name: YG1980_85Avg, dtype: float64\n",
            "---\n",
            "Summary Statistics, East Asia and Pacific(1986-90)\n",
            "---\n",
            " count        37.000000\n",
            "mean      17369.459459\n",
            "std       61662.271912\n",
            "min           0.000000\n",
            "25%           0.000000\n",
            "50%           0.000000\n",
            "75%        6410.200000\n",
            "max      369285.600000\n",
            "Name: YG1986_90Avg, dtype: float64\n",
            "---\n",
            "Summary Statistics, East Asia and Pacific(1991-95)\n",
            "---\n",
            " count    3.700000e+01\n",
            "mean     2.497764e+05\n",
            "std      7.360468e+05\n",
            "min      0.000000e+00\n",
            "25%      3.700000e+01\n",
            "50%      6.600000e+02\n",
            "75%      1.717618e+05\n",
            "max      4.253105e+06\n",
            "Name: YG1991_95Avg, dtype: float64\n",
            "---\n",
            "Summary Statistics, East Asia and Pacific(1996-2k)\n",
            "---\n",
            " count    3.700000e+01\n",
            "mean     3.187559e+06\n",
            "std      9.623261e+06\n",
            "min      0.000000e+00\n",
            "25%      7.882000e+02\n",
            "50%      1.620700e+04\n",
            "75%      1.350502e+06\n",
            "max      4.721959e+07\n",
            "Name: YG1996_2kAvg, dtype: float64\n",
            "---\n",
            "Summary Statistics, East Asia and Pacific(2001-05)\n",
            "---\n",
            " count    3.700000e+01\n",
            "mean     1.362215e+07\n",
            "std      4.608597e+07\n",
            "min      0.000000e+00\n",
            "25%      7.249200e+03\n",
            "50%      9.914760e+04\n",
            "75%      4.089757e+06\n",
            "max      2.698016e+08\n",
            "Name: YG2001_05Avg, dtype: float64\n",
            "---\n",
            "Summary Statistics, East Asia and Pacific(2006-10)\n",
            "---\n",
            " count    3.700000e+01\n",
            "mean     3.297583e+07\n",
            "std      1.093385e+08\n",
            "min      0.000000e+00\n",
            "25%      4.268000e+04\n",
            "50%      3.850496e+05\n",
            "75%      1.163336e+07\n",
            "max      6.511652e+08\n",
            "Name: YG2006_10Avg, dtype: float64\n",
            "---\n",
            "Summary Statistics, East Asia and Pacific(2011-17)\n",
            "---\n",
            " count    3.700000e+01\n",
            "mean     6.193881e+07\n",
            "std      2.108336e+08\n",
            "min      0.000000e+00\n",
            "25%      5.571329e+04\n",
            "50%      1.487345e+06\n",
            "75%      2.542871e+07\n",
            "max      1.249233e+09\n",
            "Name: YG2011_17Avg, dtype: float64\n"
          ],
          "name": "stdout"
        }
      ]
    },
    {
      "metadata": {
        "id": "IK1E7EVvZf5i",
        "colab_type": "code",
        "colab": {}
      },
      "cell_type": "code",
      "source": [
        "#EuropeCAsia \n",
        "EUCA8085 = pd.merge( EuropeCAsia[['TableName']],YG1980to85,on='TableName',how = 'left')\n",
        "#print(\"---\\nSummary Statistics, EuropeCAsia(1980-85)\\n---\\n\",EAP8085['YG1980_85Avg'].describe())\n",
        "EUCA8690 = pd.merge( EuropeCAsia[['TableName']],YG1986to90,on='TableName', how = 'left')\n",
        "#print(\"---\\nSummary Statistics, EuropeCAsia(1986-90)\\n---\\n\",EAP8690['YG1986_90Avg'].describe())\n",
        "EUCA9195 = pd.merge( EuropeCAsia[['TableName']],YG1991to95,on='TableName', how = 'left')\n",
        "#print(\"---\\nSummary Statistics, EuropeCAsia(1991-95)\\n---\\n\",EAP9195['YG1991_95Avg'].describe())\n",
        "EUCA962k = pd.merge( EuropeCAsia[['TableName']],YG1996to2k,on='TableName', how = 'left')\n",
        "#print(\"---\\nSummary Statistics, EuropeCAsia(1996-2k)\\n---\\n\",EAP962k['YG1996_2kAvg'].describe())\n",
        "EUCA0105 = pd.merge( EuropeCAsia[['TableName']],YG2001to05,on='TableName', how = 'left')\n",
        "#print(\"---\\nSummary Statistics, EuropeCAsia(2001-05)\\n---\\n\",EAP0105['YG2001_05Avg'].describe())\n",
        "EUCA0610 = pd.merge( EuropeCAsia[['TableName']],YG2006to10,on='TableName', how = 'left')\n",
        "#print(\"---\\nSummary Statistics, EuropeCAsia(2006-10)\\n---\\n\",EAP0610['YG2006_10Avg'].describe())\n",
        "EUCA1117 = pd.merge( EuropeCAsia[['TableName']],YG2011to17,  on='TableName',  how = 'left')\n",
        "#print(\"---\\nSummary Statistics, EuropeCAsia(2011-17)\\n---\\n\",EAP1117['YG2011_17Avg'].describe())\n",
        "\n",
        "#LatinAmerica\n",
        "LAT8085 = pd.merge( LatinAmerica[['TableName']],YG1980to85,on='TableName',how = 'left')\n",
        "#print(\"---\\nSummary Statistics, LatinAmerica(1980-85)\\n---\\n\",EAP8085['YG1980_85Avg'].describe())\n",
        "LAT8690 = pd.merge( LatinAmerica[['TableName']],YG1986to90,on='TableName', how = 'left')\n",
        "#print(\"---\\nSummary Statistics, LatinAmerica(1986-90)\\n---\\n\",EAP8690['YG1986_90Avg'].describe())\n",
        "LAT9195 = pd.merge( LatinAmerica[['TableName']],YG1991to95,on='TableName', how = 'left')\n",
        "#print(\"---\\nSummary Statistics, LatinAmerica(1991-95)\\n---\\n\",EAP9195['YG1991_95Avg'].describe())\n",
        "LAT962k = pd.merge( LatinAmerica[['TableName']],YG1996to2k,on='TableName', how = 'left')\n",
        "#print(\"---\\nSummary Statistics, LatinAmerica(1996-2k)\\n---\\n\",EAP962k['YG1996_2kAvg'].describe())\n",
        "LAT0105 = pd.merge( LatinAmerica[['TableName']],YG2001to05,on='TableName', how = 'left')\n",
        "#print(\"---\\nSummary Statistics, LatinAmerica(2001-05)\\n---\\n\",EAP0105['YG2001_05Avg'].describe())\n",
        "LAT0610 = pd.merge( LatinAmerica[['TableName']],YG2006to10,on='TableName', how = 'left')\n",
        "#print(\"---\\nSummary Statistics, LatinAmerica(2006-10)\\n---\\n\",EAP0610['YG2006_10Avg'].describe())\n",
        "LAT1117 = pd.merge( LatinAmerica[['TableName']],YG2011to17,  on='TableName',  how = 'left')\n",
        "#print(\"---\\nSummary Statistics, LatinAmerica(2011-17)\\n---\\n\",EAP1117['YG2011_17Avg'].describe())\n",
        "\n",
        "#MEastNAfrica\n",
        "MEAF8085 = pd.merge( MEastNAfrica[['TableName']],YG1980to85,on='TableName',how = 'left')\n",
        "#print(\"---\\nSummary Statistics, MEastNAfrica(1980-85)\\n---\\n\",EAP8085['YG1980_85Avg'].describe())\n",
        "MEAF8690 = pd.merge( MEastNAfrica[['TableName']],YG1986to90,on='TableName', how = 'left')\n",
        "#print(\"---\\nSummary Statistics, MEastNAfrica(1986-90)\\n---\\n\",EAP8690['YG1986_90Avg'].describe())\n",
        "MEAF9195 = pd.merge( MEastNAfrica[['TableName']],YG1991to95,on='TableName', how = 'left')\n",
        "#print(\"---\\nSummary Statistics, MEastNAfrica(1991-95)\\n---\\n\",EAP9195['YG1991_95Avg'].describe())\n",
        "MEAF962k = pd.merge( MEastNAfrica[['TableName']],YG1996to2k,on='TableName', how = 'left')\n",
        "#print(\"---\\nSummary Statistics, MEastNAfrica(1996-2k)\\n---\\n\",EAP962k['YG1996_2kAvg'].describe())\n",
        "MEAF0105 = pd.merge( MEastNAfrica[['TableName']],YG2001to05,on='TableName', how = 'left')\n",
        "#print(\"---\\nSummary Statistics, MEastNAfrica(2001-05)\\n---\\n\",EAP0105['YG2001_05Avg'].describe())\n",
        "MEAF0610 = pd.merge( MEastNAfrica[['TableName']],YG2006to10,on='TableName', how = 'left')\n",
        "#print(\"---\\nSummary Statistics, MEastNAfrica(2006-10)\\n---\\n\",EAP0610['YG2006_10Avg'].describe())\n",
        "MEAF1117 = pd.merge( MEastNAfrica[['TableName']],YG2011to17,  on='TableName',  how = 'left')\n",
        "#print(\"---\\nSummary Statistics, MEastNAfrica(2011-17)\\n---\\n\",EAP1117['YG2011_17Avg'].describe())\n",
        "\n",
        "#NorthAmerica \n",
        "NA8085 = pd.merge( NorthAmerica[['TableName']],YG1980to85,on='TableName',how = 'left')\n",
        "#print(\"---\\nSummary Statistics, NorthAmerica (1980-85)\\n---\\n\",EAP8085['YG1980_85Avg'].describe())\n",
        "NA8690 = pd.merge( NorthAmerica[['TableName']],YG1986to90,on='TableName', how = 'left')\n",
        "#print(\"---\\nSummary Statistics, NorthAmerica (1986-90)\\n---\\n\",EAP8690['YG1986_90Avg'].describe())\n",
        "NA9195 = pd.merge( NorthAmerica[['TableName']],YG1991to95,on='TableName', how = 'left')\n",
        "#print(\"---\\nSummary Statistics,NorthAmerica (1991-95)\\n---\\n\",EAP9195['YG1991_95Avg'].describe())\n",
        "NA962k = pd.merge( NorthAmerica[['TableName']],YG1996to2k,on='TableName', how = 'left')\n",
        "#print(\"---\\nSummary Statistics, NorthAmerica (1996-2k)\\n---\\n\",EAP962k['YG1996_2kAvg'].describe())\n",
        "NA0105 = pd.merge( NorthAmerica[['TableName']],YG2001to05,on='TableName', how = 'left')\n",
        "#print(\"---\\nSummary Statistics, NorthAmerica (2001-05)\\n---\\n\",EAP0105['YG2001_05Avg'].describe())\n",
        "NA0610 = pd.merge( NorthAmerica[['TableName']],YG2006to10,on='TableName', how = 'left')\n",
        "#print(\"---\\nSummary Statistics,NorthAmerica (2006-10)\\n---\\n\",EAP0610['YG2006_10Avg'].describe())\n",
        "NA1117 = pd.merge( NorthAmerica[['TableName']],YG2011to17,  on='TableName',  how = 'left')\n",
        "#print(\"---\\nSummary Statistics, NorthAmerica (2011-17)\\n---\\n\",EAP1117['YG2011_17Avg'].describe())\n",
        "\n",
        "#SouthAsia \n",
        "SA8085 = pd.merge( SouthAsia[['TableName']],YG1980to85,on='TableName',how = 'left')\n",
        "#print(\"---\\nSummary Statistics, SouthAsia(1980-85)\\n---\\n\",EAP8085['YG1980_85Avg'].describe())\n",
        "SA8690 = pd.merge( SouthAsia[['TableName']],YG1986to90,on='TableName', how = 'left')\n",
        "#print(\"---\\nSummary Statistics, SouthAsia(1986-90)\\n---\\n\",EAP8690['YG1986_90Avg'].describe())\n",
        "SA9195 = pd.merge( SouthAsia[['TableName']],YG1991to95,on='TableName', how = 'left')\n",
        "#print(\"---\\nSummary Statistics, SouthAsia(1991-95)\\n---\\n\",EAP9195['YG1991_95Avg'].describe())\n",
        "SA962k = pd.merge( SouthAsia[['TableName']],YG1996to2k,on='TableName', how = 'left')\n",
        "#print(\"---\\nSummary Statistics,SouthAsia(1996-2k)\\n---\\n\",EAP962k['YG1996_2kAvg'].describe())\n",
        "SA0105 = pd.merge( SouthAsia[['TableName']],YG2001to05,on='TableName', how = 'left')\n",
        "#print(\"---\\nSummary Statistics, SouthAsia(2001-05)\\n---\\n\",EAP0105['YG2001_05Avg'].describe())\n",
        "SA0610 = pd.merge( SouthAsia[['TableName']],YG2006to10,on='TableName', how = 'left')\n",
        "#print(\"---\\nSummary Statistics, SouthAsia(2006-10)\\n---\\n\",EAP0610['YG2006_10Avg'].describe())\n",
        "SA1117 = pd.merge( SouthAsia[['TableName']],YG2011to17,  on='TableName',  how = 'left')\n",
        "#print(\"---\\nSummary Statistics, SouthAsia(2011-17)\\n---\\n\",EAP1117['YG2011_17Avg'].describe())\n",
        "\n",
        "#SubSahAfrica\n",
        "SSAF8085 = pd.merge( SubSahAfrica[['TableName']],YG1980to85,on='TableName',how = 'left')\n",
        "#print(\"---\\nSummary Statistics, SubSahAfrica(1980-85)\\n---\\n\",EAP8085['YG1980_85Avg'].describe())\n",
        "SSAF8690 = pd.merge( SubSahAfrica[['TableName']],YG1986to90,on='TableName', how = 'left')\n",
        "#print(\"---\\nSummary Statistics,SubSahAfrica(1986-90)\\n---\\n\",EAP8690['YG1986_90Avg'].describe())\n",
        "SSAF9195 = pd.merge( SubSahAfrica[['TableName']],YG1991to95,on='TableName', how = 'left')\n",
        "#print(\"---\\nSummary Statistics, SubSahAfrica(1991-95)\\n---\\n\",EAP9195['YG1991_95Avg'].describe())\n",
        "SSAF962k = pd.merge( SubSahAfrica[['TableName']],YG1996to2k,on='TableName', how = 'left')\n",
        "#print(\"---\\nSummary Statistics, SubSahAfrica(1996-2k)\\n---\\n\",EAP962k['YG1996_2kAvg'].describe())\n",
        "SSAF0105 = pd.merge( SubSahAfrica[['TableName']],YG2001to05,on='TableName', how = 'left')\n",
        "#print(\"---\\nSummary Statistics, SubSahAfrica(2001-05)\\n---\\n\",EAP0105['YG2001_05Avg'].describe())\n",
        "SSAF0610 = pd.merge( SubSahAfrica[['TableName']],YG2006to10,on='TableName', how = 'left')\n",
        "#print(\"---\\nSummary Statistics, SubSahAfrica(2006-10)\\n---\\n\",EAP0610['YG2006_10Avg'].describe())\n",
        "SSAF1117 = pd.merge( SubSahAfrica[['TableName']],YG2011to17,  on='TableName',  how = 'left')\n",
        "#print(\"---\\nSummary Statistics, SubSahAfrica(2011-17)\\n---\\n\",EAP1117['YG2011_17Avg'].describe())"
      ],
      "execution_count": 0,
      "outputs": []
    },
    {
      "metadata": {
        "id": "-K1yG60CZf5r",
        "colab_type": "code",
        "colab": {},
        "outputId": "69b3340b-2275-4a40-e6be-5d0114483336"
      },
      "cell_type": "code",
      "source": [
        "EAPmeandata = {'YG1980_85Avg':[ EAP8085['YG1980_85Avg'].sum()],\n",
        "                     'YG1986_90Avg':[EAP8690['YG1986_90Avg'].sum()],\n",
        "                     'YG1991_95Avg':[EAP9195['YG1991_95Avg'].sum()],\n",
        "                     'YG1996_2kAvg':[EAP962k['YG1996_2kAvg'].sum()],\n",
        "                    'YG2001_05Avg': [EAP0105['YG2001_05Avg'].sum()],\n",
        "                    'YG2006_10Avg': [EAP0610['YG2006_10Avg'].sum()],\n",
        "                     'YG2011_17Avg':[EAP1117['YG2011_17Avg'].sum()]}\n",
        "EAPmean_by_yr = pd.DataFrame(data = EAPmeandata)\n",
        "\n",
        "EAPmean_by_yr.plot(kind='barh',title=\"East Asia and Pacific, Cell Subsription by Year Group\")"
      ],
      "execution_count": 0,
      "outputs": [
        {
          "output_type": "execute_result",
          "data": {
            "text/plain": [
              "<matplotlib.axes._subplots.AxesSubplot at 0x1aab2d065c0>"
            ]
          },
          "metadata": {
            "tags": []
          },
          "execution_count": 12
        },
        {
          "output_type": "display_data",
          "data": {
            "image/png": "[encoded data removed]",
            "text/plain": [
              "<Figure size 432x288 with 1 Axes>"
            ]
          },
          "metadata": {
            "tags": [],
            "needs_background": "light"
          }
        }
      ]
    },
    {
      "metadata": {
        "id": "fm2Q8Z0iZf50",
        "colab_type": "code",
        "colab": {}
      },
      "cell_type": "code",
      "source": [
        "#EAPmean_by_yr.drop(['YG2001_05Avg','YG2006_10Avg',  'YG2011_17Avg'],axis =1).plot(kind='barh')"
      ],
      "execution_count": 0,
      "outputs": []
    },
    {
      "metadata": {
        "id": "pk-FEeaxZf57",
        "colab_type": "code",
        "colab": {},
        "outputId": "33f8015a-bb62-407a-fed3-c7458bbb7015"
      },
      "cell_type": "code",
      "source": [
        "EAPmean_by_yr"
      ],
      "execution_count": 0,
      "outputs": [
        {
          "output_type": "execute_result",
          "data": {
            "text/html": [
              "<div>\n",
              "<style scoped>\n",
              "    .dataframe tbody tr th:only-of-type {\n",
              "        vertical-align: middle;\n",
              "    }\n",
              "\n",
              "    .dataframe tbody tr th {\n",
              "        vertical-align: top;\n",
              "    }\n",
              "\n",
              "    .dataframe thead th {\n",
              "        text-align: right;\n",
              "    }\n",
              "</style>\n",
              "<table border=\"1\" class=\"dataframe\">\n",
              "  <thead>\n",
              "    <tr style=\"text-align: right;\">\n",
              "      <th></th>\n",
              "      <th>YG1980_85Avg</th>\n",
              "      <th>YG1986_90Avg</th>\n",
              "      <th>YG1991_95Avg</th>\n",
              "      <th>YG1996_2kAvg</th>\n",
              "      <th>YG2001_05Avg</th>\n",
              "      <th>YG2006_10Avg</th>\n",
              "      <th>YG2011_17Avg</th>\n",
              "    </tr>\n",
              "  </thead>\n",
              "  <tbody>\n",
              "    <tr>\n",
              "      <th>0</th>\n",
              "      <td>28608.0</td>\n",
              "      <td>642670.0</td>\n",
              "      <td>9241725.4</td>\n",
              "      <td>117939693.6</td>\n",
              "      <td>504019604.8</td>\n",
              "      <td>1.220106e+09</td>\n",
              "      <td>2.291736e+09</td>\n",
              "    </tr>\n",
              "  </tbody>\n",
              "</table>\n",
              "</div>"
            ],
            "text/plain": [
              "   YG1980_85Avg  YG1986_90Avg  YG1991_95Avg  YG1996_2kAvg  YG2001_05Avg  \\\n",
              "0       28608.0      642670.0     9241725.4   117939693.6   504019604.8   \n",
              "\n",
              "   YG2006_10Avg  YG2011_17Avg  \n",
              "0  1.220106e+09  2.291736e+09  "
            ]
          },
          "metadata": {
            "tags": []
          },
          "execution_count": 14
        }
      ]
    },
    {
      "metadata": {
        "id": "pVzJIfr9Zf6D",
        "colab_type": "code",
        "colab": {}
      },
      "cell_type": "code",
      "source": [
        ""
      ],
      "execution_count": 0,
      "outputs": []
    },
    {
      "metadata": {
        "id": "FrIs8EkrZf6I",
        "colab_type": "code",
        "colab": {}
      },
      "cell_type": "code",
      "source": [
        "EUCAmeandata = {'YG1980_85Avg':[ EUCA8085['YG1980_85Avg'].sum()],\n",
        "                     'YG1986_90Avg':[EUCA8690['YG1986_90Avg'].sum()],\n",
        "                     'YG1991_95Avg':[EUCA9195['YG1991_95Avg'].sum()],\n",
        "                     'YG1996_2kAvg':[EUCA962k['YG1996_2kAvg'].sum()],\n",
        "                    'YG2001_05Avg': [EUCA0105['YG2001_05Avg'].sum()],\n",
        "                    'YG2006_10Avg': [EUCA0610['YG2006_10Avg'].sum()],\n",
        "                     'YG2011_17Avg':[EUCA1117['YG2011_17Avg'].sum()]}\n",
        "EUCAmean_by_yr = pd.DataFrame(data = EUCAmeandata)\n",
        "\n",
        "LATmeandata = {'YG1980_85Avg':[LAT8085['YG1980_85Avg'].sum()],\n",
        "                     'YG1986_90Avg':[LAT8690['YG1986_90Avg'].sum()],\n",
        "                     'YG1991_95Avg':[LAT9195['YG1991_95Avg'].sum()],\n",
        "                     'YG1996_2kAvg':[LAT962k['YG1996_2kAvg'].sum()],\n",
        "                    'YG2001_05Avg': [LAT0105['YG2001_05Avg'].sum()],\n",
        "                    'YG2006_10Avg': [LAT0610['YG2006_10Avg'].sum()],\n",
        "                     'YG2011_17Avg':[LAT1117['YG2011_17Avg'].sum()]}\n",
        "LATmean_by_yr = pd.DataFrame(data = LATmeandata)\n",
        "\n",
        "MEAFmeandata = {'YG1980_85Avg':[ MEAF8085['YG1980_85Avg'].sum()],\n",
        "                     'YG1986_90Avg':[MEAF8690['YG1986_90Avg'].sum()],\n",
        "                     'YG1991_95Avg':[MEAF9195['YG1991_95Avg'].sum()],\n",
        "                     'YG1996_2kAvg':[MEAF962k['YG1996_2kAvg'].sum()],\n",
        "                    'YG2001_05Avg': [MEAF0105['YG2001_05Avg'].sum()],\n",
        "                    'YG2006_10Avg': [MEAF0610['YG2006_10Avg'].sum()],\n",
        "                     'YG2011_17Avg':[MEAF1117['YG2011_17Avg'].sum()]}\n",
        "MEAFmean_by_yr = pd.DataFrame(data = MEAFmeandata)\n",
        "\n",
        "NAmeandata = {'YG1980_85Avg':[ NA8085['YG1980_85Avg'].sum()],\n",
        "                     'YG1986_90Avg':[NA8690['YG1986_90Avg'].sum()],\n",
        "                     'YG1991_95Avg':[NA9195['YG1991_95Avg'].sum()],\n",
        "                     'YG1996_2kAvg':[NA962k['YG1996_2kAvg'].sum()],\n",
        "                    'YG2001_05Avg': [NA0105['YG2001_05Avg'].sum()],\n",
        "                    'YG2006_10Avg': [NA0610['YG2006_10Avg'].sum()],\n",
        "                     'YG2011_17Avg':[NA1117['YG2011_17Avg'].sum()]}\n",
        "NAmean_by_yr = pd.DataFrame(data = NAmeandata)\n",
        "\n",
        "SAmeandata = {'YG1980_85Avg':[ SA8085['YG1980_85Avg'].sum()],\n",
        "                     'YG1986_90Avg':[SA8690['YG1986_90Avg'].sum()],\n",
        "                     'YG1991_95Avg':[SA9195['YG1991_95Avg'].sum()],\n",
        "                     'YG1996_2kAvg':[SA962k['YG1996_2kAvg'].sum()],\n",
        "                    'YG2001_05Avg': [SA0105['YG2001_05Avg'].sum()],\n",
        "                    'YG2006_10Avg': [SA0610['YG2006_10Avg'].sum()],\n",
        "                     'YG2011_17Avg':[SA1117['YG2011_17Avg'].sum()]}\n",
        "SAmean_by_yr = pd.DataFrame(data = SAmeandata)\n",
        "\n",
        "SSAFmeandata = {'YG1980_85Avg':[ SSAF8085['YG1980_85Avg'].sum()],\n",
        "                     'YG1986_90Avg':[SSAF8690['YG1986_90Avg'].sum()],\n",
        "                     'YG1991_95Avg':[SSAF9195['YG1991_95Avg'].sum()],\n",
        "                     'YG1996_2kAvg':[SSAF962k['YG1996_2kAvg'].sum()],\n",
        "                    'YG2001_05Avg': [SSAF0105['YG2001_05Avg'].sum()],\n",
        "                    'YG2006_10Avg': [SSAF0610['YG2006_10Avg'].sum()],\n",
        "                     'YG2011_17Avg':[SSAF1117['YG2011_17Avg'].sum()]}\n",
        "SSAFmean_by_yr = pd.DataFrame(data = SSAFmeandata)"
      ],
      "execution_count": 0,
      "outputs": []
    },
    {
      "metadata": {
        "scrolled": true,
        "id": "Dvh4LXtqZf6O",
        "colab_type": "code",
        "colab": {}
      },
      "cell_type": "code",
      "source": [
        "#EUCAmean_by_yr.plot(kind='barh',title=\"Europe-Central Asia, Cell Subsription by Year Group\")"
      ],
      "execution_count": 0,
      "outputs": []
    },
    {
      "metadata": {
        "id": "VMIYWhtsZf6V",
        "colab_type": "code",
        "colab": {},
        "outputId": "ec947e47-b7bc-4ead-9a48-e9623281d96a"
      },
      "cell_type": "code",
      "source": [
        "EUCAmean_by_yr"
      ],
      "execution_count": 0,
      "outputs": [
        {
          "output_type": "execute_result",
          "data": {
            "text/html": [
              "<div>\n",
              "<style scoped>\n",
              "    .dataframe tbody tr th:only-of-type {\n",
              "        vertical-align: middle;\n",
              "    }\n",
              "\n",
              "    .dataframe tbody tr th {\n",
              "        vertical-align: top;\n",
              "    }\n",
              "\n",
              "    .dataframe thead th {\n",
              "        text-align: right;\n",
              "    }\n",
              "</style>\n",
              "<table border=\"1\" class=\"dataframe\">\n",
              "  <thead>\n",
              "    <tr style=\"text-align: right;\">\n",
              "      <th></th>\n",
              "      <th>YG1980_85Avg</th>\n",
              "      <th>YG1986_90Avg</th>\n",
              "      <th>YG1991_95Avg</th>\n",
              "      <th>YG1996_2kAvg</th>\n",
              "      <th>YG2001_05Avg</th>\n",
              "      <th>YG2006_10Avg</th>\n",
              "      <th>YG2011_17Avg</th>\n",
              "    </tr>\n",
              "  </thead>\n",
              "  <tbody>\n",
              "    <tr>\n",
              "      <th>0</th>\n",
              "      <td>128840.833333</td>\n",
              "      <td>1808510.0</td>\n",
              "      <td>11902856.2</td>\n",
              "      <td>135124486.6</td>\n",
              "      <td>504855184.0</td>\n",
              "      <td>981933875.6</td>\n",
              "      <td>1.112111e+09</td>\n",
              "    </tr>\n",
              "  </tbody>\n",
              "</table>\n",
              "</div>"
            ],
            "text/plain": [
              "    YG1980_85Avg  YG1986_90Avg  YG1991_95Avg  YG1996_2kAvg  YG2001_05Avg  \\\n",
              "0  128840.833333     1808510.0    11902856.2   135124486.6   504855184.0   \n",
              "\n",
              "   YG2006_10Avg  YG2011_17Avg  \n",
              "0   981933875.6  1.112111e+09  "
            ]
          },
          "metadata": {
            "tags": []
          },
          "execution_count": 17
        }
      ]
    },
    {
      "metadata": {
        "id": "SOBLaTBpZf6h",
        "colab_type": "code",
        "colab": {}
      },
      "cell_type": "code",
      "source": [
        "#LATmean_by_yr.plot(kind='barh',title=\"Latin America, Cell Subsription by Year Group\")"
      ],
      "execution_count": 0,
      "outputs": []
    },
    {
      "metadata": {
        "id": "wP5szLVeZf6s",
        "colab_type": "code",
        "colab": {},
        "outputId": "51c2df9e-bf0c-4922-c5be-c3b6b093f0dd"
      },
      "cell_type": "code",
      "source": [
        "LATmean_by_yr"
      ],
      "execution_count": 0,
      "outputs": [
        {
          "output_type": "execute_result",
          "data": {
            "text/html": [
              "<div>\n",
              "<style scoped>\n",
              "    .dataframe tbody tr th:only-of-type {\n",
              "        vertical-align: middle;\n",
              "    }\n",
              "\n",
              "    .dataframe tbody tr th {\n",
              "        vertical-align: top;\n",
              "    }\n",
              "\n",
              "    .dataframe thead th {\n",
              "        text-align: right;\n",
              "    }\n",
              "</style>\n",
              "<table border=\"1\" class=\"dataframe\">\n",
              "  <thead>\n",
              "    <tr style=\"text-align: right;\">\n",
              "      <th></th>\n",
              "      <th>YG1980_85Avg</th>\n",
              "      <th>YG1986_90Avg</th>\n",
              "      <th>YG1991_95Avg</th>\n",
              "      <th>YG1996_2kAvg</th>\n",
              "      <th>YG2001_05Avg</th>\n",
              "      <th>YG2006_10Avg</th>\n",
              "      <th>YG2011_17Avg</th>\n",
              "    </tr>\n",
              "  </thead>\n",
              "  <tbody>\n",
              "    <tr>\n",
              "      <th>0</th>\n",
              "      <td>0.0</td>\n",
              "      <td>34474.8</td>\n",
              "      <td>1652807.4</td>\n",
              "      <td>28907009.4</td>\n",
              "      <td>145641119.0</td>\n",
              "      <td>447465437.6</td>\n",
              "      <td>6.847087e+08</td>\n",
              "    </tr>\n",
              "  </tbody>\n",
              "</table>\n",
              "</div>"
            ],
            "text/plain": [
              "   YG1980_85Avg  YG1986_90Avg  YG1991_95Avg  YG1996_2kAvg  YG2001_05Avg  \\\n",
              "0           0.0       34474.8     1652807.4    28907009.4   145641119.0   \n",
              "\n",
              "   YG2006_10Avg  YG2011_17Avg  \n",
              "0   447465437.6  6.847087e+08  "
            ]
          },
          "metadata": {
            "tags": []
          },
          "execution_count": 19
        }
      ]
    },
    {
      "metadata": {
        "id": "Y1LCq2tEZf6_",
        "colab_type": "code",
        "colab": {}
      },
      "cell_type": "code",
      "source": [
        "#MEAFmean_by_yr.plot(kind='barh',title=\"Middle East and Africa, Cell Subsription by Year Group\")"
      ],
      "execution_count": 0,
      "outputs": []
    },
    {
      "metadata": {
        "id": "UFmkuVqSZf7E",
        "colab_type": "code",
        "colab": {},
        "outputId": "83e143d2-8d29-407f-d8a9-c51cf44844d1"
      },
      "cell_type": "code",
      "source": [
        "MEAFmean_by_yr"
      ],
      "execution_count": 0,
      "outputs": [
        {
          "output_type": "execute_result",
          "data": {
            "text/html": [
              "<div>\n",
              "<style scoped>\n",
              "    .dataframe tbody tr th:only-of-type {\n",
              "        vertical-align: middle;\n",
              "    }\n",
              "\n",
              "    .dataframe tbody tr th {\n",
              "        vertical-align: top;\n",
              "    }\n",
              "\n",
              "    .dataframe thead th {\n",
              "        text-align: right;\n",
              "    }\n",
              "</style>\n",
              "<table border=\"1\" class=\"dataframe\">\n",
              "  <thead>\n",
              "    <tr style=\"text-align: right;\">\n",
              "      <th></th>\n",
              "      <th>YG1980_85Avg</th>\n",
              "      <th>YG1986_90Avg</th>\n",
              "      <th>YG1991_95Avg</th>\n",
              "      <th>YG1996_2kAvg</th>\n",
              "      <th>YG2001_05Avg</th>\n",
              "      <th>YG2006_10Avg</th>\n",
              "      <th>YG2011_17Avg</th>\n",
              "    </tr>\n",
              "  </thead>\n",
              "  <tbody>\n",
              "    <tr>\n",
              "      <th>0</th>\n",
              "      <td>3134.333333</td>\n",
              "      <td>51320.8</td>\n",
              "      <td>400685.8</td>\n",
              "      <td>6509971.6</td>\n",
              "      <td>52642964.4</td>\n",
              "      <td>252358932.2</td>\n",
              "      <td>4.399310e+08</td>\n",
              "    </tr>\n",
              "  </tbody>\n",
              "</table>\n",
              "</div>"
            ],
            "text/plain": [
              "   YG1980_85Avg  YG1986_90Avg  YG1991_95Avg  YG1996_2kAvg  YG2001_05Avg  \\\n",
              "0   3134.333333       51320.8      400685.8     6509971.6    52642964.4   \n",
              "\n",
              "   YG2006_10Avg  YG2011_17Avg  \n",
              "0   252358932.2  4.399310e+08  "
            ]
          },
          "metadata": {
            "tags": []
          },
          "execution_count": 21
        }
      ]
    },
    {
      "metadata": {
        "id": "ow3ZLvIoZf7P",
        "colab_type": "code",
        "colab": {}
      },
      "cell_type": "code",
      "source": [
        "#NAmean_by_yr.plot(kind='barh',title=\"North America, Cell Subsription by Year Group\")"
      ],
      "execution_count": 0,
      "outputs": []
    },
    {
      "metadata": {
        "id": "BJYqVTprZf7h",
        "colab_type": "code",
        "colab": {},
        "outputId": "e09a29d3-6dd4-4d1c-bac0-2f34f8726715"
      },
      "cell_type": "code",
      "source": [
        "NAmean_by_yr"
      ],
      "execution_count": 0,
      "outputs": [
        {
          "output_type": "execute_result",
          "data": {
            "text/html": [
              "<div>\n",
              "<style scoped>\n",
              "    .dataframe tbody tr th:only-of-type {\n",
              "        vertical-align: middle;\n",
              "    }\n",
              "\n",
              "    .dataframe tbody tr th {\n",
              "        vertical-align: top;\n",
              "    }\n",
              "\n",
              "    .dataframe thead th {\n",
              "        text-align: right;\n",
              "    }\n",
              "</style>\n",
              "<table border=\"1\" class=\"dataframe\">\n",
              "  <thead>\n",
              "    <tr style=\"text-align: right;\">\n",
              "      <th></th>\n",
              "      <th>YG1980_85Avg</th>\n",
              "      <th>YG1986_90Avg</th>\n",
              "      <th>YG1991_95Avg</th>\n",
              "      <th>YG1996_2kAvg</th>\n",
              "      <th>YG2001_05Avg</th>\n",
              "      <th>YG2006_10Avg</th>\n",
              "      <th>YG2011_17Avg</th>\n",
              "    </tr>\n",
              "  </thead>\n",
              "  <tbody>\n",
              "    <tr>\n",
              "      <th>0</th>\n",
              "      <td>73968.833333</td>\n",
              "      <td>2813183.6</td>\n",
              "      <td>20025730.8</td>\n",
              "      <td>78564617.0</td>\n",
              "      <td>177497930.6</td>\n",
              "      <td>282147720.0</td>\n",
              "      <td>3.780865e+08</td>\n",
              "    </tr>\n",
              "  </tbody>\n",
              "</table>\n",
              "</div>"
            ],
            "text/plain": [
              "   YG1980_85Avg  YG1986_90Avg  YG1991_95Avg  YG1996_2kAvg  YG2001_05Avg  \\\n",
              "0  73968.833333     2813183.6    20025730.8    78564617.0   177497930.6   \n",
              "\n",
              "   YG2006_10Avg  YG2011_17Avg  \n",
              "0   282147720.0  3.780865e+08  "
            ]
          },
          "metadata": {
            "tags": []
          },
          "execution_count": 23
        }
      ]
    },
    {
      "metadata": {
        "id": "2tRaUxqIZf7p",
        "colab_type": "code",
        "colab": {}
      },
      "cell_type": "code",
      "source": [
        "#SAmean_by_yr.plot(kind='barh',title=\"SouthAsia, Cell Subsription by Year Group\")"
      ],
      "execution_count": 0,
      "outputs": []
    },
    {
      "metadata": {
        "id": "t_sP3DZDZf7-",
        "colab_type": "code",
        "colab": {},
        "outputId": "06688771-fb04-4391-ef6b-717f53ffd54d"
      },
      "cell_type": "code",
      "source": [
        "SAmean_by_yr"
      ],
      "execution_count": 0,
      "outputs": [
        {
          "output_type": "execute_result",
          "data": {
            "text/html": [
              "<div>\n",
              "<style scoped>\n",
              "    .dataframe tbody tr th:only-of-type {\n",
              "        vertical-align: middle;\n",
              "    }\n",
              "\n",
              "    .dataframe tbody tr th {\n",
              "        vertical-align: top;\n",
              "    }\n",
              "\n",
              "    .dataframe thead th {\n",
              "        text-align: right;\n",
              "    }\n",
              "</style>\n",
              "<table border=\"1\" class=\"dataframe\">\n",
              "  <thead>\n",
              "    <tr style=\"text-align: right;\">\n",
              "      <th></th>\n",
              "      <th>YG1980_85Avg</th>\n",
              "      <th>YG1986_90Avg</th>\n",
              "      <th>YG1991_95Avg</th>\n",
              "      <th>YG1996_2kAvg</th>\n",
              "      <th>YG2001_05Avg</th>\n",
              "      <th>YG2006_10Avg</th>\n",
              "      <th>YG2011_17Avg</th>\n",
              "    </tr>\n",
              "  </thead>\n",
              "  <tbody>\n",
              "    <tr>\n",
              "      <th>0</th>\n",
              "      <td>0.0</td>\n",
              "      <td>602.0</td>\n",
              "      <td>56857.8</td>\n",
              "      <td>2089412.4</td>\n",
              "      <td>48905652.0</td>\n",
              "      <td>548146285.6</td>\n",
              "      <td>1.298625e+09</td>\n",
              "    </tr>\n",
              "  </tbody>\n",
              "</table>\n",
              "</div>"
            ],
            "text/plain": [
              "   YG1980_85Avg  YG1986_90Avg  YG1991_95Avg  YG1996_2kAvg  YG2001_05Avg  \\\n",
              "0           0.0         602.0       56857.8     2089412.4    48905652.0   \n",
              "\n",
              "   YG2006_10Avg  YG2011_17Avg  \n",
              "0   548146285.6  1.298625e+09  "
            ]
          },
          "metadata": {
            "tags": []
          },
          "execution_count": 25
        }
      ]
    },
    {
      "metadata": {
        "id": "A2pgqD0HZf8G",
        "colab_type": "code",
        "colab": {}
      },
      "cell_type": "code",
      "source": [
        "#SSAFmean_by_yr.plot(kind='barh',title=\"SubSahara Africa, Cell Subsription by Year Group\")"
      ],
      "execution_count": 0,
      "outputs": []
    },
    {
      "metadata": {
        "id": "6RD7lB2HZf8R",
        "colab_type": "code",
        "colab": {},
        "outputId": "d1f7e36e-d04b-4cda-a596-6eacd61bcfe0"
      },
      "cell_type": "code",
      "source": [
        "SSAFmean_by_yr"
      ],
      "execution_count": 0,
      "outputs": [
        {
          "output_type": "execute_result",
          "data": {
            "text/html": [
              "<div>\n",
              "<style scoped>\n",
              "    .dataframe tbody tr th:only-of-type {\n",
              "        vertical-align: middle;\n",
              "    }\n",
              "\n",
              "    .dataframe tbody tr th {\n",
              "        vertical-align: top;\n",
              "    }\n",
              "\n",
              "    .dataframe thead th {\n",
              "        text-align: right;\n",
              "    }\n",
              "</style>\n",
              "<table border=\"1\" class=\"dataframe\">\n",
              "  <thead>\n",
              "    <tr style=\"text-align: right;\">\n",
              "      <th></th>\n",
              "      <th>YG1980_85Avg</th>\n",
              "      <th>YG1986_90Avg</th>\n",
              "      <th>YG1991_95Avg</th>\n",
              "      <th>YG1996_2kAvg</th>\n",
              "      <th>YG2001_05Avg</th>\n",
              "      <th>YG2006_10Avg</th>\n",
              "      <th>YG2011_17Avg</th>\n",
              "    </tr>\n",
              "  </thead>\n",
              "  <tbody>\n",
              "    <tr>\n",
              "      <th>0</th>\n",
              "      <td>0.0</td>\n",
              "      <td>2372.0</td>\n",
              "      <td>212092.4</td>\n",
              "      <td>4991042.0</td>\n",
              "      <td>44482755.6</td>\n",
              "      <td>257180970.2</td>\n",
              "      <td>6.494671e+08</td>\n",
              "    </tr>\n",
              "  </tbody>\n",
              "</table>\n",
              "</div>"
            ],
            "text/plain": [
              "   YG1980_85Avg  YG1986_90Avg  YG1991_95Avg  YG1996_2kAvg  YG2001_05Avg  \\\n",
              "0           0.0        2372.0      212092.4     4991042.0    44482755.6   \n",
              "\n",
              "   YG2006_10Avg  YG2011_17Avg  \n",
              "0   257180970.2  6.494671e+08  "
            ]
          },
          "metadata": {
            "tags": []
          },
          "execution_count": 27
        }
      ]
    },
    {
      "metadata": {
        "id": "pRCO1hreZf8Z",
        "colab_type": "code",
        "colab": {}
      },
      "cell_type": "code",
      "source": [
        ""
      ],
      "execution_count": 0,
      "outputs": []
    },
    {
      "metadata": {
        "scrolled": true,
        "id": "NuBoDxYsZf8l",
        "colab_type": "code",
        "colab": {},
        "outputId": "47a85152-0f60-4f45-97e3-5b8e983e4a79"
      },
      "cell_type": "code",
      "source": [
        "d={'EAP':[EAP8085['YG1980_85Avg'].sum()],\n",
        "    'EUAC':[EUCA8085['YG1980_85Avg'].sum()],\n",
        "    'LAT':[LAT8085['YG1980_85Avg'].sum()],\n",
        "    'MEAF':[MEAF8085['YG1980_85Avg'].sum()],\n",
        "    'NA':[NA8085['YG1980_85Avg'].sum()],\n",
        "    'SA':[SA8085['YG1980_85Avg'].sum()],\n",
        "    'SSAF':[SSAF8085['YG1980_85Avg'].sum()]}\n",
        "dff = pd.DataFrame(data = d)\n",
        "dff.plot(kind='bar',title =\"Cell Subscription by Region, Year 1980-1985\")"
      ],
      "execution_count": 0,
      "outputs": [
        {
          "output_type": "execute_result",
          "data": {
            "text/plain": [
              "<matplotlib.axes._subplots.AxesSubplot at 0x1aab2d07748>"
            ]
          },
          "metadata": {
            "tags": []
          },
          "execution_count": 28
        },
        {
          "output_type": "display_data",
          "data": {
            "image/png": "[encoded data removed]",
            "text/plain": [
              "<Figure size 432x288 with 1 Axes>"
            ]
          },
          "metadata": {
            "tags": [],
            "needs_background": "light"
          }
        }
      ]
    },
    {
      "metadata": {
        "id": "wXjiH9vAZf8w",
        "colab_type": "code",
        "colab": {},
        "outputId": "d1b35027-7505-4034-b2f9-6ca03bc9e2e0"
      },
      "cell_type": "code",
      "source": [
        "dff\n",
        "#dff.drop(['NA','EUAC',],axis =1).plot(kind='bar')"
      ],
      "execution_count": 0,
      "outputs": [
        {
          "output_type": "execute_result",
          "data": {
            "text/html": [
              "<div>\n",
              "<style scoped>\n",
              "    .dataframe tbody tr th:only-of-type {\n",
              "        vertical-align: middle;\n",
              "    }\n",
              "\n",
              "    .dataframe tbody tr th {\n",
              "        vertical-align: top;\n",
              "    }\n",
              "\n",
              "    .dataframe thead th {\n",
              "        text-align: right;\n",
              "    }\n",
              "</style>\n",
              "<table border=\"1\" class=\"dataframe\">\n",
              "  <thead>\n",
              "    <tr style=\"text-align: right;\">\n",
              "      <th></th>\n",
              "      <th>EAP</th>\n",
              "      <th>EUAC</th>\n",
              "      <th>LAT</th>\n",
              "      <th>MEAF</th>\n",
              "      <th>NA</th>\n",
              "      <th>SA</th>\n",
              "      <th>SSAF</th>\n",
              "    </tr>\n",
              "  </thead>\n",
              "  <tbody>\n",
              "    <tr>\n",
              "      <th>0</th>\n",
              "      <td>28608.0</td>\n",
              "      <td>128840.833333</td>\n",
              "      <td>0.0</td>\n",
              "      <td>3134.333333</td>\n",
              "      <td>73968.833333</td>\n",
              "      <td>0.0</td>\n",
              "      <td>0.0</td>\n",
              "    </tr>\n",
              "  </tbody>\n",
              "</table>\n",
              "</div>"
            ],
            "text/plain": [
              "       EAP           EUAC  LAT         MEAF            NA   SA  SSAF\n",
              "0  28608.0  128840.833333  0.0  3134.333333  73968.833333  0.0   0.0"
            ]
          },
          "metadata": {
            "tags": []
          },
          "execution_count": 29
        }
      ]
    },
    {
      "metadata": {
        "id": "LOGYdGoSZf82",
        "colab_type": "code",
        "colab": {}
      },
      "cell_type": "code",
      "source": [
        "d={'EAP':[EAP8690['YG1986_90Avg'].sum()],\n",
        "    'EUAC':[EUCA8690['YG1986_90Avg'].sum()],\n",
        "    'LAT':[LAT8690['YG1986_90Avg'].sum()],\n",
        "    'MEAF':[MEAF8690['YG1986_90Avg'].sum()],\n",
        "    'NA':[NA8690['YG1986_90Avg'].sum()],\n",
        "    'SA':[SA8690['YG1986_90Avg'].sum()],\n",
        "    'SSAF':[SSAF8690['YG1986_90Avg'].sum()]}\n",
        "dff = pd.DataFrame(data = d)\n",
        "#dff.plot(kind='bar',title =\"Cell Subscription by Region, Year 1986-1990\")"
      ],
      "execution_count": 0,
      "outputs": []
    },
    {
      "metadata": {
        "id": "YEJFLa0WZf91",
        "colab_type": "code",
        "colab": {},
        "outputId": "5f35654d-5a3b-4205-e1c1-4428150570c8"
      },
      "cell_type": "code",
      "source": [
        "dff"
      ],
      "execution_count": 0,
      "outputs": [
        {
          "output_type": "execute_result",
          "data": {
            "text/html": [
              "<div>\n",
              "<style scoped>\n",
              "    .dataframe tbody tr th:only-of-type {\n",
              "        vertical-align: middle;\n",
              "    }\n",
              "\n",
              "    .dataframe tbody tr th {\n",
              "        vertical-align: top;\n",
              "    }\n",
              "\n",
              "    .dataframe thead th {\n",
              "        text-align: right;\n",
              "    }\n",
              "</style>\n",
              "<table border=\"1\" class=\"dataframe\">\n",
              "  <thead>\n",
              "    <tr style=\"text-align: right;\">\n",
              "      <th></th>\n",
              "      <th>EAP</th>\n",
              "      <th>EUAC</th>\n",
              "      <th>LAT</th>\n",
              "      <th>MEAF</th>\n",
              "      <th>NA</th>\n",
              "      <th>SA</th>\n",
              "      <th>SSAF</th>\n",
              "    </tr>\n",
              "  </thead>\n",
              "  <tbody>\n",
              "    <tr>\n",
              "      <th>0</th>\n",
              "      <td>642670.0</td>\n",
              "      <td>1808510.0</td>\n",
              "      <td>34474.8</td>\n",
              "      <td>51320.8</td>\n",
              "      <td>2813183.6</td>\n",
              "      <td>602.0</td>\n",
              "      <td>2372.0</td>\n",
              "    </tr>\n",
              "  </tbody>\n",
              "</table>\n",
              "</div>"
            ],
            "text/plain": [
              "        EAP       EUAC      LAT     MEAF         NA     SA    SSAF\n",
              "0  642670.0  1808510.0  34474.8  51320.8  2813183.6  602.0  2372.0"
            ]
          },
          "metadata": {
            "tags": []
          },
          "execution_count": 31
        }
      ]
    },
    {
      "metadata": {
        "id": "22cplzPWZf-C",
        "colab_type": "code",
        "colab": {}
      },
      "cell_type": "code",
      "source": [
        "#dff.drop(['NA'],axis =1).plot(kind='bar')"
      ],
      "execution_count": 0,
      "outputs": []
    },
    {
      "metadata": {
        "id": "tMnUs5p6Zf-J",
        "colab_type": "code",
        "colab": {},
        "outputId": "e1f25a8b-f6b3-4806-f8ec-201a06636885"
      },
      "cell_type": "code",
      "source": [
        "d={'EAP':[EAP0105['YG2001_05Avg'].sum()],\n",
        "    'EUAC':[EUCA0105['YG2001_05Avg'].sum()],\n",
        "    'LAT':[LAT0105['YG2001_05Avg'].sum()],\n",
        "    'MEAF':[MEAF0105['YG2001_05Avg'].sum()],\n",
        "    'NA':[NA0105['YG2001_05Avg'].sum()],\n",
        "    'SA':[SA0105['YG2001_05Avg'].sum()],\n",
        "    'SSAF':[SSAF0105['YG2001_05Avg'].sum()]}\n",
        "dff = pd.DataFrame(data = d)\n",
        "dff.plot(kind='bar',title =\"Cell Subscription by Region, Year 2001 - 2005\")"
      ],
      "execution_count": 0,
      "outputs": [
        {
          "output_type": "execute_result",
          "data": {
            "text/plain": [
              "<matplotlib.axes._subplots.AxesSubplot at 0x1aab30ca518>"
            ]
          },
          "metadata": {
            "tags": []
          },
          "execution_count": 33
        },
        {
          "output_type": "display_data",
          "data": {
            "image/png": "[encoded data removed]",
            "text/plain": [
              "<Figure size 432x288 with 1 Axes>"
            ]
          },
          "metadata": {
            "tags": [],
            "needs_background": "light"
          }
        }
      ]
    },
    {
      "metadata": {
        "id": "0wBs2FENZf-j",
        "colab_type": "code",
        "colab": {},
        "outputId": "dd254ef3-e800-4a94-a32f-1b72d8eedd80"
      },
      "cell_type": "code",
      "source": [
        "dff"
      ],
      "execution_count": 0,
      "outputs": [
        {
          "output_type": "execute_result",
          "data": {
            "text/html": [
              "<div>\n",
              "<style scoped>\n",
              "    .dataframe tbody tr th:only-of-type {\n",
              "        vertical-align: middle;\n",
              "    }\n",
              "\n",
              "    .dataframe tbody tr th {\n",
              "        vertical-align: top;\n",
              "    }\n",
              "\n",
              "    .dataframe thead th {\n",
              "        text-align: right;\n",
              "    }\n",
              "</style>\n",
              "<table border=\"1\" class=\"dataframe\">\n",
              "  <thead>\n",
              "    <tr style=\"text-align: right;\">\n",
              "      <th></th>\n",
              "      <th>EAP</th>\n",
              "      <th>EUAC</th>\n",
              "      <th>LAT</th>\n",
              "      <th>MEAF</th>\n",
              "      <th>NA</th>\n",
              "      <th>SA</th>\n",
              "      <th>SSAF</th>\n",
              "    </tr>\n",
              "  </thead>\n",
              "  <tbody>\n",
              "    <tr>\n",
              "      <th>0</th>\n",
              "      <td>504019604.8</td>\n",
              "      <td>504855184.0</td>\n",
              "      <td>145641119.0</td>\n",
              "      <td>52642964.4</td>\n",
              "      <td>177497930.6</td>\n",
              "      <td>48905652.0</td>\n",
              "      <td>44482755.6</td>\n",
              "    </tr>\n",
              "  </tbody>\n",
              "</table>\n",
              "</div>"
            ],
            "text/plain": [
              "           EAP         EUAC          LAT        MEAF           NA          SA  \\\n",
              "0  504019604.8  504855184.0  145641119.0  52642964.4  177497930.6  48905652.0   \n",
              "\n",
              "         SSAF  \n",
              "0  44482755.6  "
            ]
          },
          "metadata": {
            "tags": []
          },
          "execution_count": 34
        }
      ]
    },
    {
      "metadata": {
        "id": "GhOY4kB6Zf-u",
        "colab_type": "code",
        "colab": {}
      },
      "cell_type": "code",
      "source": [
        "d={'EAP':[EAP0610['YG2006_10Avg'].sum()],\n",
        "    'EUAC':[EUCA0610['YG2006_10Avg'].sum()],\n",
        "    'LAT':[LAT0610['YG2006_10Avg'].sum()],\n",
        "    'MEAF':[MEAF0610['YG2006_10Avg'].sum()],\n",
        "    'NA':[NA0610['YG2006_10Avg'].sum()],\n",
        "    'SA':[SA0610['YG2006_10Avg'].sum()],\n",
        "    'SSAF':[SSAF0610['YG2006_10Avg'].sum()]}\n",
        "dff = pd.DataFrame(data = d)\n",
        "#dff.plot(kind='bar',title =\"Cell Subscription by Region, Year 1986-1990\")"
      ],
      "execution_count": 0,
      "outputs": []
    },
    {
      "metadata": {
        "scrolled": true,
        "id": "M-jE8n_-Zf_B",
        "colab_type": "code",
        "colab": {},
        "outputId": "e8284da0-6dde-47ea-beda-062dd759a8cd"
      },
      "cell_type": "code",
      "source": [
        "d={'EAP':[EAP1117['YG2011_17Avg'].sum()],\n",
        "    'EUAC':[EUCA1117['YG2011_17Avg'].sum()],\n",
        "    'LAT':[LAT1117['YG2011_17Avg'].sum()],\n",
        "    'MEAF':[MEAF1117['YG2011_17Avg'].sum()],\n",
        "    'NA':[NA1117['YG2011_17Avg'].sum()],\n",
        "    'SA':[SA1117['YG2011_17Avg'].sum()],\n",
        "    'SSAF':[SSAF1117['YG2011_17Avg'].sum()]}\n",
        "dff = pd.DataFrame(data = d)\n",
        "dff.plot.bar(title =\"Cell Subscription by Region, Year 2011 - 2017\")"
      ],
      "execution_count": 0,
      "outputs": [
        {
          "output_type": "execute_result",
          "data": {
            "text/plain": [
              "<matplotlib.axes._subplots.AxesSubplot at 0x1aab311a2e8>"
            ]
          },
          "metadata": {
            "tags": []
          },
          "execution_count": 36
        },
        {
          "output_type": "display_data",
          "data": {
            "image/png": "[encoded data removed]",
            "text/plain": [
              "<Figure size 432x288 with 1 Axes>"
            ]
          },
          "metadata": {
            "tags": [],
            "needs_background": "light"
          }
        }
      ]
    },
    {
      "metadata": {
        "id": "yZdJicSrZf_N",
        "colab_type": "code",
        "colab": {}
      },
      "cell_type": "code",
      "source": [
        ""
      ],
      "execution_count": 0,
      "outputs": []
    },
    {
      "metadata": {
        "id": "Otno28W3Zf_W",
        "colab_type": "code",
        "colab": {}
      },
      "cell_type": "code",
      "source": [
        ""
      ],
      "execution_count": 0,
      "outputs": []
    },
    {
      "metadata": {
        "id": "_BEp7QzpZf_g",
        "colab_type": "code",
        "colab": {}
      },
      "cell_type": "code",
      "source": [
        "#DECIDING WHICH COUNTRIES IN EACH REGION HAS HIGHEST MOBILE SUBSCRIPTION \n",
        "\n",
        "#EuropeCAsia"
      ],
      "execution_count": 0,
      "outputs": []
    },
    {
      "metadata": {
        "id": "hcfjLSw3Zf_k",
        "colab_type": "code",
        "colab": {}
      },
      "cell_type": "code",
      "source": [
        "\n",
        "#EuropeCAsia = EuropeCAsia[(EuropeCAsia.TableName != 'United Kingdom')]\n",
        "#EuropeCAsia = EuropeCAsia[(EuropeCAsia.TableName != 'Sweden')]\n",
        "#EuropeCAsia['1989'].argmax()\n",
        "\n",
        "# Note: In 1989, UK has the highest cell cellscription :2nd Sweden /3rd Finland\n",
        "# In 2017, Russia(227341873) Germany(106000000), Italy(83871543), UK (79173658)"
      ],
      "execution_count": 0,
      "outputs": []
    },
    {
      "metadata": {
        "id": "Ka464ut1Zf_p",
        "colab_type": "code",
        "colab": {}
      },
      "cell_type": "code",
      "source": [
        ""
      ],
      "execution_count": 0,
      "outputs": []
    },
    {
      "metadata": {
        "scrolled": false,
        "id": "jSZBy3flZf_u",
        "colab_type": "code",
        "colab": {}
      },
      "cell_type": "code",
      "source": [
        "#EAsiaPacific"
      ],
      "execution_count": 0,
      "outputs": []
    },
    {
      "metadata": {
        "id": "OvLBT_bTZf_x",
        "colab_type": "code",
        "colab": {}
      },
      "cell_type": "code",
      "source": [
        "#EAsiaPacific = EAsiaPacific[(EAsiaPacific.TableName != 'China')]\n",
        "#EAsiaPacific = EAsiaPacific[(EAsiaPacific.TableName != 'Japan')]\n",
        "#EAsiaPacific['2017'].argmax()"
      ],
      "execution_count": 0,
      "outputs": []
    },
    {
      "metadata": {
        "id": "GozDBRVCZf_2",
        "colab_type": "code",
        "colab": {}
      },
      "cell_type": "code",
      "source": [
        "#1989 : Japan (489558) Australia (94529) Hong Kong (89193)\n",
        "#2000 : China (85260000 ) Japan (66784374) Korea (26816398)\n",
        "#2017: China(1474097000) Indonesia(458923202)Japan(170128499)Thailand(121530000) "
      ],
      "execution_count": 0,
      "outputs": []
    },
    {
      "metadata": {
        "id": "Dh7kQAAUZf_6",
        "colab_type": "code",
        "colab": {}
      },
      "cell_type": "code",
      "source": [
        "#LatinAmerica"
      ],
      "execution_count": 0,
      "outputs": []
    },
    {
      "metadata": {
        "id": "9kjou7-4Zf_-",
        "colab_type": "code",
        "colab": {}
      },
      "cell_type": "code",
      "source": [
        "#LatinAmerica['2017'].argmax()\n",
        "#2017: Brazil 236488548"
      ],
      "execution_count": 0,
      "outputs": []
    },
    {
      "metadata": {
        "id": "f3T_P-pmZgAK",
        "colab_type": "code",
        "colab": {}
      },
      "cell_type": "code",
      "source": [
        "#NorthAmerica\n",
        "#2017 : US (395881000) Canada (31458600)\n",
        "#2017 : India(1168902277)"
      ],
      "execution_count": 0,
      "outputs": []
    },
    {
      "metadata": {
        "id": "a8HMMldwZgAO",
        "colab_type": "code",
        "colab": {},
        "outputId": "d5b17471-61ca-4f63-939f-6e46489f9199"
      },
      "cell_type": "code",
      "source": [
        "d={'Russia' : 227341873,\n",
        "   #'Germany' : 106000000,\n",
        "  # 'Italy' : 83871543,\n",
        "  # 'UK' : 79173658,\n",
        "    'US' :395881000,\n",
        " #  'Canada' :31458600,\n",
        "  # 'Brazil': 236488548,\n",
        "   'India' :1168902277,\n",
        "   'China':1474097000,\n",
        "   'Indonesia':458923202,\n",
        "   'Japan':170128499,\n",
        "   'Thailand':121530000\n",
        "  }\n",
        "dff = pd.DataFrame(data = d, index=[0])\n",
        "dff.plot.bar(title =\"Cell Subscription in 2017, Countries comparison\")"
      ],
      "execution_count": 0,
      "outputs": [
        {
          "output_type": "execute_result",
          "data": {
            "text/plain": [
              "<matplotlib.axes._subplots.AxesSubplot at 0x1aab3155908>"
            ]
          },
          "metadata": {
            "tags": []
          },
          "execution_count": 45
        },
        {
          "output_type": "display_data",
          "data": {
            "image/png": "[encoded data removed]",
            "text/plain": [
              "<Figure size 432x288 with 1 Axes>"
            ]
          },
          "metadata": {
            "tags": [],
            "needs_background": "light"
          }
        }
      ]
    },
    {
      "metadata": {
        "id": "GH5rLUcIZgAf",
        "colab_type": "code",
        "colab": {}
      },
      "cell_type": "code",
      "source": [
        ""
      ],
      "execution_count": 0,
      "outputs": []
    },
    {
      "metadata": {
        "id": "9nSmpUGIZgAk",
        "colab_type": "text"
      },
      "cell_type": "markdown",
      "source": [
        "---"
      ]
    },
    {
      "metadata": {
        "id": "C2knPpCFZgAm",
        "colab_type": "text"
      },
      "cell_type": "markdown",
      "source": [
        "---"
      ]
    },
    {
      "metadata": {
        "id": "ZtNYHV77ZgAo",
        "colab_type": "text"
      },
      "cell_type": "markdown",
      "source": [
        "\n",
        "# Data Analytics Process Summary\n",
        "\n",
        "1) Data Cleaning : Checking missing value, filling them with 0 \n",
        "\n",
        "2) Data Preparation: Grouping the countries by Income Level/ Geographic Region\n",
        "                   : Group by Year (setting the starting year as 1980)\n",
        "                   \n",
        "3) Summary Statistics : (example)\n",
        "                        Summary Statistics of East Asia and Pacific (2011-2017) \n",
        "                        ---\n",
        "                        count 3.700000e+01\n",
        "                        std 2.108336e+08\n",
        "                        min 0.000000e+00\n",
        "                        25% 5.571329e+04\n",
        "                        50% 1.487345e+06\n",
        "                        75% 2.542871e+07\n",
        "                        MAX 1.249233e+09\n",
        "                        name: YG2011_17Avg, dtype: float64\n",
        "    \n",
        "4) Construct a new dataframe that show the average value of year group for each region. (example) \n",
        "   \n",
        " ---\n",
        " \n",
        " \n",
        "                                            Figure - Year Group Comparison of East Asia Pacific Region  \n",
        "![image.png](attachment:image.png)\n",
        "\n",
        "Take Away : For every region, there is a sharp increase in cellur subscription from Year Group (1996-2000) to YearGroup(2001_05) and YearGroup(2006-10) to YearGroup(2011-17) \n"
      ]
    },
    {
      "metadata": {
        "id": "aS2lgZr-ZgAs",
        "colab_type": "code",
        "colab": {},
        "outputId": "003488eb-60a2-4fda-94ad-0ea9153d910a"
      },
      "cell_type": "code",
      "source": [
        "EAPmean_by_yr"
      ],
      "execution_count": 0,
      "outputs": [
        {
          "output_type": "execute_result",
          "data": {
            "text/html": [
              "<div>\n",
              "<style scoped>\n",
              "    .dataframe tbody tr th:only-of-type {\n",
              "        vertical-align: middle;\n",
              "    }\n",
              "\n",
              "    .dataframe tbody tr th {\n",
              "        vertical-align: top;\n",
              "    }\n",
              "\n",
              "    .dataframe thead th {\n",
              "        text-align: right;\n",
              "    }\n",
              "</style>\n",
              "<table border=\"1\" class=\"dataframe\">\n",
              "  <thead>\n",
              "    <tr style=\"text-align: right;\">\n",
              "      <th></th>\n",
              "      <th>YG1980_85Avg</th>\n",
              "      <th>YG1986_90Avg</th>\n",
              "      <th>YG1991_95Avg</th>\n",
              "      <th>YG1996_2kAvg</th>\n",
              "      <th>YG2001_05Avg</th>\n",
              "      <th>YG2006_10Avg</th>\n",
              "      <th>YG2011_17Avg</th>\n",
              "    </tr>\n",
              "  </thead>\n",
              "  <tbody>\n",
              "    <tr>\n",
              "      <th>0</th>\n",
              "      <td>28608.0</td>\n",
              "      <td>642670.0</td>\n",
              "      <td>9241725.4</td>\n",
              "      <td>117939693.6</td>\n",
              "      <td>504019604.8</td>\n",
              "      <td>1.220106e+09</td>\n",
              "      <td>2.291736e+09</td>\n",
              "    </tr>\n",
              "  </tbody>\n",
              "</table>\n",
              "</div>"
            ],
            "text/plain": [
              "   YG1980_85Avg  YG1986_90Avg  YG1991_95Avg  YG1996_2kAvg  YG2001_05Avg  \\\n",
              "0       28608.0      642670.0     9241725.4   117939693.6   504019604.8   \n",
              "\n",
              "   YG2006_10Avg  YG2011_17Avg  \n",
              "0  1.220106e+09  2.291736e+09  "
            ]
          },
          "metadata": {
            "tags": []
          },
          "execution_count": 46
        }
      ]
    },
    {
      "metadata": {
        "id": "Gj_pnuULZgA0",
        "colab_type": "text"
      },
      "cell_type": "markdown",
      "source": [
        "---"
      ]
    },
    {
      "metadata": {
        "id": "C6au6qFFZgA1",
        "colab_type": "text"
      },
      "cell_type": "markdown",
      "source": [
        "\n",
        "\n",
        "5) Next Step: Construct another new dataframe with different regions for a specific year group. \n",
        "\n",
        "\n",
        "                                                        1980-1985 \n",
        "![1.png](attachment:1.png)"
      ]
    },
    {
      "metadata": {
        "id": "sOszEd8QZgA2",
        "colab_type": "text"
      },
      "cell_type": "markdown",
      "source": [
        "                                                        2001-2005\n",
        "![2.png](attachment:2.png)"
      ]
    },
    {
      "metadata": {
        "id": "SF3as0vjZgA8",
        "colab_type": "text"
      },
      "cell_type": "markdown",
      "source": [
        "                                                        2011-2017\n",
        "![3.png](attachment:3.png)\n",
        "\n",
        "\n",
        "Take Away: Celluar Subscription of certain region(East Asia/ Sout Asia) increase more significantly than others. \n",
        "\n",
        "Side Note: DECIDING WHICH COUNTRIES IN EACH REGION HAS HIGHEST MOBILE SUBSCRIPTION \n",
        "\n",
        "- *Europe* \n",
        "- 1980: Finlad has the highest cellular subscription.\n",
        "- 1989: UK has the highest cell subscription :2nd Sweden 3rd Finland\n",
        "- 2017: Russia(227341873) Germany(106000000), Italy(83871543), UK (79173658)\n",
        "- *East ASia and Pacific*\n",
        "- 1989: Japan (489558) Australia (94529) Hong Kong (89193)\n",
        "- 2000: China (85260000 ) Japan (66784374) Korea (26816398)\n",
        "- 2017: China(1474097000) Indonesia(458923202)Japan(170128499)Thailand(121530000) \n",
        "- *NorthAmerica*\n",
        "- 2017: US (395881000) Canada (31458600)\n",
        "---"
      ]
    },
    {
      "metadata": {
        "id": "IMxadBiuZgA_",
        "colab_type": "text"
      },
      "cell_type": "markdown",
      "source": [
        "# Conclusion\n",
        "\n",
        "\n",
        "There is an exponential growth of mobile subscriptin throughout the world since 2000.\n",
        "As the data indicate, the first cellular subscription in all countries started in 1980. Europe/CentralAsia was leading as the region with the highest subcription followed by North America and East Asia/Pacific. Among Europe and Central Asia region, Finland has the largest celluar-connected population in 1980 since Scandinavian countries including Finland were among the first pioneer countries of 1-G network right after the launch of Nippon Telegraph and Telephone in Japan in 1979. Europe and North America regions dominate the market of mobile networks for early two decades of Cell subscription history until the pattern changes at the turn of the century. \n",
        "\n",
        "In early 2000s, Asia Pacific region emerged as the major cellur subscribers equalizing with Europe Region with each region sharing 504 million users respectively. China contributed the most in increasing the subscriber user base in year 2000 when two state-run compaines-China Telecom and China Netcom- began their operations. From early 2000 to mid 2000s, every region across the world also experienced  rapid increase in subcription due to the connectivity of internet boradband networks from mobile devices. \n",
        "\n",
        "The functionality of mobile devices, particulary in the moblile application development, have improved over the period. As Network-based Mobile games and the Social Network became popular, the subscription of cellular networks continue to expand. As of 2017, East Asia and Pacific region followed by South Asia region become the major subscribers surpassing EU and North Ameria regions that dominated the market historically. Among all countries, China has the largest subscribed user followed by India, Indonesia and U.S in 2017. In Europe, Russia has the highest celluar sucription overtaking Western European Countries and Scandinavian neighbours. It is important to note that having high density of celluar usage in those countries may not represent higher investment or advancement in mobile technology. Moreover, the underlying reasons of rapid celluar subscription in some countries are beyond the scope of this study. Possible explanations include government incentives, income level, the pricing strategies of mobile providers and technology services culture in selected countries which require furthur analysis. \n",
        "\n",
        "                                            Figure: Cellur Subscription by Country (2017) \n",
        "![4.png](attachment:4.png)"
      ]
    },
    {
      "metadata": {
        "id": "3AtcciZGZgBD",
        "colab_type": "code",
        "colab": {}
      },
      "cell_type": "code",
      "source": [
        ""
      ],
      "execution_count": 0,
      "outputs": []
    }
  ]
}