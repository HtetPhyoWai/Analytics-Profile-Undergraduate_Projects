{
  "nbformat": 4,
  "nbformat_minor": 0,
  "metadata": {
    "colab": {
      "name": "Assignment8b_NaiveBayes.ipynb",
      "version": "0.3.2",
      "provenance": []
    },
    "kernelspec": {
      "display_name": "Python 3",
      "language": "python",
      "name": "python3"
    }
  },
  "cells": [
    {
      "metadata": {
        "id": "YzvYH7NS6r3L",
        "colab_type": "code",
        "colab": {}
      },
      "cell_type": "code",
      "source": [
        "from sklearn.naive_bayes import MultinomialNB, BernoulliNB, GaussianNB\n",
        "from IPython.display import display, Markdown\n",
        "import numpy as np\n",
        "import pandas as pd"
      ],
      "execution_count": 0,
      "outputs": []
    },
    {
      "metadata": {
        "id": "xsBiPk-C6r3b",
        "colab_type": "code",
        "colab": {},
        "outputId": "7b3a6f75-8223-4744-b386-7761069f5d9c"
      },
      "cell_type": "code",
      "source": [
        "#--data as LISTS\n",
        "sweet = [1,1,0,0,0]\n",
        "data = [[3,4],[2,3],[0,3],[3,2],[1,4]]\n",
        "\n",
        "#--data as Pandas dataframes\n",
        "TraindfX = pd.DataFrame(dict(Color=[3,2,0,3,1],Weight=[4,3,3,2,4]))\n",
        "TraindfY = pd.DataFrame(dict(Sweet=[1,1,0,0,0]))\n",
        "\n",
        "#--inspect the List data\n",
        "display(Markdown(\"### Inspect the List Data\"))\n",
        "print(sweet)\n",
        "print(data)\n",
        "print('Sweet <datatype>=' + str(type(sweet)))\n",
        "print('Data <datatype>=' + str(type(data)))"
      ],
      "execution_count": 0,
      "outputs": [
        {
          "output_type": "display_data",
          "data": {
            "text/markdown": "### Inspect the List Data",
            "text/plain": [
              "<IPython.core.display.Markdown object>"
            ]
          },
          "metadata": {
            "tags": []
          }
        },
        {
          "output_type": "stream",
          "text": [
            "[1, 1, 0, 0, 0]\n",
            "[[3, 4], [2, 3], [0, 3], [3, 2], [1, 4]]\n",
            "Sweet <datatype>=<class 'list'>\n",
            "Data <datatype>=<class 'list'>\n"
          ],
          "name": "stdout"
        }
      ]
    },
    {
      "metadata": {
        "id": "x1Per-ex6r3w",
        "colab_type": "code",
        "colab": {},
        "outputId": "4c19ee66-9383-4461-9852-18dbe7f6d7fc"
      },
      "cell_type": "code",
      "source": [
        "display(Markdown(\"### Inspect the Pandas DataFrame Data\"))\n",
        "print('TraindfY <datatype>=' + str(type(TraindfY)))\n",
        "print('TraindfX <datatype>=' + str(type(TraindfX)))\n",
        "display(TraindfY)\n",
        "display(TraindfX)"
      ],
      "execution_count": 0,
      "outputs": [
        {
          "output_type": "display_data",
          "data": {
            "text/markdown": "### Inspect the Pandas DataFrame Data",
            "text/plain": [
              "<IPython.core.display.Markdown object>"
            ]
          },
          "metadata": {
            "tags": []
          }
        },
        {
          "output_type": "stream",
          "text": [
            "TraindfY <datatype>=<class 'pandas.core.frame.DataFrame'>\n",
            "TraindfX <datatype>=<class 'pandas.core.frame.DataFrame'>\n"
          ],
          "name": "stdout"
        },
        {
          "output_type": "display_data",
          "data": {
            "text/html": [
              "<div>\n",
              "<style scoped>\n",
              "    .dataframe tbody tr th:only-of-type {\n",
              "        vertical-align: middle;\n",
              "    }\n",
              "\n",
              "    .dataframe tbody tr th {\n",
              "        vertical-align: top;\n",
              "    }\n",
              "\n",
              "    .dataframe thead th {\n",
              "        text-align: right;\n",
              "    }\n",
              "</style>\n",
              "<table border=\"1\" class=\"dataframe\">\n",
              "  <thead>\n",
              "    <tr style=\"text-align: right;\">\n",
              "      <th></th>\n",
              "      <th>Sweet</th>\n",
              "    </tr>\n",
              "  </thead>\n",
              "  <tbody>\n",
              "    <tr>\n",
              "      <th>0</th>\n",
              "      <td>1</td>\n",
              "    </tr>\n",
              "    <tr>\n",
              "      <th>1</th>\n",
              "      <td>1</td>\n",
              "    </tr>\n",
              "    <tr>\n",
              "      <th>2</th>\n",
              "      <td>0</td>\n",
              "    </tr>\n",
              "    <tr>\n",
              "      <th>3</th>\n",
              "      <td>0</td>\n",
              "    </tr>\n",
              "    <tr>\n",
              "      <th>4</th>\n",
              "      <td>0</td>\n",
              "    </tr>\n",
              "  </tbody>\n",
              "</table>\n",
              "</div>"
            ],
            "text/plain": [
              "   Sweet\n",
              "0      1\n",
              "1      1\n",
              "2      0\n",
              "3      0\n",
              "4      0"
            ]
          },
          "metadata": {
            "tags": []
          }
        },
        {
          "output_type": "display_data",
          "data": {
            "text/html": [
              "<div>\n",
              "<style scoped>\n",
              "    .dataframe tbody tr th:only-of-type {\n",
              "        vertical-align: middle;\n",
              "    }\n",
              "\n",
              "    .dataframe tbody tr th {\n",
              "        vertical-align: top;\n",
              "    }\n",
              "\n",
              "    .dataframe thead th {\n",
              "        text-align: right;\n",
              "    }\n",
              "</style>\n",
              "<table border=\"1\" class=\"dataframe\">\n",
              "  <thead>\n",
              "    <tr style=\"text-align: right;\">\n",
              "      <th></th>\n",
              "      <th>Color</th>\n",
              "      <th>Weight</th>\n",
              "    </tr>\n",
              "  </thead>\n",
              "  <tbody>\n",
              "    <tr>\n",
              "      <th>0</th>\n",
              "      <td>3</td>\n",
              "      <td>4</td>\n",
              "    </tr>\n",
              "    <tr>\n",
              "      <th>1</th>\n",
              "      <td>2</td>\n",
              "      <td>3</td>\n",
              "    </tr>\n",
              "    <tr>\n",
              "      <th>2</th>\n",
              "      <td>0</td>\n",
              "      <td>3</td>\n",
              "    </tr>\n",
              "    <tr>\n",
              "      <th>3</th>\n",
              "      <td>3</td>\n",
              "      <td>2</td>\n",
              "    </tr>\n",
              "    <tr>\n",
              "      <th>4</th>\n",
              "      <td>1</td>\n",
              "      <td>4</td>\n",
              "    </tr>\n",
              "  </tbody>\n",
              "</table>\n",
              "</div>"
            ],
            "text/plain": [
              "   Color  Weight\n",
              "0      3       4\n",
              "1      2       3\n",
              "2      0       3\n",
              "3      3       2\n",
              "4      1       4"
            ]
          },
          "metadata": {
            "tags": []
          }
        }
      ]
    },
    {
      "metadata": {
        "id": "zbN7TBm06r39",
        "colab_type": "code",
        "colab": {},
        "outputId": "6cf7bd5e-00e7-477f-db5d-4052ecc6316b"
      },
      "cell_type": "code",
      "source": [
        "#--Create a Python dictionary with cross-tabulation reports for each predictor variable and the outcome variable showing COUNTS and PERCENTS\n",
        "SweetDataCrosstab = {'SweetColorCrosstab':{'Count':pd.crosstab(TraindfY.Sweet,TraindfX.Color,margins=True),'Percent':pd.crosstab(TraindfY.Sweet,TraindfX.Color,normalize='index')},\n",
        "                     'SweetWeightCrosstab': {'Count':pd.crosstab(TraindfY.Sweet,TraindfX.Weight,margins=True),'Percent':pd.crosstab(TraindfY.Sweet,TraindfX.Weight,normalize='index')}                    \n",
        "                   }\n",
        "display(Markdown('## Display Apriori values and Cross-tab Statistics for Data'))\n",
        "display(Markdown('### Apriori for Sweet/!Sweet'))\n",
        "display(Markdown('Sweet% = ' + str(SweetDataCrosstab['SweetColorCrosstab']['Count'].values[1][4]/SweetDataCrosstab['SweetColorCrosstab']['Count'].values[2][4])))\n",
        "display(Markdown('!Sweet% = ' + str(SweetDataCrosstab['SweetColorCrosstab']['Count'].values[0][4]/SweetDataCrosstab['SweetColorCrosstab']['Count'].values[2][4])))\n",
        "\n",
        "display(Markdown(\"# Count and PCT for Sweet by Color\"))\n",
        "display(Markdown(\"### Count\"),SweetDataCrosstab['SweetColorCrosstab']['Count'],Markdown(\"### Percent\"),SweetDataCrosstab['SweetColorCrosstab']['Percent'])\n",
        "display(Markdown(\"# Count and PCT for Sweet by Weight\"))\n",
        "display(Markdown(\"### Count\"),SweetDataCrosstab['SweetWeightCrosstab']['Count'],Markdown(\"### Percent\"),SweetDataCrosstab['SweetWeightCrosstab']['Percent'])"
      ],
      "execution_count": 0,
      "outputs": [
        {
          "output_type": "display_data",
          "data": {
            "text/markdown": "## Display Apriori values and Cross-tab Statistics for Data",
            "text/plain": [
              "<IPython.core.display.Markdown object>"
            ]
          },
          "metadata": {
            "tags": []
          }
        },
        {
          "output_type": "display_data",
          "data": {
            "text/markdown": "### Apriori for Sweet/!Sweet",
            "text/plain": [
              "<IPython.core.display.Markdown object>"
            ]
          },
          "metadata": {
            "tags": []
          }
        },
        {
          "output_type": "display_data",
          "data": {
            "text/markdown": "Sweet% = 0.4",
            "text/plain": [
              "<IPython.core.display.Markdown object>"
            ]
          },
          "metadata": {
            "tags": []
          }
        },
        {
          "output_type": "display_data",
          "data": {
            "text/markdown": "!Sweet% = 0.6",
            "text/plain": [
              "<IPython.core.display.Markdown object>"
            ]
          },
          "metadata": {
            "tags": []
          }
        },
        {
          "output_type": "display_data",
          "data": {
            "text/markdown": "# Count and PCT for Sweet by Color",
            "text/plain": [
              "<IPython.core.display.Markdown object>"
            ]
          },
          "metadata": {
            "tags": []
          }
        },
        {
          "output_type": "display_data",
          "data": {
            "text/markdown": "### Count",
            "text/plain": [
              "<IPython.core.display.Markdown object>"
            ]
          },
          "metadata": {
            "tags": []
          }
        },
        {
          "output_type": "display_data",
          "data": {
            "text/html": [
              "<div>\n",
              "<style scoped>\n",
              "    .dataframe tbody tr th:only-of-type {\n",
              "        vertical-align: middle;\n",
              "    }\n",
              "\n",
              "    .dataframe tbody tr th {\n",
              "        vertical-align: top;\n",
              "    }\n",
              "\n",
              "    .dataframe thead th {\n",
              "        text-align: right;\n",
              "    }\n",
              "</style>\n",
              "<table border=\"1\" class=\"dataframe\">\n",
              "  <thead>\n",
              "    <tr style=\"text-align: right;\">\n",
              "      <th>Color</th>\n",
              "      <th>0</th>\n",
              "      <th>1</th>\n",
              "      <th>2</th>\n",
              "      <th>3</th>\n",
              "      <th>All</th>\n",
              "    </tr>\n",
              "    <tr>\n",
              "      <th>Sweet</th>\n",
              "      <th></th>\n",
              "      <th></th>\n",
              "      <th></th>\n",
              "      <th></th>\n",
              "      <th></th>\n",
              "    </tr>\n",
              "  </thead>\n",
              "  <tbody>\n",
              "    <tr>\n",
              "      <th>0</th>\n",
              "      <td>1</td>\n",
              "      <td>1</td>\n",
              "      <td>0</td>\n",
              "      <td>1</td>\n",
              "      <td>3</td>\n",
              "    </tr>\n",
              "    <tr>\n",
              "      <th>1</th>\n",
              "      <td>0</td>\n",
              "      <td>0</td>\n",
              "      <td>1</td>\n",
              "      <td>1</td>\n",
              "      <td>2</td>\n",
              "    </tr>\n",
              "    <tr>\n",
              "      <th>All</th>\n",
              "      <td>1</td>\n",
              "      <td>1</td>\n",
              "      <td>1</td>\n",
              "      <td>2</td>\n",
              "      <td>5</td>\n",
              "    </tr>\n",
              "  </tbody>\n",
              "</table>\n",
              "</div>"
            ],
            "text/plain": [
              "Color  0  1  2  3  All\n",
              "Sweet                 \n",
              "0      1  1  0  1    3\n",
              "1      0  0  1  1    2\n",
              "All    1  1  1  2    5"
            ]
          },
          "metadata": {
            "tags": []
          }
        },
        {
          "output_type": "display_data",
          "data": {
            "text/markdown": "### Percent",
            "text/plain": [
              "<IPython.core.display.Markdown object>"
            ]
          },
          "metadata": {
            "tags": []
          }
        },
        {
          "output_type": "display_data",
          "data": {
            "text/html": [
              "<div>\n",
              "<style scoped>\n",
              "    .dataframe tbody tr th:only-of-type {\n",
              "        vertical-align: middle;\n",
              "    }\n",
              "\n",
              "    .dataframe tbody tr th {\n",
              "        vertical-align: top;\n",
              "    }\n",
              "\n",
              "    .dataframe thead th {\n",
              "        text-align: right;\n",
              "    }\n",
              "</style>\n",
              "<table border=\"1\" class=\"dataframe\">\n",
              "  <thead>\n",
              "    <tr style=\"text-align: right;\">\n",
              "      <th>Color</th>\n",
              "      <th>0</th>\n",
              "      <th>1</th>\n",
              "      <th>2</th>\n",
              "      <th>3</th>\n",
              "    </tr>\n",
              "    <tr>\n",
              "      <th>Sweet</th>\n",
              "      <th></th>\n",
              "      <th></th>\n",
              "      <th></th>\n",
              "      <th></th>\n",
              "    </tr>\n",
              "  </thead>\n",
              "  <tbody>\n",
              "    <tr>\n",
              "      <th>0</th>\n",
              "      <td>0.333333</td>\n",
              "      <td>0.333333</td>\n",
              "      <td>0.0</td>\n",
              "      <td>0.333333</td>\n",
              "    </tr>\n",
              "    <tr>\n",
              "      <th>1</th>\n",
              "      <td>0.000000</td>\n",
              "      <td>0.000000</td>\n",
              "      <td>0.5</td>\n",
              "      <td>0.500000</td>\n",
              "    </tr>\n",
              "  </tbody>\n",
              "</table>\n",
              "</div>"
            ],
            "text/plain": [
              "Color         0         1    2         3\n",
              "Sweet                                   \n",
              "0      0.333333  0.333333  0.0  0.333333\n",
              "1      0.000000  0.000000  0.5  0.500000"
            ]
          },
          "metadata": {
            "tags": []
          }
        },
        {
          "output_type": "display_data",
          "data": {
            "text/markdown": "# Count and PCT for Sweet by Weight",
            "text/plain": [
              "<IPython.core.display.Markdown object>"
            ]
          },
          "metadata": {
            "tags": []
          }
        },
        {
          "output_type": "display_data",
          "data": {
            "text/markdown": "### Count",
            "text/plain": [
              "<IPython.core.display.Markdown object>"
            ]
          },
          "metadata": {
            "tags": []
          }
        },
        {
          "output_type": "display_data",
          "data": {
            "text/html": [
              "<div>\n",
              "<style scoped>\n",
              "    .dataframe tbody tr th:only-of-type {\n",
              "        vertical-align: middle;\n",
              "    }\n",
              "\n",
              "    .dataframe tbody tr th {\n",
              "        vertical-align: top;\n",
              "    }\n",
              "\n",
              "    .dataframe thead th {\n",
              "        text-align: right;\n",
              "    }\n",
              "</style>\n",
              "<table border=\"1\" class=\"dataframe\">\n",
              "  <thead>\n",
              "    <tr style=\"text-align: right;\">\n",
              "      <th>Weight</th>\n",
              "      <th>2</th>\n",
              "      <th>3</th>\n",
              "      <th>4</th>\n",
              "      <th>All</th>\n",
              "    </tr>\n",
              "    <tr>\n",
              "      <th>Sweet</th>\n",
              "      <th></th>\n",
              "      <th></th>\n",
              "      <th></th>\n",
              "      <th></th>\n",
              "    </tr>\n",
              "  </thead>\n",
              "  <tbody>\n",
              "    <tr>\n",
              "      <th>0</th>\n",
              "      <td>1</td>\n",
              "      <td>1</td>\n",
              "      <td>1</td>\n",
              "      <td>3</td>\n",
              "    </tr>\n",
              "    <tr>\n",
              "      <th>1</th>\n",
              "      <td>0</td>\n",
              "      <td>1</td>\n",
              "      <td>1</td>\n",
              "      <td>2</td>\n",
              "    </tr>\n",
              "    <tr>\n",
              "      <th>All</th>\n",
              "      <td>1</td>\n",
              "      <td>2</td>\n",
              "      <td>2</td>\n",
              "      <td>5</td>\n",
              "    </tr>\n",
              "  </tbody>\n",
              "</table>\n",
              "</div>"
            ],
            "text/plain": [
              "Weight  2  3  4  All\n",
              "Sweet               \n",
              "0       1  1  1    3\n",
              "1       0  1  1    2\n",
              "All     1  2  2    5"
            ]
          },
          "metadata": {
            "tags": []
          }
        },
        {
          "output_type": "display_data",
          "data": {
            "text/markdown": "### Percent",
            "text/plain": [
              "<IPython.core.display.Markdown object>"
            ]
          },
          "metadata": {
            "tags": []
          }
        },
        {
          "output_type": "display_data",
          "data": {
            "text/html": [
              "<div>\n",
              "<style scoped>\n",
              "    .dataframe tbody tr th:only-of-type {\n",
              "        vertical-align: middle;\n",
              "    }\n",
              "\n",
              "    .dataframe tbody tr th {\n",
              "        vertical-align: top;\n",
              "    }\n",
              "\n",
              "    .dataframe thead th {\n",
              "        text-align: right;\n",
              "    }\n",
              "</style>\n",
              "<table border=\"1\" class=\"dataframe\">\n",
              "  <thead>\n",
              "    <tr style=\"text-align: right;\">\n",
              "      <th>Weight</th>\n",
              "      <th>2</th>\n",
              "      <th>3</th>\n",
              "      <th>4</th>\n",
              "    </tr>\n",
              "    <tr>\n",
              "      <th>Sweet</th>\n",
              "      <th></th>\n",
              "      <th></th>\n",
              "      <th></th>\n",
              "    </tr>\n",
              "  </thead>\n",
              "  <tbody>\n",
              "    <tr>\n",
              "      <th>0</th>\n",
              "      <td>0.333333</td>\n",
              "      <td>0.333333</td>\n",
              "      <td>0.333333</td>\n",
              "    </tr>\n",
              "    <tr>\n",
              "      <th>1</th>\n",
              "      <td>0.000000</td>\n",
              "      <td>0.500000</td>\n",
              "      <td>0.500000</td>\n",
              "    </tr>\n",
              "  </tbody>\n",
              "</table>\n",
              "</div>"
            ],
            "text/plain": [
              "Weight         2         3         4\n",
              "Sweet                               \n",
              "0       0.333333  0.333333  0.333333\n",
              "1       0.000000  0.500000  0.500000"
            ]
          },
          "metadata": {
            "tags": []
          }
        }
      ]
    },
    {
      "metadata": {
        "id": "D1bGd3F66r4J",
        "colab_type": "code",
        "colab": {}
      },
      "cell_type": "code",
      "source": [
        "#SweetDataCrosstab"
      ],
      "execution_count": 0,
      "outputs": []
    },
    {
      "metadata": {
        "id": "rI2sAeIc6r4R",
        "colab_type": "code",
        "colab": {},
        "outputId": "0665f824-be00-4fab-c4cf-d3a1493018f4"
      },
      "cell_type": "code",
      "source": [
        "#--initialize the \"classifier\" from SciKit-Learn to use one of three models\n",
        "#classifier = GaussianNB()\n",
        "#classifier = MultinomialNB()\n",
        "classifier = BernoulliNB()\n",
        "\n",
        "#--execute the classifier to create a model based on the data provided\n",
        "classifier = classifier.fit(data,sweet)\n",
        "\n",
        "display(\"===== BASIC MODEL OUTPUT =====\")\n",
        "display(\"Score\")\n",
        "display(classifier.score(data,sweet))\n",
        "display(\"params\")\n",
        "display(classifier.get_params(deep=True))\n",
        "display(\"calulated predicted probabilities\")\n",
        "display(classifier.predict_proba(data))"
      ],
      "execution_count": 0,
      "outputs": [
        {
          "output_type": "display_data",
          "data": {
            "text/plain": [
              "'===== BASIC MODEL OUTPUT ====='"
            ]
          },
          "metadata": {
            "tags": []
          }
        },
        {
          "output_type": "display_data",
          "data": {
            "text/plain": [
              "'Score'"
            ]
          },
          "metadata": {
            "tags": []
          }
        },
        {
          "output_type": "display_data",
          "data": {
            "text/plain": [
              "0.6"
            ]
          },
          "metadata": {
            "tags": []
          }
        },
        {
          "output_type": "display_data",
          "data": {
            "text/plain": [
              "'params'"
            ]
          },
          "metadata": {
            "tags": []
          }
        },
        {
          "output_type": "display_data",
          "data": {
            "text/plain": [
              "{'alpha': 1.0, 'binarize': 0.0, 'class_prior': None, 'fit_prior': True}"
            ]
          },
          "metadata": {
            "tags": []
          }
        },
        {
          "output_type": "display_data",
          "data": {
            "text/plain": [
              "'calulated predicted probabilities'"
            ]
          },
          "metadata": {
            "tags": []
          }
        },
        {
          "output_type": "display_data",
          "data": {
            "text/plain": [
              "array([[0.56140351, 0.43859649],\n",
              "       [0.56140351, 0.43859649],\n",
              "       [0.71910112, 0.28089888],\n",
              "       [0.56140351, 0.43859649],\n",
              "       [0.56140351, 0.43859649]])"
            ]
          },
          "metadata": {
            "tags": []
          }
        }
      ]
    },
    {
      "metadata": {
        "id": "wIhdpZ9t6r4x",
        "colab_type": "code",
        "colab": {},
        "outputId": "b29c718d-5a28-477c-e092-ab648b22559a"
      },
      "cell_type": "code",
      "source": [
        "#--Create TEST data and test the Model\n",
        "ptestdata = [[3,4],[1,4],[3,4],[1,4],[1,4]]\n",
        "\n",
        "#--Execute the classifer prediction using the TEST data\n",
        "predicted = classifier.predict(ptestdata)\n",
        "print(predicted)\n",
        "\n",
        "#--import the metrics library and generate report\n",
        "from sklearn import metrics\n",
        "print(metrics.classification_report(sweet,predicted)) \n",
        "print(metrics.confusion_matrix(sweet, predicted))\n",
        "print(metrics.accuracy_score(sweet, predicted))"
      ],
      "execution_count": 0,
      "outputs": [
        {
          "output_type": "stream",
          "text": [
            "[0 0 0 0 0]\n",
            "             precision    recall  f1-score   support\n",
            "\n",
            "          0       0.60      1.00      0.75         3\n",
            "          1       0.00      0.00      0.00         2\n",
            "\n",
            "avg / total       0.36      0.60      0.45         5\n",
            "\n",
            "[[3 0]\n",
            " [2 0]]\n",
            "0.6\n"
          ],
          "name": "stdout"
        },
        {
          "output_type": "stream",
          "text": [
            "C:\\Program Files (x86)\\Microsoft Visual Studio\\Shared\\Anaconda3_64\\lib\\site-packages\\sklearn\\metrics\\classification.py:1135: UndefinedMetricWarning: Precision and F-score are ill-defined and being set to 0.0 in labels with no predicted samples.\n",
            "  'precision', 'predicted', average, warn_for)\n"
          ],
          "name": "stderr"
        }
      ]
    },
    {
      "metadata": {
        "id": "_W_7tpcA6r5D",
        "colab_type": "code",
        "colab": {},
        "outputId": "01d40163-c27a-4258-9c3c-d3234f0bfd06"
      },
      "cell_type": "code",
      "source": [
        "#--Using Pandas Dataframs for analysis\n",
        "\n",
        "classifier2 = GaussianNB()\n",
        "#classifier2 = MultinomialNB()\n",
        "#classifier2 = BernoulliNB()\n",
        "\n",
        "classifier2.fit(TraindfX,TraindfY)\n",
        "\n",
        "print(\"Score\")\n",
        "print(classifier2.score(TraindfX,TraindfY))\n",
        "print(\"params\")\n",
        "print(classifier2.get_params(deep=True))\n",
        "print(\"Predict Proba\")\n",
        "print(classifier2.predict_proba(TraindfX).round(decimals=2))\n",
        "print(\"Predict LOG Proba\")\n",
        "print(classifier2.predict_log_proba(TraindfX).round(decimals=2))"
      ],
      "execution_count": 0,
      "outputs": [
        {
          "output_type": "stream",
          "text": [
            "Score\n",
            "1.0\n",
            "params\n",
            "{'priors': None}\n",
            "Predict Proba\n",
            "[[0.16 0.84]\n",
            " [0.46 0.54]\n",
            " [1.   0.  ]\n",
            " [0.91 0.09]\n",
            " [0.96 0.04]]\n",
            "Predict LOG Proba\n",
            "[[ -1.82  -0.18]\n",
            " [ -0.77  -0.62]\n",
            " [ -0.   -11.43]\n",
            " [ -0.09  -2.45]\n",
            " [ -0.04  -3.25]]\n"
          ],
          "name": "stdout"
        },
        {
          "output_type": "stream",
          "text": [
            "C:\\Program Files (x86)\\Microsoft Visual Studio\\Shared\\Anaconda3_64\\lib\\site-packages\\sklearn\\utils\\validation.py:578: DataConversionWarning: A column-vector y was passed when a 1d array was expected. Please change the shape of y to (n_samples, ), for example using ravel().\n",
            "  y = column_or_1d(y, warn=True)\n"
          ],
          "name": "stderr"
        }
      ]
    },
    {
      "metadata": {
        "id": "xyNGGVce6r5P",
        "colab_type": "code",
        "colab": {},
        "outputId": "32c31fb5-00a1-429e-ddd9-6144b24c66d6"
      },
      "cell_type": "code",
      "source": [
        "#Predict Output\n",
        "ptestdata2 = [[3,4],[1,4],[3,4],[1,4],[1,4]]\n",
        "ptestdatadf2 = pd.DataFrame(dict(Color=[3,2,0,3,1],Weight=[4,3,3,2,4]))\n",
        "#print(ptestdatadf2)\n",
        "\n",
        "predicted2 = classifier2.predict(ptestdata2)\n",
        "print(predicted2)\n",
        "\n",
        "from sklearn import metrics\n",
        "print(metrics.classification_report(TraindfY,predicted2)) \n",
        "\n",
        "print(metrics.accuracy_score(TraindfY, predicted2))\n",
        "\n",
        "CM = metrics.confusion_matrix(TraindfY, predicted2)\n",
        "print(CM)\n",
        "#import matplotlib.pyplot as plt\n",
        "#plt.imshow(CM, cmap= 'binary')"
      ],
      "execution_count": 0,
      "outputs": [
        {
          "output_type": "stream",
          "text": [
            "[1 0 1 0 0]\n",
            "             precision    recall  f1-score   support\n",
            "\n",
            "          0       0.67      0.67      0.67         3\n",
            "          1       0.50      0.50      0.50         2\n",
            "\n",
            "avg / total       0.60      0.60      0.60         5\n",
            "\n",
            "0.6\n",
            "[[2 1]\n",
            " [1 1]]\n"
          ],
          "name": "stdout"
        }
      ]
    },
    {
      "metadata": {
        "id": "N8on6f346r5k",
        "colab_type": "code",
        "colab": {}
      },
      "cell_type": "code",
      "source": [
        ""
      ],
      "execution_count": 0,
      "outputs": []
    },
    {
      "metadata": {
        "id": "2NK_Oc2v6r6D",
        "colab_type": "text"
      },
      "cell_type": "markdown",
      "source": [
        "--Naive Bayes Model: Application\n",
        "\n",
        "Naive Bayes Model use conditional probabilities to predict the label value. Models are naive since they assume statistical independence of features. Adavantages of this model are that it work well with minimal training data, ensure regularization, and it is computationally efficient and highly scalable. \n",
        "Naive Bayes models are used in many situations including:\n",
        "Document classification\n",
        "SPAM detection\n",
        "Image classification,etc\n",
        "\n",
        "---\n",
        "\n",
        "From the above case, A-priori probabilities tell us that we can tell 60% of the time from the train data that the apple is sweet and 40% of the time that it is not sweet. We then look at the conditional probabilities. Given the color of the apple (color type 0 to 3), the conditional probability that the apple is sweet is displayed.We can say there is 50-50% chace that the apple is not sweet when it has type 2 or type 3 color. Similarly, given the weight of type (2-4), the conditional probability of sweet/non-sweet is calculated.\n",
        "\n",
        "We use BernoulliNB() function on the trainining dataset since we are dealing with binary distribution funcrion. classifier2.score() internally calculates Y'=predictor.predict(X) and then compares Y' against Y to give an accuracy measure. The score of 60% is not ideal but acceptable. \n",
        "We then predict the probability of each instance values for both classes. The first index refers to the probability that the data belong to class 0, and the second refers to the probability that the data belong to class 1. \n",
        "After training the data, we use test data to analyze and identify whether our model is working properly. Precision in Classification report in calculated as (TruePositive/(TruePositive+FalsePositive)) whereas Recall = (TP/(TP+FN)). In words, Precisions is the numbers of correct positive results given the number of positive results predicted by classifier. On the other hand, Recall is the number of correct positive results given the number of all relevent sample that should have been identified as positive). There is always a trade off between these two indicators and F1 score reconciled them. (Support is the number of true sample that lies in that class) In our case we have better precision score than recall value ( 0.67 vs 0.5) but overall f1 score of 0.6 is still an okay indicator.\n",
        "The confusion Matrix then tell us the number of samples in each categories of True Negative, True Positive, False Positive, False Negative. The diagonal elements of Confustion matrix represent the number of points for which the predicted label is equal to the true label. Out of 5 samples, 2 actaul'0' matches with the predicted '0' and only 1 actualy '1' matches with the predicted '1'. "
      ]
    }
  ]
}
